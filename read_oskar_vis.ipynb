{
 "cells": [
  {
   "cell_type": "markdown",
   "metadata": {},
   "source": [
    "# iPython notebook for reading OSKAR visibility binary files"
   ]
  },
  {
   "cell_type": "markdown",
   "metadata": {},
   "source": [
    "### Description\n",
    "Notebook demonstrating reading of OSKAR binary format visibility files produced by OSKAR 2.6 and later versions of OSKAR.\n",
    "\n",
    "Note that baseline coordinates in OSKAR visibility binary files, are stored in metres. This script scales the coordiantes into wavelengths prior to writing to a simple ascii csv format so that they can be gridded directly without scaling in the imaging script.\n",
    "\n",
    "### To run the script you will need:\n",
    "\n",
    "- ipython (python 2.7)\n",
    "- numpy (1.9)\n",
    "- matplotlib\n",
    "- read_oskar_vis.py (python module found in the `oskar_data/scripts` sub-directory)\n",
    "- Example OSKAR simulated binary data (found in the `oskar_data` sub-directory)\n",
    "\n",
    "**This notebook is intended to be run from the top level crocodile directory.**\n",
    "\n",
    "### TODO\n",
    "- Download test data rather than point to data in the repository (requires setting up a web-location for all of the possible test data).\n",
    "- Test reading of more of the visibility binary meta-data.\n",
    "- Test reading files containing more than one frequency channel."
   ]
  },
  {
   "cell_type": "code",
   "execution_count": null,
   "metadata": {
    "collapsed": false
   },
   "outputs": [],
   "source": [
    "%matplotlib nbagg\n",
    "import sys\n",
    "import os\n",
    "import numpy\n",
    "import matplotlib.pyplot as plt\n",
    "sys.path.append(os.path.join('oskar_data', 'scripts'))\n",
    "from read_oskar_vis import OskarVis"
   ]
  },
  {
   "cell_type": "markdown",
   "metadata": {},
   "source": [
    "#### 1. Load visibility data.\n",
    "- Open the OSKAR binary file `test_vla.vis` and extract the coordinates and amplitudes as python arrays.\n",
    "- Scale coordinates into wavelengths."
   ]
  },
  {
   "cell_type": "code",
   "execution_count": null,
   "metadata": {
    "collapsed": false
   },
   "outputs": [],
   "source": [
    "# Read visibility binary and scale into wavelengths.\n",
    "vis_file = os.path.join('oskar_data', 'vla_grid_6h', 'test_vla.vis')\n",
    "oskar_vis = OskarVis(vis_file)\n",
    "uu, vv, ww = oskar_vis.uvw(flatten=True)\n",
    "freq_hz = oskar_vis.frequency()\n",
    "wave_length_m = 299792458.0 / freq_hz\n",
    "uvw = numpy.array([uu, vv, ww]) / wave_length_m\n",
    "amp = oskar_vis.stokes_i(flatten=True)"
   ]
  },
  {
   "cell_type": "markdown",
   "metadata": {},
   "source": [
    "#### 2. Save as ASCII format.\n",
    "- Plain text csv file with columns: uu, vv, ww, real, imag.\n",
    "- Baselines coordinates are in wavelenghts.\n",
    "- Amplitudes are Stokes-I flux in Janskys.\n",
    "- The output is saved alongside the oskar visibility binary file being read but with a '.txt' extension."
   ]
  },
  {
   "cell_type": "code",
   "execution_count": null,
   "metadata": {
    "collapsed": false
   },
   "outputs": [],
   "source": [
    "file_name = os.path.splitext(vis_file)[0] + '.txt'\n",
    "data = numpy.empty(shape=(5, amp.shape[0]), dtype='f8')\n",
    "data[0:3] = uvw\n",
    "data[3] = amp.real\n",
    "data[4] = amp.imag\n",
    "numpy.savetxt(file_name, data.transpose(), fmt='%.12e', delimiter=',')"
   ]
  },
  {
   "cell_type": "markdown",
   "metadata": {},
   "source": [
    "#### 3. Plot visibility data."
   ]
  },
  {
   "cell_type": "code",
   "execution_count": null,
   "metadata": {
    "collapsed": false
   },
   "outputs": [],
   "source": [
    "# uu-vv scatter plot.\n",
    "fig = plt.figure()\n",
    "ax = fig.add_subplot(111, aspect='equal')\n",
    "ax.plot(uvw[0, :]/1.e3, uvw[1, :]/1.e3, 'b+')\n",
    "ax.plot(-uvw[0, :]/1.e3, -uvw[1, :]/1.e3, 'b+')\n",
    "ax.set_xlabel('uu [kilo-wavelengths]')\n",
    "ax.set_ylabel('vv [kilo-wavelengths]')\n",
    "ax.grid(True)\n",
    "\n",
    "# uu-vv distance amplitude plot.\n",
    "uvdist = (uvw[0, :]**2 + uvw[1, :]**2)**0.5\n",
    "fig = plt.figure()\n",
    "ax = fig.add_subplot(111)\n",
    "ax.plot(uvdist/1.e3, numpy.abs(amp), 'b+')\n",
    "ax.set_xlabel('uu-vv distance [kilo-wavelengths]')\n",
    "ax.set_ylabel('abs(visibility amplitude) [Janskys]')\n",
    "ax.grid(True)"
   ]
  },
  {
   "cell_type": "code",
   "execution_count": null,
   "metadata": {
    "collapsed": false
   },
   "outputs": [],
   "source": [
    "from mpl_toolkits.mplot3d import Axes3D\n",
    "import matplotlib.pyplot as plt\n",
    "plt.rcParams['figure.figsize'] = 16, 12\n",
    "ax = plt.figure().add_subplot(121, projection='3d')\n",
    "ax.scatter(uvw[0,:], uvw[1,:], uvw[2,:])\n",
    "ax.set_xlabel('U [$\\lambda$]')\n",
    "ax.set_ylabel('V [$\\lambda$]')\n",
    "ax.set_zlabel('W [$\\lambda$]')\n",
    "ax.view_init(20, 20)\n",
    "plt.show()"
   ]
  },
  {
   "cell_type": "code",
   "execution_count": null,
   "metadata": {
    "collapsed": true
   },
   "outputs": [],
   "source": []
  }
 ],
 "metadata": {
  "kernelspec": {
   "display_name": "Python 3",
   "language": "python",
   "name": "python3"
  },
  "language_info": {
   "codemirror_mode": {
    "name": "ipython",
    "version": 3
   },
   "file_extension": ".py",
   "mimetype": "text/x-python",
   "name": "python",
   "nbconvert_exporter": "python",
   "pygments_lexer": "ipython3",
   "version": "3.5.1"
  }
 },
 "nbformat": 4,
 "nbformat_minor": 0
}
