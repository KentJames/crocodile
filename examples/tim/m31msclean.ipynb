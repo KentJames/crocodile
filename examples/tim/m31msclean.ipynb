{
 "cells": [
  {
   "cell_type": "markdown",
   "metadata": {},
   "source": [
    "# Notebook to demonstrate multiscale cleaning on the canonical \"M31\" source.\n",
    "\n",
    "We simulate some VLA data for M31 and then use msclean to restore it."
   ]
  },
  {
   "cell_type": "code",
   "execution_count": null,
   "metadata": {
    "collapsed": false
   },
   "outputs": [],
   "source": [
    "%matplotlib inline\n",
    "\n",
    "import sys, os \n",
    "print(os.path.abspath('.'))\n",
    "sys.path.append(os.path.join('..','..')) \n",
    "\n",
    "import pylab\n",
    "pylab.rcParams['figure.figsize'] = (12.0, 12.0)\n",
    "pylab.rcParams['image.cmap'] = 'rainbow'\n",
    "\n",
    "import numpy\n",
    "import scipy\n",
    "import scipy.special\n",
    "\n",
    "from matplotlib import pylab\n",
    "from matplotlib import pyplot as plt\n",
    "\n",
    "import pyfits\n",
    "\n",
    "from crocodile.synthesis import *\n",
    "from crocodile.simulate import *\n",
    "from util.visualize import *\n",
    "from msclean import *\n",
    "\n",
    "from crocodile.synthesis import *\n"
   ]
  },
  {
   "cell_type": "markdown",
   "metadata": {},
   "source": [
    "First get the M31 model from the crocodile data directory"
   ]
  },
  {
   "cell_type": "markdown",
   "metadata": {},
   "source": [
    "Now generate and plot the uvw coordinates"
   ]
  },
  {
   "cell_type": "code",
   "execution_count": null,
   "metadata": {
    "collapsed": false
   },
   "outputs": [],
   "source": [
    "vlas=numpy.genfromtxt(\"../../data/models/VLA_A_hor_xyz.txt\", delimiter=\",\") \n",
    "vlas_xyz = xyz_at_latitude(vlas, numpy.pi*34.0784/180.0)/30.0 \n",
    "uvw=xyz_to_baselines(vlas_xyz, \n",
    "numpy.arange(-numpy.pi/2.0, +numpy.pi/2.0,0.1), \n",
    "numpy.pi/8)\n",
    "plt.clf()\n",
    "plt.plot(uvw[:,0],uvw[:,1], '.')\n",
    "plt.plot(-uvw[:,0],-uvw[:,1], '.', color='red')\n",
    "plt.xlabel('U (m)')\n",
    "plt.ylabel('V (m)')\n",
    "plt.title('UV coverage')"
   ]
  },
  {
   "cell_type": "code",
   "execution_count": null,
   "metadata": {
    "collapsed": false,
    "scrolled": false
   },
   "outputs": [],
   "source": [
    "m31model='../../data/models/M31.MOD'\n",
    "hdulist = pyfits.open(m31model)\n",
    "m31image=numpy.array(hdulist[0].data)\n",
    "lam=4.0*numpy.abs(uvw).max()\n",
    "cell=1.0/lam\n",
    "theta=256*cell\n",
    "plt.clf()\n",
    "plt.subplot(1,2,1)\n",
    "plt.imshow(m31image, cmap='rainbow', origin='lower')\n",
    "\n",
    "print(\"Field of view = %.2f degrees, maximum baseline %.3f (m)\" % (theta*180.0/numpy.pi, lam))\n",
    "pointimage=m31image.copy()\n",
    "pointimage[225,75]+=2.0\n",
    "pointimage[25,100]+=4.0\n",
    "plt.subplot(1,2,2)\n",
    "plt.imshow(m31image, cmap='rainbow', origin='lower')\n",
    "\n",
    "\n",
    "uvwsort,vobs=dopredict(theta, lam, p=uvw, modelimage=m31image, predfn=wslicfwd)\n",
    "\n"
   ]
  },
  {
   "cell_type": "markdown",
   "metadata": {},
   "source": [
    "Plot the visibility as a function of uv distance"
   ]
  },
  {
   "cell_type": "code",
   "execution_count": null,
   "metadata": {
    "collapsed": false,
    "scrolled": false
   },
   "outputs": [],
   "source": [
    "uvdist=numpy.sqrt(uvwsort[:,0]*uvwsort[:,0]+uvwsort[:,1]*uvwsort[:,1])\n",
    "plt.clf()\n",
    "plt.subplot(2,2,1)\n",
    "plt.plot(uvwsort[:,0], numpy.real(vobs), '.')\n",
    "plt.xlabel('U (wavelengths)')\n",
    "plt.ylabel('Real part Visibility')\n",
    "\n",
    "plt.subplot(2,2,2)\n",
    "plt.plot(uvwsort[:,0], numpy.imag(vobs), '.')\n",
    "plt.xlabel('U (wavelengths)')\n",
    "plt.ylabel('Imag part Visibility')\n",
    "\n",
    "plt.subplot(2,2,3)\n",
    "plt.plot(uvdist, numpy.abs(vobs), '.')\n",
    "plt.xlabel('UV distance (wavelengths)')\n",
    "plt.ylabel('Amp Visibility')\n",
    "\n",
    "plt.subplot(2,2,4)\n",
    "plt.plot(uvdist, numpy.angle(vobs), '.')\n",
    "plt.xlabel('UV distance (wavelengths)')\n",
    "plt.ylabel('Phase Visibility')\n",
    "\n",
    "plt.show()"
   ]
  },
  {
   "cell_type": "markdown",
   "metadata": {},
   "source": [
    "Next we make the dirty image and psf using a simple gridder, just to check if it looks plausible"
   ]
  },
  {
   "cell_type": "code",
   "execution_count": null,
   "metadata": {
    "collapsed": false
   },
   "outputs": [],
   "source": [
    "d,p=doimg(2.0*theta, lam, uvwsort, vobs, wslicimg)\n",
    "plt.clf()\n",
    "plt.subplot(1,2,1)\n",
    "plt.imshow(p, cmap='rainbow', origin='lower')\n",
    "plt.title('Model')\n",
    "c=plt.colorbar()\n",
    "plt.subplot(1,2,2)\n",
    "plt.imshow(d, cmap='rainbow', origin='lower')\n",
    "plt.title('Dirty')\n",
    "c=plt.colorbar()\n",
    "\n"
   ]
  },
  {
   "cell_type": "markdown",
   "metadata": {},
   "source": [
    "Now we can do the deconvolution"
   ]
  },
  {
   "cell_type": "code",
   "execution_count": null,
   "metadata": {
    "collapsed": false,
    "scrolled": true
   },
   "outputs": [],
   "source": [
    "scales=[1,10,30]\n",
    "ps, vs, m31cc, m31res=majorcycle(2.0*theta, lam, uvwsort, vobs, 0.1, 3, 100, 500, scales)"
   ]
  },
  {
   "cell_type": "markdown",
   "metadata": {},
   "source": [
    "Finally show the results"
   ]
  },
  {
   "cell_type": "code",
   "execution_count": null,
   "metadata": {
    "collapsed": false,
    "scrolled": false
   },
   "outputs": [],
   "source": [
    "plt.clf()\n",
    "plt.subplot(1,2,1)\n",
    "plt.imshow(numpy.sqrt(numpy.abs(m31cc)), cmap='rainbow', origin='lower')\n",
    "c=plt.colorbar()\n",
    "plt.subplot(1,2,2)\n",
    "plt.imshow(numpy.sqrt(numpy.abs(m31res)), cmap='rainbow', origin='lower')\n",
    "c=plt.colorbar()\n",
    "\n",
    "\n"
   ]
  },
  {
   "cell_type": "code",
   "execution_count": null,
   "metadata": {
    "collapsed": true
   },
   "outputs": [],
   "source": []
  }
 ],
 "metadata": {
  "kernelspec": {
   "display_name": "Python 3",
   "language": "python",
   "name": "python3"
  },
  "language_info": {
   "codemirror_mode": {
    "name": "ipython",
    "version": 3
   },
   "file_extension": ".py",
   "mimetype": "text/x-python",
   "name": "python",
   "nbconvert_exporter": "python",
   "pygments_lexer": "ipython3",
   "version": "3.5.1"
  }
 },
 "nbformat": 4,
 "nbformat_minor": 0
}
