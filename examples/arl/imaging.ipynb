{
 "cells": [
  {
   "cell_type": "markdown",
   "metadata": {},
   "source": [
    "# This script works through the high level arl interface to crocodile, making a fake data set and then deconvolving it. Finally the full and residual visibility are plotted."
   ]
  },
  {
   "cell_type": "code",
   "execution_count": 1,
   "metadata": {
    "collapsed": false
   },
   "outputs": [
    {
     "name": "stdout",
     "output_type": "stream",
     "text": [
      "['', '/Library/Frameworks/Python.framework/Versions/3.5/lib/python35.zip', '/Library/Frameworks/Python.framework/Versions/3.5/lib/python3.5', '/Library/Frameworks/Python.framework/Versions/3.5/lib/python3.5/plat-darwin', '/Library/Frameworks/Python.framework/Versions/3.5/lib/python3.5/lib-dynload', '/Users/timcornwell/env/lib/python3.5/site-packages', '/Users/timcornwell/env/lib/python3.5/site-packages/IPython/extensions', '/Users/timcornwell/.ipython', '../..']\n",
      "/Users/timcornwell/Code/crocodile/examples/arl\n"
     ]
    }
   ],
   "source": [
    "import sys, os\n",
    "sys.path.append('../..') \n",
    "print(sys.path)\n",
    "print(os.getcwd())\n",
    "\n",
    "from matplotlib import pylab\n",
    "pylab.rcParams['figure.figsize'] = (12.0, 12.0)\n",
    "pylab.rcParams['image.cmap'] = 'rainbow'\n",
    "\n",
    "from astropy.coordinates import SkyCoord\n",
    "from astropy.wcs.utils import skycoord_to_pixel, pixel_to_skycoord\n",
    "from astropy import units as u\n",
    "\n",
    "from matplotlib import pyplot as plt\n",
    "\n",
    "from arl.deconvolve_image import deconvolve_cube\n",
    "from arl.define_visibility import create_visibility\n",
    "from arl.fourier_transform import *\n",
    "from arl.define_skymodel import create_skymodel_from_image, add_component_to_skymodel, create_skycomponent, find_point_source\n",
    "from arl.define_image import show_image, create_image_from_fits, save_image_to_fits, replicate_image\n",
    "from arl.simulate_visibility import filter_configuration, create_named_configuration"
   ]
  },
  {
   "cell_type": "code",
   "execution_count": 2,
   "metadata": {
    "collapsed": false
   },
   "outputs": [
    {
     "name": "stdout",
     "output_type": "stream",
     "text": [
      "filter_configuration: No filter implemented yet\n",
      "visibility.create_visibility: Created 22113 rows\n"
     ]
    }
   ],
   "source": [
    "# We construct a VLA configuration and then shrink it to match our test image.\n",
    "\n",
    "kwargs = {}\n",
    "\n",
    "vlaa = filter_configuration(create_named_configuration('VLAA'), **kwargs)\n",
    "vlaa.data['xyz']=vlaa.data['xyz']/10.0\n",
    "\n",
    "\n",
    "# We create the visibility. This just makes the uvw, time, antenna1, antenna2, weight columns in a table\n",
    "\n",
    "times = numpy.arange(-numpy.pi/2.0, +numpy.pi/2.0,0.05)\n",
    "frequency = numpy.array([1e8])\n",
    "\n",
    "reffrequency = numpy.max(frequency)\n",
    "phasecentre = SkyCoord(0.0*u.rad, u.rad*numpy.pi/4, frame='icrs', equinox=2000.0)\n",
    "vt = create_visibility(vlaa, times, frequency, weight=1.0, phasecentre=phasecentre)\n",
    "\n",
    "\n",
    "# Plot the synthesized uv coverage, including for MFS\n",
    "\n",
    "plt.clf()\n",
    "for f in frequency:\n",
    "    x=f/const.c\n",
    "    plt.plot(x*vt.data['uvw'][:,0], x*vt.data['uvw'][:,1], '.', color='b')\n",
    "    plt.plot(-x*vt.data['uvw'][:,0], -x*vt.data['uvw'][:,1], '.', color='r')"
   ]
  },
  {
   "cell_type": "code",
   "execution_count": 3,
   "metadata": {
    "collapsed": false
   },
   "outputs": [
    {
     "name": "stdout",
     "output_type": "stream",
     "text": [
      "create_image_from_fits: Max, min in /Users/timcornwell/Code/crocodile//./data/models/M31.MOD = 1.006458, 0.000000\n",
      "replicate_image: replicating shape (256, 256) to (1, 4, 256, 256)\n",
      "ICRS\n",
      "2000.0\n"
     ]
    }
   ],
   "source": [
    "# Read the venerable test image, constructing an image\n",
    "\n",
    "m31image = create_image_from_fits(\"./data/models/M31.MOD\")\n",
    "fig = plt.figure()\n",
    "cellsize=180.0*0.0001/numpy.pi\n",
    "m31image.wcs.wcs.cdelt[0]=-cellsize\n",
    "m31image.wcs.wcs.cdelt[1]=+cellsize\n",
    "m31image.wcs.wcs.radesys='ICRS'\n",
    "m31image.wcs.wcs.equinox=2000.00\n",
    "\n",
    "# Show the model image\n",
    "fig.add_subplot(111, projection=m31image.wcs)\n",
    "plt.imshow(m31image.data, origin='lower', cmap='rainbow')\n",
    "plt.xlabel('RA---SIN')\n",
    "plt.ylabel('DEC--SIN')\n",
    "plt.show()\n",
    "\n",
    "# This image is only 2 dimensional. We need extra axes frequency and stokes.\n",
    "\n",
    "m31image4D=replicate_image(m31image, shape=[1, 1, 4, len(frequency)])\n",
    "m31sm = create_skymodel_from_image(m31image4D)\n",
    "\n",
    "# We need a linear reference frame to inset a model source. This is a bit involved die to the Astropy way of doing\n",
    "# things\n",
    "wall = m31image.wcs\n",
    "wall.wcs.radesys='ICRS'\n",
    "wall.wcs.equinox=2000.00\n",
    "print(wall.wcs.radesys)\n",
    "print(wall.wcs.equinox)\n",
    "sc=pixel_to_skycoord(128, 128, wall, 1, 'wcs')\n",
    "compabsdirection=SkyCoord(\"-1.0d\", \"37.0d\", frame='icrs', equinox=2000.0)\n",
    "pixloc = skycoord_to_pixel(compabsdirection, wall, 1)\n",
    "scrt = pixel_to_skycoord(pixloc[0], pixloc[1], wall, 1, 'wcs')\n",
    "sof=sc.skyoffset_frame()\n",
    "compreldirection = compabsdirection.transform_to(sof)\n",
    "\n",
    "# Create a skycomponent and add it to the skymodel\n",
    "comp1= create_skycomponent(flux=numpy.array([[1.0, 0.0, 0.0, 0.0]]), frequency=frequency, direction=compreldirection)\n",
    "m31sm=add_component_to_skymodel(m31sm, comp1)"
   ]
  },
  {
   "cell_type": "code",
   "execution_count": 4,
   "metadata": {
    "collapsed": false
   },
   "outputs": [
    {
     "name": "stdout",
     "output_type": "stream",
     "text": [
      "imaging.create_wcs_from_visibility: Parsing kwargs to get definition of WCS\n",
      "imaging.create_wcs_from_visibility: Defining Image at <SkyCoord (ICRS): (ra, dec) in deg\n",
      "    (0.0, 45.0)>, frequency 100000000.0 Hz, and bandwidth 100000000.0 Hz\n",
      "imaging.create_wcs_from_visibility: uvmax = 1533.754509 lambda\n",
      "imaging.create_wcs_from_visibility: Critical cellsize = 0.000326 radians, 0.018678 degrees\n",
      "imaging.create_wcs_from_visibility: Cellsize          = 0.000100 radians, 0.005730 degrees\n",
      "imaging.predict_visibility: Predicting Visibility from sky model images\n",
      "imaging.predict_visibility: Image cellsize 0.000100 radians\n",
      "imaging.predict_visibility: Field of view 0.025600 radians\n",
      "imaging.predict_visibility: Making w-kernel cache of 12 kernels\n",
      "imaging.predict_visibility: Predicting from image channel 0, polarisation 0\n",
      "imaging.predict_visibility: Predicting from image channel 0, polarisation 1\n",
      "imaging.predict_visibility: Predicting from image channel 0, polarisation 2\n",
      "imaging.predict_visibility: Predicting from image channel 0, polarisation 3\n",
      "imaging.predict_visibility: Finished predicting Visibility from sky model images\n",
      "imaging.predict_visibility: Predicting Visibility from sky model components\n",
      "imaging.predict_visibility: Cartesian representation of component 0 = (0.999291, -0.013938, 0.034969)\n",
      "imaging.predict_visibility: Predicting from component 0 channel 0, polarisation 0\n",
      "imaging.predict_visibility: Predicting from component 0 channel 0, polarisation 1\n",
      "imaging.predict_visibility: Predicting from component 0 channel 0, polarisation 2\n",
      "imaging.predict_visibility: Predicting from component 0 channel 0, polarisation 3\n",
      "imaging.predict_visibility: Finished predicting Visibility from sky model components\n"
     ]
    }
   ],
   "source": [
    "# Now we can predict_visibility the visibility from this skymodel\n",
    "kwargs={'wstep':100.0, 'npixel':256, 'cellsize':0.0001}\n",
    "vt = predict_visibility(vt, m31sm, **kwargs)\n",
    "\n",
    "# To check that we got the prediction right, plot the amplitude of the visibility.\n",
    "uvdist=numpy.sqrt(vt.data['uvw'][:,0]**2+vt.data['uvw'][:,1]**2)\n",
    "plt.clf()\n",
    "plt.plot(uvdist, numpy.abs(vt.data['vis'][:,0,0]), '.')\n",
    "plt.xlabel('uvdist')\n",
    "plt.ylabel('Amp Visibility')\n",
    "plt.show()"
   ]
  },
  {
   "cell_type": "code",
   "execution_count": 6,
   "metadata": {
    "collapsed": false
   },
   "outputs": [
    {
     "name": "stdout",
     "output_type": "stream",
     "text": [
      "imaging.invert_visibility: Inverting Visibility to make dirty and psf\n",
      "imaging.create_wcs_from_visibility: Parsing kwargs to get definition of WCS\n",
      "imaging.create_wcs_from_visibility: Defining Image at <SkyCoord (ICRS): (ra, dec) in deg\n",
      "    (0.0, 45.0)>, frequency 100000000.0 Hz, and bandwidth 100000000.0 Hz\n",
      "imaging.create_wcs_from_visibility: uvmax = 1533.754509 lambda\n",
      "imaging.create_wcs_from_visibility: Critical cellsize = 0.000326 radians, 0.018678 degrees\n",
      "imaging.create_wcs_from_visibility: Cellsize          = 0.000100 radians, 0.005730 degrees\n",
      "imaging.invert_visibility: Specified npixel=512, cellsize = 0.000100 rad, FOV = 0.051200 rad\n",
      "imaging.invert_visibility: Making w-kernel cache of 39 kernels\n",
      "imaging.invert_visibility: Inverting channel 0, polarisation 0\n",
      "imaging.invert_visibility: Inverting channel 0, polarisation 1\n",
      "imaging.invert_visibility: Inverting channel 0, polarisation 2\n",
      "imaging.invert_visibility: Inverting channel 0, polarisation 3\n",
      "imaging.invert_visibility: Finished making dirty and psf\n",
      "[[-0.02360807 -0.04766435 -0.0951937  ..., -0.12642614 -0.07096168\n",
      "  -0.03234469]\n",
      " [-0.07653592 -0.07915888 -0.10569826 ..., -0.18085119 -0.14002551\n",
      "  -0.09995773]\n",
      " [-0.14030529 -0.11976798 -0.11542993 ..., -0.22357739 -0.20594294\n",
      "  -0.17321126]\n",
      " ..., \n",
      " [ 0.03633718 -0.01667013 -0.06598958 ...,  0.02392158  0.06753698\n",
      "   0.07022996]\n",
      " [ 0.03675589 -0.01251463 -0.06795926 ..., -0.01398027  0.04155334\n",
      "   0.05891505]\n",
      " [ 0.01520192 -0.02480625 -0.08129298 ..., -0.06768128 -0.00753693\n",
      "   0.02263869]]\n",
      "Max, min in dirty image = 20.833737, -1.186130, sum of weights = 0.038254\n",
      "Max, min in PSF         = 1.000000, -0.111255, sum of weights = 0.038254\n",
      "imaging.point_source_find: Finding components in Image\n",
      "imaging.point_source_find: Found peak at pixel coordinates [  0   2 281 248]\n",
      "imaging.point_source_find: Found peak at world coordinates <SkyCoord (ICRS): (ra, dec) in deg\n",
      "    (0.06498543, 45.14322122)>\n",
      "imaging.point_source_find: Flux is [[ 20.82476887  20.82620033  20.83373678  20.82620033]]\n",
      "clean.clean: Processing pol 0, channel 0\n",
      "Peak of PSF = 1.0 at (256, 256)\n",
      "Peak of Dirty = 20.8247688728 at (281, 248)\n",
      "Coupling matrix =\n",
      " [[ 1.          0.98254714  0.76027592  0.19824986]\n",
      " [ 0.98254714  0.96555194  0.74886582  0.19720193]\n",
      " [ 0.76027592  0.74886582  0.60082915  0.18228196]\n",
      " [ 0.19824986  0.19720193  0.18228196  0.10628513]]\n",
      "Max abs in dirty Image = 20.824769\n",
      "Start of minor cycle\n",
      "This minor cycle will stop at 100 iterations or peak < 0.208247688728\n",
      "Minor cycle 0, peak [ 17.18917988  17.12680308  16.27202617  12.36972761] at [268, 260, 3]\n",
      "Minor cycle 10, peak [ 7.63053763  7.59858621  7.16240343  5.4708425 ] at [326, 267, 3]\n",
      "Minor cycle 20, peak [ 4.31784485  4.29611763  4.00262049  2.90598128] at [279, 218, 3]\n",
      "Minor cycle 30, peak [ 4.30329302  4.27868833  3.91702212  1.97970132] at [247, 185, 3]\n",
      "Minor cycle 40, peak [ 3.57087745  3.53223608  3.03588455  1.61290687] at [291, 240, 3]\n",
      "Minor cycle 50, peak [ 2.36433691  2.34735442  2.11799884  1.23849392] at [247, 299, 3]\n",
      "Minor cycle 60, peak [ 1.30850437  1.30315382  1.23191255  0.91808662] at [328, 281, 3]\n",
      "Minor cycle 70, peak [ 1.38448441  1.37656088  1.26388889  0.75896072] at [231, 172, 3]\n",
      "Minor cycle 80, peak [ 1.25176137  1.24321086  1.12546607  0.62527519] at [340, 274, 3]\n",
      "Minor cycle 90, peak [ 4.20889096  4.12963441  3.10305328  0.46161618] at [292, 290, 2]\n",
      "End of minor cycles\n",
      "clean.clean: Skipping pol 1, channel 0\n",
      "clean.clean: Skipping pol 2, channel 0\n",
      "clean.clean: Skipping pol 3, channel 0\n",
      "[[ 0.  0.  0. ...,  0.  0.  0.]\n",
      " [ 0.  0.  0. ...,  0.  0.  0.]\n",
      " [ 0.  0.  0. ...,  0.  0.  0.]\n",
      " ..., \n",
      " [ 0.  0.  0. ...,  0.  0.  0.]\n",
      " [ 0.  0.  0. ...,  0.  0.  0.]\n",
      " [ 0.  0.  0. ...,  0.  0.  0.]]\n",
      "[[-0.06754224 -0.09220595 -0.14107602 ..., -0.1151619  -0.06518085\n",
      "  -0.03340289]\n",
      " [-0.11776581 -0.12065743 -0.14838878 ..., -0.16381445 -0.12789512\n",
      "  -0.0940001 ]\n",
      " [-0.17867397 -0.15834834 -0.15531252 ..., -0.20332123 -0.18970521\n",
      "  -0.16209972]\n",
      " ..., \n",
      " [-0.09565072 -0.16756918 -0.19064934 ..., -0.14585242 -0.14442579\n",
      "  -0.12368325]\n",
      " [-0.0987261  -0.17617104 -0.21907452 ..., -0.16297943 -0.15052242\n",
      "  -0.11261799]\n",
      " [-0.11853714 -0.19474956 -0.24993457 ..., -0.16116308 -0.14390595\n",
      "  -0.09239659]]\n"
     ]
    }
   ],
   "source": [
    "# Make the dirty image and point spread function\n",
    "\n",
    "kwargs={}\n",
    "kwargs['npixel']=512\n",
    "kwargs['cellsize']=0.0001\n",
    "kwargs['wstep']=30.0\n",
    "dirty, psf, sumwt = invert_visibility(vt, **kwargs)\n",
    "show_image(dirty)\n",
    "print(\"Max, min in dirty image = %.6f, %.6f, sum of weights = %f\" % (dirty.data.max(), dirty.data.min(), sumwt))\n",
    "\n",
    "print(\"Max, min in PSF         = %.6f, %.6f, sum of weights = %f\" % (psf.data.max(), psf.data.min(), sumwt))\n",
    "\n",
    "save_image_to_fits(dirty, 'dirty.fits')\n",
    "save_image_to_fits(psf, 'psf.fits')\n",
    "m31compnew = find_point_source(dirty)\n",
    "\n",
    "\n",
    "# Deconvolve using clean\n",
    "\n",
    "kwargs={'niter':100, 'threshold':0.001, 'fracthresh':0.01}\n",
    "comp, residual = deconvolve_cube(dirty, psf, **kwargs)\n",
    "\n",
    "# Show the results\n",
    "\n",
    "fig=show_image(comp)\n",
    "fig=show_image(residual)"
   ]
  },
  {
   "cell_type": "code",
   "execution_count": 8,
   "metadata": {
    "collapsed": false
   },
   "outputs": [
    {
     "name": "stdout",
     "output_type": "stream",
     "text": [
      "imaging.create_wcs_from_visibility: Parsing kwargs to get definition of WCS\n",
      "imaging.create_wcs_from_visibility: Defining Image at <SkyCoord (ICRS): (ra, dec) in deg\n",
      "    (0.0, 45.0)>, frequency 100000000.0 Hz, and bandwidth 100000000.0 Hz\n",
      "imaging.create_wcs_from_visibility: uvmax = 1533.754509 lambda\n",
      "imaging.create_wcs_from_visibility: Critical cellsize = 0.000326 radians, 0.018678 degrees\n",
      "imaging.create_wcs_from_visibility: Cellsize          = 0.000163 radians, 0.009339 degrees\n",
      "imaging.predict_visibility: Predicting Visibility from sky model images\n",
      "imaging.predict_visibility: Image cellsize 0.000100 radians\n",
      "imaging.predict_visibility: Field of view 0.025600 radians\n",
      "imaging.predict_visibility: Making w-kernel cache of 39 kernels\n",
      "imaging.predict_visibility: Predicting from image channel 0, polarisation 0\n",
      "imaging.predict_visibility: Predicting from image channel 0, polarisation 1\n",
      "imaging.predict_visibility: Predicting from image channel 0, polarisation 2\n",
      "imaging.predict_visibility: Predicting from image channel 0, polarisation 3\n",
      "imaging.predict_visibility: Finished predicting Visibility from sky model images\n",
      "imaging.predict_visibility: Predicting Visibility from sky model components\n",
      "imaging.predict_visibility: Cartesian representation of component 0 = (0.999291, -0.013938, 0.034969)\n",
      "imaging.predict_visibility: Predicting from component 0 channel 0, polarisation 0\n",
      "imaging.predict_visibility: Predicting from component 0 channel 0, polarisation 1\n",
      "imaging.predict_visibility: Predicting from component 0 channel 0, polarisation 2\n",
      "imaging.predict_visibility: Predicting from component 0 channel 0, polarisation 3\n",
      "imaging.predict_visibility: Finished predicting Visibility from sky model components\n",
      "visibility.create_visibility: Created 22113 rows\n",
      "imaging.create_wcs_from_visibility: Parsing kwargs to get definition of WCS\n",
      "imaging.create_wcs_from_visibility: Defining Image at <SkyCoord (ICRS): (ra, dec) in deg\n",
      "    (0.0, 45.0)>, frequency 100000000.0 Hz, and bandwidth 100000000.0 Hz\n",
      "imaging.create_wcs_from_visibility: uvmax = 1533.754509 lambda\n",
      "imaging.create_wcs_from_visibility: Critical cellsize = 0.000326 radians, 0.018678 degrees\n",
      "imaging.create_wcs_from_visibility: Cellsize          = 0.000163 radians, 0.009339 degrees\n",
      "imaging.predict_visibility: Predicting Visibility from sky model images\n",
      "imaging.predict_visibility: Image cellsize 0.000100 radians\n",
      "imaging.predict_visibility: Field of view 0.051200 radians\n",
      "imaging.predict_visibility: Making w-kernel cache of 39 kernels\n",
      "imaging.predict_visibility: Predicting from image channel 0, polarisation 0\n",
      "imaging.predict_visibility: Predicting from image channel 0, polarisation 1\n",
      "imaging.predict_visibility: Predicting from image channel 0, polarisation 2\n",
      "imaging.predict_visibility: Predicting from image channel 0, polarisation 3\n",
      "imaging.predict_visibility: Finished predicting Visibility from sky model images\n"
     ]
    }
   ],
   "source": [
    "# Predict the visibility of the model\n",
    "\n",
    "kwargs={'wstep':30.0}\n",
    "vt = predict_visibility(vt, m31sm, **kwargs)\n",
    "modelsm=create_skymodel_from_image(comp)\n",
    "vtmodel = create_visibility(vlaa, times, frequency, weight=1.0, phasecentre=phasecentre)\n",
    "vtmodel.data = vt.data.copy()\n",
    "vtmodel=predict_visibility(vtmodel, modelsm, **kwargs)\n",
    "\n",
    "\n",
    "# Now we will plot the original visibility and the residual visibility.\n",
    "\n",
    "uvdist=numpy.sqrt(vt.data['uvw'][:,0]**2+vt.data['uvw'][:,1]**2)\n",
    "plt.clf()\n",
    "plt.plot(uvdist, numpy.abs(vt.data['vis'][:,0,0]), '.', color='b')\n",
    "plt.plot(uvdist, numpy.abs(vt.data['vis'][:,0,0]-vtmodel.data['vis'][:,0,0]), '.', color='r')\n",
    "plt.xlabel('uvdist')\n",
    "plt.ylabel('Amp Visibility')\n",
    "plt.show()"
   ]
  }
 ],
 "metadata": {
  "kernelspec": {
   "display_name": "Python 3",
   "language": "python",
   "name": "python3"
  },
  "language_info": {
   "codemirror_mode": {
    "name": "ipython",
    "version": 3
   },
   "file_extension": ".py",
   "mimetype": "text/x-python",
   "name": "python",
   "nbconvert_exporter": "python",
   "pygments_lexer": "ipython3",
   "version": "3.5.1"
  },
  "widgets": {
   "state": {},
   "version": "1.1.2"
  }
 },
 "nbformat": 4,
 "nbformat_minor": 0
}
