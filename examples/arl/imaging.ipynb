{
 "cells": [
  {
   "cell_type": "markdown",
   "metadata": {},
   "source": [
    "# Imaging demonstration"
   ]
  },
  {
   "cell_type": "markdown",
   "metadata": {},
   "source": [
    "### This script works through the high level arl interface to crocodile, making a fake data set and then deconvolving it. Finally the full and residual visibility are plotted."
   ]
  },
  {
   "cell_type": "code",
   "execution_count": null,
   "metadata": {
    "collapsed": false
   },
   "outputs": [],
   "source": [
    "%matplotlib inline\n",
    "\n",
    "import sys, os\n",
    "sys.path.append(os.path.join('..','..'))\n",
    "\n",
    "from matplotlib import pylab\n",
    "pylab.rcParams['figure.figsize'] = (12.0, 12.0)\n",
    "pylab.rcParams['image.cmap'] = 'rainbow'\n",
    "\n",
    "import numpy\n",
    "\n",
    "from astropy.coordinates import SkyCoord\n",
    "from astropy.wcs.utils import skycoord_to_pixel, pixel_to_skycoord\n",
    "from astropy import units as u\n",
    "from astropy import constants as const\n",
    "\n",
    "from matplotlib import pyplot as plt\n",
    "\n",
    "\n",
    "from arl.image.deconvolution import deconvolve_cube\n",
    "from arl.visibility.operations import create_visibility\n",
    "from arl.skymodel.operations import create_skymodel_from_image, add_component_to_skymodel, create_skycomponent, \\\n",
    "    find_skycomponent\n",
    "from arl.image.operations import show_image, import_image_from_fits, export_image_to_fits\n",
    "from arl.util.testing_support import create_named_configuration, replicate_image, create_test_image\n",
    "from arl.fourier_transforms.ftprocessor import predict_2d, invert_2d, create_image_from_visibility\n",
    "\n",
    "\n",
    "import logging\n",
    "log = logging.getLogger()\n",
    "log.setLevel(logging.DEBUG)\n",
    "log.addHandler(logging.StreamHandler(sys.stdout))"
   ]
  },
  {
   "cell_type": "markdown",
   "metadata": {},
   "source": [
    "### Construct a VLA configuration and then shrink it to match our test image."
   ]
  },
  {
   "cell_type": "code",
   "execution_count": null,
   "metadata": {
    "collapsed": true
   },
   "outputs": [],
   "source": [
    "parameters = {}\n",
    "\n",
    "vlaa = create_named_configuration('VLAA')\n",
    "vlaa.data['xyz']=vlaa.data['xyz']/10.0"
   ]
  },
  {
   "cell_type": "markdown",
   "metadata": {},
   "source": [
    "### We create the visibility. This just makes the uvw, time, antenna1, antenna2, weight columns in a table"
   ]
  },
  {
   "cell_type": "code",
   "execution_count": null,
   "metadata": {
    "collapsed": true
   },
   "outputs": [],
   "source": [
    "times = numpy.arange(-numpy.pi/2.0, +numpy.pi/2.0,0.05)\n",
    "frequency = numpy.array([1e8])\n",
    "\n",
    "reffrequency = numpy.max(frequency)\n",
    "phasecentre = SkyCoord(0.0*u.rad, u.rad*numpy.pi/4, frame='icrs', equinox=2000.0)\n",
    "vt = create_visibility(vlaa, times, frequency, weight=1.0, phasecentre=phasecentre)"
   ]
  },
  {
   "cell_type": "markdown",
   "metadata": {},
   "source": [
    "### Plot the synthesized uv coverage, including for MFS"
   ]
  },
  {
   "cell_type": "code",
   "execution_count": null,
   "metadata": {
    "collapsed": false
   },
   "outputs": [],
   "source": [
    "plt.clf()\n",
    "for f in frequency:\n",
    "    x=f/const.c\n",
    "    plt.plot(x*vt.data['uvw'][:,0], x*vt.data['uvw'][:,1], '.', color='b')\n",
    "    plt.plot(-x*vt.data['uvw'][:,0], -x*vt.data['uvw'][:,1], '.', color='r')"
   ]
  },
  {
   "cell_type": "markdown",
   "metadata": {},
   "source": [
    "### Read the venerable test image, constructing an image"
   ]
  },
  {
   "cell_type": "code",
   "execution_count": null,
   "metadata": {
    "collapsed": false
   },
   "outputs": [],
   "source": [
    "parameters={}\n",
    "parameters['npixel']=512\n",
    "parameters['cellsize']=0.0001\n",
    "parameters['wstep']=30.0\n",
    "\n",
    "m31image = create_test_image(npol=4, nchan=len(frequency), cellsize=parameters['cellsize'])\n",
    "fig=show_image(m31image)"
   ]
  },
  {
   "cell_type": "code",
   "execution_count": null,
   "metadata": {
    "collapsed": false
   },
   "outputs": [],
   "source": [
    "vt = predict_2d(vt, m31image, params=parameters)\n",
    "\n",
    "# To check that we got the prediction right, plot the amplitude of the visibility.\n",
    "uvdist=numpy.sqrt(vt.data['uvw'][:,0]**2+vt.data['uvw'][:,1]**2)\n",
    "plt.clf()\n",
    "plt.plot(uvdist, numpy.abs(vt.data['vis'][:,0,0]), '.')\n",
    "plt.xlabel('uvdist')\n",
    "plt.ylabel('Amp Visibility')\n",
    "plt.show()"
   ]
  },
  {
   "cell_type": "markdown",
   "metadata": {},
   "source": [
    "### Make the dirty image and point spread function"
   ]
  },
  {
   "cell_type": "code",
   "execution_count": null,
   "metadata": {
    "collapsed": false
   },
   "outputs": [],
   "source": [
    "model = create_image_from_visibility(vt, params=parameters)\n",
    "dirty = invert_2d(vt, model, params=parameters)\n",
    "psf = invert_2d(vt, model, dopsf=True, params=parameters)\n",
    "psfmax = psf.data.max()\n",
    "dirty.data = dirty.data/psfmax\n",
    "psf.data = psf.data/psfmax\n",
    "\n",
    "show_image(dirty)\n",
    "print(\"Max, min in dirty image = %.6f, %.6f, psfmax = %f\" % (dirty.data.max(), dirty.data.min(), psfmax))\n",
    "\n",
    "print(\"Max, min in PSF         = %.6f, %.6f, psfmax = %f\" % (psf.data.max(), psf.data.min(), psfmax))\n",
    "\n",
    "export_image_to_fits(dirty, 'imaging_dirty.fits')\n",
    "export_image_to_fits(psf, 'imaging_psf.fits')"
   ]
  },
  {
   "cell_type": "markdown",
   "metadata": {},
   "source": [
    "### Deconvolve using clean"
   ]
  },
  {
   "cell_type": "code",
   "execution_count": null,
   "metadata": {
    "collapsed": false,
    "scrolled": false
   },
   "outputs": [],
   "source": [
    "parameters={'niter':100, 'threshold':0.001, 'fracthresh':0.01}\n",
    "comp, residual = deconvolve_cube(dirty, psf, parameters)\n",
    "\n",
    "# Show the results\n",
    "\n",
    "fig=show_image(comp)\n",
    "fig=show_image(residual)"
   ]
  },
  {
   "cell_type": "code",
   "execution_count": null,
   "metadata": {
    "collapsed": true
   },
   "outputs": [],
   "source": [
    "### Predict the visibility of the model"
   ]
  },
  {
   "cell_type": "code",
   "execution_count": null,
   "metadata": {
    "collapsed": false
   },
   "outputs": [],
   "source": [
    "vtmodel = create_visibility(vlaa, times, frequency, weight=1.0, phasecentre=phasecentre)\n",
    "vtmodel=predict_2d(vtmodel, comp, params=parameters)"
   ]
  },
  {
   "cell_type": "code",
   "execution_count": null,
   "metadata": {
    "collapsed": true
   },
   "outputs": [],
   "source": [
    "### Now we will plot the original visibility and the residual visibility."
   ]
  },
  {
   "cell_type": "code",
   "execution_count": null,
   "metadata": {
    "collapsed": false
   },
   "outputs": [],
   "source": [
    "uvdist=numpy.sqrt(vt.data['uvw'][:,0]**2+vt.data['uvw'][:,1]**2)\n",
    "plt.clf()\n",
    "plt.plot(uvdist, numpy.abs(vt.data['vis'][:,0,0]), '.', color='b')\n",
    "plt.plot(uvdist, numpy.abs(vt.data['vis'][:,0,0]-vtmodel.data['vis'][:,0,0]), '.', color='r')\n",
    "plt.xlabel('uvdist')\n",
    "plt.ylabel('Amp Visibility')\n",
    "plt.show()"
   ]
  },
  {
   "cell_type": "code",
   "execution_count": null,
   "metadata": {
    "collapsed": true
   },
   "outputs": [],
   "source": []
  }
 ],
 "metadata": {
  "kernelspec": {
   "display_name": "Python 3",
   "language": "python",
   "name": "python3"
  },
  "language_info": {
   "codemirror_mode": {
    "name": "ipython",
    "version": 3
   },
   "file_extension": ".py",
   "mimetype": "text/x-python",
   "name": "python",
   "nbconvert_exporter": "python",
   "pygments_lexer": "ipython3",
   "version": "3.5.1"
  },
  "widgets": {
   "state": {},
   "version": "1.1.2"
  }
 },
 "nbformat": 4,
 "nbformat_minor": 0
}
