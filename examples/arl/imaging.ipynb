{
 "cells": [
  {
   "cell_type": "markdown",
   "metadata": {},
   "source": [
    "# This script works through the high level arl interface to crocodile, making a fake data set and then deconvolving it. Finally the full and residual visibility are plotted."
   ]
  },
  {
   "cell_type": "code",
   "execution_count": null,
   "metadata": {
    "collapsed": false
   },
   "outputs": [],
   "source": [
    "%matplotlib inline\n",
    "\n",
    "import sys, os\n",
    "sys.path.append('../..') \n",
    "print(sys.path)\n",
    "print(os.getcwd())\n",
    "\n",
    "from matplotlib import pylab\n",
    "pylab.rcParams['figure.figsize'] = (12.0, 12.0)\n",
    "pylab.rcParams['image.cmap'] = 'rainbow'\n",
    "\n",
    "from astropy.coordinates import SkyCoord\n",
    "from astropy.wcs.utils import skycoord_to_pixel, pixel_to_skycoord\n",
    "from astropy import units as u\n",
    "\n",
    "from matplotlib import pyplot as plt\n",
    "\n",
    "from arl.deconvolve_image import deconvolve_cube\n",
    "from arl.define_visibility import create_visibility\n",
    "from arl.fourier_transform import *\n",
    "from arl.define_skymodel import create_skymodel_from_image, add_component_to_skymodel, create_skycomponent, find_point_source\n",
    "from arl.define_image import show_image, create_image_from_fits, save_image_to_fits, replicate_image\n",
    "from arl.simulate_visibility import filter_configuration, create_named_configuration"
   ]
  },
  {
   "cell_type": "code",
   "execution_count": null,
   "metadata": {
    "collapsed": false
   },
   "outputs": [],
   "source": [
    "# We construct a VLA configuration and then shrink it to match our test image.\n",
    "\n",
    "kwargs = {}\n",
    "\n",
    "vlaa = filter_configuration(create_named_configuration('VLAA'), **kwargs)\n",
    "vlaa.data['xyz']=vlaa.data['xyz']/10.0\n",
    "\n",
    "\n",
    "# We create the visibility. This just makes the uvw, time, antenna1, antenna2, weight columns in a table\n",
    "\n",
    "times = numpy.arange(-numpy.pi/2.0, +numpy.pi/2.0,0.05)\n",
    "frequency = numpy.array([1e8])\n",
    "\n",
    "reffrequency = numpy.max(frequency)\n",
    "phasecentre = SkyCoord(0.0*u.rad, u.rad*numpy.pi/4, frame='icrs', equinox=2000.0)\n",
    "vt = create_visibility(vlaa, times, frequency, weight=1.0, phasecentre=phasecentre)\n",
    "\n",
    "\n",
    "# Plot the synthesized uv coverage, including for MFS\n",
    "\n",
    "plt.clf()\n",
    "for f in frequency:\n",
    "    x=f/const.c\n",
    "    plt.plot(x*vt.data['uvw'][:,0], x*vt.data['uvw'][:,1], '.', color='b')\n",
    "    plt.plot(-x*vt.data['uvw'][:,0], -x*vt.data['uvw'][:,1], '.', color='r')"
   ]
  },
  {
   "cell_type": "code",
   "execution_count": null,
   "metadata": {
    "collapsed": false
   },
   "outputs": [],
   "source": [
    "# Read the venerable test image, constructing an image\n",
    "\n",
    "m31image = create_image_from_fits(\"./data/models/M31.MOD\")\n",
    "fig = plt.figure()\n",
    "cellsize=180.0*0.0001/numpy.pi\n",
    "m31image.wcs.wcs.cdelt[0]=-cellsize\n",
    "m31image.wcs.wcs.cdelt[1]=+cellsize\n",
    "m31image.wcs.wcs.radesys='ICRS'\n",
    "m31image.wcs.wcs.equinox=2000.00\n",
    "\n",
    "# Show the model image\n",
    "fig.add_subplot(111, projection=m31image.wcs)\n",
    "plt.imshow(m31image.data, origin='lower', cmap='rainbow')\n",
    "plt.xlabel('RA---SIN')\n",
    "plt.ylabel('DEC--SIN')\n",
    "plt.show()\n",
    "\n",
    "# This image is only 2 dimensional. We need extra axes frequency and stokes.\n",
    "\n",
    "m31image4D=replicate_image(m31image, shape=[1, 1, 4, len(frequency)])\n",
    "m31sm = create_skymodel_from_image(m31image4D)\n",
    "\n",
    "# We need a linear reference frame to inset a model source. This is a bit involved die to the Astropy way of doing\n",
    "# things\n",
    "wall = m31image.wcs\n",
    "wall.wcs.radesys='ICRS'\n",
    "wall.wcs.equinox=2000.00\n",
    "print(wall.wcs.radesys)\n",
    "print(wall.wcs.equinox)\n",
    "sc=pixel_to_skycoord(128, 128, wall, 1, 'wcs')\n",
    "compabsdirection=SkyCoord(\"-1.0d\", \"37.0d\", frame='icrs', equinox=2000.0)\n",
    "pixloc = skycoord_to_pixel(compabsdirection, wall, 1)\n",
    "scrt = pixel_to_skycoord(pixloc[0], pixloc[1], wall, 1, 'wcs')\n",
    "sof=sc.skyoffset_frame()\n",
    "compreldirection = compabsdirection.transform_to(sof)\n",
    "\n",
    "# Create a skycomponent and add it to the skymodel\n",
    "comp1= create_skycomponent(flux=numpy.array([[1.0, 0.0, 0.0, 0.0]]), frequency=frequency, direction=compreldirection)\n",
    "m31sm=add_component_to_skymodel(m31sm, comp1)"
   ]
  },
  {
   "cell_type": "code",
   "execution_count": null,
   "metadata": {
    "collapsed": false
   },
   "outputs": [],
   "source": [
    "# Now we can predict_visibility the visibility from this skymodel\n",
    "kwargs={'wstep':100.0, 'npixel':256, 'cellsize':0.0001}\n",
    "vt = predict_visibility(vt, m31sm, **kwargs)\n",
    "\n",
    "# To check that we got the prediction right, plot the amplitude of the visibility.\n",
    "uvdist=numpy.sqrt(vt.data['uvw'][:,0]**2+vt.data['uvw'][:,1]**2)\n",
    "plt.clf()\n",
    "plt.plot(uvdist, numpy.abs(vt.data['vis'][:,0,0]), '.')\n",
    "plt.xlabel('uvdist')\n",
    "plt.ylabel('Amp Visibility')\n",
    "plt.show()"
   ]
  },
  {
   "cell_type": "code",
   "execution_count": null,
   "metadata": {
    "collapsed": false,
    "scrolled": false
   },
   "outputs": [],
   "source": [
    "# Make the dirty image and point spread function\n",
    "\n",
    "kwargs={}\n",
    "kwargs['npixel']=512\n",
    "kwargs['cellsize']=0.0001\n",
    "kwargs['wstep']=30.0\n",
    "dirty, psf, sumwt = invert_visibility(vt, **kwargs)\n",
    "show_image(dirty)\n",
    "print(\"Max, min in dirty image = %.6f, %.6f, sum of weights = %f\" % (dirty.data.max(), dirty.data.min(), sumwt))\n",
    "\n",
    "print(\"Max, min in PSF         = %.6f, %.6f, sum of weights = %f\" % (psf.data.max(), psf.data.min(), sumwt))\n",
    "\n",
    "save_image_to_fits(dirty, 'dirty.fits')\n",
    "save_image_to_fits(psf, 'psf.fits')\n",
    "m31compnew = find_point_source(dirty)\n",
    "\n",
    "\n",
    "# Deconvolve using clean\n",
    "\n",
    "kwargs={'niter':100, 'threshold':0.001, 'fracthresh':0.01}\n",
    "comp, residual = deconvolve_cube(dirty, psf, **kwargs)\n",
    "\n",
    "# Show the results\n",
    "\n",
    "fig=show_image(comp)\n",
    "fig=show_image(residual)"
   ]
  },
  {
   "cell_type": "code",
   "execution_count": null,
   "metadata": {
    "collapsed": false
   },
   "outputs": [],
   "source": [
    "# Predict the visibility of the model\n",
    "\n",
    "kwargs={'wstep':30.0}\n",
    "vt = predict_visibility(vt, m31sm, **kwargs)\n",
    "modelsm=create_skymodel_from_image(comp)\n",
    "vtmodel = create_visibility(vlaa, times, frequency, weight=1.0, phasecentre=phasecentre)\n",
    "vtmodel.data = vt.data.copy()\n",
    "vtmodel=predict_visibility(vtmodel, modelsm, **kwargs)\n",
    "\n",
    "\n",
    "# Now we will plot the original visibility and the residual visibility.\n",
    "\n",
    "uvdist=numpy.sqrt(vt.data['uvw'][:,0]**2+vt.data['uvw'][:,1]**2)\n",
    "plt.clf()\n",
    "plt.plot(uvdist, numpy.abs(vt.data['vis'][:,0,0]), '.', color='b')\n",
    "plt.plot(uvdist, numpy.abs(vt.data['vis'][:,0,0]-vtmodel.data['vis'][:,0,0]), '.', color='r')\n",
    "plt.xlabel('uvdist')\n",
    "plt.ylabel('Amp Visibility')\n",
    "plt.show()"
   ]
  }
 ],
 "metadata": {
  "kernelspec": {
   "display_name": "Python 3",
   "language": "python",
   "name": "python3"
  },
  "language_info": {
   "codemirror_mode": {
    "name": "ipython",
    "version": 3
   },
   "file_extension": ".py",
   "mimetype": "text/x-python",
   "name": "python",
   "nbconvert_exporter": "python",
   "pygments_lexer": "ipython3",
   "version": "3.5.1"
  },
  "widgets": {
   "state": {},
   "version": "1.1.2"
  }
 },
 "nbformat": 4,
 "nbformat_minor": 0
}
