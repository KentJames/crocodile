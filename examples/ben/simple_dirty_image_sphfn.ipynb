{
 "cells": [
  {
   "cell_type": "markdown",
   "metadata": {},
   "source": [
    "# Simple (no w-projection) dirty image generation from OSKAR simulated VLA data.  (by Benjamin Mort)"
   ]
  },
  {
   "cell_type": "code",
   "execution_count": null,
   "metadata": {
    "collapsed": false
   },
   "outputs": [],
   "source": [
    "%matplotlib inline\n",
    "from __future__ import print_function\n",
    "import sys\n",
    "import os\n",
    "import math\n",
    "import time\n",
    "import numpy\n",
    "from matplotlib import pyplot as plt\n",
    "import pyfits\n",
    "sys.path.append(os.path.join('..', '..'))\n",
    "from util.read_oskar_vis import OskarVis\n",
    "sys.path.append('scripts')\n",
    "from parula import parula_map\n",
    "cmap = 'rainbow'"
   ]
  },
  {
   "cell_type": "markdown",
   "metadata": {},
   "source": [
    "### 0. Define imaging and gridding parameters"
   ]
  },
  {
   "cell_type": "code",
   "execution_count": null,
   "metadata": {
    "collapsed": false
   },
   "outputs": [],
   "source": [
    "fov = 3.0         # field-of-view, in degrees\n",
    "imsize = 1024     # Image dimension / grid size, in pixels\n",
    "support = 3       # GCF support (width = 2 * support + 1)\n",
    "oversample = 100  # GCF oversample (values per grid cell)\n",
    "\n",
    "# Visibility file and comparision CASA fits image.\n",
    "vis_root = os.path.join('..', '..', 'data', 'vis')\n",
    "vis_file = os.path.join(vis_root, 'vla_grid_6h', 'test_vla.vis')\n",
    "fits_file = os.path.join(vis_root, 'vla_grid_6h',\n",
    "                         'test_vla_dirty_s%04i_f%04.1f_w000.fits' % (imsize, fov))\n",
    "# vis_file = os.path.join(vis_root, 'vla_1src_6h', 'test_vla.vis')\n",
    "# fits_file = os.path.join(vis_root, 'vla_1src_6h', \n",
    "#                          'test_vla_dirty_0%04i_w000.fits' % imsize)\n",
    "   \n",
    "\n",
    "def fov_to_cell_size(fov, im_size):\n",
    "    \"\"\"Evaluate image pixel size (in arcseconds) for a given FoV and number of pixels.\"\"\"\n",
    "    r_max = math.sin(math.radians(fov) / 2.0)\n",
    "    inc = r_max / (0.5 * im_size)\n",
    "    return math.degrees(math.asin(inc)) * 3600.0\n",
    "\n",
    "def grid_cell_size(cell_size_lm_arcsec, im_size):\n",
    "    \"\"\"Obtain grid cell size from image cell size.\"\"\"\n",
    "    return (180. * 3600.) / (im_size * cell_size_lm_arcsec * math.pi)\n",
    "\n",
    "# Image pixel separation, in arcseconds\n",
    "cell_size_lm_arcsec = fov_to_cell_size(fov, imsize)\n",
    "# Grid pixel separation, in wavelengths.\n",
    "cell_size_uv = grid_cell_size(cell_size_lm_arcsec, imsize)"
   ]
  },
  {
   "cell_type": "markdown",
   "metadata": {},
   "source": [
    "### 1. Generate GCF"
   ]
  },
  {
   "cell_type": "code",
   "execution_count": null,
   "metadata": {
    "collapsed": false,
    "scrolled": true
   },
   "outputs": [],
   "source": [
    "def grdsf(nu):\n",
    "    P = [8.203343e-2, -3.644705e-1, 6.278660e-1, -5.335581e-1, 2.312756e-1,\n",
    "         4.028559e-3, -3.697768e-2, 1.021332e-1, -1.201436e-1, 6.412774e-2]\n",
    "    Q = [1.0000000e0, 8.212018e-1, 2.078043e-1, 1.0000000e0, 9.599102e-1, 2.918724e-1]\n",
    "    p = numpy.array(P, dtype='f8').reshape(2, 5)\n",
    "    q = numpy.array(Q, dtype='f8').reshape(2, 3)\n",
    "    val = 0.0\n",
    "    if nu >= 0.0 and nu < 0.75:\n",
    "        part = 0\n",
    "        nuend = 0.75\n",
    "    elif nu >= 0.75 and nu <= 1.0:\n",
    "        part = 1\n",
    "        nuend = 1.0\n",
    "    else:\n",
    "        val = 0.0\n",
    "        return val\n",
    "    top = p[part, 0]\n",
    "    delnusq = nu**2 - nuend**2\n",
    "    for k in range(1, 5):\n",
    "        top += p[part, k] * delnusq**(k)\n",
    "    bot = q[part, 0]\n",
    "    for k in range(1, 3):\n",
    "        bot += q[part, k] * delnusq**(k)\n",
    "    if bot != 0.0:\n",
    "        val = top / bot\n",
    "    else:\n",
    "        val = 0.0     \n",
    "    return val\n",
    "\n",
    "\n",
    "gcf_size = oversample * (support + 1)\n",
    "convFunc = numpy.empty(gcf_size)\n",
    "nu = numpy.empty(gcf_size)\n",
    "for i in range(0, gcf_size):\n",
    "    nu[i] = float(i) / (support * oversample)\n",
    "    val = grdsf(nu[i])\n",
    "    convFunc[i] = (1.0 - nu[i]**2) * val\n",
    "   \n",
    "# Plot the GCF\n",
    "convFunc_u = numpy.arange(0, gcf_size, dtype='f8') / (oversample)\n",
    "fig = plt.figure(figsize=(14, 4))\n",
    "plt.plot(convFunc_u, convFunc, '+')\n",
    "plt.xlim(numpy.min(convFunc_u), numpy.max(convFunc_u))\n",
    "plt.title('GCF support = %i, oversample = %i, points = %i' % (support, oversample, convFunc.shape[0]))\n",
    "plt.grid(True)"
   ]
  },
  {
   "cell_type": "markdown",
   "metadata": {},
   "source": [
    "### 2. Load visibility data."
   ]
  },
  {
   "cell_type": "code",
   "execution_count": null,
   "metadata": {
    "collapsed": false
   },
   "outputs": [],
   "source": [
    "# Read visibility binary and scale into wavelengths.\n",
    "oskar_vis = OskarVis(vis_file)\n",
    "uu, vv, ww = oskar_vis.uvw(flatten=True)\n",
    "freq_hz = oskar_vis.frequency()\n",
    "wave_length_m = 299792458.0 / freq_hz\n",
    "uu =  numpy.array(uu, dtype='f8') / wave_length_m\n",
    "vv =  numpy.array(vv, dtype='f8') / wave_length_m\n",
    "uvw = numpy.array([uu, vv, ww]) / wave_length_m\n",
    "amp = oskar_vis.stokes_i(flatten=True)\n",
    "# Append hermitian copy of visibilities.\n",
    "# uu = numpy.hstack((uu, -uu))\n",
    "# vv = numpy.hstack((vv, -vv))\n",
    "# amp = numpy.hstack((amp, numpy.conj(amp)))\n",
    "nvis = uu.shape[0]"
   ]
  },
  {
   "cell_type": "markdown",
   "metadata": {},
   "source": [
    "### 3. Gridding! "
   ]
  },
  {
   "cell_type": "code",
   "execution_count": null,
   "metadata": {
    "collapsed": false
   },
   "outputs": [],
   "source": [
    "g_centre = imsize / 2\n",
    "grid = numpy.zeros((imsize, imsize), dtype='c16')\n",
    "g_sum = 0.0\n",
    "csize = support * 2 + 1\n",
    "cxy = numpy.zeros((csize, csize), dtype='f8')\n",
    "t0 = time.time()\n",
    "nskip = 0\n",
    "for i in range(0, nvis):\n",
    "    pos_x = -uu[i] / cell_size_uv\n",
    "    pos_y = vv[i] / cell_size_uv\n",
    "    grid_x = int(round(pos_x)) + g_centre\n",
    "    grid_y = int(round(pos_y)) + g_centre\n",
    "\n",
    "    if grid_x + (support * 1.5) >= imsize or grid_x - (support * 1.5) < 0:\n",
    "        nskip += 1\n",
    "        continue\n",
    "    if grid_y + (support * 1.5) >= imsize or grid_y - (support * 1.5) < 0:\n",
    "        nskip += 1\n",
    "        continue\n",
    "        \n",
    "    # Scaled distance from nearest grid point\n",
    "    off_x = int(round((grid_x - g_centre - pos_x) * oversample))\n",
    "    off_y = int(round((grid_y - g_centre - pos_y) * oversample))\n",
    "    \n",
    "    for j in range(0, csize):\n",
    "        cy = convFunc[abs(off_y + (j - support) * oversample)]\n",
    "        for k in range(0, csize):\n",
    "            cx = convFunc[abs(off_x + (k - support) * oversample)]\n",
    "            cxy[j, k] = cx * cy\n",
    "    \n",
    "    grid[grid_y-support:grid_y+support+1, grid_x-support:grid_x+support+1] += cxy * amp[i]\n",
    "    \n",
    "    g_sum += numpy.sum(cxy)\n",
    "    \n",
    "# Normalise grid.\n",
    "grid /= g_sum    \n",
    "print('Time taken = %.3fs' % (time.time() - t0))\n",
    "assert nskip == 0, \"data points outside the grid is currently not handled properly by this code\""
   ]
  },
  {
   "cell_type": "markdown",
   "metadata": {},
   "source": [
    "### 4. Grid -> image"
   ]
  },
  {
   "cell_type": "code",
   "execution_count": null,
   "metadata": {
    "collapsed": false
   },
   "outputs": [],
   "source": [
    "image = numpy.fft.fftshift(numpy.fft.fft2(numpy.fft.fftshift(grid)))\n",
    "\n",
    "fig = plt.figure(figsize=(16/2, 6))\n",
    "ax = fig.add_subplot(111, aspect='equal')\n",
    "im = ax.imshow(image.real, interpolation='nearest', cmap=cmap)\n",
    "plt.colorbar(im)\n",
    "# ax.grid(color='white')\n",
    "# ax = fig.add_subplot(122, aspect='equal')\n",
    "# im = ax.imshow(image.imag, interpolation='nearest', cmap=cmap)\n",
    "# plt.colorbar(im)\n",
    "ax.grid()"
   ]
  },
  {
   "cell_type": "markdown",
   "metadata": {
    "collapsed": true
   },
   "source": [
    "### 5. Generate GCF correction"
   ]
  },
  {
   "cell_type": "code",
   "execution_count": null,
   "metadata": {
    "collapsed": false
   },
   "outputs": [],
   "source": [
    "corrFunc = numpy.zeros(imsize, dtype='f8')\n",
    "corr_nu = numpy.empty(imsize, dtype='f8')\n",
    "for i in range(0, imsize):\n",
    "    offset = i - imsize / 2\n",
    "    corr_nu[i] = float(offset) / float(imsize / 2)\n",
    "    val = grdsf(abs(corr_nu[i]))\n",
    "    if val != 0.0:\n",
    "        corrFunc[i] = 1.0 / val\n",
    "        \n",
    "# fig = plt.figure()        \n",
    "# plt.semilogy(corr_nu, corrFunc, 'b-')\n",
    "# plt.title('correction function')\n",
    "\n",
    "corrFunc_2d = numpy.zeros((imsize, imsize), dtype='f8')\n",
    "for i in range(0, imsize):\n",
    "    corrFunc_2d[i, :] = corrFunc\n",
    "for i in range(0, imsize):\n",
    "    corrFunc_2d[:, i] *= corrFunc\n"
   ]
  },
  {
   "cell_type": "markdown",
   "metadata": {},
   "source": [
    "### 6. Correct image for GCF and plot corrected image."
   ]
  },
  {
   "cell_type": "code",
   "execution_count": null,
   "metadata": {
    "collapsed": false
   },
   "outputs": [],
   "source": [
    "corrected_image = image.real * corrFunc_2d\n",
    "z = 0\n",
    "fig = plt.figure(figsize=(10, 8))\n",
    "ax = fig.add_subplot(111, aspect='equal')\n",
    "im = ax.imshow(corrected_image[z:imsize-z, z:imsize-z], interpolation='nearest', cmap=cmap)\n",
    "plt.colorbar(im)\n",
    "ax.grid(True)"
   ]
  },
  {
   "cell_type": "markdown",
   "metadata": {},
   "source": [
    "### 6. Load Reference CASA image"
   ]
  },
  {
   "cell_type": "code",
   "execution_count": null,
   "metadata": {
    "collapsed": false
   },
   "outputs": [],
   "source": [
    "casa_image = numpy.squeeze(pyfits.getdata(fits_file))\n",
    "plt.close('casa image')\n",
    "z = 0\n",
    "fig = plt.figure('casa image', figsize=(10, 8))\n",
    "ax = fig.add_subplot(111, aspect='equal')\n",
    "extent = [-imsize/2, imsize/2, -imsize/2, imsize/2]\n",
    "im = ax.imshow(casa_image[z:imsize-z, z:imsize-z], interpolation='nearest', \n",
    "               extent=extent, cmap=cmap)\n",
    "plt.colorbar(im)\n",
    "ax.grid(True, color='white')"
   ]
  },
  {
   "cell_type": "code",
   "execution_count": null,
   "metadata": {
    "collapsed": false
   },
   "outputs": [],
   "source": [
    "diff = casa_image - corrected_image.real\n",
    "z = 0\n",
    "fig = plt.figure(figsize=(10, 8))\n",
    "ax = fig.add_subplot(111, aspect='equal')\n",
    "im = ax.imshow(diff[z:imsize-z,z:imsize-z], interpolation='nearest', cmap='seismic')\n",
    "ax.set_title('Difference to CASA image.')\n",
    "plt.colorbar(im)\n",
    "ax.grid(True)"
   ]
  }
 ],
 "metadata": {
  "kernelspec": {
   "display_name": "Python 3",
   "language": "python",
   "name": "python3"
  },
  "language_info": {
   "codemirror_mode": {
    "name": "ipython",
    "version": 3
   },
   "file_extension": ".py",
   "mimetype": "text/x-python",
   "name": "python",
   "nbconvert_exporter": "python",
   "pygments_lexer": "ipython3",
   "version": "3.5.1"
  }
 },
 "nbformat": 4,
 "nbformat_minor": 0
}
