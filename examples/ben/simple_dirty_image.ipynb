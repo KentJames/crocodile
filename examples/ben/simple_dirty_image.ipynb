{
 "cells": [
  {
   "cell_type": "markdown",
   "metadata": {},
   "source": [
    "# iPython notebook to make a simple (no w-projection) dirty image from OSKAR simulated VLA data.  (by Benjamin Mort)"
   ]
  },
  {
   "cell_type": "markdown",
   "metadata": {},
   "source": [
    "### Description\n",
    "Notebook demonstrating making of a simple dirty image from example OSKAR simulated VLA data.\n",
    "\n",
    "### To run the script you will need:\n",
    "\n",
    "- ipython (python 2.7)\n",
    "- numpy (1.9)\n",
    "- matplotlib\n",
    "- pyfits (3.3)\n",
    "- read_oskar_vis.py (python module found in the `oskar_data/scripts` sub-directory)\n",
    "- Example OSKAR simulated binary data (found in the `oskar_data` sub-directory)\n",
    "\n",
    "**This notebook is intended to be run from the top level crocodile directory.**\n",
    "\n",
    "### TODO\n",
    "- FIX grid correction ...!?"
   ]
  },
  {
   "cell_type": "code",
   "execution_count": null,
   "metadata": {
    "collapsed": false
   },
   "outputs": [],
   "source": [
    "%matplotlib inline\n",
    "import sys\n",
    "import os\n",
    "import numpy\n",
    "import math\n",
    "import matplotlib.pyplot as plt\n",
    "import pyfits\n",
    "sys.path.append(os.path.join('..', '..'))\n",
    "from util.read_oskar_vis import OskarVis\n",
    "sys.path.append('scripts')\n",
    "from parula import parula_map"
   ]
  },
  {
   "cell_type": "markdown",
   "metadata": {},
   "source": [
    "### 0. Define imaging and gridding parameters"
   ]
  },
  {
   "cell_type": "code",
   "execution_count": null,
   "metadata": {
    "collapsed": false
   },
   "outputs": [],
   "source": [
    "fov = 3.5        # field-of-view, in degrees\n",
    "imsize = 1024    # Image dimension / grid size, in pixels\n",
    "support = 3      # GCF support (width = 2 * support + 1)\n",
    "oversample = 63  # GCF oversample (values per grid cell) - MUST BE ODD\n",
    "\n",
    "assert oversample % 2 == 1, 'Oversample must be odd valued!'\n",
    "\n",
    "def fov_to_cell_size(fov, im_size):\n",
    "    \"\"\"Evaluate image pixel size (in arcseconds) for a given FoV and number of pixels.\"\"\"\n",
    "    r_max = math.sin(math.radians(fov) / 2.0)\n",
    "    inc = r_max / (0.5 * im_size)\n",
    "    return math.degrees(math.asin(inc)) * 3600.0\n",
    "\n",
    "def grid_cell_size(cell_size_lm_arcsec, im_size):\n",
    "    \"\"\"Obtain grid cell size from image cell size.\"\"\"\n",
    "    return (180. * 3600.) / (im_size * cell_size_lm_arcsec * math.pi)\n",
    "\n",
    "# Image pixel separation, in arcseconds\n",
    "cell_size_lm_arcsec = fov_to_cell_size(fov, imsize)\n",
    "# Grid pixel separation, in wavelengths.\n",
    "cell_size_uv = grid_cell_size(cell_size_lm_arcsec, imsize)"
   ]
  },
  {
   "cell_type": "markdown",
   "metadata": {},
   "source": [
    "### 1. Load visibility data."
   ]
  },
  {
   "cell_type": "code",
   "execution_count": null,
   "metadata": {
    "collapsed": false
   },
   "outputs": [],
   "source": [
    "# Read visibility binary and scale into wavelengths.\n",
    "vis_path = os.path.join('..', '..', 'data', 'vis', 'vla_grid_6h')\n",
    "vis_file = os.path.join(vis_path, 'test_vla.vis')\n",
    "oskar_vis = OskarVis(vis_file)\n",
    "uu, vv, ww = oskar_vis.uvw(flatten=True)\n",
    "freq_hz = oskar_vis.frequency()\n",
    "wave_length_m = 299792458.0 / freq_hz\n",
    "uvw = numpy.array([uu, vv, ww]) / wave_length_m\n",
    "amp = oskar_vis.stokes_i(flatten=True)"
   ]
  },
  {
   "cell_type": "markdown",
   "metadata": {},
   "source": [
    "### 2. Generate GCF\n",
    "- Simple exponential function.\n",
    "- TODO replace with another function to test grid correction..."
   ]
  },
  {
   "cell_type": "code",
   "execution_count": null,
   "metadata": {
    "collapsed": false
   },
   "outputs": [],
   "source": [
    "# Generate 1d exponential GCF\n",
    "sigma = 1.0\n",
    "gcf_size = (2 * support + 1) * oversample\n",
    "gcf_u = numpy.arange(0, gcf_size, dtype='f8') - gcf_size / 2\n",
    "u_inc = 1.0 / oversample\n",
    "gcf_u *= u_inc\n",
    "gcf_1d = numpy.exp(-gcf_u**2.0 / (2.0 * sigma**2))\n",
    "gcf_1d /= numpy.sum(gcf_1d)  # Normalise by area\n",
    "\n",
    "# Convert to 2-d\n",
    "gcf_2d = numpy.empty((gcf_size, gcf_size), dtype='f8')\n",
    "for i in range(0, gcf_size):\n",
    "    gcf_2d[:, i] = gcf_1d\n",
    "for j in range(0, gcf_size):\n",
    "    gcf_2d[j, :] *= gcf_1d\n",
    "\n",
    "# Plot the GCF\n",
    "plt.close('gcf 1d')\n",
    "plt.close('gcf 2d')\n",
    "fig = plt.figure('gcf 1d', figsize=(5, 3))\n",
    "ax = fig.add_subplot(111)\n",
    "ax.step(gcf_u, gcf_1d, where='mid')\n",
    "ax.plot(gcf_u, gcf_1d, '--')\n",
    "ax.grid(True)\n",
    "fig = plt.figure('gcf 2d', figsize=(5, 4))\n",
    "ax = fig.add_subplot(111, aspect='equal')\n",
    "im = ax.imshow(gcf_2d, interpolation='nearest', \n",
    "               extent=[gcf_u[0], gcf_u[-1], gcf_u[0], gcf_u[-1]])\n",
    "plt.colorbar(im)\n",
    "ax.grid(True)"
   ]
  },
  {
   "cell_type": "markdown",
   "metadata": {},
   "source": [
    "### 3. Gridding! "
   ]
  },
  {
   "cell_type": "code",
   "execution_count": null,
   "metadata": {
    "collapsed": false
   },
   "outputs": [],
   "source": [
    "# TODO Reorganise CGF by oversample before entering the loop.\n",
    "\n",
    "g_centre = imsize // 2\n",
    "k_centre = gcf_size // 2\n",
    "kxy = numpy.arange(-support, support + 1) * oversample\n",
    "kxy_x, kxy_y = numpy.meshgrid(kxy, kxy)\n",
    "grid = numpy.zeros((imsize, imsize), dtype='c16')\n",
    "g_sum = 0.0\n",
    "\n",
    "# Loop over visibility data points.\n",
    "for i in range(0, amp.shape[0]):\n",
    "    # uu, vv coordinates scaled to grid space.\n",
    "    x = -uvw[0, i] / cell_size_uv\n",
    "    y = uvw[1, i] / cell_size_uv\n",
    "    \n",
    "    # Closest grid cell.\n",
    "    xg = int(round(x))\n",
    "    yg = int(round(y))\n",
    "    \n",
    "    # Grid matrix index\n",
    "    ix = xg + g_centre\n",
    "    iy = yg + g_centre\n",
    "    \n",
    "    # Check the point is inside the grid.\n",
    "    if ix + support >= imsize or ix - support < 0:\n",
    "        continue\n",
    "    if iy + support >= imsize or iy - support < 0:\n",
    "        continue\n",
    "    \n",
    "    # Scaled distance from nearest grid point\n",
    "    x_offset = xg - x\n",
    "    y_offset = yg - y\n",
    "    \n",
    "    # gcf offset\n",
    "    x_delta = x_offset * oversample\n",
    "    y_delta = y_offset * oversample\n",
    "    ikx = int(round(x_delta)) + k_centre\n",
    "    iky = int(round(y_delta)) + k_centre\n",
    "\n",
    "    # Convolve visibility point onto the grid.\n",
    "    k = gcf_2d[kxy_y + iky, kxy_x + ikx]\n",
    "    grid[iy-support:iy+support+1, ix-support:ix+support+1] += k * amp[i] \n",
    "\n",
    "    g_sum += numpy.sum(k)\n",
    "\n",
    "# Normalise grid.\n",
    "grid /= g_sum    \n",
    "  \n",
    "plt.close('grid')\n",
    "fig = plt.figure('grid', figsize=(10, 8))\n",
    "ax = fig.add_subplot(111, aspect='equal')\n",
    "im = ax.imshow(grid.real, interpolation='nearest')\n",
    "plt.colorbar(im)\n",
    "ax.grid(True)"
   ]
  },
  {
   "cell_type": "markdown",
   "metadata": {},
   "source": [
    "### 4. Grid -> image"
   ]
  },
  {
   "cell_type": "code",
   "execution_count": null,
   "metadata": {
    "collapsed": false
   },
   "outputs": [],
   "source": [
    "image = numpy.copy(grid)\n",
    "image[::2, :] *= -1\n",
    "image[:, ::2] *= -1\n",
    "image = numpy.fft.fft2(image)\n",
    "image[::2, :] *= -1\n",
    "image[:, ::2] *= -1\n",
    "\n",
    "plt.close('image')\n",
    "fig = plt.figure('image', figsize=(10, 8))\n",
    "ax = fig.add_subplot(111, aspect='equal')\n",
    "im = ax.imshow(image.real, interpolation='nearest', cmap='seismic')\n",
    "plt.colorbar(im)\n",
    "ax.grid(True)"
   ]
  },
  {
   "cell_type": "markdown",
   "metadata": {
    "collapsed": true
   },
   "source": [
    "### 5. Generate GCF correction (grid correction)\n",
    "- This currently has a comparison of a few different methods of attempting to do the correction."
   ]
  },
  {
   "cell_type": "code",
   "execution_count": null,
   "metadata": {
    "collapsed": false
   },
   "outputs": [],
   "source": [
    "image_theta = numpy.arange(0, imsize, dtype='f8') - imsize / 2.0\n",
    "image_theta /= imsize / 2.0\n",
    "image_theta *= math.pi\n",
    "\n",
    "correction_1d_analytical = numpy.empty(shape=(imsize), dtype='f8')\n",
    "correction_1d_analytical = numpy.exp(-(sigma**2 * image_theta**2) / 2.0)\n",
    "\n",
    "correction_1d_dft = numpy.empty(shape=(imsize), dtype='f8')\n",
    "# xinc = 1.0 / (support * 2 + 1)\n",
    "# xinc = 1.0 / oversample\n",
    "for i, l in enumerate(image_theta):\n",
    "    if l == 0.0:\n",
    "        correction_1d_dft[i] = 1.0\n",
    "    else:\n",
    "        correction_1d_dft[i] = 0.0\n",
    "        for j, k in enumerate(gcf_1d):\n",
    "            correction_1d_dft[i] += k * math.cos(gcf_u[j] * l)\n",
    "#         arg = xinc * l\n",
    "#         correction_1d_dft[i] *= math.sin(arg) / arg \n",
    "\n",
    "correction_1d_fft = numpy.zeros(shape=(imsize), dtype='f8')\n",
    "gcf_idx = numpy.arange(-support, support + 1) * oversample + (gcf_size // 2)\n",
    "correction_1d_fft[imsize//2-support:imsize//2+support+1] = gcf_1d[gcf_idx]\n",
    "correction_1d_fft = numpy.fft.fftshift(numpy.fft.fft(numpy.fft.fftshift(correction_1d_fft)))\n",
    "correction_1d_fft /= numpy.max(correction_1d_fft) \n",
    "\n",
    "plt.close('correction 1d')\n",
    "fig = plt.figure('correction 1d', figsize=(8, 5))\n",
    "ax = fig.add_subplot(111)\n",
    "image_l = numpy.arange(-imsize/2, imsize/2)\n",
    "#ax.step(image_l, correction_1d_dft, where='mid', c='b')\n",
    "ax.plot(image_l, correction_1d_dft, 'b-', label='DFT')\n",
    "#ax.step(image_l, correction_1d_analytical, where='mid', c='r')\n",
    "ax.plot(image_l, correction_1d_analytical, 'r--', label='Analytical')\n",
    "#ax.step(image_l, correction_1d_fft.real, where='mid', c='g')\n",
    "ax.plot(image_l, correction_1d_fft.real, 'g--', label='FFT')\n",
    "ax.set_xlim(-imsize/2, imsize/2)\n",
    "plt.legend(fontsize='small')\n",
    "ax.grid(True)\n",
    "\n",
    "plt.close('gcf 1d compare')\n",
    "fig = plt.figure('gcf 1d compare', figsize=(8, 5))\n",
    "ax = fig.add_subplot(111)\n",
    "ax.step(gcf_u, gcf_1d, where='mid', c='b')\n",
    "ax.plot(gcf_u, gcf_1d, 'b--')\n",
    "ax.grid(True)\n",
    "\n",
    "# Convert to 2-d\n",
    "# correction_1d = correction_1d_dft.real\n",
    "correction_1d = correction_1d_analytical\n",
    "# correction_1d = correction_1d_fft.real\n",
    "correction_2d = numpy.empty((imsize, imsize), dtype='f8')\n",
    "for i in range(0, imsize):\n",
    "    correction_2d[:, i] = correction_1d\n",
    "for j in range(0, imsize):\n",
    "    correction_2d[j, :] *= correction_1d\n",
    "    \n",
    "correction_2d = 1. / correction_2d\n",
    "correction_2d[numpy.abs(correction_2d) > 1.0e5] = numpy.nan\n",
    "    \n",
    "plt.close('correction 2d')\n",
    "fig = plt.figure('correction 2d', figsize=(10, 8))\n",
    "ax = fig.add_subplot(111, aspect='equal')\n",
    "im = ax.imshow(correction_2d, interpolation='nearest')\n",
    "plt.colorbar(im)\n",
    "ax.grid(True)"
   ]
  },
  {
   "cell_type": "markdown",
   "metadata": {},
   "source": [
    "### 6. Correct image for GCF and plot corrected image.\n",
    "- Compare DFT and using analytical form of correction functions"
   ]
  },
  {
   "cell_type": "code",
   "execution_count": null,
   "metadata": {
    "collapsed": false
   },
   "outputs": [],
   "source": [
    "# Convert to 2-d\n",
    "corrected_image = image.real * correction_2d\n",
    "    \n",
    "plt.close('corrected image')\n",
    "fig = plt.figure('corrected image', figsize=(10, 8))\n",
    "ax = fig.add_subplot(111, aspect='equal')\n",
    "im = ax.imshow(corrected_image, interpolation='nearest', cmap='seismic')\n",
    "plt.colorbar(im)\n",
    "ax.grid(True)"
   ]
  },
  {
   "cell_type": "markdown",
   "metadata": {},
   "source": [
    "### 6. Load Reference CASA image"
   ]
  },
  {
   "cell_type": "code",
   "execution_count": null,
   "metadata": {
    "collapsed": false
   },
   "outputs": [],
   "source": [
    "fits_file = os.path.join(vis_path, 'test_vla_dirty_0%04i_w000.fits' % imsize)\n",
    "casa_image = numpy.squeeze(pyfits.getdata(fits_file))\n",
    "plt.close('casa image')\n",
    "fig = plt.figure('casa image', figsize=(10, 8))\n",
    "ax = fig.add_subplot(111, aspect='equal')\n",
    "im = ax.imshow(casa_image, interpolation='nearest', cmap='seismic')\n",
    "plt.colorbar(im)\n",
    "ax.grid(True)"
   ]
  },
  {
   "cell_type": "code",
   "execution_count": null,
   "metadata": {
    "collapsed": false
   },
   "outputs": [],
   "source": [
    "diff = casa_image - corrected_image.real\n",
    "# diff = casa_image - image.real\n",
    "\n",
    "plt.close('diff image')\n",
    "fig = plt.figure('diff image', figsize=(10, 8))\n",
    "ax = fig.add_subplot(111, aspect='equal')\n",
    "im = ax.imshow(diff, interpolation='nearest', cmap='seismic')\n",
    "ax.set_title('Difference to CASA image.')\n",
    "plt.colorbar(im)\n",
    "ax.grid(True)\n",
    "\n",
    "# plt.close('diff slice')\n",
    "# fig = plt.figure('diff slice', figsize=(8, 8))\n",
    "# ax = fig.add_subplot(111)\n",
    "# ax.plot(diff.max(axis=0))\n",
    "# ax.set_xlim([0, diff.shape[0]])\n",
    "# ax.grid(True)\n",
    "\n"
   ]
  }
 ],
 "metadata": {
  "kernelspec": {
   "display_name": "Python 3",
   "language": "python",
   "name": "python3"
  },
  "language_info": {
   "codemirror_mode": {
    "name": "ipython",
    "version": 3
   },
   "file_extension": ".py",
   "mimetype": "text/x-python",
   "name": "python",
   "nbconvert_exporter": "python",
   "pygments_lexer": "ipython3",
   "version": "3.5.1"
  }
 },
 "nbformat": 4,
 "nbformat_minor": 0
}
