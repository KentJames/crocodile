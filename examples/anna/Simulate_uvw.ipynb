{
 "cells": [
  {
   "cell_type": "markdown",
   "metadata": {},
   "source": [
    "# iPython notebook for simulating visibility dataset  (by Anna Scaife)"
   ]
  },
  {
   "cell_type": "markdown",
   "metadata": {},
   "source": [
    "This notebook uses code snippets from the crocodile python examples (https://github.com/SKA-ScienceDataProcessor/crocodile) to calculate the visibility data for a snapshot (i.e. single time sample) observation of a target field containing one point source. \n",
    "\n",
    "To run the script you will need:\n",
    " - ipython\n",
    " - numpy\n",
    " - pylab\n",
    " - VLA_A_hor_xyz.txt\n",
    " \n",
    "The first three of these can be easily obtained using pip. \n",
    "\n",
    "To get pip: \n",
    "\n",
    "> apt-get install python-pip\n",
    "\n",
    "To install each library:\n",
    "\n",
    ">pip install numpy\n",
    "\n",
    "etc.\n",
    "\n",
    "The fourth is a text file supplied with this notebook. This script assumes it is in the working directory. "
   ]
  },
  {
   "cell_type": "code",
   "execution_count": null,
   "metadata": {
    "collapsed": true
   },
   "outputs": [],
   "source": [
    "%matplotlib inline"
   ]
  },
  {
   "cell_type": "code",
   "execution_count": null,
   "metadata": {
    "collapsed": true
   },
   "outputs": [],
   "source": [
    "from __future__ import print_function\n",
    "import numpy \n",
    "import matplotlib.pyplot as pl\n",
    "import os\n",
    "from arl.parameters import crocodile_path"
   ]
  },
  {
   "cell_type": "markdown",
   "metadata": {},
   "source": [
    "The first thing we need to do is take the layout of our interferometer and convert it from Earth co-ordinates to UVW-coordinates, which are defined in the direction of our observation target. First, get the antenna positions:"
   ]
  },
  {
   "cell_type": "code",
   "execution_count": null,
   "metadata": {
    "collapsed": false
   },
   "outputs": [],
   "source": [
    "ants_xyz=numpy.genfromtxt(crocodile_path(\"data/vis/VLA_A_hor_xyz.txt\"), delimiter=\",\")\n",
    "print(\"Number of antennas in array:\",ants_xyz.shape[0])"
   ]
  },
  {
   "cell_type": "code",
   "execution_count": null,
   "metadata": {
    "collapsed": false
   },
   "outputs": [],
   "source": [
    "pl.scatter(ants_xyz[:,0],ants_xyz[:,1])\n",
    "pl.title(\"Antenna positions\")\n",
    "pl.xlabel(r\"x [m]\")\n",
    "pl.ylabel(r\"y [m]\");"
   ]
  },
  {
   "cell_type": "markdown",
   "metadata": {},
   "source": [
    "Then get the position of the target. This is given in Hour Angle and Declination:"
   ]
  },
  {
   "cell_type": "code",
   "execution_count": null,
   "metadata": {
    "collapsed": true
   },
   "outputs": [],
   "source": [
    "ha = 0.0; dec = numpy.pi/4.  # Units are Radians"
   ]
  },
  {
   "cell_type": "markdown",
   "metadata": {},
   "source": [
    "With these inputs we can then calculate the UVW co-ordinates of the antennas:"
   ]
  },
  {
   "cell_type": "code",
   "execution_count": null,
   "metadata": {
    "collapsed": false
   },
   "outputs": [],
   "source": [
    "x,y,z=numpy.hsplit(ants_xyz,3)\n",
    "\n",
    "t=x*numpy.cos(ha) - y*numpy.sin(ha)\n",
    "u=x*numpy.sin(ha) + y*numpy.cos(ha)\n",
    "v=-1.*t*numpy.sin(dec)+ z*numpy.cos(dec)\n",
    "w=t*numpy.cos(dec)+ z*numpy.sin(dec)\n",
    "\n",
    "ants_uvw = numpy.hstack([u,v,w])\n",
    "print(ants_uvw)"
   ]
  },
  {
   "cell_type": "markdown",
   "metadata": {},
   "source": [
    "(If we wanted a longer observation - more than a single snapshot - we would need to provide an array of Hour Angles and concatenate the baseline distributions for each HA increment. Declination remains fixed.)"
   ]
  },
  {
   "cell_type": "markdown",
   "metadata": {},
   "source": [
    "From the positions of our antennas in UVW co-ordinates, we then can calculate the baseline distribution:"
   ]
  },
  {
   "cell_type": "code",
   "execution_count": null,
   "metadata": {
    "collapsed": false
   },
   "outputs": [],
   "source": [
    "res=[]\n",
    "for i in range(ants_uvw.shape[0]):\n",
    "    for j in range(i+1, ants_uvw.shape[0]):\n",
    "        res.append(ants_uvw[j]-ants_uvw[i])\n",
    "\n",
    "basel_uvw = numpy.array(res)\n",
    "print(\"Number of baselines in array:\", basel_uvw.shape[0])"
   ]
  },
  {
   "cell_type": "markdown",
   "metadata": {},
   "source": [
    "We can plot this distribution:"
   ]
  },
  {
   "cell_type": "code",
   "execution_count": null,
   "metadata": {
    "collapsed": false
   },
   "outputs": [],
   "source": [
    "pl.subplot(111)\n",
    "pl.scatter(basel_uvw[:,0],basel_uvw[:,1],c='b')\n",
    "pl.title(\"Baseline distribution\")\n",
    "pl.xlabel(r\"U [$\\lambda$]\")\n",
    "pl.ylabel(r\"V [$\\lambda$]\")\n",
    "pl.show()"
   ]
  },
  {
   "cell_type": "markdown",
   "metadata": {},
   "source": [
    "Note that we only have approximately half a plane of UVW points. Because the sky intensity will always be positive definite, we can infact mirror these samples using conjugate symmetry such that $$V(-{\\mathbf u}) = V^{\\ast}({\\mathbf u}).$$ \n",
    "\n",
    "This means that our sampling actually looks like:"
   ]
  },
  {
   "cell_type": "code",
   "execution_count": null,
   "metadata": {
    "collapsed": false
   },
   "outputs": [],
   "source": [
    "pl.subplot(111)\n",
    "pl.scatter(basel_uvw[:,0],basel_uvw[:,1],c='r')\n",
    "pl.scatter(-1.*basel_uvw[:,0],-1.*basel_uvw[:,1],c='r')\n",
    "pl.title(\"Mirrored Baseline distribution\")\n",
    "pl.xlabel(r\"U [$\\lambda$]\")\n",
    "pl.ylabel(r\"V [$\\lambda$]\")\n",
    "pl.show()"
   ]
  },
  {
   "cell_type": "markdown",
   "metadata": {},
   "source": [
    "At the moment our target field is empty, i.e. we have zero signal. We can put a point source into our target field by defining it at a position relative to the target field centre $s_0 = (0,0,1)$. We define this position in terms of direction cosines $${\\mathbf x_0} = (l, m, n),$$ and give our source an amplitude of $$S_0.$$"
   ]
  },
  {
   "cell_type": "code",
   "execution_count": null,
   "metadata": {
    "collapsed": false
   },
   "outputs": [],
   "source": [
    "l = 0.0005; m = 0.0000    # Units are Radians\n",
    "src_pos=numpy.array([l, m , numpy.sqrt(1 - l**2 - m**2)-1])\n",
    "src_amp = 100.0"
   ]
  },
  {
   "cell_type": "markdown",
   "metadata": {},
   "source": [
    "The response of our interferometer to this source is given by \n",
    "$$V(\\mathbf{u}) = \\int{ S_0\\, \\delta({\\mathbf x}-{\\mathbf x_0})\\,e^{-2i\\pi\\, {\\mathbf u}\\cdot ({\\mathbf x} - s_0)}\\, {\\rm d}{\\mathbf x}}$$\n",
    "\n",
    "Note that we also rotate the visibility so it is relative to the phase centre $s_0$. `src_pos` is already corrected for this - note the \"`-1`\" above."
   ]
  },
  {
   "cell_type": "code",
   "execution_count": null,
   "metadata": {
    "collapsed": false
   },
   "outputs": [],
   "source": [
    "vis = src_amp*numpy.exp(-2j*numpy.pi* numpy.dot(basel_uvw[:,0:3], src_pos[0:3]))"
   ]
  },
  {
   "cell_type": "markdown",
   "metadata": {},
   "source": [
    "We can easily add additional sources just by repeating and summing up the visibilities:"
   ]
  },
  {
   "cell_type": "code",
   "execution_count": null,
   "metadata": {
    "collapsed": false
   },
   "outputs": [],
   "source": [
    "def add_source(l, m, src_amp):\n",
    "    src_pos=numpy.array([l, m , numpy.sqrt(1 - l**2 - m**2)-1])\n",
    "    return src_amp*numpy.exp(-2j*numpy.pi* numpy.dot(basel_uvw[:,0:3], src_pos[0:3])) \n",
    "vis += add_source(0.0000,0.0000,100)\n",
    "vis += add_source(0.0015,0.0000,100)"
   ]
  },
  {
   "cell_type": "markdown",
   "metadata": {},
   "source": [
    "These are continuous complex visibilities. They are currently noiseless.\n",
    "\n",
    "We can write out these data:"
   ]
  },
  {
   "cell_type": "code",
   "execution_count": null,
   "metadata": {
    "collapsed": false
   },
   "outputs": [],
   "source": [
    "print(vis)\n",
    "u = basel_uvw[:,0]\n",
    "v = basel_uvw[:,1]\n",
    "w = basel_uvw[:,2]\n",
    "vis_re = vis.real\n",
    "vis_im = vis.imag\n",
    "numpy.savetxt('simulated_data.txt',numpy.column_stack((u,v,w,vis_re,vis_im)),newline='\\n',fmt='%1.4e')"
   ]
  },
  {
   "cell_type": "markdown",
   "metadata": {},
   "source": [
    "Done!"
   ]
  },
  {
   "cell_type": "code",
   "execution_count": null,
   "metadata": {
    "collapsed": true
   },
   "outputs": [],
   "source": [
    ""
   ]
  }
 ],
 "metadata": {
  "kernelspec": {
   "display_name": "Python 3",
   "language": "python",
   "name": "python3"
  },
  "language_info": {
   "codemirror_mode": {
    "name": "ipython",
    "version": 3.0
   },
   "file_extension": ".py",
   "mimetype": "text/x-python",
   "name": "python",
   "nbconvert_exporter": "python",
   "pygments_lexer": "ipython3",
   "version": "3.5.1"
  }
 },
 "nbformat": 4,
 "nbformat_minor": 0
}