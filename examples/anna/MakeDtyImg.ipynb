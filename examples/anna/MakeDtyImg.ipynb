{
 "cells": [
  {
   "cell_type": "markdown",
   "metadata": {},
   "source": [
    "# Make dirty image (by Anna Scaife)\n",
    "\n",
    "This notebook uses code snippets from the crocodile python examples (https://github.com/SKA-ScienceDataProcessor/crocodile) to perform w-projection convolutional gridding of a set of continuous visibilities, followed by a Fourier Transform the grid to form a Dirty Image.\n",
    "\n",
    "To run the script you will need:\n",
    " - ipython\n",
    " - numpy\n",
    " - pylab\n",
    " - simulated_data.txt (or any other set of visibility data stored as a text file with columns (u, v, w, real(V), imag(V)).\n",
    " \n",
    "The first three of these can be easily obtained using pip. \n",
    "\n",
    "To get pip: \n",
    "\n",
    "> apt-get install python-pip\n",
    "\n",
    "To install each library:\n",
    "\n",
    ">pip install numpy\n",
    "\n",
    "etc.\n",
    "\n",
    "The fourth is a text file created by Simulate_uvw.ipynb. This script assumes it is in the working directory. \n",
    "\n",
    "\n",
    "Set up python stuff..."
   ]
  },
  {
   "cell_type": "code",
   "execution_count": null,
   "metadata": {
    "collapsed": true
   },
   "outputs": [],
   "source": [
    "%matplotlib inline"
   ]
  },
  {
   "cell_type": "code",
   "execution_count": null,
   "metadata": {
    "collapsed": true
   },
   "outputs": [],
   "source": [
    "from __future__ import print_function\n",
    "import numpy\n",
    "import matplotlib.pyplot as pl\n",
    "pl.rcParams['figure.figsize'] = 16, 12"
   ]
  },
  {
   "cell_type": "markdown",
   "metadata": {},
   "source": [
    "First we're going to define some user-supplied parameters:\n",
    "\n",
    "1. The w-increment\n",
    "2. The kernel over-sampling factor\n",
    "3. The kernel support size\n",
    "4. The kernel far-field size "
   ]
  },
  {
   "cell_type": "code",
   "execution_count": null,
   "metadata": {
    "collapsed": true
   },
   "outputs": [],
   "source": [
    "wstep=2000\n",
    "over_sampling=4\n",
    "ff_size=256\n",
    "kernel_support=15"
   ]
  },
  {
   "cell_type": "markdown",
   "metadata": {},
   "source": [
    "Then we're going to get some visibility data. You can create these data using the Simulate_uvw.ipynb notebook."
   ]
  },
  {
   "cell_type": "code",
   "execution_count": null,
   "metadata": {
    "collapsed": false
   },
   "outputs": [],
   "source": [
    "u,v,w,vis_re,vis_im = numpy.loadtxt('./simulated_data.txt',unpack=True)\n",
    "vis = vis_re + 1j*vis_im\n",
    "uvw = numpy.column_stack((u,v,w))\n",
    "\n",
    "# conjugate symmetry\n",
    "tmp_uvw = uvw*numpy.array([-1.,-1.,1.])\n",
    "tmp_vis = vis_re - 1j*vis_im\n",
    "\n",
    "vis = numpy.hstack((vis,tmp_vis))\n",
    "uvw = numpy.vstack((uvw,tmp_uvw))\n",
    "\n",
    "pl.subplot(111)\n",
    "pl.scatter(uvw[:,0],uvw[:,1])\n",
    "pl.show()\n",
    "print(\"Range of w-values:\",numpy.amin(uvw[:,2]),\" - \",numpy.amax(uvw[:,2]),\" lambda\")"
   ]
  },
  {
   "cell_type": "markdown",
   "metadata": {},
   "source": [
    "Image parameters are defined in terms of the half-width of the FOV, T2, and the half-width of the uv-plane, L2, which is used as an approximation to the angular resolution. \n",
    "\n",
    "The number of pixels on the side of an image is \n",
    "\n",
    "$$N_{\\rm pix} = \\frac{\\Theta_{\\rm FOV}} {\\theta_{\\rm res}}.$$\n",
    "\n",
    "Therefore the number of pixels along a side is given by \n",
    "\n",
    "$$N_{\\rm pix} = 2 T_{1/2}\\times 2 L_{1/2}.$$"
   ]
  },
  {
   "cell_type": "code",
   "execution_count": null,
   "metadata": {
    "collapsed": false
   },
   "outputs": [],
   "source": [
    "T2 = 0.001  # half-width of FOV [radians]\n",
    "L2 = 40000 # half-width of uv-plane [lambda]\n",
    "N = int(T2*L2*4) # number of pixels \n",
    "print(\"Making grids of side: \",N,\" pixels.\")"
   ]
  },
  {
   "cell_type": "markdown",
   "metadata": {},
   "source": [
    "Create an empty grid to grid visibilities onto, as well as a grid for weights to make the synthesized beam:"
   ]
  },
  {
   "cell_type": "code",
   "execution_count": null,
   "metadata": {
    "collapsed": true
   },
   "outputs": [],
   "source": [
    "grid_uv=numpy.zeros([N, N], dtype=complex)\n",
    "grid_wt=numpy.zeros([N, N], dtype=complex)"
   ]
  },
  {
   "cell_type": "markdown",
   "metadata": {},
   "source": [
    "Sort the uvw and visibility data by w:"
   ]
  },
  {
   "cell_type": "code",
   "execution_count": null,
   "metadata": {
    "collapsed": false,
    "scrolled": true
   },
   "outputs": [],
   "source": [
    "temp=uvw\n",
    "zs=numpy.argsort(uvw[:,2])\n",
    "uvw = uvw[zs]\n",
    "vis = vis[zs]\n",
    "\n",
    "pl.subplot(121)\n",
    "pl.plot(temp[:,2])\n",
    "pl.title(\"Before\")\n",
    "pl.subplot(122)\n",
    "pl.plot(uvw[:,2])\n",
    "pl.title(\"After\")\n",
    "pl.show()"
   ]
  },
  {
   "cell_type": "markdown",
   "metadata": {},
   "source": [
    "Then create an array of w-planes spanning the range of w -values in the data:"
   ]
  },
  {
   "cell_type": "code",
   "execution_count": null,
   "metadata": {
    "collapsed": false
   },
   "outputs": [],
   "source": [
    "ii=range(0, len(vis), wstep) # Bojan, is this what you mean here? Every 2000 entries or every 2000 lambda..?"
   ]
  },
  {
   "cell_type": "markdown",
   "metadata": {},
   "source": [
    "Create a list of boundaries in w-value for each plane:"
   ]
  },
  {
   "cell_type": "code",
   "execution_count": null,
   "metadata": {
    "collapsed": false
   },
   "outputs": [],
   "source": [
    "ir=list(zip(ii[:-1], ii[1:])) + [(ii[-1], len(vis))]"
   ]
  },
  {
   "cell_type": "markdown",
   "metadata": {},
   "source": [
    "Each set of limits constitutes a w-plane. With the limits:"
   ]
  },
  {
   "cell_type": "code",
   "execution_count": null,
   "metadata": {
    "collapsed": false
   },
   "outputs": [],
   "source": [
    "ilow,ihigh=ir[0]"
   ]
  },
  {
   "cell_type": "markdown",
   "metadata": {},
   "source": [
    "For each plane we need to calculate the mean w-value in the uvw-data:"
   ]
  },
  {
   "cell_type": "code",
   "execution_count": null,
   "metadata": {
    "collapsed": true
   },
   "outputs": [],
   "source": [
    "w=uvw[ilow:ihigh,2].mean()"
   ]
  },
  {
   "cell_type": "markdown",
   "metadata": {},
   "source": [
    "We then need to caluclate the w-kernel for this w-value. First we create a grid for the kernel with values\n",
    "\n",
    "$$r^2 = \\ell^2 + m^2$$"
   ]
  },
  {
   "cell_type": "code",
   "execution_count": null,
   "metadata": {
    "collapsed": true
   },
   "outputs": [],
   "source": [
    "ff = T2*numpy.mgrid[-1:(1.0*(ff_size-2)/ff_size):(ff_size*1j),-1:(1.0*(ff_size-2)/ff_size):(ff_size*1j)]\n",
    "r2 = (ff**2).sum(axis=0)"
   ]
  },
  {
   "cell_type": "markdown",
   "metadata": {},
   "source": [
    "Then calculate the value of the kernel at each point, \n",
    "\n",
    "$$G(\\ell,m,w) = {\\rm e}^{-2\\pi i  \\left[w( \\sqrt{1-\\ell^2-m^2} - 1 )\\right] } $$\n",
    "\n",
    "(Eq. 11; Cornwell+ 2008 http://arxiv.org/pdf/0807.4161v1.pdf )"
   ]
  },
  {
   "cell_type": "code",
   "execution_count": null,
   "metadata": {
    "collapsed": false
   },
   "outputs": [],
   "source": [
    "ph=w*(1.-numpy.sqrt(1.-r2)) \n",
    "cp=(numpy.exp(2j*numpy.pi*ph))\n",
    "\n",
    "pl.subplot(121)\n",
    "pl.imshow(cp.real)\n",
    "pl.title(r\"$G(\\ell,m,w)$: Real\")\n",
    "pl.subplot(122)\n",
    "pl.imshow(cp.imag)\n",
    "pl.title(r\"$G(\\ell,m,w)$: Imag\")\n",
    "pl.show()"
   ]
  },
  {
   "cell_type": "markdown",
   "metadata": {},
   "source": [
    "We need to pad this and FFT it in order to over-sample it in uvw-space to obtain the kernel:\n",
    "\n",
    "$$ \\tilde{G}(u,v,w) = \\frac{i}{w}{\\rm e}^{ \\pi i \\left[ \\frac{u^2 +v^2}{w} \\right] } $$\n",
    "\n",
    "(Eq. 14; Cornwell+ 2008 http://arxiv.org/pdf/0807.4161v1.pdf )\n"
   ]
  },
  {
   "cell_type": "code",
   "execution_count": null,
   "metadata": {
    "collapsed": false
   },
   "outputs": [],
   "source": [
    "padff=numpy.pad(cp, \n",
    "    pad_width=(int(ff_size*(over_sampling-1.)/2.),),\n",
    "    mode='constant',\n",
    "    constant_values=(0.0,))\n",
    "af=numpy.fft.fftshift(numpy.fft.ifft2(numpy.fft.ifftshift(padff)))\n",
    "\n",
    "pl.subplot(121)\n",
    "pl.imshow(af.real)\n",
    "pl.title(r\"$G(u,v,w)$: Real\")\n",
    "pl.subplot(122)\n",
    "pl.imshow(af.imag)\n",
    "pl.title(r\"$G(u,v,w)$: Imag\")\n",
    "pl.show()"
   ]
  },
  {
   "cell_type": "markdown",
   "metadata": {},
   "source": [
    "Then just extract the central region with size equal to the kernel support. I've added a couple of options for this: (1) from crocodile; (2) adapted from ASKAPsoft."
   ]
  },
  {
   "cell_type": "code",
   "execution_count": null,
   "metadata": {
    "collapsed": false
   },
   "outputs": [],
   "source": [
    "def exmid2(a, s):\n",
    "    \"\"\"Extract a section from middle of a map, suitable for zero frequencies at N/2\"\"\"\n",
    "    cx=a.shape[0]/2\n",
    "    cy=a.shape[1]/2\n",
    "    return a[cx-s-1:cx+s, cy-s-1:cy+s]\n",
    "\n",
    "# works in the opposite sense to ASKAPsoft, which calculates an under-sampled kernel and \n",
    "# interpolates.\n",
    "def wextract(a, i, j, Qpx, s):\n",
    "    \"\"\"Extract the (ith,jth) w-kernel from the oversampled parent and normalise\n",
    "    The kernel is reversed in order to make the suitable for\n",
    "    correcting the fractional coordinates\n",
    "    \"\"\"\n",
    "    x=a[i::Qpx, j::Qpx] # decimate the kernel\n",
    "    x=x[::-1,::-1] # reverse the kernel\n",
    "    x*=1.0/x.sum() # normalise the kernel\n",
    "    \n",
    "    return exmid2(x,s)\n",
    "\n",
    "\n",
    "def askapsoft_decimate_n_extract(af, over_sampling, kernel_support):\n",
    "    \n",
    "    \"\"\"\n",
    "    Extracted and translated from\n",
    "    AWProjectVisGridder.cc\n",
    "    \"\"\"\n",
    "    \n",
    "    # why is this normalization required..?\n",
    "    rescale = over_sampling*over_sampling\n",
    "            \n",
    "    cSize = 2 * kernel_support + 1\n",
    "    itsConvFunc=numpy.zeros((over_sampling, over_sampling, cSize, cSize), dtype=complex)\n",
    "            \n",
    "    for fracu in range(0,over_sampling):\n",
    "        for fracv in range(0,over_sampling):\n",
    "            \n",
    "            # Now cut out the inner part of the convolution function and\n",
    "            # insert it into the convolution function\n",
    "            for iy in range(-kernel_support,kernel_support+1):\n",
    "                for ix in range(-kernel_support,kernel_support+1):\n",
    "                    \n",
    "                    nx = af.shape[0]\n",
    "                    ny = af.shape[1]\n",
    "                    \n",
    "                    # assumes support is the same for all w-planes:\n",
    "                    xval = (ix) * over_sampling + fracu + nx / 2\n",
    "                    yval = (iy) * over_sampling + fracv + ny / 2\n",
    "                    \n",
    "                    itsConvFunc[fracu, fracv, ix+cSize/2, iy+cSize/2] \\\n",
    "                            = rescale * af[xval, yval]\n",
    "                        \n",
    "    return itsConvFunc\n",
    "\n",
    "# --------------------------\n",
    "# --------------------------\n",
    "# Option (1):\n",
    "wg=[[wextract(af, i, j, over_sampling, kernel_support) for i in range(over_sampling)] for j in range(over_sampling)]\n",
    "# Convert list to numpy array:\n",
    "wg = numpy.array(wg)\n",
    "# --------------------------\n",
    "# Option (2):\n",
    "#wg = askapsoft_decimate_n_extract(af, over_sampling, kernel_support)\n",
    "# --------------------------\n",
    "\n",
    "\n",
    "for fracu in range(0,over_sampling):\n",
    "    pl.subplot(121)\n",
    "    pl.imshow(wg[fracu,0,:,:].real)\n",
    "    pl.title(r\"$G(u,v,w)$: Real\")\n",
    "    pl.subplot(122)\n",
    "    pl.imshow(wg[fracu,0,:,:].imag)\n",
    "    pl.title(r\"$G(u,v,w)$: Imag\")\n",
    "    pl.show()\n"
   ]
  },
  {
   "cell_type": "markdown",
   "metadata": {},
   "source": [
    "Take the complex conjugate,"
   ]
  },
  {
   "cell_type": "code",
   "execution_count": null,
   "metadata": {
    "collapsed": false,
    "scrolled": true
   },
   "outputs": [],
   "source": [
    "wg = numpy.conj(wg)\n",
    "\n",
    "pl.subplot(121)\n",
    "pl.imshow(wg[0,0,:,:].real)\n",
    "pl.title(r\"$G^{\\ast}(u,v,w)$: Real\")\n",
    "pl.subplot(122)\n",
    "pl.imshow(wg[0,0,:,:].imag)\n",
    "pl.title(r\"$G^{\\ast}(u,v,w)$: Imag\")\n",
    "pl.show()"
   ]
  },
  {
   "cell_type": "markdown",
   "metadata": {},
   "source": [
    "Now we have our convolution kernel, we need to find out where we should grid our visibility data."
   ]
  },
  {
   "cell_type": "code",
   "execution_count": null,
   "metadata": {
    "collapsed": false
   },
   "outputs": [],
   "source": [
    "def fraccoord(N, p, Qpx):\n",
    "    \"\"\"Compute whole and fractional parts of coordinates, rounded to Qpx-th fraction of pixel size\n",
    "    :param N: Number of pixels in total \n",
    "    :param p: coordinates in range -1,1\n",
    "    :param Qpx: Fractional values to round to\n",
    "    \"\"\"\n",
    "    H=N/2\n",
    "    x=(1+p)*H\n",
    "    flx=numpy.floor(x + 0.5 /Qpx)\n",
    "    fracx=numpy.around(((x-flx)*Qpx))    \n",
    "    return (flx).astype(int), fracx.astype(int)\n",
    "\n",
    "uvw_sub = uvw[ilow:ihigh,:]/L2 # extract subarray for w-slice\n",
    "(x, xf), (y, yf) = [fraccoord(grid_uv.shape[i], uvw_sub[:,i], over_sampling) for i in [0,1]]"
   ]
  },
  {
   "cell_type": "markdown",
   "metadata": {},
   "source": [
    "Then we can convolve the data onto the grid:"
   ]
  },
  {
   "cell_type": "code",
   "execution_count": null,
   "metadata": {
    "collapsed": false
   },
   "outputs": [],
   "source": [
    "def convgridone(a, pi, fi, gcf, v):\n",
    "    \"\"\"Convolve and grid one visibility sample\"\"\"\n",
    "    sx, sy= gcf[0][0].shape[0]//2, gcf[0][0].shape[1]//2\n",
    "    \n",
    "    # NB the order of fi below \n",
    "    a[ int(pi[0])-sx: int(pi[0])+sx+1,\n",
    "       int(pi[1])-sy: int(pi[1])+sy+1 ] += gcf[fi[1],fi[0]]*v  \n",
    "    return a\n",
    "\n",
    "def gridone(a,p,v):\n",
    "    \"\"\"grid one visibility without convolution\"\"\"\n",
    "    \n",
    "    a[p[0],p[1]] += v\n",
    "    \n",
    "    return a\n",
    "\n",
    "vis_sub = vis[ilow:ihigh]\n",
    "for i in range(len(x)):\n",
    "#    gridone(grid_uv, (x[i],y[i]), vis_sub[i])\n",
    "    convgridone(grid_uv,(x[i], y[i]), (xf[i], yf[i]), wg, vis_sub[i])\n",
    "    convgridone(grid_wt,(x[i], y[i]), (xf[i], yf[i]), wg, 1.0+0j)\n",
    "    \n",
    "pl.subplot(121)\n",
    "pl.imshow(grid_uv.real)\n",
    "pl.title(\"UV Grid: Real\")\n",
    "pl.subplot(122)\n",
    "pl.imshow(grid_uv.imag)\n",
    "pl.title(\"UV Grid: Imag\")\n",
    "pl.show()"
   ]
  },
  {
   "cell_type": "markdown",
   "metadata": {},
   "source": [
    "Let's FT this grid to check it gives a sensible map..."
   ]
  },
  {
   "cell_type": "code",
   "execution_count": null,
   "metadata": {
    "collapsed": false
   },
   "outputs": [],
   "source": [
    "dty_image=numpy.fft.fftshift(numpy.fft.ifft2(numpy.fft.ifftshift(grid_uv)))\n",
    "psf_image=numpy.fft.fftshift(numpy.fft.ifft2(numpy.fft.ifftshift(grid_wt)))\n",
    "\n",
    "pl.subplot(121)\n",
    "pl.imshow(dty_image.real)\n",
    "pl.title(\"Dirty Image\")\n",
    "pl.subplot(122)\n",
    "pl.imshow(psf_image.real)\n",
    "pl.title(\"PSF Image\")\n",
    "pl.show()"
   ]
  },
  {
   "cell_type": "markdown",
   "metadata": {},
   "source": [
    "Done!"
   ]
  }
 ],
 "metadata": {
  "kernelspec": {
   "display_name": "Python 3",
   "language": "python",
   "name": "python3"
  },
  "language_info": {
   "codemirror_mode": {
    "name": "ipython",
    "version": 3
   },
   "file_extension": ".py",
   "mimetype": "text/x-python",
   "name": "python",
   "nbconvert_exporter": "python",
   "pygments_lexer": "ipython3",
   "version": "3.5.1"
  }
 },
 "nbformat": 4,
 "nbformat_minor": 0
}
