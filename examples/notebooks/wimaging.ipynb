{
 "cells": [
  {
   "cell_type": "markdown",
   "metadata": {},
   "source": [
    "# Illustration of w-imaging"
   ]
  },
  {
   "cell_type": "code",
   "execution_count": null,
   "metadata": {
    "collapsed": false
   },
   "outputs": [],
   "source": [
    "%matplotlib inline\n",
    "from matplotlib import pylab\n",
    "\n",
    "pylab.rcParams['figure.figsize'] = 16, 12\n",
    "\n",
    "import sys\n",
    "sys.path.append('../..')\n",
    "\n",
    "import numpy\n",
    "import scipy\n",
    "import scipy.special\n",
    "\n",
    "from crocodile.clean import *\n",
    "from crocodile.synthesis import *\n",
    "from crocodile.simulate import *\n",
    "from util.visualize import *\n",
    "\n"
   ]
  },
  {
   "cell_type": "markdown",
   "metadata": {},
   "source": [
    "Generate baseline coordinates for an observation with the VLA over 6 hours, with a visibility recorded every 10 minutes. The phase center is fixed at a declination of 45 degrees. We assume that the imaged sky says at that position over the course of the observation.\n",
    "\n",
    "Note how this gives rise to fairly large $w$-values."
   ]
  },
  {
   "cell_type": "code",
   "execution_count": null,
   "metadata": {
    "collapsed": false
   },
   "outputs": [],
   "source": [
    "vlas = numpy.genfromtxt(\"../../data/vis/VLA_A_hor_xyz.txt\", delimiter=\",\")\n",
    "ha_range = numpy.arange(numpy.radians(0),\n",
    "                        numpy.radians(90),\n",
    "                        numpy.radians(90 / 36))\n",
    "dec = numpy.radians(45)\n",
    "vobs = xyz_to_baselines(vlas, ha_range, dec)\n",
    "\n",
    "# Wavelength: 5 metres \n",
    "wvl=5\n",
    "uvw = vobs / wvl\n",
    "\n",
    "from mpl_toolkits.mplot3d import Axes3D\n",
    "import matplotlib.pyplot as plt\n",
    "ax = plt.figure().add_subplot(121, projection='3d')\n",
    "ax.scatter(uvw[:,0], uvw[:,1], uvw[:,2])\n",
    "ax.set_xlabel('U [$\\lambda$]')\n",
    "ax.set_ylabel('V [$\\lambda$]')\n",
    "ax.set_zlabel('W [$\\lambda$]')\n",
    "ax.view_init(20, 20)\n",
    "pylab.show()"
   ]
  },
  {
   "cell_type": "markdown",
   "metadata": {},
   "source": [
    "We can now generate visibilities for these baselines by simulation. We place three sources."
   ]
  },
  {
   "cell_type": "code",
   "execution_count": null,
   "metadata": {
    "collapsed": false
   },
   "outputs": [],
   "source": [
    "vis = 1.0*simulate_point(uvw, 0.000, 0.000)\n",
    "vis += 0.5*simulate_point(uvw, 0.02, 0.03)\n",
    "vis += 0.8*simulate_point(uvw, 0.04, 0.00)\n",
    "plt.clf()\n",
    "uvdist=numpy.sqrt(uvw[:,0]**2+uvw[:,1]**2)\n",
    "plt.plot(uvdist, numpy.abs(vis), '.', color='r')"
   ]
  },
  {
   "cell_type": "markdown",
   "metadata": {},
   "source": [
    "Using imaging, we can now reconstruct the image. The easiest option is to use simple imaging without a convolution function:"
   ]
  },
  {
   "cell_type": "code",
   "execution_count": null,
   "metadata": {
    "collapsed": false,
    "scrolled": true
   },
   "outputs": [],
   "source": [
    "theta = 2*0.05\n",
    "lam = 15000\n",
    "d,p=doimg(theta, lam, uvw, vis, simpleimg)\n",
    "show_image(d, \"image\", theta)"
   ]
  },
  {
   "cell_type": "markdown",
   "metadata": {},
   "source": [
    "Zooming in shows the source structure in detail"
   ]
  },
  {
   "cell_type": "code",
   "execution_count": null,
   "metadata": {
    "collapsed": false
   },
   "outputs": [],
   "source": [
    "step=200\n",
    "def zoom(x, y): pylab.matshow(d[y:y+2*step,x:x+2*step]) ; pylab.colorbar();  pylab.show()\n",
    "from ipywidgets import interact\n",
    "interact(zoom, x=(0,d.shape[0]-2*step,step), y=(0,d.shape[1]-2*step,step));"
   ]
  },
  {
   "cell_type": "markdown",
   "metadata": {},
   "source": [
    "If we use convolution kernels for $w$-reprojection, we can increase source brightness. First we make a cache to hold the convolution kernels."
   ]
  },
  {
   "cell_type": "code",
   "execution_count": null,
   "metadata": {
    "collapsed": false
   },
   "outputs": [],
   "source": [
    "wstep=1000\n",
    "wcachesize=int(numpy.ceil(numpy.abs(uvw[:,2]).max()/wstep))\n",
    "print(\"Making w-kernel cache of %d kernels\" % (wcachesize))\n",
    "wcache=pylru.FunctionCacheManager(lambda iw: wkernaf(N=256, theta=theta, w=iw*wstep, s=15, Qpx=4), 100)\n",
    "imgfn=lambda *x: wcacheimg(*x, wstep=wstep, wcache=wcache)"
   ]
  },
  {
   "cell_type": "code",
   "execution_count": null,
   "metadata": {
    "collapsed": false,
    "scrolled": false
   },
   "outputs": [],
   "source": [
    "print (int(theta*lam))\n",
    "d,p=doimg(theta, lam, uvw, vis, imgfn)\n",
    "show_image(d, \"image\", theta)"
   ]
  },
  {
   "cell_type": "code",
   "execution_count": null,
   "metadata": {
    "collapsed": false
   },
   "outputs": [],
   "source": [
    "step=200\n",
    "interact(zoom, x=(0,d.shape[0]-2*step,step), y=(0,d.shape[1]-2*step,step))"
   ]
  },
  {
   "cell_type": "code",
   "execution_count": null,
   "metadata": {
    "collapsed": true
   },
   "outputs": [],
   "source": []
  }
 ],
 "metadata": {
  "kernelspec": {
   "display_name": "Python 3",
   "language": "python",
   "name": "python3"
  },
  "language_info": {
   "codemirror_mode": {
    "name": "ipython",
    "version": 3
   },
   "file_extension": ".py",
   "mimetype": "text/x-python",
   "name": "python",
   "nbconvert_exporter": "python",
   "pygments_lexer": "ipython3",
   "version": "3.5.1"
  },
  "widgets": {
   "state": {
    "03486f325fb04d4bbfb3092b0ccb9220": {
     "views": []
    },
    "06a713357aa2466893e54adffa2dc94c": {
     "views": []
    },
    "0965c9d2e6344c929d2a81d9a8230b97": {
     "views": []
    },
    "099446d371a24724b6eb6d57d12d0427": {
     "views": []
    },
    "10772d1ff98446869f7a152e8c2cf858": {
     "views": []
    },
    "150e8fcbd0d94218831c8cb1362a08e7": {
     "views": []
    },
    "15106ed043684caaa31b66381cf52dd8": {
     "views": []
    },
    "1b26e02155784b56a7c363d05efddb80": {
     "views": []
    },
    "1dc7e6d7750c405c9382cddec6552154": {
     "views": []
    },
    "21ee02427b4d4f1f92dfd6f01699ec3a": {
     "views": []
    },
    "25d5a45a257340ed8e9104986b9bc875": {
     "views": []
    },
    "340dcf783e1c4f1381645c243e0f5209": {
     "views": []
    },
    "3556212687694672a67672e68c987aa4": {
     "views": [
      {
       "cell_index": 9
      }
     ]
    },
    "3b659a13559d487495e571a65c4a9c40": {
     "views": []
    },
    "3cc92aa5552441a59830cb3177b1842a": {
     "views": []
    },
    "42e4eb633328472283123e09b0ba09c4": {
     "views": []
    },
    "432ff4c52dec4034ac60108501491db7": {
     "views": []
    },
    "4589c7263e794855aaf504cfe07f2cdb": {
     "views": []
    },
    "45ffa60434584738a85b09f1ba367ae3": {
     "views": []
    },
    "46f18557f62f4ee9b67f1de819f76e5b": {
     "views": []
    },
    "50127ff59ac642af98674a5db9a73e24": {
     "views": []
    },
    "514a3330ce1e4d0cb9c43788e3bbd90f": {
     "views": []
    },
    "5809a96a2c6344b8b5d5e8eb7a0ff498": {
     "views": []
    },
    "5949f1dd4a0d4451838087e02fe4b519": {
     "views": []
    },
    "5ce21a74c8ef48c0bb97b50d41671d1a": {
     "views": []
    },
    "5d904cbdd1d54e48aaa14f3abe530d76": {
     "views": []
    },
    "615713611ccf462fb48dc548aecb8369": {
     "views": []
    },
    "61dcb203402b4dc2934c8d1367412de3": {
     "views": []
    },
    "6ce4ecc8eb8144ca8501e88c2e89d3eb": {
     "views": []
    },
    "70e087dd9bdb432498a848a5206bbf9f": {
     "views": []
    },
    "7635c6cb5df14ccebac0e1bd885dca2e": {
     "views": []
    },
    "7769abcec2834379a7d8f6705f665a56": {
     "views": []
    },
    "7ff8bfe29ffb4e19bcb713d7aef9780a": {
     "views": []
    },
    "89735060575e4ebb9c6482d3eddaa815": {
     "views": []
    },
    "8b823950c9dd48b28e272157fde0e292": {
     "views": []
    },
    "8c86ab82a68c4b6b82f36616adad5447": {
     "views": []
    },
    "8e44f5a211414eeeabfc93bdcec349aa": {
     "views": []
    },
    "97a1b0f5bb0d4060aaea055cf29d3556": {
     "views": []
    },
    "998fc74e10314435ba2c96b6d93102c2": {
     "views": []
    },
    "9999a1a01d0e4705b22821feab17d0b9": {
     "views": []
    },
    "9c91483eed8b474fbcb4987ce59cf45a": {
     "views": []
    },
    "9d1fbf1d3ff743e0aad0c684c467ab7e": {
     "views": []
    },
    "9d74f275f8fc489789c6b13d0c2c261d": {
     "views": []
    },
    "9e2ca18850044cb597eead5eab1f0234": {
     "views": []
    },
    "aebd1ef259034cb2bb4043565c001ff0": {
     "views": []
    },
    "afbd73247cc541a08edd260134bec3fe": {
     "views": []
    },
    "b0f86d7e488e41d284d328c9e32d049e": {
     "views": []
    },
    "b2346b692c6b448e9ce8335d70410f39": {
     "views": [
      {
       "cell_index": 13
      }
     ]
    },
    "b28aa4decd6d4611b9e2b5d17d5f6aeb": {
     "views": []
    },
    "b32ff1ad5728465fa7e1de92b5d022c1": {
     "views": []
    },
    "b3630300c56d44df88dc484658bc2e11": {
     "views": []
    },
    "b47ed23b4a614dc9ab9c71d39c2ef4d6": {
     "views": []
    },
    "baea9bfa5a5443759f7958ec015e2eb0": {
     "views": []
    },
    "bc3add7ec6ff40e4bd3420db30ad62b1": {
     "views": []
    },
    "cb2ea50fe4f048758b92e3863a54791f": {
     "views": []
    },
    "ccfb459583ff462387410ec63263c4fc": {
     "views": []
    },
    "d0472588009a4e4882eeefc321c8fb54": {
     "views": []
    },
    "d1930aaf66c34e7faa029203bbe33cb6": {
     "views": []
    },
    "df84d7dd247a402f9d5acca18e20e0ab": {
     "views": []
    },
    "dfebdd2d618241bbb0c8cc5264bb2e93": {
     "views": []
    },
    "e0329624c11147cf857cd182e2c6f73c": {
     "views": []
    },
    "e0b0ee7ce704451c8bef2493bb4b9916": {
     "views": []
    },
    "eeafb7fd0eb3461ba562fc0646417c13": {
     "views": []
    },
    "f3cb3250f10344a2b599a45af2f9c320": {
     "views": []
    },
    "f5db34c4a8f34a649d47c58ab50da546": {
     "views": []
    },
    "ff11c6251f7448f59b6b4e41b5465a14": {
     "views": []
    }
   },
   "version": "1.1.2"
  }
 },
 "nbformat": 4,
 "nbformat_minor": 0
}
