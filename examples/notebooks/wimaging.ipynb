{
 "cells": [
  {
   "cell_type": "markdown",
   "metadata": {},
   "source": [
    "# Illustration of w-imaging"
   ]
  },
  {
   "cell_type": "code",
   "execution_count": null,
   "metadata": {
    "collapsed": false
   },
   "outputs": [],
   "source": [
    "%matplotlib inline\n",
    "\n",
    "import sys\n",
    "sys.path.append('../..')\n",
    "\n",
    "from matplotlib import pylab\n",
    "\n",
    "pylab.rcParams['figure.figsize'] = 16, 12\n",
    "\n",
    "\n",
    "import numpy\n",
    "import scipy\n",
    "import scipy.special\n",
    "\n",
    "from crocodile.clean import *\n",
    "from crocodile.synthesis import *\n",
    "from crocodile.simulate import *\n",
    "from util.visualize import *\n",
    "from arl.visibility_simulation import create_named_configuration"
   ]
  },
  {
   "cell_type": "markdown",
   "metadata": {},
   "source": [
    "Generate baseline coordinates for an observation with the VLA over 6 hours, with a visibility recorded every 10 minutes. The phase center is fixed at a declination of 45 degrees. We assume that the imaged sky says at that position over the course of the observation.\n",
    "\n",
    "Note how this gives rise to fairly large $w$-values."
   ]
  },
  {
   "cell_type": "code",
   "execution_count": null,
   "metadata": {
    "collapsed": false
   },
   "outputs": [],
   "source": [
    "vlas = create_named_configuration('VLAA')\n",
    "ha_range = numpy.arange(numpy.radians(0),\n",
    "                        numpy.radians(90),\n",
    "                        numpy.radians(90 / 36))\n",
    "dec = numpy.radians(45)\n",
    "vobs = xyz_to_baselines(vlas.data['xyz'], ha_range, dec)\n",
    "\n",
    "# Wavelength: 5 metres \n",
    "wvl=5\n",
    "uvw = vobs / wvl\n",
    "\n",
    "from mpl_toolkits.mplot3d import Axes3D\n",
    "import matplotlib.pyplot as plt\n",
    "ax = plt.figure().add_subplot(121, projection='3d')\n",
    "ax.scatter(uvw[:,0], uvw[:,1], uvw[:,2])\n",
    "ax.set_xlabel('U [$\\lambda$]')\n",
    "ax.set_ylabel('V [$\\lambda$]')\n",
    "ax.set_zlabel('W [$\\lambda$]')\n",
    "ax.view_init(20, 20)\n",
    "pylab.show()"
   ]
  },
  {
   "cell_type": "markdown",
   "metadata": {},
   "source": [
    "## We can now generate visibilities for these baselines by simulation. We place three sources."
   ]
  },
  {
   "cell_type": "code",
   "execution_count": null,
   "metadata": {
    "collapsed": false,
    "scrolled": true
   },
   "outputs": [],
   "source": [
    "vis = 1.0*simulate_point(uvw, 0.000, 0.000)\n",
    "vis += 0.5*simulate_point(uvw, 0.02, 0.03)\n",
    "vis += 0.8*simulate_point(uvw, 0.04, 0.00)\n",
    "plt.clf()\n",
    "uvdist=numpy.sqrt(uvw[:,0]**2+uvw[:,1]**2)\n",
    "plt.plot(uvdist, numpy.abs(vis), '.', color='r')"
   ]
  },
  {
   "cell_type": "markdown",
   "metadata": {},
   "source": [
    "Using imaging, we can now reconstruct the image. The easiest option is to use simple imaging without a convolution function:"
   ]
  },
  {
   "cell_type": "code",
   "execution_count": null,
   "metadata": {
    "collapsed": false,
    "scrolled": true
   },
   "outputs": [],
   "source": [
    "theta = 2*0.05\n",
    "lam = 18000\n",
    "d,p,_=doimg(theta, lam, uvw, vis, simpleimg)\n",
    "show_image(d, \"image\", theta)"
   ]
  },
  {
   "cell_type": "markdown",
   "metadata": {},
   "source": [
    "Zooming in shows the source structure in detail"
   ]
  },
  {
   "cell_type": "code",
   "execution_count": null,
   "metadata": {
    "collapsed": false
   },
   "outputs": [],
   "source": [
    "step=200\n",
    "def zoom(x, y): pylab.matshow(d[y:y+2*step,x:x+2*step]) ; pylab.colorbar();  pylab.show()\n",
    "from ipywidgets import interact\n",
    "interact(zoom, x=(0,d.shape[0]-2*step,step), y=(0,d.shape[1]-2*step,step));"
   ]
  },
  {
   "cell_type": "markdown",
   "metadata": {},
   "source": [
    "If we use convolution kernels for $w$-reprojection, we can increase source brightness. First we make a cache to hold the convolution kernels."
   ]
  },
  {
   "cell_type": "code",
   "execution_count": null,
   "metadata": {
    "collapsed": false
   },
   "outputs": [],
   "source": [
    "wstep=1000\n",
    "wcachesize=int(numpy.ceil(numpy.abs(uvw[:,2]).max()/wstep))\n",
    "print(\"Making w-kernel cache of %d kernels\" % (wcachesize))\n",
    "wcache=pylru.FunctionCacheManager(lambda iw: wkernaf(N=256, theta=theta, w=iw*wstep, s=15, Qpx=4), 100)\n",
    "imgfn=lambda *x: wcacheimg(*x, wstep=wstep, wcache=wcache)"
   ]
  },
  {
   "cell_type": "code",
   "execution_count": null,
   "metadata": {
    "collapsed": false,
    "scrolled": false
   },
   "outputs": [],
   "source": [
    "d,p,_=doimg(theta, lam, uvw, vis, imgfn)\n",
    "show_image(d, \"image\", theta)"
   ]
  },
  {
   "cell_type": "code",
   "execution_count": null,
   "metadata": {
    "collapsed": false
   },
   "outputs": [],
   "source": [
    "step=200\n",
    "interact(zoom, x=(0,d.shape[0]-2*step,step), y=(0,d.shape[1]-2*step,step))"
   ]
  },
  {
   "cell_type": "code",
   "execution_count": null,
   "metadata": {
    "collapsed": true
   },
   "outputs": [],
   "source": []
  },
  {
   "cell_type": "code",
   "execution_count": null,
   "metadata": {
    "collapsed": true
   },
   "outputs": [],
   "source": []
  }
 ],
 "metadata": {
  "kernelspec": {
   "display_name": "Python 3",
   "language": "python",
   "name": "python3"
  },
  "language_info": {
   "codemirror_mode": {
    "name": "ipython",
    "version": 3
   },
   "file_extension": ".py",
   "mimetype": "text/x-python",
   "name": "python",
   "nbconvert_exporter": "python",
   "pygments_lexer": "ipython3",
   "version": "3.5.1"
  },
  "widgets": {
   "state": {},
   "version": "1.1.2"
  }
 },
 "nbformat": 4,
 "nbformat_minor": 0
}
