{
 "cells": [
  {
   "cell_type": "markdown",
   "metadata": {},
   "source": [
    "# Illustration of w-imaging"
   ]
  },
  {
   "cell_type": "code",
   "execution_count": null,
   "metadata": {
    "collapsed": false
   },
   "outputs": [],
   "source": [
    "%matplotlib inline\n",
    "from matplotlib import pylab\n",
    "\n",
    "pylab.rcParams['figure.figsize'] = 16, 12\n",
    "\n",
    "import sys\n",
    "sys.path.append('../..')\n",
    "import os\n",
    "print(os.getcwd())\n",
    "\n",
    "import scipy.special\n",
    "\n",
    "from crocodile.clean import *\n",
    "from crocodile.synthesis import *\n",
    "from crocodile.simulate import *\n",
    "from util.visualize import *\n",
    "from functions.configuration import named_configuration\n",
    "from functions.visibility import simulate\n",
    "from astropy.coordinates import SkyCoord\n",
    "import astropy.units as u"
   ]
  },
  {
   "cell_type": "markdown",
   "metadata": {},
   "source": [
    "Generate baseline coordinates for an observation with the VLA over 6 hours, with a visibility recorded every 10 minutes. The phase center is fixed at a declination of 45 degrees. We assume that the imaged sky says at that position over the course of the observation.\n",
    "\n",
    "Note how this gives rise to fairly large $w$-values."
   ]
  },
  {
   "cell_type": "code",
   "execution_count": null,
   "metadata": {
    "collapsed": false
   },
   "outputs": [],
   "source": [
    "vlas = named_configuration('VLAA')\n",
    "\n",
    "vlas.data.show_in_notebook()"
   ]
  },
  {
   "cell_type": "code",
   "execution_count": null,
   "metadata": {
    "collapsed": false
   },
   "outputs": [],
   "source": [
    "times = numpy.arange(numpy.radians(0),\n",
    "                        numpy.radians(90),\n",
    "                        numpy.radians(90 / 36))\n",
    "\n",
    "frequency = numpy.arange(1.0e8, 1.50e8, 1e7)\n",
    "\n",
    "reffrequency = numpy.max(frequency)\n",
    "phasecentre = SkyCoord(0.0*u.rad, numpy.radians(45)*u.rad, frame='icrs', equinox=2000.0)\n",
    "vt = simulate(vlas, times, frequency, weight=1.0, phasecentre=phasecentre)\n",
    "vt.data.show_in_notebook()"
   ]
  },
  {
   "cell_type": "code",
   "execution_count": null,
   "metadata": {
    "collapsed": false
   },
   "outputs": [],
   "source": [
    "# Wavelength: 5 metres \n",
    "vt.data['uvw']=vt.data['uvw']/5.0\n",
    "uvw=vt.data['uvw']\n",
    "from mpl_toolkits.mplot3d import Axes3D\n",
    "import matplotlib.pyplot as plt\n",
    "ax = plt.figure().add_subplot(121, projection='3d')\n",
    "ax.scatter(uvw[:,0], uvw[:,1], uvw[:,2])\n",
    "ax.set_xlabel('U [$\\lambda$]')\n",
    "ax.set_ylabel('V [$\\lambda$]')\n",
    "ax.set_zlabel('W [$\\lambda$]')\n",
    "ax.view_init(20, 20)\n",
    "pylab.show()"
   ]
  },
  {
   "cell_type": "markdown",
   "metadata": {},
   "source": [
    "We can now generate visibilities for these baselines by simulation. We place three sources."
   ]
  },
  {
   "cell_type": "code",
   "execution_count": null,
   "metadata": {
    "collapsed": false
   },
   "outputs": [],
   "source": [
    "vis = 1.0*simulate_point(uvw, 0.000, 0.000)\n",
    "vis += 0.5*simulate_point(uvw, 0.02, 0.03)\n",
    "vis += 0.8*simulate_point(uvw, 0.04, 0.00)\n",
    "plt.clf()\n",
    "uvdist=numpy.sqrt(uvw[:,0]**2+uvw[:,1]**2)\n",
    "plt.plot(uvdist, numpy.abs(vis), '.', color='r')"
   ]
  },
  {
   "cell_type": "markdown",
   "metadata": {},
   "source": [
    "Using imaging, we can now reconstruct the image. The easiest option is to use simple imaging without a convolution function:"
   ]
  },
  {
   "cell_type": "code",
   "execution_count": null,
   "metadata": {
    "collapsed": false,
    "scrolled": true
   },
   "outputs": [],
   "source": [
    "theta = 2*0.05\n",
    "lam = 30000\n",
    "d,p,_=doimg(theta, lam, uvw, vis, simpleimg)\n",
    "show_image(d, \"image\", theta)"
   ]
  },
  {
   "cell_type": "markdown",
   "metadata": {},
   "source": [
    "Zooming in shows the source structure in detail"
   ]
  },
  {
   "cell_type": "code",
   "execution_count": null,
   "metadata": {
    "collapsed": false
   },
   "outputs": [],
   "source": [
    "step=200\n",
    "def zoom(x, y): pylab.matshow(d[y:y+2*step,x:x+2*step]) ; pylab.colorbar();  pylab.show()\n",
    "from ipywidgets import interact\n",
    "interact(zoom, x=(0,d.shape[0]-2*step,step), y=(0,d.shape[1]-2*step,step));"
   ]
  },
  {
   "cell_type": "markdown",
   "metadata": {},
   "source": [
    "If we use convolution kernels for $w$-reprojection, we can increase source brightness. First we make a cache to hold the convolution kernels."
   ]
  },
  {
   "cell_type": "code",
   "execution_count": null,
   "metadata": {
    "collapsed": false
   },
   "outputs": [],
   "source": [
    "wstep=1000\n",
    "wcachesize=int(numpy.ceil(numpy.abs(uvw[:,2]).max()/wstep))\n",
    "print(\"Making w-kernel cache of %d kernels\" % (wcachesize))\n",
    "wcache=pylru.FunctionCacheManager(lambda iw: wkernaf(N=256, theta=theta, w=iw*wstep, s=15, Qpx=4), 100)\n",
    "imgfn=lambda *x: wcacheimg(*x, wstep=wstep, wcache=wcache)"
   ]
  },
  {
   "cell_type": "code",
   "execution_count": null,
   "metadata": {
    "collapsed": false,
    "scrolled": false
   },
   "outputs": [],
   "source": [
    "d,p,_=doimg(theta, lam, uvw, vis, imgfn)\n",
    "show_image(d, \"image\", theta)"
   ]
  },
  {
   "cell_type": "code",
   "execution_count": null,
   "metadata": {
    "collapsed": false
   },
   "outputs": [],
   "source": [
    "step=200\n",
    "interact(zoom, x=(0,d.shape[0]-2*step,step), y=(0,d.shape[1]-2*step,step))"
   ]
  },
  {
   "cell_type": "code",
   "execution_count": null,
   "metadata": {
    "collapsed": true
   },
   "outputs": [],
   "source": []
  }
 ],
 "metadata": {
  "kernelspec": {
   "display_name": "Python 3",
   "language": "python",
   "name": "python3"
  },
  "language_info": {
   "codemirror_mode": {
    "name": "ipython",
    "version": 3
   },
   "file_extension": ".py",
   "mimetype": "text/x-python",
   "name": "python",
   "nbconvert_exporter": "python",
   "pygments_lexer": "ipython3",
   "version": "3.5.1"
  },
  "widgets": {
   "state": {
    "1095b22e26374795bb6c58732ee30425": {
     "views": []
    },
    "12bbdf303f85482eb4dfcc528cc4bc70": {
     "views": []
    },
    "21b6d9bdcc974cab89e54ac11bf1152e": {
     "views": []
    },
    "26ace3ddf5a741e88923d259b981e7fb": {
     "views": []
    },
    "2a930ef48a0a4257a380ffd3130736cf": {
     "views": []
    },
    "2f26abb5dd494fbf96ea280c9b830dfa": {
     "views": []
    },
    "358bae2224b94db78d02f9b02b9b5326": {
     "views": [
      {
       "cell_index": 15
      }
     ]
    },
    "5899186fdcdb4c28879da0fe0c8861d0": {
     "views": []
    },
    "75c47b268a354ac99ed2af3ddd83dd1d": {
     "views": []
    },
    "ad6b034a0e38418392e41f91183c28b8": {
     "views": []
    },
    "be548270c019405183bd80c208eead84": {
     "views": []
    },
    "ff79ca065ec04125be46c6cfa6bd6213": {
     "views": [
      {
       "cell_index": 11
      }
     ]
    }
   },
   "version": "1.1.2"
  }
 },
 "nbformat": 4,
 "nbformat_minor": 0
}
