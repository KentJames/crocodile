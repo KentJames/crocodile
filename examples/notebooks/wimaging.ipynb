{
 "cells": [
  {
   "cell_type": "markdown",
   "metadata": {},
   "source": [
    "# Illustration of w-imaging"
   ]
  },
  {
   "cell_type": "code",
   "execution_count": null,
   "metadata": {
    "collapsed": false
   },
   "outputs": [],
   "source": [
    "from __future__ import print_function\n",
    "\n",
    "import numpy\n",
    "import scipy\n",
    "import scipy.special\n",
    "\n",
    "import sys\n",
    "sys.path.append('../..')\n",
    "from crocodile.clean import *\n",
    "from crocodile.synthesis import *\n",
    "from crocodile.simulate import *\n",
    "from util.visualize import *\n",
    "\n",
    "from matplotlib import pylab\n",
    "%matplotlib inline\n",
    "pylab.rcParams['figure.figsize'] = 16, 12"
   ]
  },
  {
   "cell_type": "markdown",
   "metadata": {},
   "source": [
    "Generate baseline coordinates for an observation with the VLA over 6 hours, with a visibility recorded every 10 minutes. The phase center is fixed at a declination of 45 degrees. We assume that the imaged sky says at that position over the course of the observation.\n",
    "\n",
    "Note how this gives rise to fairly large $w$-values."
   ]
  },
  {
   "cell_type": "code",
   "execution_count": null,
   "metadata": {
    "collapsed": false
   },
   "outputs": [],
   "source": [
    "vlas = numpy.genfromtxt(\"../../data/vis/VLA_A_hor_xyz.txt\", delimiter=\",\")\n",
    "ha_range = numpy.arange(numpy.radians(0),\n",
    "                        numpy.radians(90),\n",
    "                        numpy.radians(90 / 36))\n",
    "dec = numpy.radians(45)\n",
    "vobs = xyz_to_baselines(vlas, ha_range, dec)\n",
    "\n",
    "# Wavelength: 5 metres \n",
    "wvl=5\n",
    "uvw = vobs / wvl\n",
    "\n",
    "from mpl_toolkits.mplot3d import Axes3D\n",
    "import matplotlib.pyplot as plt\n",
    "ax = plt.figure().add_subplot(121, projection='3d')\n",
    "ax.scatter(uvw[:,0], uvw[:,1], uvw[:,2])\n",
    "ax.set_xlabel('U [$\\lambda$]')\n",
    "ax.set_ylabel('V [$\\lambda$]')\n",
    "ax.set_zlabel('W [$\\lambda$]')\n",
    "ax.view_init(20, 20)\n",
    "pylab.show()"
   ]
  },
  {
   "cell_type": "markdown",
   "metadata": {},
   "source": [
    "We can now generate visibilities for these baselines by simulation. We place three sources."
   ]
  },
  {
   "cell_type": "code",
   "execution_count": null,
   "metadata": {
    "collapsed": false
   },
   "outputs": [],
   "source": [
    "vis = 1.0*simulate_point(uvw, 0.000, 0.000)\n",
    "vis += 0.5*simulate_point(uvw, 0.02, 0.03)\n",
    "vis += 0.8*simulate_point(uvw, 0.04, 0.00)\n",
    "plt.clf()\n",
    "uvdist=numpy.sqrt(uvw[:,0]**2+uvw[:,1]**2)\n",
    "plt.plot(uvdist, numpy.abs(vis), '.', color='r')"
   ]
  },
  {
   "cell_type": "markdown",
   "metadata": {},
   "source": [
    "Using imaging, we can now reconstruct the image. The easiest option is to use simple imaging without a convolution function:"
   ]
  },
  {
   "cell_type": "code",
   "execution_count": null,
   "metadata": {
    "collapsed": false,
    "scrolled": true
   },
   "outputs": [],
   "source": [
    "theta = 2*0.05\n",
    "lam = 15000\n",
    "d,p=doimg(theta, lam, uvw, vis, simpleimg)\n",
    "show_image(d, \"image\", theta)"
   ]
  },
  {
   "cell_type": "markdown",
   "metadata": {},
   "source": [
    "Zooming in shows the source structure in detail"
   ]
  },
  {
   "cell_type": "code",
   "execution_count": null,
   "metadata": {
    "collapsed": false
   },
   "outputs": [],
   "source": [
    "step=200\n",
    "def zoom(x, y): pylab.matshow(d[y:y+2*step,x:x+2*step]) ; pylab.colorbar();  pylab.show()\n",
    "from ipywidgets import interact\n",
    "interact(zoom, x=(0,d.shape[0]-2*step,step), y=(0,d.shape[1]-2*step,step));"
   ]
  },
  {
   "cell_type": "markdown",
   "metadata": {},
   "source": [
    "If we use convolution kernels for $w$-reprojection, we can increase source brightness:"
   ]
  },
  {
   "cell_type": "code",
   "execution_count": null,
   "metadata": {
    "collapsed": false,
    "scrolled": false
   },
   "outputs": [],
   "source": [
    "d,p=doimg(theta, lam, uvw, vis, lambda *x: wcacheimg(*x, wstep=1000, Qpx=4))\n",
    "show_image(d, \"image\", theta)"
   ]
  },
  {
   "cell_type": "code",
   "execution_count": null,
   "metadata": {
    "collapsed": false
   },
   "outputs": [],
   "source": [
    "step=200\n",
    "interact(zoom, x=(0,d.shape[0]-2*step,step), y=(0,d.shape[1]-2*step,step))"
   ]
  },
  {
   "cell_type": "code",
   "execution_count": null,
   "metadata": {
    "collapsed": true
   },
   "outputs": [],
   "source": []
  }
 ],
 "metadata": {
  "kernelspec": {
   "display_name": "Python 3",
   "language": "python",
   "name": "python3"
  },
  "language_info": {
   "codemirror_mode": {
    "name": "ipython",
    "version": 3
   },
   "file_extension": ".py",
   "mimetype": "text/x-python",
   "name": "python",
   "nbconvert_exporter": "python",
   "pygments_lexer": "ipython3",
   "version": "3.5.1"
  },
  "widgets": {
   "state": {
    "0965c9d2e6344c929d2a81d9a8230b97": {
     "views": []
    },
    "10772d1ff98446869f7a152e8c2cf858": {
     "views": []
    },
    "1dc7e6d7750c405c9382cddec6552154": {
     "views": []
    },
    "21ee02427b4d4f1f92dfd6f01699ec3a": {
     "views": []
    },
    "3cc92aa5552441a59830cb3177b1842a": {
     "views": []
    },
    "45ffa60434584738a85b09f1ba367ae3": {
     "views": []
    },
    "46f18557f62f4ee9b67f1de819f76e5b": {
     "views": []
    },
    "50127ff59ac642af98674a5db9a73e24": {
     "views": []
    },
    "5809a96a2c6344b8b5d5e8eb7a0ff498": {
     "views": []
    },
    "5949f1dd4a0d4451838087e02fe4b519": {
     "views": []
    },
    "5d904cbdd1d54e48aaa14f3abe530d76": {
     "views": []
    },
    "615713611ccf462fb48dc548aecb8369": {
     "views": []
    },
    "61dcb203402b4dc2934c8d1367412de3": {
     "views": []
    },
    "6ce4ecc8eb8144ca8501e88c2e89d3eb": {
     "views": []
    },
    "7635c6cb5df14ccebac0e1bd885dca2e": {
     "views": []
    },
    "7769abcec2834379a7d8f6705f665a56": {
     "views": []
    },
    "8c86ab82a68c4b6b82f36616adad5447": {
     "views": []
    },
    "8e44f5a211414eeeabfc93bdcec349aa": {
     "views": []
    },
    "9c91483eed8b474fbcb4987ce59cf45a": {
     "views": []
    },
    "9d74f275f8fc489789c6b13d0c2c261d": {
     "views": []
    },
    "aebd1ef259034cb2bb4043565c001ff0": {
     "views": []
    },
    "b28aa4decd6d4611b9e2b5d17d5f6aeb": {
     "views": []
    },
    "baea9bfa5a5443759f7958ec015e2eb0": {
     "views": []
    },
    "ccfb459583ff462387410ec63263c4fc": {
     "views": [
      {
       "cell_index": 12
      }
     ]
    },
    "d0472588009a4e4882eeefc321c8fb54": {
     "views": [
      {
       "cell_index": 9
      }
     ]
    },
    "d1930aaf66c34e7faa029203bbe33cb6": {
     "views": []
    },
    "dfebdd2d618241bbb0c8cc5264bb2e93": {
     "views": []
    },
    "e0b0ee7ce704451c8bef2493bb4b9916": {
     "views": []
    },
    "f3cb3250f10344a2b599a45af2f9c320": {
     "views": []
    },
    "ff11c6251f7448f59b6b4e41b5465a14": {
     "views": []
    }
   },
   "version": "1.1.2"
  }
 },
 "nbformat": 4,
 "nbformat_minor": 0
}
