{
 "cells": [
  {
   "cell_type": "markdown",
   "metadata": {
    "collapsed": true,
    "deletable": true,
    "editable": true
   },
   "source": [
    "# Illustration of w-stacking"
   ]
  },
  {
   "cell_type": "code",
   "execution_count": null,
   "metadata": {
    "collapsed": false,
    "deletable": true,
    "editable": true
   },
   "outputs": [],
   "source": [
    "%matplotlib inline\n",
    "\n",
    "import sys\n",
    "sys.path.append('../..')\n",
    "\n",
    "from matplotlib import pylab\n",
    "\n",
    "pylab.rcParams['figure.figsize'] = 16, 10\n",
    "\n",
    "import functools\n",
    "import numpy\n",
    "import scipy\n",
    "import scipy.special\n",
    "\n",
    "from crocodile.clean import *\n",
    "from crocodile.synthesis import *\n",
    "from crocodile.simulate import *\n",
    "from util.visualize import *\n",
    "from arl.test_support import create_named_configuration"
   ]
  },
  {
   "cell_type": "markdown",
   "metadata": {
    "deletable": true,
    "editable": true
   },
   "source": [
    "Generate baseline coordinates for an observation with the VLA over 6 hours, with a visibility recorded every 10 minutes. The phase center is fixed at a declination of 45 degrees. We assume that the imaged sky says at that position over the course of the observation.\n",
    "\n",
    "Note how this gives rise to fairly large $w$-values."
   ]
  },
  {
   "cell_type": "code",
   "execution_count": null,
   "metadata": {
    "collapsed": false,
    "deletable": true,
    "editable": true
   },
   "outputs": [],
   "source": [
    "vlas = create_named_configuration('VLAA')\n",
    "ha_range = numpy.arange(numpy.radians(0),\n",
    "                        numpy.radians(90),\n",
    "                        numpy.radians(90 / 36))\n",
    "dec = numpy.radians(45)\n",
    "vobs = xyz_to_baselines(vlas.data['xyz'], ha_range, dec)\n",
    "\n",
    "# Wavelength: 5 metres \n",
    "wvl=5\n",
    "uvw = vobs / wvl\n",
    "\n",
    "from mpl_toolkits.mplot3d import Axes3D\n",
    "import matplotlib.pyplot as plt\n",
    "ax = plt.figure().add_subplot(121, projection='3d')\n",
    "ax.scatter(uvw[:,0], uvw[:,1] , uvw[:,2])\n",
    "max_uvw = numpy.amax(uvw)\n",
    "ax.set_xlabel('U [$\\lambda$]'); ax.set_xlim((-max_uvw, max_uvw))\n",
    "ax.set_ylabel('V [$\\lambda$]'); ax.set_ylim((-max_uvw, max_uvw))\n",
    "ax.set_zlabel('W [$\\lambda$]'); ax.set_zlim((-max_uvw, max_uvw))\n",
    "ax.view_init(20, 20)\n",
    "pylab.show()"
   ]
  },
  {
   "cell_type": "markdown",
   "metadata": {
    "deletable": true,
    "editable": true
   },
   "source": [
    "## We can now generate visibilities for these baselines by simulation. We place three sources."
   ]
  },
  {
   "cell_type": "code",
   "execution_count": null,
   "metadata": {
    "collapsed": false,
    "deletable": true,
    "editable": true,
    "scrolled": false
   },
   "outputs": [],
   "source": [
    "import itertools\n",
    "vis = numpy.zeros(len(uvw), dtype=complex)\n",
    "for u,v in itertools.product(range(-3, 4), range(-3, 4)):\n",
    "    vis += 1.0*simulate_point(uvw, 0.010*u, 0.010*v)\n",
    "plt.clf()\n",
    "uvdist=numpy.sqrt(uvw[:,0]**2+uvw[:,1]**2)\n",
    "plt.plot(uvdist, numpy.abs(vis), '.', color='r')"
   ]
  },
  {
   "cell_type": "markdown",
   "metadata": {
    "deletable": true,
    "editable": true
   },
   "source": [
    "Using imaging, we can now reconstruct the image. We split the visibilities into a number of w-bins:"
   ]
  },
  {
   "cell_type": "code",
   "execution_count": null,
   "metadata": {
    "collapsed": false,
    "deletable": true,
    "editable": true
   },
   "outputs": [],
   "source": [
    "# Imaging parameterisation\n",
    "theta = 2*0.05\n",
    "lam = 18000\n",
    "wstep = 100\n",
    "npixkern = 51\n",
    "grid_size = int(numpy.ceil(theta*lam))"
   ]
  },
  {
   "cell_type": "code",
   "execution_count": null,
   "metadata": {
    "collapsed": true
   },
   "outputs": [],
   "source": [
    "# Add conjugate pairs of visibilities\n",
    "uvw = numpy.vstack([uvw, -uvw])\n",
    "vis = numpy.hstack([vis, numpy.conj(vis)])\n",
    "wplanes = int(numpy.ceil(numpy.abs(uvw[:,2]).max()/wstep))\n",
    "\n",
    "# Determine weights (globally)\n",
    "wt = doweight(theta, lam, uvw, numpy.ones(len(uvw)))\n",
    "\n",
    "# Bin\n",
    "wmin = numpy.min(uvw[:,2])\n",
    "wmax = numpy.max(uvw[:,2])\n",
    "wplane = numpy.floor((uvw[:,2] - wmin) * wplanes / (wmax - wmin)).astype(int)"
   ]
  },
  {
   "cell_type": "markdown",
   "metadata": {},
   "source": [
    "## Simple w-stacking\n",
    "\n",
    "Now we can image each w-plane separately, and divide the w-term out in the image plane. This method requires us to do a lot of FFTs:"
   ]
  },
  {
   "cell_type": "code",
   "execution_count": null,
   "metadata": {
    "collapsed": false,
    "deletable": true,
    "editable": true,
    "scrolled": false
   },
   "outputs": [],
   "source": [
    "image_sum = numpy.zeros((grid_size, grid_size), dtype=complex)\n",
    "w_grids = {}\n",
    "for wp in range(wplanes):\n",
    "    \n",
    "    # Filter out w-plane\n",
    "    puvw = uvw[wplane == wp]\n",
    "    if len(puvw) == 0: continue\n",
    "    pvis = vis[wplane == wp]\n",
    "    pwt = wt[wplane == wp]\n",
    "    midw = numpy.mean(puvw[:,2])\n",
    "    print(\"w-plane %d: %d visibilities, %.1f average w\" % (wp, len(puvw), midw))\n",
    "    \n",
    "    # Translate w-coordinate (not needed for simple imaging though)\n",
    "    #puvw = numpy.array(puvw)\n",
    "    #puvw[:,2] -= midw\n",
    "    \n",
    "    src = numpy.ndarray((len(pvis), 0))\n",
    "    \n",
    "    # Make image\n",
    "    cdrt = simple_imaging(theta, lam, puvw, src, pvis * pwt)\n",
    "    l,m = theta*coordinates2(grid_size)\n",
    "    \n",
    "    # Multiply by Fresnel pattern in image space, add\n",
    "    wkern = w_kernel_function(l, m, midw)\n",
    "    w_grids[wp] = ifft(cdrt) / wkern\n",
    "    image_sum += w_grids[wp]\n",
    "\n",
    "show_image(numpy.real(image_sum), \"image\", theta)"
   ]
  },
  {
   "cell_type": "markdown",
   "metadata": {},
   "source": [
    "This was the easiest version of w-stacking. Clearly a lot of w-planes are mostly empty, which is wasteful both in terms of FFT complexity and especially in terms of memory (bandwidth).\n",
    "\n",
    "## Optimised w-planes\n",
    "\n",
    "We can actually reduce the size of these w-planes: Use a grid that has just enough size to contain the visibility and the w-pattern, but FFT it back into grid space and add it into the w=0 grid with an offset. This means two FFTs, but if the sub-grid size is small enough this is worth it."
   ]
  },
  {
   "cell_type": "code",
   "execution_count": null,
   "metadata": {
    "collapsed": false,
    "editable": true,
    "scrolled": false
   },
   "outputs": [],
   "source": [
    "grid_sum = numpy.zeros((grid_size, grid_size), dtype=complex)\n",
    "for wp in range(wplanes):\n",
    "    \n",
    "    # Filter out w-plane\n",
    "    puvw = uvw[wplane == wp]\n",
    "    if len(puvw) == 0: continue\n",
    "    pvis = vis[wplane == wp]\n",
    "    pwt = wt[wplane == wp]\n",
    "    midw = numpy.mean(puvw[:,2])\n",
    "    print(\"w-plane %d: %d visibilities, %.1f average w\" % (wp, len(puvw), midw))\n",
    "    \n",
    "    # w=0 plane? Just grid directly - skip Fresnel pattern (guaranteed to be =1) + FFTs\n",
    "    if abs(midw) < wstep / 2:\n",
    "        grid_sum += simple_imaging(theta, lam, puvw, src, pvis * pwt)\n",
    "        continue\n",
    "    \n",
    "    # Determine uv bounds, round to grid cell\n",
    "    xy_min = numpy.floor(numpy.amin(puvw[:,:2], axis=0) * theta).astype(int)\n",
    "    xy_max = numpy.ceil(numpy.amax(puvw[:,:2], axis=0) * theta).astype(int)\n",
    "    \n",
    "    # Make sure we have enough space for convolution.\n",
    "    xy_min -= npixkern // 2\n",
    "    xy_max += (npixkern - 1) // 2\n",
    "    xy_size = numpy.max(xy_max - xy_min)\n",
    "    \n",
    "    # Force quadratic - TODO: unneeded, strictly speaking\n",
    "    xy_maxq = numpy.amax([xy_max, xy_min + xy_size], axis=0)\n",
    "    \n",
    "    # Determine the uvw size and mid-point\n",
    "    uvw_size = xy_size / theta\n",
    "    uvw_mid = numpy.hstack([(xy_maxq + xy_min) // 2 / theta, midw])\n",
    "\n",
    "    # Grid\n",
    "    pgrid = simple_imaging(theta, uvw_size, puvw - uvw_mid, src, pvis * pwt)\n",
    "    \n",
    "    # Generate Fresnel pattern\n",
    "    l,m = theta*coordinates2(xy_size)\n",
    "    wkern = w_kernel_function(l, m, midw)\n",
    "    \n",
    "    # Divide Fresnel pattern in image plane, then FFT right back\n",
    "    pgrid_w = fft(ifft(pgrid) / wkern)\n",
    "    \n",
    "    # Add to original grid at offset\n",
    "    mid = int(lam*theta)//2\n",
    "    x0, y0 = mid + xy_min\n",
    "    x1, y1 = mid + xy_max\n",
    "    grid_sum[y0:y1, x0:x1] += pgrid_w[0:y1-y0, 0:x1-x0]\n",
    "\n",
    "show_image(numpy.real(ifft(grid_sum)), \"image\", theta)"
   ]
  },
  {
   "cell_type": "markdown",
   "metadata": {},
   "source": [
    "As you might notice, this is actually slower overall, because for lower w doing two FFTs per w-plane is actually most of the work.\n",
    "\n",
    "## Choosing uv-bins with w-stacking\n",
    "\n",
    "However, it should now be clear that we can choose what parts of the w-planes to generate entirely independently, so we can especially choose to generate the same uv-chunks on all w-planes. This not only allows us to share the FFT back to the w=0 grid, but also makes the FFT cheaper once we are considering large grids."
   ]
  },
  {
   "cell_type": "code",
   "execution_count": null,
   "metadata": {
    "collapsed": false
   },
   "outputs": [],
   "source": [
    "uvbins = 10\n",
    "uvbin_size = grid_size / uvbins\n",
    "grid_sum = numpy.zeros((grid_size, grid_size), dtype=complex)\n",
    "ubin = numpy.floor((uvw[:,0]+lam/2) / lam * uvbins).astype(int)\n",
    "vbin = numpy.floor((uvw[:,1]+lam/2) / lam * uvbins).astype(int)\n",
    "for ub in range(uvbins):\n",
    "    for vb in range(uvbins):\n",
    "        \n",
    "        # Determine bin dimensions\n",
    "        uv_min = numpy.array([-lam/2+lam*ub/uvbins, -lam/2+lam*vb/uvbins])\n",
    "        uv_max = numpy.array([-lam/2+lam*(ub+1)/uvbins, -lam/2+lam*(vb+1)/uvbins])\n",
    "        xy_min = numpy.floor(uv_min * theta).astype(int)\n",
    "        xy_max = numpy.ceil(uv_max * theta).astype(int)\n",
    "        uv_mid = (xy_max + xy_min) // 2 / theta\n",
    "\n",
    "        # Make sure we have enough space for convolution.\n",
    "        xy_min -= npixkern // 2\n",
    "        xy_max += (npixkern - 1) // 2\n",
    "        xy_size = numpy.max(xy_max - xy_min)\n",
    "        uvw_size = xy_size / theta\n",
    "\n",
    "        # Make grid for uv-bin\n",
    "        bin_image_sum = numpy.zeros((xy_size, xy_size), dtype=complex)\n",
    "        nvis = 0; midws = []\n",
    "        for wp in range(wplanes):\n",
    "\n",
    "            # Filter out visibilities for u/v-bin and w-plane\n",
    "            slc = numpy.logical_and(numpy.logical_and(ubin == ub, vbin == vb), wplane == wp)\n",
    "            puvw = uvw[slc]\n",
    "            if len(puvw) == 0: continue\n",
    "            pvis = vis[slc]\n",
    "            pwt = wt[slc]\n",
    "            midw = numpy.mean(puvw[:,2])\n",
    "            \n",
    "            # Statistics\n",
    "            nvis += len(puvw)\n",
    "            midws.append(midw)\n",
    "            \n",
    "            # w=0 plane? Just grid directly, as before\n",
    "            if abs(midw) < wstep / 2:\n",
    "                grid_sum += simple_imaging(theta, lam, puvw, src, pvis * pwt)\n",
    "                continue\n",
    "\n",
    "            # Grid relative to mid-point\n",
    "            uvw_mid = numpy.hstack([uv_mid, [midw]])\n",
    "            pgrid = simple_imaging(theta, uvw_size, puvw - uvw_mid, src, pvis * pwt)\n",
    "\n",
    "            # Generate Fresnel pattern\n",
    "            l,m = theta*coordinates2(xy_size)\n",
    "            wkern = w_kernel_function(l, m, midw)\n",
    "\n",
    "            # Divide Fresnel pattern in image plane, add to bin grid\n",
    "            bin_image_sum += ifft(pgrid) / wkern\n",
    "\n",
    "        # No visibilities? Skip\n",
    "        if nvis == 0: continue\n",
    "\n",
    "        # FFT image sum (TODO: skip if zero)    \n",
    "        print(\"uv-bin %d,%d: %d visibilities, %s w-bins\" % (ub, vb, nvis, numpy.array(midws, dtype=int)))\n",
    "        bin_grid = fft(bin_image_sum)\n",
    "\n",
    "        # Add to grid, keeping bounds in mind\n",
    "        mid = int(lam*theta)//2\n",
    "        x0, y0 = mid + xy_min\n",
    "        x1, y1 = mid + xy_max\n",
    "        x0b, y0b = numpy.amax([[x0, y0], [0,0]], axis=0)\n",
    "        x1b, y1b = numpy.amin([[x1, y1], [grid_size,grid_size]], axis=0)\n",
    "        grid_sum[y0b:y1b, x0b:x1b] += \\\n",
    "           bin_grid[y0b-y0:y1b-y0, x0b-x0:x1b-x0]\n",
    "\n",
    "show_image(numpy.real(ifft(grid_sum)), \"image\", theta)"
   ]
  },
  {
   "cell_type": "markdown",
   "metadata": {
    "deletable": true,
    "editable": true
   },
   "source": [
    "Zooming in shows the source structure in detail"
   ]
  },
  {
   "cell_type": "code",
   "execution_count": null,
   "metadata": {
    "collapsed": false,
    "deletable": true,
    "editable": true
   },
   "outputs": [],
   "source": [
    "image_sum = numpy.real(image_sum)\n",
    "step=int(grid_size/10)\n",
    "def zoom(x, y=step): pylab.matshow(image_sum[y:y+2*step,x:x+2*step]) ; pylab.colorbar(shrink=.4,pad=0.025);  pylab.show()\n",
    "from ipywidgets import interact\n",
    "interact(zoom, x=(0,image_sum.shape[0]-2*step,step), y=(0,image_sum.shape[1]-2*step,step));"
   ]
  },
  {
   "cell_type": "markdown",
   "metadata": {
    "deletable": true,
    "editable": true
   },
   "source": [
    "If we use convolution kernels for $w$-reprojection, we can improve the sharpness of imaging. First we make a cache to hold the convolution kernels."
   ]
  }
 ],
 "metadata": {
  "kernelspec": {
   "display_name": "Python 3",
   "language": "python",
   "name": "python3"
  },
  "language_info": {
   "codemirror_mode": {
    "name": "ipython",
    "version": 3
   },
   "file_extension": ".py",
   "mimetype": "text/x-python",
   "name": "python",
   "nbconvert_exporter": "python",
   "pygments_lexer": "ipython3",
   "version": "3.5.1"
  },
  "widgets": {
   "state": {
    "2e50420c235f4b43b7c62fb686c18700": {
     "views": []
    },
    "325d044bf6ae4660a668f3bfb9deeed2": {
     "views": []
    },
    "41566a7360d84d8fb0c86508e1644f7d": {
     "views": []
    },
    "4ac5092c3d1447858122cb30d163ffd7": {
     "views": []
    },
    "5e33a6919e5b4706b21e3228fd1ab2d4": {
     "views": []
    },
    "6a018ebeec9c43ceaa9c72fb82e87947": {
     "views": []
    },
    "91d97c934e6e47888a36198995e1c918": {
     "views": []
    },
    "97c264ac63f54b9ca83b5dd590823839": {
     "views": []
    },
    "9ce615ce2ae9416fbaa1eff9a64cfe28": {
     "views": []
    },
    "9e74a29f491340a19f39ce17ade498e5": {
     "views": []
    },
    "b9a392a4388b4685ac679015af751310": {
     "views": []
    },
    "bd5ef5042a21441caf238f12bbab5d87": {
     "views": []
    },
    "c085d5c39ed24eb6a00a9ea1eab7d6c8": {
     "views": []
    },
    "cf463f35bede423c97ef1411dea2dfea": {
     "views": [
      {
       "cell_index": 16
      }
     ]
    },
    "e8ada2eb660b4ecabc70e517b3dfaf3d": {
     "views": []
    },
    "efa0db730f2b44c1a9f3ab7401c1de85": {
     "views": []
    },
    "f36d5dc357824194a0954d5324a819e0": {
     "views": []
    },
    "f5daedc0ea834b9ea6831e9dc760cd66": {
     "views": []
    }
   },
   "version": "1.1.2"
  }
 },
 "nbformat": 4,
 "nbformat_minor": 0
}
