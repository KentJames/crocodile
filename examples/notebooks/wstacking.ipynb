{
 "cells": [
  {
   "cell_type": "markdown",
   "metadata": {
    "collapsed": true,
    "deletable": true,
    "editable": true
   },
   "source": [
    "# Illustration of w-stacking"
   ]
  },
  {
   "cell_type": "code",
   "execution_count": null,
   "metadata": {
    "collapsed": false,
    "deletable": true,
    "editable": true
   },
   "outputs": [],
   "source": [
    "%matplotlib inline\n",
    "\n",
    "import sys\n",
    "sys.path.append('../..')\n",
    "\n",
    "from matplotlib import pylab\n",
    "\n",
    "pylab.rcParams['figure.figsize'] = 16, 10\n",
    "\n",
    "import functools\n",
    "import numpy\n",
    "import scipy\n",
    "import scipy.special\n",
    "import time\n",
    "\n",
    "from crocodile.clean import *\n",
    "from crocodile.synthesis import *\n",
    "from crocodile.simulate import *\n",
    "from util.visualize import *\n",
    "from arl.test_support import create_named_configuration"
   ]
  },
  {
   "cell_type": "markdown",
   "metadata": {
    "deletable": true,
    "editable": true
   },
   "source": [
    "Generate baseline coordinates for an observation with the VLA over 6 hours, with a visibility recorded every 10 minutes. The phase center is fixed at a declination of 45 degrees. We assume that the imaged sky says at that position over the course of the observation.\n",
    "\n",
    "Note how this gives rise to fairly large $w$-values."
   ]
  },
  {
   "cell_type": "code",
   "execution_count": null,
   "metadata": {
    "collapsed": false,
    "deletable": true,
    "editable": true
   },
   "outputs": [],
   "source": [
    "vlas = create_named_configuration('VLAA')\n",
    "ha_range = numpy.arange(numpy.radians(0),\n",
    "                        numpy.radians(90),\n",
    "                        numpy.radians(90 / 36))\n",
    "dec = numpy.radians(45)\n",
    "vobs = xyz_to_baselines(vlas.data['xyz'], ha_range, dec)\n",
    "\n",
    "# Wavelength: 5 metres \n",
    "wvl=5\n",
    "uvw = vobs / wvl\n",
    "\n",
    "from mpl_toolkits.mplot3d import Axes3D\n",
    "import matplotlib.pyplot as plt\n",
    "ax = plt.figure().add_subplot(121, projection='3d')\n",
    "ax.scatter(uvw[:,0], uvw[:,1] , uvw[:,2])\n",
    "max_uvw = numpy.amax(uvw)\n",
    "ax.set_xlabel('U [$\\lambda$]'); ax.set_xlim((-max_uvw, max_uvw))\n",
    "ax.set_ylabel('V [$\\lambda$]'); ax.set_ylim((-max_uvw, max_uvw))\n",
    "ax.set_zlabel('W [$\\lambda$]'); ax.set_zlim((-max_uvw, max_uvw))\n",
    "ax.view_init(20, 20)\n",
    "pylab.show()"
   ]
  },
  {
   "cell_type": "markdown",
   "metadata": {
    "deletable": true,
    "editable": true
   },
   "source": [
    "## We can now generate visibilities for these baselines by simulation. We place three sources."
   ]
  },
  {
   "cell_type": "code",
   "execution_count": null,
   "metadata": {
    "collapsed": false,
    "deletable": true,
    "editable": true,
    "scrolled": false
   },
   "outputs": [],
   "source": [
    "import itertools\n",
    "vis = numpy.zeros(len(uvw), dtype=complex)\n",
    "for u,v in itertools.product(range(-3, 4), range(-3, 4)):\n",
    "    vis += 1.0*simulate_point(uvw, 0.010*u, 0.010*v)\n",
    "plt.clf()\n",
    "uvdist=numpy.sqrt(uvw[:,0]**2+uvw[:,1]**2)\n",
    "plt.plot(uvdist, numpy.abs(vis), '.', color='r')"
   ]
  },
  {
   "cell_type": "markdown",
   "metadata": {
    "deletable": true,
    "editable": true
   },
   "source": [
    "Using imaging, we can now reconstruct the image. We split the visibilities into a number of w-bins:"
   ]
  },
  {
   "cell_type": "code",
   "execution_count": null,
   "metadata": {
    "collapsed": false,
    "deletable": true,
    "editable": true
   },
   "outputs": [],
   "source": [
    "# Imaging parameterisation\n",
    "theta = 2*0.05\n",
    "lam = 18000\n",
    "wstep = 100\n",
    "npixkern = 31\n",
    "grid_size = int(numpy.ceil(theta*lam))"
   ]
  },
  {
   "cell_type": "code",
   "execution_count": null,
   "metadata": {
    "collapsed": false
   },
   "outputs": [],
   "source": [
    "# Determine weights (globally)\n",
    "wt = doweight(theta, lam, uvw, numpy.ones(len(uvw)))\n",
    "\n",
    "# Depending on algorithm we are going to prefer different uvw-distributions,\n",
    "# so make decision about conjugation of visibilities flexible.\n",
    "def flip_conj(where):\n",
    "    # Conjugate visibility. This does not change its meaning.\n",
    "    uvw[where] = -uvw[where]\n",
    "    vis[where] = numpy.conj(vis[where])\n",
    "    # Determine w-planes\n",
    "    wplane = numpy.around(uvw[:,2] / wstep).astype(int)\n",
    "    return uvw, vis, numpy.arange(numpy.min(wplane), numpy.max(wplane)+1), wplane"
   ]
  },
  {
   "cell_type": "markdown",
   "metadata": {},
   "source": [
    "## Simple w-stacking\n",
    "\n",
    "Now we can image each w-plane separately, and divide the w-term out in the image plane. This method requires us to do a lot of FFTs:"
   ]
  },
  {
   "cell_type": "code",
   "execution_count": null,
   "metadata": {
    "collapsed": false,
    "deletable": true,
    "editable": true,
    "scrolled": false
   },
   "outputs": [],
   "source": [
    "image_sum = numpy.zeros((grid_size, grid_size), dtype=complex)\n",
    "w_grids = {}\n",
    "uvw,vis,wplanes,wplane = flip_conj(uvw[:,2] < 0.0)\n",
    "start_time = time.time()\n",
    "for wp in wplanes:\n",
    "    \n",
    "    # Filter out w-plane\n",
    "    puvw = uvw[wplane == wp]\n",
    "    if len(puvw) == 0: continue\n",
    "    pvis = vis[wplane == wp]\n",
    "    pwt = wt[wplane == wp]\n",
    "    midw = numpy.mean(puvw[:,2])\n",
    "    print(\"w-plane %d: %d visibilities, %.1f average w\" % (wp, len(puvw), midw))\n",
    "    \n",
    "    # Translate w-coordinate (not needed for simple imaging though)\n",
    "    #puvw = numpy.array(puvw)\n",
    "    #puvw[:,2] -= midw\n",
    "    \n",
    "    src = numpy.ndarray((len(pvis), 0))\n",
    "    \n",
    "    # Make image\n",
    "    cdrt = simple_imaging(theta, lam, puvw, src, pvis * pwt)\n",
    "    l,m = theta*coordinates2(grid_size)\n",
    "    \n",
    "    # Multiply by Fresnel pattern in image space, add\n",
    "    wkern = w_kernel_function(l, m, midw)\n",
    "    w_grids[wp] = ifft(cdrt) / wkern\n",
    "    image_sum += w_grids[wp]\n",
    "\n",
    "print(\"Done in %.1fs\" % (time.time() - start_time))\n",
    "\n",
    "# We only used half of the visibilities, so the image is not going to\n",
    "# end up real-valued. However, we can easily just remove the unused imaginary\n",
    "# parts and multiply by 2 to arrive at the correct result.\n",
    "show_image(2.0*numpy.real(image_sum), \"image\", theta)"
   ]
  },
  {
   "cell_type": "markdown",
   "metadata": {},
   "source": [
    "This was the easiest version of w-stacking. Clearly a lot of w-planes are mostly empty, which is wasteful both in terms of FFT complexity and especially in terms of memory (bandwidth).\n",
    "\n",
    "## Optimised w-planes\n",
    "\n",
    "We can actually reduce the size of these w-planes: Use a grid that has just enough size to contain the visibility and the w-pattern, but FFT it back into grid space and add it into the w=0 grid with an offset. This means two FFTs, but if the sub-grid size is small enough this is worth it."
   ]
  },
  {
   "cell_type": "code",
   "execution_count": null,
   "metadata": {
    "collapsed": false,
    "editable": true,
    "scrolled": false
   },
   "outputs": [],
   "source": [
    "start_time = time.time()\n",
    "uvw,vis,wplanes,wplane = flip_conj(uvw[:,1] < 0.0)\n",
    "grid_sum = numpy.zeros((grid_size, grid_size), dtype=complex)\n",
    "for wp in wplanes:\n",
    "    \n",
    "    # Filter out w-plane\n",
    "    puvw = uvw[wplane == wp]\n",
    "    if len(puvw) == 0: continue\n",
    "    pvis = vis[wplane == wp]\n",
    "    pwt = wt[wplane == wp]\n",
    "    midw = numpy.mean(puvw[:,2])\n",
    "    \n",
    "    # w=0 plane? Just grid directly - skip Fresnel pattern (guaranteed to be =1) + FFTs\n",
    "    if abs(midw) < wstep / 2:\n",
    "        grid_sum += simple_imaging(theta, lam, puvw, src, pvis * pwt)\n",
    "        continue\n",
    "    \n",
    "    # Determine uv bounds, round to grid cell\n",
    "    xy_min = numpy.floor(numpy.amin(puvw[:,:2], axis=0) * theta).astype(int)\n",
    "    xy_max = numpy.ceil(numpy.amax(puvw[:,:2], axis=0) * theta).astype(int)\n",
    "    \n",
    "    # Make sure we have enough space for convolution.\n",
    "    xy_min -= (npixkern + 1) // 2\n",
    "    xy_max += npixkern // 2\n",
    "    xy_size = numpy.max(xy_max - xy_min)\n",
    "    print(\"w-plane %d: %d visibilities, %.1f average w, %dx%d cells\" %\n",
    "          (wp, len(puvw), midw, xy_size, xy_size))\n",
    "    \n",
    "    # Force quadratic - TODO: unneeded, strictly speaking\n",
    "    xy_maxq = numpy.amax([xy_max, xy_min + xy_size], axis=0)\n",
    "    \n",
    "    # Determine the uvw size and mid-point\n",
    "    uvw_size = xy_size / theta\n",
    "    uvw_mid = numpy.hstack([(xy_maxq + xy_min) // 2 / theta, midw])\n",
    "\n",
    "    # Grid\n",
    "    pgrid = simple_imaging(theta, uvw_size, puvw - uvw_mid, src, pvis * pwt)\n",
    "    \n",
    "    # Generate Fresnel pattern\n",
    "    l,m = theta*coordinates2(xy_size)\n",
    "    wkern = w_kernel_function(l, m, midw)\n",
    "    \n",
    "    # Divide Fresnel pattern in image plane, then FFT right back\n",
    "    pgrid_w = fft(ifft(pgrid) / wkern)\n",
    "    \n",
    "    # Add to original grid at offset\n",
    "    mid = int(lam*theta)//2\n",
    "    x0, y0 = mid + xy_min\n",
    "    x1, y1 = mid + xy_max\n",
    "    grid_sum[y0:y1, x0:x1] += pgrid_w[0:y1-y0, 0:x1-x0]\n",
    "\n",
    "image_sum = ifft(grid_sum)\n",
    "print(\"Done in %.1fs\" % (time.time() - start_time))\n",
    "show_image(2.0*numpy.real(image_sum), \"image\", theta)"
   ]
  },
  {
   "cell_type": "markdown",
   "metadata": {},
   "source": [
    "As you might notice, this is actually slower overall, because for lower w doing two FFTs per w-plane adds quite a bit of extra work.\n",
    "\n",
    "## Choosing uv-bins with w-stacking\n",
    "\n",
    "However, it should now be clear that we can choose what parts of the w-planes to generate entirely independently, so we can especially choose to generate the same uv-chunks on all w-planes. This not only allows us to share the FFT back to the w=0 grid, but also makes the FFT cheaper once we are considering large grids."
   ]
  },
  {
   "cell_type": "code",
   "execution_count": null,
   "metadata": {
    "collapsed": false
   },
   "outputs": [],
   "source": [
    "uvbin_size = 256 - npixkern # Choose it so we get a nice 2^x size below\n",
    "start_time = time.time()\n",
    "uvw,vis,wplanes,wplane = flip_conj(uvw[:,1] < 0.0)\n",
    "grid_sum = numpy.zeros((grid_size, grid_size), dtype=complex)\n",
    "ubin = numpy.floor(uvw[:,0]*theta/uvbin_size).astype(int)\n",
    "vbin = numpy.floor(uvw[:,1]*theta/uvbin_size).astype(int)\n",
    "\n",
    "# Generate Fresnel pattern for shifting between two w-planes\n",
    "# As this is the same between all w-planes, we can share it\n",
    "# between the whole loop.\n",
    "l,m = theta*coordinates2(uvbin_size + npixkern)\n",
    "wkern = w_kernel_function(l, m, wstep)\n",
    "\n",
    "for ub in range(numpy.min(ubin), numpy.max(ubin)+1):\n",
    "    for vb in range(numpy.min(vbin), numpy.max(vbin)+1):\n",
    "        \n",
    "        # Find visibilities\n",
    "        bin_sel = numpy.logical_and(ubin == ub, vbin == vb)\n",
    "        if not numpy.any(bin_sel):\n",
    "            continue\n",
    "        \n",
    "        # Determine bin dimensions\n",
    "        xy_min = uvbin_size * numpy.array([ub, vb], dtype=int)\n",
    "        xy_max = uvbin_size * numpy.array([ub+1, vb+1], dtype=int)\n",
    "        uv_min = xy_min / theta\n",
    "        uv_max = xy_min / theta\n",
    "        uv_mid = (xy_max + xy_min) // 2 / theta\n",
    "\n",
    "        # Make sure we have enough space for convolution.\n",
    "        xy_min -= (npixkern + 1) // 2\n",
    "        xy_max += npixkern // 2\n",
    "        assert(numpy.all(numpy.max(xy_max - xy_min) == uvbin_size+npixkern))\n",
    "        uvw_size = (uvbin_size+npixkern) / theta\n",
    "\n",
    "        # Make grid for uv-bin\n",
    "        bin_image_sum = numpy.zeros((uvbin_size+npixkern, uvbin_size+npixkern), dtype=complex)\n",
    "        nvis = 0; midws = []\n",
    "        last_wp = wplanes[0]\n",
    "        for wp in wplanes:\n",
    "\n",
    "            # Filter out visibilities for u/v-bin and w-plane\n",
    "            slc = numpy.logical_and(bin_sel, wplane == wp)\n",
    "            puvw = uvw[slc]\n",
    "            if len(puvw) == 0: continue\n",
    "            pvis = vis[slc]\n",
    "            pwt = wt[slc]\n",
    "            \n",
    "            # Statistics\n",
    "            nvis += len(puvw)\n",
    "            midws.append(wp*wstep)\n",
    "            \n",
    "            # w=0 plane? Just grid directly, as before\n",
    "            if wp == 0:\n",
    "                grid_sum += simple_imaging(theta, lam, puvw, src, pvis * pwt)\n",
    "                continue\n",
    "\n",
    "            # Bring image sum into this w-plane\n",
    "            if last_wp != wplanes[0]:\n",
    "                bin_image_sum *= wkern**(wp-last_wp)\n",
    "            last_wp = wp\n",
    "            \n",
    "            # Grid relative to mid-point\n",
    "            uvw_mid = numpy.hstack([uv_mid, [wp*wstep]])\n",
    "            pgrid = simple_imaging(theta, uvw_size, puvw - uvw_mid, src, pvis * pwt)\n",
    "\n",
    "            # Add to bin grid\n",
    "            bin_image_sum += ifft(pgrid)\n",
    "\n",
    "        # No visibilities? Skip\n",
    "        if nvis == 0: continue\n",
    "\n",
    "        # Transfer into w=0 plane, FFT image sum\n",
    "        print(\"uv-bin %d,%d: %d visibilities, %s w-bins\" % (ub, vb, nvis, numpy.array(midws, dtype=int)))\n",
    "        bin_image_sum /= wkern**last_wp\n",
    "        bin_grid = fft(bin_image_sum)\n",
    "\n",
    "        # Add to grid, keeping bounds in mind\n",
    "        mid = int(lam*theta)//2\n",
    "        x0, y0 = mid + xy_min\n",
    "        x1, y1 = mid + xy_max\n",
    "        x0b, y0b = numpy.amax([[x0, y0], [0,0]], axis=0)\n",
    "        x1b, y1b = numpy.amin([[x1, y1], [grid_size,grid_size]], axis=0)\n",
    "        grid_sum[y0b:y1b, x0b:x1b] += \\\n",
    "           bin_grid[y0b-y0:y1b-y0, x0b-x0:x1b-x0]\n",
    "\n",
    "image_sum = ifft(grid_sum)\n",
    "print(\"Done in %.1fs\" % (time.time() - start_time))\n",
    "show_image(2.0 * numpy.real(image_sum), \"image\", theta)"
   ]
  },
  {
   "cell_type": "markdown",
   "metadata": {
    "deletable": true,
    "editable": true
   },
   "source": [
    "By zooming in we can confirm output quality:"
   ]
  },
  {
   "cell_type": "code",
   "execution_count": null,
   "metadata": {
    "collapsed": false,
    "deletable": true,
    "editable": true
   },
   "outputs": [],
   "source": [
    "image_show = numpy.real(image_sum)\n",
    "step=int(grid_size/10)\n",
    "def zoom(x, y=step): pylab.matshow(image_show[y:y+2*step,x:x+2*step]) ; pylab.colorbar(shrink=.4,pad=0.025);  pylab.show()\n",
    "from ipywidgets import interact\n",
    "interact(zoom, x=(0,image_show.shape[0]-2*step,step), y=(0,image_show.shape[1]-2*step,step));"
   ]
  }
 ],
 "metadata": {
  "kernelspec": {
   "display_name": "Python 3",
   "language": "python",
   "name": "python3"
  },
  "language_info": {
   "codemirror_mode": {
    "name": "ipython",
    "version": 3
   },
   "file_extension": ".py",
   "mimetype": "text/x-python",
   "name": "python",
   "nbconvert_exporter": "python",
   "pygments_lexer": "ipython3",
   "version": "3.5.1"
  },
  "widgets": {
   "state": {
    "0161bfbcc9bf43079d1332257a333107": {
     "views": []
    },
    "016f7f43a68442bb84bd60a85ce62ec4": {
     "views": []
    },
    "03c02a0a516d44b38877e01adf328659": {
     "views": []
    },
    "04e42a1a4d0f4715b292e339b0c1cc32": {
     "views": []
    },
    "0680620deea8409c9e2140a155c2f745": {
     "views": []
    },
    "07d7a37f5aef4ed193e269e3355ba1c5": {
     "views": []
    },
    "105c804dd4774e26a4221ac853cfaad2": {
     "views": []
    },
    "146ae09e88204da88a244e8c8bd8dad7": {
     "views": []
    },
    "18d53d4b6284487fa94adf2db4895a15": {
     "views": []
    },
    "1928665b3dbf4ba4aadea694b9b4fd0d": {
     "views": []
    },
    "1ffa332d8d6948e1b5d71c8cd97bb9ab": {
     "views": []
    },
    "22ccfc30d749412ba211b1c8bd1ce4d3": {
     "views": []
    },
    "243e1a3e24134e95a412eb07f6b269d7": {
     "views": []
    },
    "2c22d9b9a636488782bf3bd3474253a6": {
     "views": []
    },
    "2c8fd75b876a42a6b3e25c20801ab8d6": {
     "views": []
    },
    "2cb16429895a4c109b74f05744254038": {
     "views": []
    },
    "2efae4f8cd4f48d08dfe0f20a8ade5a2": {
     "views": []
    },
    "36579366b7ae4f829caa2d4b10a1cad8": {
     "views": []
    },
    "37f2dcc0271c40a3aafb6cc006c9ac2a": {
     "views": []
    },
    "399260102e2e4c46ac878ccbd3739d39": {
     "views": []
    },
    "3da38939f68e4535940cde073e4c9f30": {
     "views": []
    },
    "3db03aa4633b4986b1fa8a483b795805": {
     "views": []
    },
    "4cab80a5a2d246f2a6c76a0e43f42567": {
     "views": []
    },
    "4fc78568763346139a20672122ff2c34": {
     "views": []
    },
    "53130a3f4134452fbfdeb2002b6a4db5": {
     "views": []
    },
    "54a48945a68d4d7d9f551b70491f0742": {
     "views": []
    },
    "583c9184dc2349f38029519a7189dc9f": {
     "views": []
    },
    "61e267339b324793b4a9fc766730f777": {
     "views": []
    },
    "64df06242ac54958afeb4381249f74ab": {
     "views": []
    },
    "64f3f92cf1f94eb584155b92d1ca8d42": {
     "views": []
    },
    "69955172443446c8a57ed6a6dc5f378f": {
     "views": []
    },
    "6d377d4e7a0842fd891acdf85ec5a07e": {
     "views": []
    },
    "6fe564ca7be8435cb8fc14bd40b38a10": {
     "views": []
    },
    "7cf856cef2e742bf8d1dacd19d83303e": {
     "views": []
    },
    "7d66fb3f523d4ee798262bb6441c51f8": {
     "views": []
    },
    "805f48abf53c4715955dbe6651cce3e0": {
     "views": []
    },
    "85eab07517294a4981b1f19c234ad864": {
     "views": []
    },
    "8c278063714142d39543169222e0b70a": {
     "views": []
    },
    "8f5e28476be14a84be2e2fd53b67713d": {
     "views": []
    },
    "94e2f44ea7a34de0ab2ebcf0501ee0d1": {
     "views": []
    },
    "96ec1aef6748480a8346c76e56e22de3": {
     "views": []
    },
    "97193e72643d43adb82ca00da0ab063d": {
     "views": [
      {
       "cell_index": 16
      }
     ]
    },
    "97ccbc29794b4d0991cadb01d21211da": {
     "views": []
    },
    "98c4f103dd924bfbba973aadaf6a860f": {
     "views": []
    },
    "9b6d737b169741e59d5844922ff3be78": {
     "views": []
    },
    "a00f0575817f4f12aa7e24be61ebc79e": {
     "views": []
    },
    "a206d3e4f58e4136af9d2178ab8e5138": {
     "views": []
    },
    "a5cdce905c3c45d396c73d5ee1a64ad7": {
     "views": []
    },
    "a9058016d12447de94bdc3e83634fde7": {
     "views": []
    },
    "aea690548fe340ffa92ea9dc8789c72b": {
     "views": []
    },
    "b6fc366224ac4e108439bea44f949013": {
     "views": []
    },
    "bb34b39826dd461ab08363fa8ad4508d": {
     "views": []
    },
    "bc3a95f44ce44aec8e86feeec89ea37a": {
     "views": []
    },
    "c091214fd85344ce94f21f850cf1d680": {
     "views": []
    },
    "c0ba418f69c84318a49f364105378b1a": {
     "views": []
    },
    "c8025eadf4cc43b0acb15cdb3053730d": {
     "views": []
    },
    "c879700b9d9d41fe93ce16d11645ee86": {
     "views": []
    },
    "d382a0fddfbb424980d8f743f92e214e": {
     "views": []
    },
    "d54e7d8bf7d54e01979c16576d4b0601": {
     "views": []
    },
    "d7eb493d9c014f7c99646feaeec75812": {
     "views": []
    },
    "d9c48243f6884e769b87640cbae55757": {
     "views": []
    },
    "e4d7da6cd0304b82b8170b63de95e8f4": {
     "views": []
    },
    "ec3d9ebc659940779caeb83e02591d5d": {
     "views": []
    },
    "efb37fbf66e54ff08fcdedc11637343b": {
     "views": []
    },
    "f8285b6b377a4eada9bfe1ff4cba4d5f": {
     "views": []
    },
    "fbf3ba96783a4817be7487f5e9877083": {
     "views": []
    }
   },
   "version": "1.1.2"
  }
 },
 "nbformat": 4,
 "nbformat_minor": 0
}
