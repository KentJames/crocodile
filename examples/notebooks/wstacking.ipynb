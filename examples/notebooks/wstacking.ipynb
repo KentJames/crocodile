{
 "cells": [
  {
   "cell_type": "markdown",
   "metadata": {
    "collapsed": true,
    "deletable": true,
    "editable": true
   },
   "source": [
    "# Illustration of w-stacking"
   ]
  },
  {
   "cell_type": "code",
   "execution_count": null,
   "metadata": {
    "collapsed": false,
    "deletable": true,
    "editable": true
   },
   "outputs": [],
   "source": [
    "%matplotlib inline\n",
    "\n",
    "import sys\n",
    "sys.path.append('../..')\n",
    "\n",
    "from matplotlib import pylab\n",
    "\n",
    "pylab.rcParams['figure.figsize'] = 16, 10\n",
    "\n",
    "import functools\n",
    "import numpy\n",
    "import scipy\n",
    "import scipy.special\n",
    "\n",
    "from crocodile.clean import *\n",
    "from crocodile.synthesis import *\n",
    "from crocodile.simulate import *\n",
    "from util.visualize import *\n",
    "from arl.test_support import create_named_configuration"
   ]
  },
  {
   "cell_type": "markdown",
   "metadata": {
    "deletable": true,
    "editable": true
   },
   "source": [
    "Generate baseline coordinates for an observation with the VLA over 6 hours, with a visibility recorded every 10 minutes. The phase center is fixed at a declination of 45 degrees. We assume that the imaged sky says at that position over the course of the observation.\n",
    "\n",
    "Note how this gives rise to fairly large $w$-values."
   ]
  },
  {
   "cell_type": "code",
   "execution_count": null,
   "metadata": {
    "collapsed": false,
    "deletable": true,
    "editable": true
   },
   "outputs": [],
   "source": [
    "vlas = create_named_configuration('VLAA')\n",
    "ha_range = numpy.arange(numpy.radians(0),\n",
    "                        numpy.radians(90),\n",
    "                        numpy.radians(90 / 36))\n",
    "dec = numpy.radians(45)\n",
    "vobs = xyz_to_baselines(vlas.data['xyz'], ha_range, dec)\n",
    "\n",
    "# Wavelength: 5 metres \n",
    "wvl=5\n",
    "uvw = vobs / wvl\n",
    "\n",
    "from mpl_toolkits.mplot3d import Axes3D\n",
    "import matplotlib.pyplot as plt\n",
    "ax = plt.figure().add_subplot(121, projection='3d')\n",
    "ax.scatter(uvw[:,0], uvw[:,1] , uvw[:,2])\n",
    "max_uvw = numpy.amax(uvw)\n",
    "ax.set_xlabel('U [$\\lambda$]'); ax.set_xlim((-max_uvw, max_uvw))\n",
    "ax.set_ylabel('V [$\\lambda$]'); ax.set_ylim((-max_uvw, max_uvw))\n",
    "ax.set_zlabel('W [$\\lambda$]'); ax.set_zlim((-max_uvw, max_uvw))\n",
    "ax.view_init(20, 20)\n",
    "pylab.show()"
   ]
  },
  {
   "cell_type": "markdown",
   "metadata": {
    "deletable": true,
    "editable": true
   },
   "source": [
    "## We can now generate visibilities for these baselines by simulation. We place three sources."
   ]
  },
  {
   "cell_type": "code",
   "execution_count": null,
   "metadata": {
    "collapsed": false,
    "deletable": true,
    "editable": true,
    "scrolled": false
   },
   "outputs": [],
   "source": [
    "import itertools\n",
    "vis = numpy.zeros(len(uvw), dtype=complex)\n",
    "for u,v in itertools.product(range(-3, 4), range(-3, 4)):\n",
    "    vis += 1.0*simulate_point(uvw, 0.010*u, 0.010*v)\n",
    "plt.clf()\n",
    "uvdist=numpy.sqrt(uvw[:,0]**2+uvw[:,1]**2)\n",
    "plt.plot(uvdist, numpy.abs(vis), '.', color='r')"
   ]
  },
  {
   "cell_type": "markdown",
   "metadata": {
    "deletable": true,
    "editable": true
   },
   "source": [
    "Using imaging, we can now reconstruct the image. We split the visibilities into a number of w-bins:"
   ]
  },
  {
   "cell_type": "code",
   "execution_count": null,
   "metadata": {
    "collapsed": false,
    "deletable": true,
    "editable": true
   },
   "outputs": [],
   "source": [
    "theta = 2*0.05\n",
    "lam = 18000\n",
    "\n",
    "# Add conjugate pairs of visibilities\n",
    "uvw = numpy.vstack([uvw, -uvw])\n",
    "vis = numpy.hstack([vis, numpy.conj(vis)])\n",
    "\n",
    "# Bin\n",
    "wmin = numpy.min(uvw[:,2])\n",
    "wmax = numpy.max(uvw[:,2])\n",
    "wplanes = 61\n",
    "wplane = numpy.floor((uvw[:,2] - wmin) * wplanes / (wmax - wmin)).astype(int)"
   ]
  },
  {
   "cell_type": "markdown",
   "metadata": {},
   "source": [
    "Now we can image each w-plane separately, and divide the w-term out in the image plane. This method requires us to do a lot of FFTs:"
   ]
  },
  {
   "cell_type": "code",
   "execution_count": null,
   "metadata": {
    "collapsed": false,
    "deletable": true,
    "editable": true,
    "scrolled": false
   },
   "outputs": [],
   "source": [
    "# Determine weights using all visibilities, start image sum\n",
    "wt = doweight(theta, lam, uvw, numpy.ones(len(uvw)))\n",
    "image_sum = numpy.zeros((int(theta*lam),int(theta*lam)), dtype=complex)\n",
    "for wp in range(wplanes):\n",
    "    \n",
    "    # Filter out w-plane\n",
    "    puvw = uvw[wplane == wp]\n",
    "    if len(puvw) == 0: continue\n",
    "    pvis = vis[wplane == wp]\n",
    "    pwt = wt[wplane == wp]\n",
    "    midw = numpy.mean(puvw[:,2])\n",
    "    print(\"w-plane %d: %d visibilities, %.1f average w\" % (wp, len(puvw), midw))\n",
    "    \n",
    "    # Translate w-coordinate (not needed for simple imaging though)\n",
    "    #puvw = numpy.array(puvw)\n",
    "    #puvw[:,2] -= midw\n",
    "    \n",
    "    src = numpy.ndarray((len(pvis), 0))\n",
    "    \n",
    "    # Make image\n",
    "    cdrt = simple_imaging(theta, lam, puvw, src, pvis * pwt)\n",
    "    l,m = theta*coordinates2(theta*lam)\n",
    "    \n",
    "    # Multiply by Fresnel pattern in image space, add\n",
    "    wkern = w_kernel_function(l, m, midw)\n",
    "    image_sum += ifft(cdrt) / wkern\n",
    "\n",
    "show_image(numpy.real(image_sum), \"image\", theta)"
   ]
  },
  {
   "cell_type": "markdown",
   "metadata": {
    "deletable": true,
    "editable": true
   },
   "source": [
    "Zooming in shows the source structure in detail"
   ]
  },
  {
   "cell_type": "code",
   "execution_count": null,
   "metadata": {
    "collapsed": false,
    "deletable": true,
    "editable": true
   },
   "outputs": [],
   "source": [
    "image_sum = numpy.real(image_sum)\n",
    "step=int(theta*lam/10)\n",
    "def zoom(x, y=step): pylab.matshow(image_sum[y:y+2*step,x:x+2*step]) ; pylab.colorbar(shrink=.4,pad=0.025);  pylab.show()\n",
    "from ipywidgets import interact\n",
    "interact(zoom, x=(0,image_sum.shape[0]-2*step,step), y=(0,image_sum.shape[1]-2*step,step));"
   ]
  },
  {
   "cell_type": "markdown",
   "metadata": {
    "deletable": true,
    "editable": true
   },
   "source": [
    "If we use convolution kernels for $w$-reprojection, we can improve the sharpness of imaging. First we make a cache to hold the convolution kernels."
   ]
  },
  {
   "cell_type": "code",
   "execution_count": null,
   "metadata": {
    "collapsed": false,
    "deletable": true,
    "editable": true
   },
   "outputs": [],
   "source": [
    "wstep=100\n",
    "wcachesize=int(numpy.ceil(numpy.abs(uvw[:,2]).max()/wstep))\n",
    "print(\"Making w-kernel cache of %d kernels\" % wcachesize)\n",
    "wcache=pylru.FunctionCacheManager(w_kernel, wcachesize)\n",
    "imgfn = functools.partial(w_cache_imaging, kernel_cache=w_conj_kernel_fn(wcache),\n",
    "                          wstep=wstep, Qpx=2, NpixFF=256, NpixKern=31)"
   ]
  },
  {
   "cell_type": "code",
   "execution_count": null,
   "metadata": {
    "collapsed": false,
    "deletable": true,
    "editable": true,
    "scrolled": false
   },
   "outputs": [],
   "source": [
    "d_w,p_w,_=do_imaging(theta, lam, uvw, None, vis, imgfn)\n",
    "show_image(d_w, \"image\", theta)"
   ]
  },
  {
   "cell_type": "code",
   "execution_count": null,
   "metadata": {
    "collapsed": false,
    "deletable": true,
    "editable": true
   },
   "outputs": [],
   "source": [
    "step=int(theta*lam/10)\n",
    "def zoom_w(x=720,y=step): pylab.matshow(d_w[y:y+2*step,x:x+2*step]); pylab.colorbar(shrink=.4,pad=0.025); pylab.show()\n",
    "interact(zoom_w, x=(0,d.shape[0]-2*step,step), y=(0,d.shape[1]-2*step,step))"
   ]
  }
 ],
 "metadata": {
  "kernelspec": {
   "display_name": "Python 3",
   "language": "python",
   "name": "python3"
  },
  "language_info": {
   "codemirror_mode": {
    "name": "ipython",
    "version": 3
   },
   "file_extension": ".py",
   "mimetype": "text/x-python",
   "name": "python",
   "nbconvert_exporter": "python",
   "pygments_lexer": "ipython3",
   "version": "3.5.2"
  },
  "widgets": {
   "state": {
    "0813694c90594e5abd8289e866eb8202": {
     "views": [
      {
       "cell_index": 9
      }
     ]
    },
    "a37fc7a335bd48708b8cdf1053a542cf": {
     "views": [
      {
       "cell_index": 13
      }
     ]
    }
   },
   "version": "1.2.0"
  }
 },
 "nbformat": 4,
 "nbformat_minor": 0
}
