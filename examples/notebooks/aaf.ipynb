{
 "cells": [
  {
   "cell_type": "markdown",
   "metadata": {},
   "source": [
    "\n",
    "Anti-Aliasing Functions in Interferometry\n",
    "=========================================\n",
    "\n",
    "Setup the data problem. Will use field of view of 0.002 radian. One\n",
    "source withing the field of view and a 5 times stronger just outside."
   ]
  },
  {
   "cell_type": "code",
   "execution_count": 8,
   "metadata": {
    "collapsed": false
   },
   "outputs": [
    {
     "ename": "ImportError",
     "evalue": "No module named 'crocodile.clean'",
     "traceback": [
      "\u001b[0;31m---------------------------------------------------------------------------\u001b[0m",
      "\u001b[0;31mImportError\u001b[0m                               Traceback (most recent call last)",
      "\u001b[0;32m<ipython-input-8-4a61d7d99c67>\u001b[0m in \u001b[0;36m<module>\u001b[0;34m()\u001b[0m\n\u001b[1;32m     13\u001b[0m \u001b[0;32mimport\u001b[0m \u001b[0mscipy\u001b[0m\u001b[0;34m.\u001b[0m\u001b[0mspecial\u001b[0m\u001b[0;34m\u001b[0m\u001b[0m\n\u001b[1;32m     14\u001b[0m \u001b[0;34m\u001b[0m\u001b[0m\n\u001b[0;32m---> 15\u001b[0;31m \u001b[0;32mfrom\u001b[0m \u001b[0mcrocodile\u001b[0m\u001b[0;34m.\u001b[0m\u001b[0mclean\u001b[0m \u001b[0;32mimport\u001b[0m \u001b[0;34m*\u001b[0m\u001b[0;34m\u001b[0m\u001b[0m\n\u001b[0m\u001b[1;32m     16\u001b[0m \u001b[0;32mfrom\u001b[0m \u001b[0mcrocodile\u001b[0m\u001b[0;34m.\u001b[0m\u001b[0msynthesis\u001b[0m \u001b[0;32mimport\u001b[0m \u001b[0;34m*\u001b[0m\u001b[0;34m\u001b[0m\u001b[0m\n\u001b[1;32m     17\u001b[0m \u001b[0;32mfrom\u001b[0m \u001b[0mcrocodile\u001b[0m\u001b[0;34m.\u001b[0m\u001b[0msimulate\u001b[0m \u001b[0;32mimport\u001b[0m \u001b[0;34m*\u001b[0m\u001b[0;34m\u001b[0m\u001b[0m\n",
      "\u001b[0;31mImportError\u001b[0m: No module named 'crocodile.clean'"
     ],
     "output_type": "error"
    }
   ],
   "source": [
    "%matplotlib inline\n",
    "\n",
    "import sys\n",
    "sys.path.append('../..')\n",
    "\n",
    "from matplotlib import pylab\n",
    "\n",
    "pylab.rcParams['figure.figsize'] = 16, 12\n",
    "\n",
    "\n",
    "import numpy\n",
    "import scipy\n",
    "import scipy.special\n",
    "\n",
    "from crocodile.clean import *\n",
    "from crocodile.synthesis import *\n",
    "from crocodile.simulate import *\n",
    "\n",
    "\n",
    "vlas=numpy.genfromtxt(\"data/configurations/VLA_A_hor_xyz.txt\", delimiter=\",\")\n",
    "vobs=xyz_to_baselines(vlas, numpy.arange(0,numpy.pi,0.04) ,  numpy.pi/4)\n",
    "yyone=simulate_point(vobs/5, 0.001, 0.001)\n",
    "yytwo=yyone+ simulate_point(vobs/5, 0.0025, 0.0025)*5"
   ]
  },
  {
   "cell_type": "markdown",
   "metadata": {},
   "source": [
    "Simple imaging (no convolution) with single source within field of view:"
   ]
  },
  {
   "cell_type": "code",
   "execution_count": null,
   "metadata": {
    "collapsed": true
   },
   "outputs": [],
   "source": [
    "d,p,_=doimg(2*0.002, 2*15000, vobs/5, yyone, simpleimg)\n",
    "pylab.matshow(d)  ; pylab.colorbar();  pylab.show()"
   ]
  },
  {
   "cell_type": "markdown",
   "metadata": {},
   "source": [
    "Simple imaging (no convolution) with both sources, shows the strong\n",
    "source being \"aliased\" back into the field of view:\n",
    "    "
   ]
  },
  {
   "cell_type": "code",
   "execution_count": null,
   "metadata": {
    "collapsed": true
   },
   "outputs": [],
   "source": [
    "d,p,_=doimg(2*0.002, 2*15000, vobs/5, yytwo, simpleimg)\n",
    "pylab.matshow(d)  ; pylab.colorbar();  pylab.show()\n",
    "print d[40:60,40:60].std()"
   ]
  },
  {
   "cell_type": "markdown",
   "metadata": {},
   "source": [
    "Anti-aliasing function\n",
    "======================\n",
    "\n",
    "This is an example anti-aliasing function to use:"
   ]
  },
  {
   "cell_type": "code",
   "execution_count": null,
   "metadata": {
    "collapsed": true
   },
   "outputs": [],
   "source": [
    "aa=aaf(numpy.zeros(shape=(120,120)), 0, 5)\n",
    "pylab.matshow(aa)  ; pylab.colorbar();  pylab.show()"
   ]
  },
  {
   "cell_type": "markdown",
   "metadata": {},
   "source": [
    "After FFT-ing and extracting the middle this is what the anti-aliasing\n",
    "function looks like:"
   ]
  },
  {
   "cell_type": "code",
   "execution_count": null,
   "metadata": {
    "collapsed": true
   },
   "outputs": [],
   "source": [
    "kv=pxoversample(aa, 120, 4, 7)\n",
    "pylab.matshow(kv[0][0].real)  ; pylab.colorbar();  pylab.show()"
   ]
  },
  {
   "cell_type": "markdown",
   "metadata": {},
   "source": [
    "Imaginary part is close to nil:"
   ]
  },
  {
   "cell_type": "code",
   "execution_count": null,
   "metadata": {
    "collapsed": true
   },
   "outputs": [],
   "source": [
    "pylab.matshow(kv[0][0].imag)  ; pylab.colorbar();  pylab.show()"
   ]
  },
  {
   "cell_type": "markdown",
   "metadata": {},
   "source": [
    "Gridding with the anti-aliasing function:\n",
    "=========================================\n",
    "\n",
    "This is the image of single source within field of view *without correcting the taper* . Note that the strength of the source is\n",
    "surpressed."
   ]
  },
  {
   "cell_type": "code",
   "execution_count": null,
   "metadata": {
    "collapsed": true
   },
   "outputs": [],
   "source": [
    "d,p,_=doimg(2*0.002, 2*15000, vobs/5, yyone, lambda *x: convimg(*x, kv=kv))\n",
    "pylab.matshow(d)  ; pylab.colorbar();  pylab.show()"
   ]
  },
  {
   "cell_type": "markdown",
   "metadata": {},
   "source": [
    "This is the image of single source within field of view. Note that the\n",
    "image is divided by the anti-aliasing funciton to correct for the\n",
    "taper introduced by it:"
   ]
  },
  {
   "cell_type": "code",
   "execution_count": null,
   "metadata": {
    "collapsed": true
   },
   "outputs": [],
   "source": [
    "d,p,_=doimg(2*0.002, 2*15000, vobs/5, yyone, lambda *x: convimg(*x, kv=kv))\n",
    "pylab.matshow(d/aa)  ; pylab.colorbar();  pylab.show()"
   ]
  },
  {
   "cell_type": "markdown",
   "metadata": {},
   "source": [
    "This is the image with source outside of field of view also: note that\n",
    "is very strongly surprssed."
   ]
  },
  {
   "cell_type": "code",
   "execution_count": null,
   "metadata": {
    "collapsed": true
   },
   "outputs": [],
   "source": [
    "d,p,_=doimg(2*0.002, 2*15000, vobs/5, yytwo, lambda *x: convimg(*x, kv=kv))\n",
    "pylab.matshow(d/aa)  ; pylab.colorbar();  pylab.show()\n",
    "print (d/aa)[40:60,40:60].std()"
   ]
  },
  {
   "cell_type": "markdown",
   "metadata": {},
   "source": [
    "As above but without correcting the taper."
   ]
  },
  {
   "cell_type": "code",
   "execution_count": null,
   "metadata": {
    "collapsed": true
   },
   "outputs": [],
   "source": [
    "d,p,_=doimg(2*0.002, 2*15000, vobs/5, yytwo, lambda *x: convimg(*x, kv=kv))\n",
    "pylab.matshow(d)  ; pylab.colorbar();  pylab.show()\n",
    "print (d)[40:60,40:60].std()"
   ]
  }
 ],
 "metadata": {
  "kernelspec": {
   "display_name": "Python 3",
   "language": "python",
   "name": "python3"
  },
  "language_info": {
   "codemirror_mode": {
    "name": "ipython",
    "version": 3.0
   },
   "file_extension": ".py",
   "mimetype": "text/x-python",
   "name": "python",
   "nbconvert_exporter": "python",
   "pygments_lexer": "ipython3",
   "version": "3.5.1"
  },
  "widgets": {
   "state": {},
   "version": "1.1.2"
  }
 },
 "nbformat": 4,
 "nbformat_minor": 0
}