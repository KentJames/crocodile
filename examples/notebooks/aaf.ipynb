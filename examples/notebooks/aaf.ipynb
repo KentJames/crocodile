{
 "cells": [
  {
   "cell_type": "markdown",
   "metadata": {},
   "source": [
    "\n",
    "Anti-Aliasing Functions in Interferometry\n",
    "========================================="
   ]
  },
  {
   "cell_type": "code",
   "execution_count": null,
   "metadata": {},
   "outputs": [],
   "source": [
    "%matplotlib inline\n",
    "\n",
    "import sys\n",
    "sys.path.append('../..')\n",
    "\n",
    "from matplotlib import pylab\n",
    "\n",
    "pylab.rcParams['figure.figsize'] = 12, 10\n",
    "\n",
    "import numpy\n",
    "import scipy\n",
    "import scipy.special\n",
    "\n",
    "from crocodile.clean import *\n",
    "from crocodile.synthesis import *\n",
    "from crocodile.simulate import *\n",
    "from crocodile.antialias import *\n",
    "\n",
    "from util.visualize import *\n"
   ]
  },
  {
   "cell_type": "markdown",
   "metadata": {},
   "source": [
    "## Test setup\n",
    "\n",
    "We will use a field of view of 0.004 radian. We place one\n",
    "source within the field of view ($l=m=0.001$) and another 5 times stronger source just outside ($l=m=0.0025$)."
   ]
  },
  {
   "cell_type": "code",
   "execution_count": null,
   "metadata": {
    "collapsed": true
   },
   "outputs": [],
   "source": [
    "vlas = numpy.genfromtxt(\"../../data/configurations/VLA_A_hor_xyz.csv\", delimiter=\",\")\n",
    "uvw = xyz_to_baselines(vlas, numpy.arange(0,numpy.pi,0.04), numpy.pi/4) / 5\n",
    "\n",
    "yyone = simulate_point(uvw, 0.001, 0.001)\n",
    "yytwo = yyone + 5*simulate_point(uvw, 0.0025, 0.0025)"
   ]
  },
  {
   "cell_type": "markdown",
   "metadata": {},
   "source": [
    "## Simple Imaging\n",
    "\n",
    "\n",
    "Imaging without convolution with just the first source within field of view:"
   ]
  },
  {
   "cell_type": "code",
   "execution_count": null,
   "metadata": {},
   "outputs": [],
   "source": [
    "theta = 0.004\n",
    "lam = 30000\n",
    "d,_,_=do_imaging(theta, lam, uvw, None, yyone, simple_imaging)\n",
    "show_image(d, \"simple[yyone]\", theta)\n",
    "print(d[40:60,40:60].std())"
   ]
  },
  {
   "cell_type": "markdown",
   "metadata": {},
   "source": [
    "If we now again do simple imaging with both sources, we see that the strong\n",
    "source at (0.0025, 0.0025) is getting \"aliased\" back into the field of view at (-0.0015, -0.0015):"
   ]
  },
  {
   "cell_type": "code",
   "execution_count": null,
   "metadata": {},
   "outputs": [],
   "source": [
    "d,_,_=do_imaging(theta, lam, uvw, None, yytwo, simple_imaging)\n",
    "show_image(d, \"simple[yytwo]\", theta)\n",
    "print(d[40:60,40:60].std())"
   ]
  },
  {
   "cell_type": "markdown",
   "metadata": {},
   "source": [
    "## Anti-aliasing function\n",
    "\n",
    "This is an example anti-aliasing function to use. It is separable, so we can work equivalently with one- or two-dimensional representations:"
   ]
  },
  {
   "cell_type": "code",
   "execution_count": null,
   "metadata": {},
   "outputs": [],
   "source": [
    "support = 6\n",
    "aa = anti_aliasing_function(int(theta*lam), 0, support)\n",
    "aa2 = numpy.outer(aa, aa)\n",
    "pylab.rcParams['figure.figsize'] = 7, 5\n",
    "pylab.plot(theta*coordinates(int(theta*lam)), aa); pylab.show()\n",
    "show_image(aa2, \"aa2\", theta)"
   ]
  },
  {
   "cell_type": "markdown",
   "metadata": {},
   "source": [
    "After FFT-ing and extracting the middle this is what the oversampled anti-aliasing\n",
    "kernel looks like in grid space:"
   ]
  },
  {
   "cell_type": "code",
   "execution_count": null,
   "metadata": {
    "scrolled": false
   },
   "outputs": [],
   "source": [
    "oversample = 128\n",
    "r = numpy.arange(-oversample*(support//2), oversample*((support+1)//2)) / oversample\n",
    "kv=kernel_oversample(aa, oversample, support)\n",
    "pylab.plot(r, numpy.transpose(kv).flatten().real);"
   ]
  },
  {
   "cell_type": "markdown",
   "metadata": {},
   "source": [
    "Imaginary part is close to nil:"
   ]
  },
  {
   "cell_type": "code",
   "execution_count": null,
   "metadata": {
    "scrolled": false
   },
   "outputs": [],
   "source": [
    "pylab.plot(r, numpy.transpose(kv)[::-1].flatten().imag);"
   ]
  },
  {
   "cell_type": "markdown",
   "metadata": {},
   "source": [
    "## Gridding with anti-aliasing function\n",
    "\n",
    "This is the image of single source within field of view *without correcting the taper*. Note that brightness falls off\n",
    "towards the edges of the picture. This is because applying the anti-aliasing convolution kernel is equivalent to multiplying the picture with the anti-aliasing function shown above."
   ]
  },
  {
   "cell_type": "code",
   "execution_count": null,
   "metadata": {},
   "outputs": [],
   "source": [
    "d,_,_=do_imaging(theta, lam, uvw, None, yyone, conv_imaging, kv=kv)\n",
    "pylab.rcParams['figure.figsize'] = 12, 10\n",
    "show_image(d, \"aa_{one}\", theta)\n",
    "print(d[40:60,40:60].std())"
   ]
  },
  {
   "cell_type": "markdown",
   "metadata": {},
   "source": [
    "However, as the anti-aliasing function never goes to zero, we can easily revert this effect by dividing out the anti-aliasing function:"
   ]
  },
  {
   "cell_type": "code",
   "execution_count": null,
   "metadata": {},
   "outputs": [],
   "source": [
    "show_image(d/numpy.outer(aa, aa), \"aa'_{one}\", theta)\n",
    "print((d/aa2)[40:60,40:60].std())"
   ]
  },
  {
   "cell_type": "markdown",
   "metadata": {},
   "source": [
    "Now we have restored image performance with just a single source in the field of view. In fact,\n",
    "imaging is a good deal cleaner than before (and the source slightly stronger), as with\n",
    "oversampling we are now taking fractional coordinates of visibilities into account.\n",
    "\n",
    "Bust most critically if we now add back the source outside of the field of view, it gets\n",
    "suppressed strongly. Because of its strength we still see noise centered around its off-screen \n",
    "position at (0.0025, 0.0025), but the source itself is gone:"
   ]
  },
  {
   "cell_type": "code",
   "execution_count": null,
   "metadata": {
    "scrolled": false
   },
   "outputs": [],
   "source": [
    "d,_,_=do_imaging(theta, lam, uvw, None, yytwo, conv_imaging, kv=kv)\n",
    "show_image(d/numpy.outer(aa, aa), \"aa'_{two}\", theta)\n",
    "print((d/aa2)[40:60,40:60].std())"
   ]
  }
 ],
 "metadata": {
  "kernelspec": {
   "display_name": "Python 3",
   "language": "python",
   "name": "python3"
  },
  "language_info": {
   "codemirror_mode": {
    "name": "ipython",
    "version": 3
   },
   "file_extension": ".py",
   "mimetype": "text/x-python",
   "name": "python",
   "nbconvert_exporter": "python",
   "pygments_lexer": "ipython3",
   "version": "3.5.1"
  },
  "widgets": {
   "state": {},
   "version": "1.1.2"
  }
 },
 "nbformat": 4,
 "nbformat_minor": 1
}
