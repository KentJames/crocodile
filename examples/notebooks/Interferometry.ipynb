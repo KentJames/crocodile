{
 "cells": [
  {
   "cell_type": "markdown",
   "metadata": {},
   "source": [
    "# Interferometry\n",
    "\n",
    "The idea behind interferometry is that electromagnetic waves emitted from a certain point in the sky will cause characteristic interference between signals received by antennas. The reason is simply that the wave's travel time differs slightly between the antennas. With the period nature of the wave, this means that if we add up the measurements of both antennas, the signals will either sum up or cancel each other out."
   ]
  },
  {
   "cell_type": "code",
   "execution_count": null,
   "metadata": {
    "collapsed": false
   },
   "outputs": [],
   "source": [
    "%matplotlib inline\n",
    "import matplotlib.pyplot as plt\n",
    "from matplotlib import cm, colors\n",
    "import numpy as np\n",
    "from ipywidgets import interact\n",
    "plt.rcParams['figure.figsize'] = 16, 8\n",
    "import sys\n",
    "sys.path.append('../..')\n",
    "from crocodile.simulate import *\n",
    "from crocodile.synthesis import *\n",
    "from util.visualize import *"
   ]
  },
  {
   "cell_type": "markdown",
   "metadata": {},
   "source": [
    "# 1. Expected\n",
    "\n",
    "Let's say that we are able to measure the interference pattern from two point source $(l_1,m_1)$ and $(l_2,m_2)$ at all points of a $(u,v)$ plane. In reality, this would require a thick mesh of receivers placed exactly perpendicular to the phase centre. This would show us a patterns that look as follows:"
   ]
  },
  {
   "cell_type": "code",
   "execution_count": null,
   "metadata": {
    "collapsed": false,
    "scrolled": false
   },
   "outputs": [],
   "source": [
    "N = 500; max_uv=25000\n",
    "max_lm = 1/512/16; step_lm = 1/32768\n",
    "bounds_lm = (-max_lm,max_lm,step_lm)\n",
    "extent_lm = (-max_lm,max_lm,-max_lm,max_lm)\n",
    "extent_uv = extent=(-max_uv,max_uv,-max_uv,max_uv)\n",
    "def draw_uv(ax, s_split):\n",
    "    ax.set_xlabel('u [$\\lambda$]'); ax.set_ylabel('v [$\\lambda$]')\n",
    "    ax.set_title(\"Interference pattern\")\n",
    "    return ax.imshow(s_split.real, norm=colors.Normalize(vmin=-1, vmax=1), extent=extent_uv, origin='lower')\n",
    "def draw_sky(ax, ls, ms):\n",
    "    ax.set_title(\"Sky (around phase centre)\")\n",
    "    ax.set_xlabel('l [$1$]'); ax.set_ylabel('m [$1$]')\n",
    "    ax.plot(ls, ms, 'ro')\n",
    "    ax.set_xlim([-max_lm, max_lm])\n",
    "    ax.set_ylim([-max_lm, max_lm])\n",
    "def show_pattern_2(l1,m1, l2,m2):\n",
    "    # Generate uvw coordinates\n",
    "    v,u = max_uv*2*coordinates2(N)\n",
    "    w = np.full(u.shape, 0, dtype=float)\n",
    "    uvw = np.concatenate(np.transpose((u,v,w)))\n",
    "    # Simulate for a full uv plane\n",
    "    s = simulate_point(uvw, l1, m1)\n",
    "    s += simulate_point(uvw, l2, m2)\n",
    "    fig = plt.figure()\n",
    "    draw_sky(fig.add_subplot(121), [l1,l2], [m1,m2])\n",
    "    im = draw_uv(fig.add_subplot(122), np.array(np.split(s, N)))\n",
    "    fig.colorbar(im,shrink=.4,pad=0.025)\n",
    "    plt.show()    \n",
    "interact(show_pattern_2,l1=bounds_lm, m1=bounds_lm,l2=bounds_lm, m2=bounds_lm);"
   ]
  },
  {
   "cell_type": "markdown",
   "metadata": {},
   "source": [
    "Note how small changes to $l$ or $m$ cause large-scale shifts in the interference pattern: This is why long baselines are required to identify small structures on the sky.\n",
    "\n",
    "We give $u$ and $v$ coordinates wavelengths here. For orientation: The longest baselines for Low (at 80 kilometre) will be correspond to 13.3 to 93.4 kilowavelenghts, whereas the longest planned baselines for Mid (at 150 kilometres) will be between 175.1 kilowavelenghts (Mid1) and 6904.8 kilowavelengths (Mid5C)."
   ]
  },
  {
   "cell_type": "markdown",
   "metadata": {},
   "source": [
    "## 2. Inversion\n",
    "\n",
    "The interaction between interference patterns from different directions is non-destructive, which means that we can invert the transformation shown above. In fact, this is a type of fourier transform, which is well-known to be invertible. So given enough data, we should be able to reconstruct the exact radiation intensity that we received from every sky direction.\n",
    "\n",
    "However, this is a lot trickier in practice: We cannot actually measure inteference patterns in a plane as suggested above. Instead, we can only measure it at relatively fixed points given by the telescope positions. Every baseline has a characteristic reception pattern:"
   ]
  },
  {
   "cell_type": "code",
   "execution_count": null,
   "metadata": {
    "collapsed": true
   },
   "outputs": [],
   "source": []
  }
 ],
 "metadata": {
  "kernelspec": {
   "display_name": "Python 3",
   "language": "python",
   "name": "python3"
  },
  "language_info": {
   "codemirror_mode": {
    "name": "ipython",
    "version": 3
   },
   "file_extension": ".py",
   "mimetype": "text/x-python",
   "name": "python",
   "nbconvert_exporter": "python",
   "pygments_lexer": "ipython3",
   "version": "3.5.1"
  },
  "widgets": {
   "state": {
    "01c0023daf5242e4b0bc2a6e95128676": {
     "views": []
    },
    "036a1cfdcd624d1fbd19ea387056d19f": {
     "views": []
    },
    "05f3b5d7aaac40aebdcc41a9a616fc79": {
     "views": []
    },
    "0e14a389ba274c8aaf43be255ec3132d": {
     "views": []
    },
    "0f2dd8fdaf2a42f793acb2e76c5a52ab": {
     "views": []
    },
    "0f3746773e8d441386857c5ffd823384": {
     "views": []
    },
    "142f1967d73342c7b5ffddc09d25f349": {
     "views": []
    },
    "14e3aed8e59842b3bfaeea27f2a5ba90": {
     "views": []
    },
    "15b00a526e7d44e8853460c07e2e9a19": {
     "views": []
    },
    "187411b9cd9d4722852bb0b79d011814": {
     "views": []
    },
    "1962b348594b47608f51e021ab0b13eb": {
     "views": []
    },
    "19dc1087e0404b0aa003cb7dce543f4c": {
     "views": []
    },
    "1aadff1cc09c4d53978949562a59a3dc": {
     "views": []
    },
    "1dbd91d42f7f4b45a03b512c14a16061": {
     "views": []
    },
    "1eb659e016f5496bb6eaa56e6c3056c3": {
     "views": []
    },
    "1f29af691bc74a9ebe2412c3affc94ba": {
     "views": []
    },
    "21bdc40a879643f186e982f686fac113": {
     "views": []
    },
    "2ad6120c3d5141fb9b8e9ac7d3ace804": {
     "views": []
    },
    "2cf39226529d46709740ee163bf06f66": {
     "views": []
    },
    "34a447bb959c48a6beb421e2eb59a3c5": {
     "views": []
    },
    "34e5af4ba39649899a468b1c8e589660": {
     "views": []
    },
    "3732138f112a44e3b418b8e6a9944055": {
     "views": []
    },
    "379abbd91bbf4750a206f172a304a022": {
     "views": []
    },
    "395a8cd69d204b6ea520aa053d7907ad": {
     "views": []
    },
    "3a04283761be497a9dc9b7dd1f0391db": {
     "views": []
    },
    "3c78c7fe4c3e44a5b05ad70b5dbe82ab": {
     "views": []
    },
    "3d394057863a465181b925145848991e": {
     "views": []
    },
    "3deb8d0778e842399297098e54aa7ee2": {
     "views": []
    },
    "471bb04a7d6345b5964b4e19e4855d38": {
     "views": []
    },
    "4bb765f65abb44099290eab70fe7adb4": {
     "views": []
    },
    "4dda8745197e4a359bba5845453c72f9": {
     "views": []
    },
    "4f4bbcbb57424b28bec4b092a19c8a8f": {
     "views": []
    },
    "4f87a65139bb4e6995713565ce4c8ea9": {
     "views": []
    },
    "507910f5c6d4492f9049817f48c50e34": {
     "views": []
    },
    "50f27d5d645e4b57a703d90d7eecab4c": {
     "views": []
    },
    "5e8d01dc912443d4bda18a7123e6db53": {
     "views": []
    },
    "6487eb1490094ef6b66349f18b89da36": {
     "views": [
      {
       "cell_index": 3
      }
     ]
    },
    "6887cf57f35c4219b0641c11da802466": {
     "views": []
    },
    "6bbf32957ef14ceaad6f6d04da2abfc5": {
     "views": []
    },
    "7008001a39e14c7e8e69e46a3ed6a5f9": {
     "views": []
    },
    "717bf6a3d7024c6f91d3c99e8bcf25d6": {
     "views": []
    },
    "7665f8448434427a85f250b56f404285": {
     "views": []
    },
    "7724e4a3bfce40cab5db81703e45588c": {
     "views": []
    },
    "773436ad82634585bc60053f5077d5bb": {
     "views": []
    },
    "77e1b643e5d341f3b23ca6b1e0de4440": {
     "views": []
    },
    "7c51ab7d4a934dca84a651cacea8ff5d": {
     "views": []
    },
    "7cbdc846688c4ec89ce27e9fe2a8e82a": {
     "views": []
    },
    "80bb584a5d36486db8068420ba3cad49": {
     "views": []
    },
    "81e949553b60486896407c7858d9dc9a": {
     "views": []
    },
    "84c27e7d33ca49499891d3eba08eb457": {
     "views": []
    },
    "855817aa35724c058c96ce4fefc8c256": {
     "views": []
    },
    "86704bc481ab475eb025e10e37e37d3a": {
     "views": []
    },
    "87c508f5060b4ca18978db104eeb9a89": {
     "views": []
    },
    "8f6de8a9fa3e49ecb4c01d68144fd7f4": {
     "views": []
    },
    "906f819b9239485ab2f9d12f6e7ddc72": {
     "views": []
    },
    "94ff9fc48abb4a1b856365a6ba39d36c": {
     "views": []
    },
    "9680a35646dc43839ad42baff63d85c9": {
     "views": []
    },
    "96c31f39df914f169bbc3b5e4c1873db": {
     "views": []
    },
    "971cf9db3feb48d08d354563bbc3b229": {
     "views": []
    },
    "97a90024fdb041a3a9683f7db1856500": {
     "views": []
    },
    "985b4c4f6b01429d8a03732645bc3309": {
     "views": []
    },
    "98fc1bcbea934eb19e5ba5c426214161": {
     "views": []
    },
    "998af84a441c4821917abe3663b2f5fb": {
     "views": []
    },
    "9a5b58f097b64d1a830e194f4d1b447d": {
     "views": []
    },
    "a391fef3c8734357b0ee6818715db75f": {
     "views": []
    },
    "a63055ddc76c4c98ba7f27f2c57591a5": {
     "views": []
    },
    "a9b9e1a388e44b84951bdc89057fab4b": {
     "views": []
    },
    "ad1a1c6bb0c84887b37ac27c57cc2998": {
     "views": []
    },
    "adb475db86b043e78bbf0e9abaeaa9c8": {
     "views": []
    },
    "b1207bebde4a4ec08a857ef244afa8a2": {
     "views": []
    },
    "b8cbc4a7e0fc4fdcae6ce79742e566be": {
     "views": []
    },
    "b9f34f6b1f914f4f883575b47d0c0ac0": {
     "views": []
    },
    "c28b8b90cadf4fafbbb586dc3472fdba": {
     "views": []
    },
    "c42550dfb2964015b9eb6055e7e65b4d": {
     "views": []
    },
    "c6c67136c4fc4f11b0fd66066f2f65ba": {
     "views": []
    },
    "c74b7ffb51b2493686fa7d756a2f2bd2": {
     "views": []
    },
    "c7e75e5bd4fb440d9bf78c85513441db": {
     "views": []
    },
    "ca738a88f50346b4802aa13b01007b47": {
     "views": []
    },
    "cd4e4ab6bd214e71b4e4f078f8febc95": {
     "views": []
    },
    "cfcd01ef987045e3997f2d12befa4fd7": {
     "views": []
    },
    "d2de7fb3add1470a9aefe15aa54f74bc": {
     "views": []
    },
    "d2f1f940d0bc43149eacdf2517a68647": {
     "views": []
    },
    "d770d54273e94635a8aa381a146d1a23": {
     "views": []
    },
    "d774f43f3a9342459ffa368056fb41b5": {
     "views": []
    },
    "d95035de42224ce99f8d0b78b6bd6209": {
     "views": []
    },
    "d981677869e34acd9ac55633bf059b45": {
     "views": []
    },
    "dcfb222d94544025886976c46032a440": {
     "views": []
    },
    "e124ac48c30b4396b3b65e8369022ab2": {
     "views": []
    },
    "e1df6958dd034576ac0a1fb076a8844f": {
     "views": []
    },
    "e1e329dc57c44d8790e8b7b6e778f57b": {
     "views": []
    },
    "e8f61479a60045dc9671996b015aecfe": {
     "views": []
    },
    "e97681f9070d4079816e53c2cca439cb": {
     "views": []
    },
    "eae52d2f5f2b463f9de6673128de9970": {
     "views": []
    },
    "eb2c802fa9d640c5b6fbcde08ad5c8c0": {
     "views": []
    },
    "eb504a8d5e7b4e9784c788d98c0d4d91": {
     "views": []
    },
    "ec49716b9d084e999a8563af7c0dfc68": {
     "views": []
    },
    "ec5b528aeae1470db14a587cae66e65f": {
     "views": []
    },
    "ec902f009aae489cbab15ba3eef7f36e": {
     "views": []
    },
    "ee0a20fb741c4679964bc6ffb7def396": {
     "views": []
    },
    "f0774e6941434606997f658e261e550a": {
     "views": []
    },
    "f32eefe395404a50b6711679bbabee74": {
     "views": []
    },
    "f3bf9ac0f21743b7a8da799ebcb98721": {
     "views": []
    },
    "f3d3b9cb58c04da3a696db0951e1eaf8": {
     "views": []
    },
    "f7d6b8ecdc8a4738b545ada617e66e08": {
     "views": []
    },
    "f964fcdf7bfd40f5bc6c77975a046f44": {
     "views": []
    },
    "f9dbfda8d1e64503b0b917dc02270637": {
     "views": []
    },
    "f9ff8b85df3844fead0240abbde8dd24": {
     "views": []
    },
    "fa4f724aad164aeab7e0127d05f7bfbd": {
     "views": []
    },
    "fa56a2f3f59743259e82090e81d0c167": {
     "views": []
    },
    "fac9169bdfbc40b985c299674318dfa1": {
     "views": []
    },
    "fc074ecf815f4aeb9bb849cba126ae02": {
     "views": []
    },
    "ffa4909cf6ad42929e0d4ecb454447fb": {
     "views": []
    }
   },
   "version": "1.1.2"
  }
 },
 "nbformat": 4,
 "nbformat_minor": 0
}
