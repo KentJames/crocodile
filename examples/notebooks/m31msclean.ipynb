{
 "cells": [
  {
   "cell_type": "markdown",
   "metadata": {},
   "source": [
    "# Notebook to demonstrate multiscale cleaning on the canonical \"M31\" source.\n",
    "\n",
    "We simulate some VLA data for M31 and then use msclean to restore it.\n",
    "\n",
    "Multiscale CLEAN, (IEEE Journal of Selected Topics in Sig Proc, 2008 vol. 2 pp. 793-801)"
   ]
  },
  {
   "cell_type": "code",
   "execution_count": null,
   "metadata": {
    "collapsed": false
   },
   "outputs": [],
   "source": [
    "%matplotlib inline\n",
    "\n",
    "import sys, os \n",
    "sys.path.append(os.path.join('..','..')) \n",
    "\n",
    "import pylab\n",
    "pylab.rcParams['figure.figsize'] = (12.0, 12.0)\n",
    "pylab.rcParams['image.cmap'] = 'rainbow'\n",
    "\n",
    "from timeit import default_timer as timer\n",
    "\n",
    "import numpy\n",
    "import scipy\n",
    "import scipy.special\n",
    "\n",
    "from matplotlib import pylab\n",
    "from matplotlib import pyplot as plt\n",
    "\n",
    "import pyfits\n",
    "\n",
    "from crocodile.synthesis import *\n",
    "from crocodile.simulate import *\n",
    "from util.visualize import *\n",
    "from crocodile.msclean import *"
   ]
  },
  {
   "cell_type": "markdown",
   "metadata": {},
   "source": [
    "Now generate and plot the uvw coordinates"
   ]
  },
  {
   "cell_type": "code",
   "execution_count": null,
   "metadata": {
    "collapsed": false
   },
   "outputs": [],
   "source": [
    "vlas=numpy.genfromtxt(\"../../data/vis/VLA_A_hor_xyz.txt\", delimiter=\",\") \n",
    "vlas_xyz = xyz_at_latitude(vlas, numpy.pi*34.0784/180.0)/30.0 \n",
    "uvw=xyz_to_baselines(vlas_xyz, numpy.arange(-numpy.pi/2.0, +numpy.pi/2.0,0.05), numpy.pi/10)\n",
    "plt.clf()\n",
    "plt.plot(uvw[:,0],uvw[:,1], '.')\n",
    "plt.plot(-uvw[:,0],-uvw[:,1], '.', color='red')\n",
    "plt.xlabel('U (m)')\n",
    "plt.ylabel('V (m)')\n",
    "plt.title('UV coverage')"
   ]
  },
  {
   "cell_type": "markdown",
   "metadata": {},
   "source": [
    "Next get the M31 model from the crocodile data directory"
   ]
  },
  {
   "cell_type": "code",
   "execution_count": null,
   "metadata": {
    "collapsed": false
   },
   "outputs": [],
   "source": [
    "m31model='../../data/models/M31.MOD'\n",
    "hdulist = pyfits.open(m31model)\n",
    "m31image=numpy.array(hdulist[0].data)\n",
    "plt.clf()\n",
    "plt.imshow(m31image, cmap='rainbow', origin='lower')\n",
    "plt.show()"
   ]
  },
  {
   "cell_type": "markdown",
   "metadata": {},
   "source": [
    "Calculate the visibility for m31 using wslicfwd"
   ]
  },
  {
   "cell_type": "code",
   "execution_count": null,
   "metadata": {
    "collapsed": false
   },
   "outputs": [],
   "source": [
    "lam=4.0*numpy.abs(uvw).max()\n",
    "cell=1.0/lam\n",
    "theta=256*cell\n",
    "wstep=100\n",
    "\n",
    "print(\"Field of view = %.2f degrees, maximum baseline %.3f (m)\" % (theta*180.0/numpy.pi, lam))"
   ]
  },
  {
   "cell_type": "markdown",
   "metadata": {},
   "source": [
    "The prediction and imaging steps use a least-recently-used cache of the w convolution kernels.\n",
    "Here we set up the cache and pre-fill it"
   ]
  },
  {
   "cell_type": "code",
   "execution_count": null,
   "metadata": {
    "collapsed": false,
    "scrolled": false
   },
   "outputs": [],
   "source": [
    "wcachesize=int(numpy.ceil(numpy.abs(uvw[:,2]).max()/wstep))\n",
    "print(\"Making w-kernel cache of %d kernels\" % (wcachesize))\n",
    "wcache=pylru.FunctionCacheManager(lambda iw: wkernaf(N=256, theta=theta, w=iw*wstep, s=15, Qpx=4), 10000)\n",
    "\n",
    "start = timer()\n",
    "for iw in range(-wcachesize,wcachesize):\n",
    "    wg=wcache(iw)\n",
    "mid = timer()\n",
    "\n",
    "print(\"First call took %.3f (s)\" % (mid-start))\n",
    "\n",
    "for iw in range(-wcachesize,wcachesize):\n",
    "    wg=wcache(iw)\n",
    "\n",
    "end = timer()\n",
    "print(\"Second call took %.3f (s)\" % (end-mid))"
   ]
  },
  {
   "cell_type": "markdown",
   "metadata": {},
   "source": [
    "Now we can define the prediction and imaging functions that will use this cache"
   ]
  },
  {
   "cell_type": "code",
   "execution_count": null,
   "metadata": {
    "collapsed": false
   },
   "outputs": [],
   "source": [
    "predfn=lambda *x: wcachefwd(*x, wstep=wstep, wcache=wcache)\n",
    "imgfn=lambda *x: wcacheimg(*x, wstep=wstep, wcache=wcache)"
   ]
  },
  {
   "cell_type": "markdown",
   "metadata": {},
   "source": [
    "Now we predict the visibility data using the w-kernels cache."
   ]
  },
  {
   "cell_type": "code",
   "execution_count": null,
   "metadata": {
    "collapsed": false
   },
   "outputs": [],
   "source": [
    "uvw[0]"
   ]
  },
  {
   "cell_type": "code",
   "execution_count": null,
   "metadata": {
    "collapsed": false,
    "scrolled": false
   },
   "outputs": [],
   "source": [
    "uvwsort,vobs=dopredict(theta, lam, p=uvw, modelimage=m31image, predfn=predfn)"
   ]
  },
  {
   "cell_type": "markdown",
   "metadata": {},
   "source": [
    "Plot the visibility as a function of uv distance"
   ]
  },
  {
   "cell_type": "code",
   "execution_count": null,
   "metadata": {
    "collapsed": false,
    "scrolled": false
   },
   "outputs": [],
   "source": [
    "print(uvwsort.shape)\n",
    "print(uvwsort[:,2].shape)\n",
    "\n",
    "print(vobs.shape)\n",
    "\n",
    "uvdist=numpy.sqrt(uvwsort[:,0]*uvwsort[:,0]+uvwsort[:,1]*uvwsort[:,1])\n",
    "plt.clf()\n",
    "plt.plot(uvwsort[:,2], numpy.abs(vobs), '.')\n",
    "plt.xlabel('w')\n",
    "plt.ylabel('Amp Visibility')\n",
    "plt.show()"
   ]
  },
  {
   "cell_type": "markdown",
   "metadata": {},
   "source": [
    "Next we make the dirty image and psf to check if it looks plausible"
   ]
  },
  {
   "cell_type": "code",
   "execution_count": null,
   "metadata": {
    "collapsed": false
   },
   "outputs": [],
   "source": [
    "d,p,_=doimg(2.0*theta, lam, uvwsort, vobs, imgfn=imgfn)\n",
    "plt.clf()\n",
    "plt.subplot(1,2,1)\n",
    "plt.imshow(p, cmap='rainbow', origin='lower')\n",
    "plt.title('PSF')\n",
    "c=plt.colorbar()\n",
    "plt.subplot(1,2,2)\n",
    "plt.imshow(d, cmap='rainbow', origin='lower')\n",
    "plt.title('Dirty image')\n",
    "c=plt.colorbar()\n",
    "\n"
   ]
  },
  {
   "cell_type": "markdown",
   "metadata": {},
   "source": [
    "Now we can do the deconvolution"
   ]
  },
  {
   "cell_type": "code",
   "execution_count": null,
   "metadata": {
    "collapsed": false,
    "scrolled": false
   },
   "outputs": [],
   "source": [
    "scales=[0, 3, 10, 30]\n",
    "ps, vs, m31cc, m31res=majorcycle(2.0*theta, lam, uvwsort, vobs, 0.75, 3, 1000, scales, 0.20, 0.1, \\\n",
    "                                 predfn=predfn, \\\n",
    "                                 imgfn=imgfn)"
   ]
  },
  {
   "cell_type": "markdown",
   "metadata": {},
   "source": [
    "Finally show the results"
   ]
  },
  {
   "cell_type": "code",
   "execution_count": null,
   "metadata": {
    "collapsed": false,
    "scrolled": false
   },
   "outputs": [],
   "source": [
    "print(\"Total flux in model %.6f Jy\" % numpy.sum(m31cc))\n",
    "plt.clf()\n",
    "plt.subplot(1,2,1)\n",
    "plt.imshow(m31cc, cmap='rainbow', origin='lower')\n",
    "c=plt.colorbar()\n",
    "plt.subplot(1,2,2)\n",
    "plt.imshow(m31res, cmap='rainbow', origin='lower')\n",
    "c=plt.colorbar()\n",
    "\n",
    "\n"
   ]
  },
  {
   "cell_type": "markdown",
   "metadata": {},
   "source": [
    "Now plot the residual visibility to see if it is noise-like"
   ]
  },
  {
   "cell_type": "code",
   "execution_count": null,
   "metadata": {
    "collapsed": false
   },
   "outputs": [],
   "source": [
    "plt.clf()\n",
    "plt.plot(uvdist, numpy.abs(vs), '.')\n",
    "plt.xlabel('UV distance (wavelengths)')\n",
    "plt.ylabel('Amp Residual Visibility')\n",
    "plt.show()"
   ]
  },
  {
   "cell_type": "markdown",
   "metadata": {},
   "source": [
    "Plot against w to see if the errors are more easily seen"
   ]
  },
  {
   "cell_type": "code",
   "execution_count": null,
   "metadata": {
    "collapsed": false
   },
   "outputs": [],
   "source": [
    "plt.clf()\n",
    "plt.plot(ps[:,2], numpy.abs(vs), '.')\n",
    "plt.xlabel('w')\n",
    "plt.ylabel('Amp Residual Visibility')\n",
    "plt.show()"
   ]
  },
  {
   "cell_type": "code",
   "execution_count": null,
   "metadata": {
    "collapsed": true
   },
   "outputs": [],
   "source": []
  },
  {
   "cell_type": "code",
   "execution_count": null,
   "metadata": {
    "collapsed": true
   },
   "outputs": [],
   "source": []
  }
 ],
 "metadata": {
  "kernelspec": {
   "display_name": "Python 3",
   "language": "python",
   "name": "python3"
  },
  "language_info": {
   "codemirror_mode": {
    "name": "ipython",
    "version": 3
   },
   "file_extension": ".py",
   "mimetype": "text/x-python",
   "name": "python",
   "nbconvert_exporter": "python",
   "pygments_lexer": "ipython3",
   "version": "3.5.1"
  },
  "widgets": {
   "state": {},
   "version": "1.1.2"
  }
 },
 "nbformat": 4,
 "nbformat_minor": 0
}
