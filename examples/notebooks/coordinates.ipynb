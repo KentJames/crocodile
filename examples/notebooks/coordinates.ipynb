{
 "cells": [
  {
   "cell_type": "markdown",
   "metadata": {},
   "source": [
    "# Coordinates used in interferometry\n",
    "\n",
    "Astronomy deals with a lot of graographic and celestial coordinate systems - and approximations thereof. This document is a quick introduction into the coordinate systems used by Crocodile:\n",
    "\n",
    " - hour angle/declination: positions on the sky relative to observer position\n",
    " - $(u,v,w)$: station / baseline positions (used for $uv$-grid coordinates)\n",
    " - $(l,m,n)$: sky directional cosines relative to the delay tracking centre (used for image coordinates)"
   ]
  },
  {
   "cell_type": "code",
   "execution_count": null,
   "metadata": {
    "collapsed": false
   },
   "outputs": [],
   "source": [
    "%matplotlib inline\n",
    "import matplotlib.pyplot as plt\n",
    "from matplotlib import cm, colors\n",
    "import numpy as np\n",
    "from ipywidgets import interact\n",
    "plt.rcParams['figure.figsize'] = 16, 8\n",
    "import sys\n",
    "sys.path.append('../..')\n",
    "from crocodile.simulate import *\n",
    "from util.visualize import *"
   ]
  },
  {
   "cell_type": "markdown",
   "metadata": {},
   "source": [
    "## 1. Hour angle / declination\n",
    "\n",
    "The only spherical coordinate system we are going to use for celestial coordinates. It is defined by:\n",
    "\n",
    "1. `declination == 90°` points north towards the celestial north pole (parallel to the earth axis)\n",
    "2. `declination == -90°` points south towards the celestial south pole (parallel to the earth axis)\n",
    "3. `hour_angle == 90°, declination == 0°` points west locally\n",
    "4. `hour_angle == -90°, declination == 0°` points east locally\n",
    "\n",
    "(Note: it is more common to express celestial cooordinates in terms of right ascension and declination. The conversion rule is simply `RA = LST - HA`, where `LST` is the local sidereal time, correcting for the earth's rotation. Note that `RA` increases eastwards, while `HA` increases westwards!)\n",
    "\n",
    "See this interactive visualisation - the $w$ arrow points towards the direction specified:"
   ]
  },
  {
   "cell_type": "code",
   "execution_count": null,
   "metadata": {
    "collapsed": false
   },
   "outputs": [],
   "source": [
    "interact(visualise_uvw, latitude=(0,90,10), hour_angle=(-90,90,10), declination=(-90,90,10));"
   ]
  },
  {
   "cell_type": "markdown",
   "metadata": {
    "collapsed": true
   },
   "source": [
    "## 2. Local coordinates\n",
    "\n",
    "For imaging, it is a good idea to express celestial directions relative to a certain \"middle\" position on the sky - conceptually the position that will appear in the middle of our image. This is called the phase tracking centre.\n",
    "\n",
    "From this we derive the $(u,v,w)$ coordinate system, which is a local coordinate system with its origin at the observer's location (centre of the telescope). The axes are determined as follows:\n",
    "\n",
    "1. $w$ points towards the phase tracking centre,\n",
    "\n",
    "2. $v, w$ and the north celestial pole are always on a common plane and\n",
    "\n",
    "3. $u$ completes a right-handed coordinate system (cross product of $v$ and $w$)\n",
    "\n",
    "This has the following properties:\n",
    "\n",
    "1. when the direction of observation is the north celestial pole (`hour_angle=0, declination=90`), the UVW coordinates are aligned with XYZ\n",
    "\n",
    "2. when $w$ is on the local meridian (`hour_angle=0`), $u$ points East\n",
    "\n",
    "4. when the direction of observation is at `declination=0`, `hour_angle=-90` makes $w$ point East.\n",
    "\n",
    "(adapted from http://casa.nrao.edu/Memos/CoordConvention.pdf)\n",
    "\n",
    "Here is an example of how we would translate the station coordinates of the VLA (http://www.vla.nrao.edu/) into the $(u,v,w)$ coordinate system appropriate for an observation:"
   ]
  },
  {
   "cell_type": "code",
   "execution_count": null,
   "metadata": {
    "collapsed": false
   },
   "outputs": [],
   "source": [
    "vlas = numpy.genfromtxt(\"../../data/vis/VLA_A_hor_xyz.txt\", delimiter=\",\")\n",
    "size = np.amax(np.abs(np.ravel(vlas)))\n",
    "\n",
    "def draw_transformed(latitude, hour_angle, declination):\n",
    "    xyz = xyz_at_latitude(vlas, np.radians(latitude))\n",
    "    uvws = xyz_to_uvw(xyz, np.radians(hour_angle), np.radians(declination))\n",
    "    ncp = xyz_to_uvw(np.array([[0,0,10000]]), np.radians(hour_angle), np.radians(declination))\n",
    "    \n",
    "    fig = plt.figure()\n",
    "    ax = fig.add_subplot(121, projection='3d')\n",
    "    ax.scatter(*np.transpose(xyz))\n",
    "    ax.set_xlabel('X [$m$]'); ax.set_ylabel('Y [$m$]'); ax.set_zlabel('Z [$m$]')\n",
    "    make_arrow(ax, [0,0,0], [10000,0,0], \"black\", \"geographic east\")\n",
    "    make_arrow(ax, [0,0,0], [0,0,10000], \"black\", \"celestial north\")\n",
    "    ax.set_xlim(-size,size); ax.set_ylim(-size,size); ax.set_zlim(-size,size)\n",
    "    ax = fig.add_subplot(122, projection='3d')\n",
    "    ax.scatter(*np.transpose(uvws))\n",
    "    make_arrow(ax, [0,0,0], [0,0,10000], \"black\", \"phase centre\")\n",
    "    make_arrow(ax, [0,0,0], ncp[0], \"gray\", \"celestial north\")\n",
    "    ax.set_xlabel('u [$m$]'); ax.set_ylabel('v [$m$]'); ax.set_zlabel('w [$m$]')\n",
    "    ax.set_xlim(-size,size); ax.set_ylim(-size,size); ax.set_zlim(-size,size)\n",
    "    plt.show()\n",
    "interact(draw_transformed, latitude=(-90,90,10), hour_angle=(-90,90,10), declination=(-90,90,10));"
   ]
  },
  {
   "cell_type": "markdown",
   "metadata": {},
   "source": [
    "Note how the only observation where the target does not move with the hour angle is `latitude = +-90` and `declination = +-90`. This means we are observing from the earth's north/south pole straight up/down, which makes stations rotate around us in a common plane.\n",
    "\n",
    "Of course, the hour angle is not constant along an observation due to the earth's rotation. For example, let us assume a 6 hour observation in which the hour angle of the phase centre goes from $-45°$ to $45°$. Then we get a distribution of station $(u,v,w)$ coordinates, depending on telescope latitude and phase centre declination:"
   ]
  },
  {
   "cell_type": "code",
   "execution_count": null,
   "metadata": {
    "collapsed": false
   },
   "outputs": [],
   "source": [
    "cmap = cm.ScalarMappable(norm=colors.Normalize(vmin=-45,vmax=45), cmap=cm.ocean)\n",
    "def draw_range(latitude, declination):\n",
    "    xyz = xyz_at_latitude(vlas, np.radians(latitude))\n",
    "    ax = plt.figure().add_subplot(121, projection='3d')\n",
    "    for hour_angle in numpy.linspace(-45, 45, 10):\n",
    "        \n",
    "        # Determine rotated station UVWs\n",
    "        uvws = xyz_to_uvw(xyz, np.radians(hour_angle), np.radians(declination))\n",
    "\n",
    "        ax.scatter(*np.transpose(uvws), c=cmap.to_rgba(hour_angle), edgecolor=cmap.to_rgba(hour_angle))\n",
    "    make_arrow(ax, [0,0,0], [0,0,10000], \"black\", \"phase centre\")\n",
    "    ax.set_xlabel('u [$m$]'); ax.set_ylabel('v [$m$]'); ax.set_zlabel('w [$m$]')\n",
    "    ax.set_xlim(-size,size); ax.set_ylim(-size,size); ax.set_zlim(-size,size)\n",
    "    plt.show()\n",
    "interact(draw_range, latitude=(-90,90,10), hour_angle=(-90,90,10), declination=(-90,90,10));"
   ]
  },
  {
   "cell_type": "markdown",
   "metadata": {},
   "source": [
    "Observe that with `latitude = 0` multiple stations do not move at all. This is because the VLA layout would have a line of stations going in a straight south-north line if placed on the equator. Fortunately, that is not where it is actually located."
   ]
  },
  {
   "cell_type": "markdown",
   "metadata": {},
   "source": [
    "## 3. Baselines\n",
    "\n",
    "For interferometry we derive data about the sky from the interference between station/antenna signals. Every such pair forms a _baseline_. The interference pattern measured for it largely depends on its length and orientation. The number of possible station combinations grows quadratically with the number stations, which means that even for relatively few stations we get very many baselines:"
   ]
  },
  {
   "cell_type": "code",
   "execution_count": null,
   "metadata": {
    "collapsed": false
   },
   "outputs": [],
   "source": [
    "def draw_baselines(latitude, declination):\n",
    "    xyz = xyz_at_latitude(vlas, np.radians(latitude))\n",
    "    ax = plt.figure().add_subplot(111, projection='3d')\n",
    "    ax.set_xlabel('u [$m$]'); ax.set_ylabel('v [$m$]'); ax.set_zlabel('w [$m$]')\n",
    "    ax.set_xlim(-size,size); ax.set_ylim(-size,size); ax.set_zlim(-size,size)\n",
    "    uvws = xyz_to_uvw(xyz, np.radians(0), np.radians(declination))\n",
    "    # Draw an arrow for every combination of station coordinates\n",
    "    import itertools\n",
    "    for source, target in itertools.combinations(uvws, 2):\n",
    "        make_arrow(ax, source, target, 'b', None, scale=10, lw=1)\n",
    "    ax.view_init(elev=80., azim=-45.)\n",
    "    plt.show()\n",
    "interact(draw_baselines, latitude=(-90,90,10), hour_angle=(-90,90,10), declination=(-90,90,10));"
   ]
  },
  {
   "cell_type": "markdown",
   "metadata": {},
   "source": [
    "In practice, we do not care about the baselines' spatial location, but just their direction and length. The difference between the station's $(u,v,w)$ coordinates yields the $(u,v,w)$ coordinates of the _baseline_."
   ]
  },
  {
   "cell_type": "code",
   "execution_count": null,
   "metadata": {
    "collapsed": false
   },
   "outputs": [],
   "source": [
    "def draw_baseline_orientations(latitude, declination):\n",
    "    xyz = xyz_at_latitude(vlas, np.radians(latitude))\n",
    "    def draw_orientations(ax, xyz):\n",
    "        ax.set_xlabel('u [$m$]'); ax.set_ylabel('v [$m$]'); ax.set_zlabel('w [$m$]')\n",
    "        ax.set_xlim(-2*size,2*size); ax.set_ylim(-2*size,2*size); ax.set_zlim(-2*size,2*size)\n",
    "        for hour_angle in numpy.linspace(-45, 45, 10):\n",
    "            # Determine rotated station UVWs, generate baselines from pairs\n",
    "            uvws = xyz_to_uvw(xyz, np.radians(hour_angle), np.radians(declination))\n",
    "            bls = baselines(uvws)\n",
    "            # Draw baseline orientation, both directions\n",
    "            ax.scatter(*np.transpose(bls), c=cmap.to_rgba(hour_angle), edgecolor=cmap.to_rgba(hour_angle))\n",
    "            ax.scatter(*np.transpose(-bls), c=cmap.to_rgba(hour_angle), edgecolor=cmap.to_rgba(hour_angle))\n",
    "    fig = plt.figure()\n",
    "    ax = fig.add_subplot(121, projection='3d')\n",
    "    draw_orientations(ax, xyz)\n",
    "    ax = fig.add_subplot(122, projection='3d')\n",
    "    draw_orientations(ax, xyz)\n",
    "    ax.view_init(elev=10., azim=-10.)\n",
    "    plt.show()\n",
    "interact(draw_baseline_orientations, latitude=(-90,90,10), hour_angle=(-90,90,10), declination=(-90,90,10));"
   ]
  },
  {
   "cell_type": "markdown",
   "metadata": {},
   "source": [
    "Important things to note here:\n",
    "\n",
    "- Strictly speaking every baseline has two coordinates $(u,v,w)$ and $(-u,-v,-w)$ depending on the order of the subtraction. We typically (arbitrarily) select only one direction to consider for every baseline. In the code above we draw all data twice for that reason.\n",
    "- In imaging, baseline $(u,v,w)$ coordinates are often measured in wavelenghts, as that makes it easier to reason about interference patterns. For the moment, we are still sticking with simple meter units."
   ]
  },
  {
   "cell_type": "markdown",
   "metadata": {},
   "source": [
    "## 4. Image/sky coordinates\n",
    "\n",
    "To complete our handling of coordinates, we need to revisit sky coordinates. While we can identify sky positions using the hour angle/declination system, it is not suitable for imaging. Just consider what would happen if we tried to image close to the celestial north pole. Instead, we will be using _directional cosines_, which are unit vectors pointing into the direction in question:\n",
    "\n",
    "$$\\begin{pmatrix}x\\\\y\\\\z\\end{pmatrix} = \\begin{pmatrix}\n",
    "    \\text{sin}(ha) * \\text{cos}(dec) \\\\\n",
    "    \\text{cos}(ha) * \\text{cos}(dec) \\\\\n",
    "    \\text{sin}(dec)\n",
    "\\end{pmatrix}$$\n",
    "\n",
    "For example, we can calculate the directional cosines of the phase centre in the $(x,y,z)$ coordinate system:"
   ]
  },
  {
   "cell_type": "code",
   "execution_count": null,
   "metadata": {
    "collapsed": false
   },
   "outputs": [],
   "source": [
    "interact(visualise_lmn, hour_angle=(-90,0,10), declination=(0,90,10));"
   ]
  },
  {
   "cell_type": "markdown",
   "metadata": {},
   "source": [
    "Note that in contrast to before, the sphere here stands for the sky instead of the earth. The sky is assumed to be very far away (\"far field\") to the point where we only care about directions, not distance. This means that we only have two degrees of freedom despite the fact that we are using three components.\n",
    "\n",
    "However, the local $(x,y,z)$ coordinate system is not particularly useful for imaging either. Just as with $(u,v,w)$ coordinates, we want to eliminate the influence of the observation direction. Therefore we define the $(l,m,n)$ coordinate system as parallel to the $(u,v,w)$ coordinate system, but with its origin at the phase tracking centre on the sky sphere:"
   ]
  },
  {
   "cell_type": "code",
   "execution_count": null,
   "metadata": {
    "collapsed": false
   },
   "outputs": [],
   "source": [
    "ax = pl.figure().add_subplot(111, projection='3d')\n",
    "ax.set_xlabel('m [$1$]'); ax.set_ylabel('l [$1$]'); ax.set_zlabel('n [$1$]')\n",
    "make_arrow(ax, (0,0,-1),(0,0,0), \"black\", \"phase centre\")\n",
    "lons = numpy.linspace(-numpy.pi, numpy.pi, 80)\n",
    "lats = numpy.linspace(numpy.pi/2, 0, 20)\n",
    "l, m, n = circular_to_xyz(numpy.outer(lons, numpy.ones(len(lats))),\n",
    "                          numpy.outer(numpy.ones(len(lons)), lats))\n",
    "ax.plot_surface(l, m, n-1, rstride=1, cstride=1, linewidth=0, alpha=0.4, color='white')\n",
    "ax.plot_surface(l, m, 0, rstride=1, cstride=1, linewidth=0, alpha=0.4, color='white')\n",
    "ax.view_init(elev=-35, azim=25)\n",
    "pl.show()"
   ]
  },
  {
   "cell_type": "markdown",
   "metadata": {},
   "source": [
    "Note that $n$ is now negative throughout, as the origin of the $(l,m,n)$ coordinate system lies at the tangent point of the sky sphere. As for imaging we can generally ignore the half of the sky facing away from the phase centre, we can especially calculate $n$ from $l$ and $m$:\n",
    "\n",
    "$$\\begin{pmatrix}l\\\\m\\\\n\\end{pmatrix} = \\begin{pmatrix}\n",
    "  l \\\\ n \\\\ \\sqrt{1-l^2-n^2}-1\n",
    "\\end{pmatrix}$$\n",
    "\n",
    "Which means that the projection of the sky half-sphere on the $(l,m)$ plane as illustrated above retains all relevant sky information. As we will see, it is beneficial to consider the imaging problem for the $(l,m)$ plane and \"correct\" for the $n$ term."
   ]
  },
  {
   "cell_type": "code",
   "execution_count": null,
   "metadata": {
    "collapsed": true
   },
   "outputs": [],
   "source": []
  }
 ],
 "metadata": {
  "kernelspec": {
   "display_name": "Python 3",
   "language": "python",
   "name": "python3"
  },
  "language_info": {
   "codemirror_mode": {
    "name": "ipython",
    "version": 3
   },
   "file_extension": ".py",
   "mimetype": "text/x-python",
   "name": "python",
   "nbconvert_exporter": "python",
   "pygments_lexer": "ipython3",
   "version": "3.5.1"
  },
  "widgets": {
   "state": {
    "01be0c07cc114982b0c0553eea073bfc": {
     "views": []
    },
    "06616db5c49d46e0aa7b86744405707c": {
     "views": [
      {
       "cell_index": 10
      }
     ]
    },
    "09af9ff9f4134a1499d8387fd038294c": {
     "views": []
    },
    "0aba44fcd6f34d3db269650732a6a8f3": {
     "views": [
      {
       "cell_index": 15
      }
     ]
    },
    "109324c6b3ca4ca69ae6ad20842a95e8": {
     "views": []
    },
    "121039a2a12d446286b0dc4073fe5c3f": {
     "views": []
    },
    "12aeda749ee3420e8e3706793f45769d": {
     "views": []
    },
    "14363f763f6440c9b8d8ec1c6f703d84": {
     "views": []
    },
    "14d8d062c6fa4f1bb2343901f90d0530": {
     "views": []
    },
    "15aeb12b9c364645a8cf122d1dac7204": {
     "views": []
    },
    "171347eb71b345d1ba1e51fc4766a8c1": {
     "views": []
    },
    "190c28df17fe4b26be29ec5624a89c6e": {
     "views": []
    },
    "1b8ccad66a8343e59c4e195e8e6e0bdc": {
     "views": []
    },
    "1bcd5b878fb144fcba1723e1a0023f71": {
     "views": []
    },
    "1bdc9018ef6a4655a42f6f8ec87788b6": {
     "views": []
    },
    "1c04092a1e26463e9c7a41059d6f3929": {
     "views": []
    },
    "21461aaea6c44d2fbd4873ad1dbed1c1": {
     "views": []
    },
    "2401e7b097634176ab65fc74e761711a": {
     "views": []
    },
    "27374966c0664434b7b2b6078105cf59": {
     "views": []
    },
    "28cae1da807047d6a3ef911e6fb92c08": {
     "views": []
    },
    "2bb36423a9e64e7d9c773bc134acc5a5": {
     "views": []
    },
    "2d77a6150092459899e151f7250e7c00": {
     "views": []
    },
    "2e4813557a2e4b05bed27f9b9852b3bb": {
     "views": []
    },
    "309adc72a99b45c9b785b3a1f79e3cc4": {
     "views": []
    },
    "31d08a6e99ab4cbdbfa49d3d1653a039": {
     "views": []
    },
    "32cce28c1b504cf8afd6be8c31b75de2": {
     "views": []
    },
    "3536d5322af642c3b15bbd05687382c3": {
     "views": []
    },
    "37b478d200e0446f9d774e4563948b68": {
     "views": []
    },
    "3efa56a27b904312877615f4d2bcf348": {
     "views": []
    },
    "3f5aef6a4a8545cd96be7ebd7df1ad52": {
     "views": []
    },
    "4183a6a9cae74b8a9924ad4a842ea26a": {
     "views": []
    },
    "44f8c07133b648bc811eea781568583f": {
     "views": []
    },
    "453d65aff3434daa9b171291c49c6c8c": {
     "views": []
    },
    "460a79976f5f44c595d6ae5539174741": {
     "views": []
    },
    "48f91716f42d481b9da690b49ddfff26": {
     "views": []
    },
    "4ca2f523f17e4c899bf7c8e8b5208c8b": {
     "views": []
    },
    "521333acb02f4efab8d67f3c4aa6d934": {
     "views": []
    },
    "52f8ba56fb054f73b8614c43f5e8c1e9": {
     "views": []
    },
    "539b8fc1070e49d3a15300b29d9f9d8d": {
     "views": []
    },
    "5508d5bdfef04e47b32e2b980bd08a61": {
     "views": [
      {
       "cell_index": 3
      }
     ]
    },
    "565b3b350b5e4dc98c0cc43acae06333": {
     "views": []
    },
    "59ab71cbe8f140b8b040f815dce53bd3": {
     "views": []
    },
    "5a4ede5dc92043f3be1afc4694cd9db6": {
     "views": [
      {
       "cell_index": 7
      }
     ]
    },
    "5c22437aa97d4b699334224b48426d3e": {
     "views": []
    },
    "5d31686833284ab5b60915e358026485": {
     "views": []
    },
    "5da91b164ae44e00839def73e1867b39": {
     "views": []
    },
    "5e5d21ee79d44c029c0d96ca9fc2e97f": {
     "views": []
    },
    "630435d9ce7c4722a062476fb4602cd6": {
     "views": []
    },
    "6592133505ff43cca4b7e1f30c14842c": {
     "views": []
    },
    "6793d035d599437c8c6d5cf0ca605515": {
     "views": []
    },
    "693e57d690be451c8d42022251cdc38a": {
     "views": []
    },
    "6b95f39510764035a3a9f8133f7498e6": {
     "views": []
    },
    "7500e9cff82d42b1a6c0d1ada622fbfd": {
     "views": []
    },
    "750147c371e447cfa4c77883605567c8": {
     "views": []
    },
    "75249ecd8c5341fd86230a0a02aafc87": {
     "views": []
    },
    "7620feb5bc664166bb92fe9977d6e61a": {
     "views": []
    },
    "7b0739876b194d01abec9f31360294e0": {
     "views": []
    },
    "7c1b99772fe3499eae9dd24e00ab0572": {
     "views": []
    },
    "7e763d4487cd4ca0aa4172bb1fc9b7fb": {
     "views": []
    },
    "817c5731a69d45ea8e88610376842c7d": {
     "views": []
    },
    "81f4d62528504f4a82b48b7f5a7a3e9b": {
     "views": []
    },
    "8494626033b64d99b66696ef57bc2cd7": {
     "views": []
    },
    "8781c2c839c2424990f976e81c25a443": {
     "views": []
    },
    "87b938c7ede64fac8aeca5d70b4e50bf": {
     "views": []
    },
    "886e561ba29b49e592e1833d1090be78": {
     "views": []
    },
    "8a94a20f175649d085be429ba9912406": {
     "views": []
    },
    "8d2326d5b29a41ab8f5ec4aa525397f5": {
     "views": []
    },
    "8f694632b0724880877b11a8bc6dd22e": {
     "views": []
    },
    "8f8d0e1fe87d4c6fbf1522e42eb26374": {
     "views": []
    },
    "8f9ac08722564e5395699accd7d29726": {
     "views": []
    },
    "91175419bbd04a8690d7ca50e4206ae5": {
     "views": []
    },
    "95888ef3fdd04dc695df2263be415a01": {
     "views": []
    },
    "95e5b6f02d5243b792b9195ea14a5ddc": {
     "views": []
    },
    "97a6fef48e394141b775b6ebe558226c": {
     "views": []
    },
    "9842b33c0f9d4124910d15619f73652e": {
     "views": []
    },
    "9ade666f16844339a9900d5a871a4b1b": {
     "views": []
    },
    "9b5fe0cb7b35460f9cf1b9ac04c6cf47": {
     "views": []
    },
    "9c996255b75345e4adb330adede72f8d": {
     "views": []
    },
    "a07d9fd873cc40f392044bcf63301db2": {
     "views": []
    },
    "a11533da62de4fa4b5bb7a854bf17874": {
     "views": []
    },
    "a29071986497490da85aedd35a9ebc03": {
     "views": []
    },
    "aa3d95698018402e9adc473a1fa5a4e7": {
     "views": []
    },
    "ac70cda83d7d4533a64333e00bd8605a": {
     "views": []
    },
    "ada83e8f73074a78abd783b79901aa02": {
     "views": []
    },
    "afe4b772d3024c44b0d207d021501e7f": {
     "views": []
    },
    "b0f44ede63a340b5b725fac8ec9e4339": {
     "views": []
    },
    "b32c7c5f00f143dcabb7df3e1520b656": {
     "views": []
    },
    "b4cba60d7f5545be984b366f2910a705": {
     "views": [
      {
       "cell_index": 5
      }
     ]
    },
    "b5b4c07a51bf4cb8ac3667383283c989": {
     "views": []
    },
    "b839df67a52f45ceb804f09911b5a173": {
     "views": []
    },
    "bbbc0b06326b45d08986f9e2aa0a8b6e": {
     "views": []
    },
    "be848c652cd24a8daf5ee5b320e52a0a": {
     "views": []
    },
    "be973a0c69c1495bb7da56faacbfacb5": {
     "views": []
    },
    "bfe3ae68f80f4f67bb27aa1115fce59c": {
     "views": []
    },
    "c1325a6315424a38a322f37802512a90": {
     "views": []
    },
    "c321d4b6cd854ab08609ebda27c1a2f8": {
     "views": []
    },
    "c4152997a9ef40919b60bdb3e1be2395": {
     "views": []
    },
    "ccb47073e9144208ae32d6e14fadec1d": {
     "views": []
    },
    "d857c1be086d4102897ed9681408d540": {
     "views": []
    },
    "da21a0d4927b4512a4b113032ace2640": {
     "views": []
    },
    "dc5d2113950d4db693a7cad0392a4ba1": {
     "views": []
    },
    "de12c014926e4449a7cb2cb21e3d27a9": {
     "views": []
    },
    "df63c0d4cf364550bb4b3fcf1adb254d": {
     "views": []
    },
    "dffeb08ea56545d29a335ff4468805cb": {
     "views": []
    },
    "e31eec94bf2c470da433f7727c527663": {
     "views": []
    },
    "e337db5afe484cbb9697699e561358f1": {
     "views": []
    },
    "e4bf6aa3d17049c289cf84a0f18bdbf5": {
     "views": []
    },
    "e4d02995b20e4641abd1b3812bc5b026": {
     "views": []
    },
    "e4f18fc620064fa0b44552ca95a791d5": {
     "views": [
      {
       "cell_index": 12
      }
     ]
    },
    "e7420aa8a782495fa5b1594867f3417c": {
     "views": []
    },
    "e816a5d3ea94432895973d8533009a62": {
     "views": []
    },
    "ec431642b8f0491f9efaf3451f5dd66f": {
     "views": []
    },
    "ed991fc621ba49bb9874c66f7f179d8a": {
     "views": []
    },
    "f21dad3511b742c099e8b81a08226871": {
     "views": []
    },
    "f2ae3bda03c7421893e835900e01fca4": {
     "views": []
    },
    "f4f331c8bf244f40a2711ea7ca52b340": {
     "views": []
    },
    "f51181055f6b45ada1ac24e9d9f55eae": {
     "views": []
    },
    "f8b6717e21e44b0d984751e03ce1e5a3": {
     "views": []
    },
    "f9c91f58d1454949a8a6bb289dd6e8fc": {
     "views": []
    },
    "fec05d7bb3004ca7a12c63966fe1bde9": {
     "views": []
    }
   },
   "version": "1.1.2"
  }
 },
 "nbformat": 4,
 "nbformat_minor": 0
}
