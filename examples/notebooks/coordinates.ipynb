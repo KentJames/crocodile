{
 "cells": [
  {
   "cell_type": "markdown",
   "metadata": {},
   "source": [
    "# Coordinates used in interferometry\n",
    "\n",
    "Astronomy deals with a lot of graographic and celestial coordinate systems - and approximations thereof. This document is a quick introduction into the coordinate systems used by Crocodile:\n",
    "\n",
    " - hour angle/declination: positions on the sky relative to observer position\n",
    " - $(u,v,w)$: station / baseline positions (used for $uv$-grid coordinates)\n",
    " - $(l,m,n)$: sky directional cosines relative to the delay tracking centre (used for image coordinates)"
   ]
  },
  {
   "cell_type": "code",
   "execution_count": null,
   "metadata": {
    "collapsed": false
   },
   "outputs": [],
   "source": [
    "%matplotlib inline\n",
    "import matplotlib.pyplot as plt\n",
    "from matplotlib import cm, colors\n",
    "import numpy as np\n",
    "from ipywidgets import interact\n",
    "plt.rcParams['figure.figsize'] = 16, 8\n",
    "import sys\n",
    "sys.path.append('../..')\n",
    "from crocodile.simulate import *\n",
    "from util.visualize import *"
   ]
  },
  {
   "cell_type": "markdown",
   "metadata": {},
   "source": [
    "## 1. Hour angle / declination\n",
    "\n",
    "The only spherical coordinate system we are going to use for celestial coordinates. It is defined by:\n",
    "\n",
    "1. `declination == 90°` points north towards the celestial north pole (parallel to the earth axis)\n",
    "2. `declination == -90°` points south towards the celestial south pole (parallel to the earth axis)\n",
    "3. `hour_angle == 90°, declination == 0°` points west locally\n",
    "4. `hour_angle == -90°, declination == 0°` points east locally\n",
    "\n",
    "(Note: it is more common to express celestial cooordinates in terms of right ascension and declination. The conversion rule is simply `RA = LST - HA`, where `LST` is the local sidereal time, correcting for the earth's rotation. Note that `RA` increases eastwards, while `HA` increases westwards!)\n",
    "\n",
    "See this interactive visualisation - the $w$ arrow points towards the direction specified:"
   ]
  },
  {
   "cell_type": "code",
   "execution_count": null,
   "metadata": {
    "collapsed": false
   },
   "outputs": [],
   "source": [
    "interact(visualise_uvw, latitude=(0,90,10), hour_angle=(-90,90,10), declination=(-90,90,10));"
   ]
  },
  {
   "cell_type": "markdown",
   "metadata": {
    "collapsed": true
   },
   "source": [
    "## 2. Local coordinates\n",
    "\n",
    "For imaging, it is a good idea to express celestial directions relative to a certain \"middle\" position on the sky - conceptually the position that will appear in the middle of our image. This is called the phase tracking centre.\n",
    "\n",
    "From this we derive the $(u,v,w)$ coordinate system, which is a local coordinate system with its origin at the observer's location (centre of the telescope). The axes are determined as follows:\n",
    "\n",
    "1. $w$ points towards the phase tracking centre,\n",
    "\n",
    "2. $v, w$ and the north celestial pole are always on a common plane and\n",
    "\n",
    "3. $u$ completes a right-handed coordinate system (cross product of $v$ and $w$)\n",
    "\n",
    "This has the following properties:\n",
    "\n",
    "1. when the direction of observation is the north celestial pole (`hour_angle=0, declination=90`), the UVW coordinates are aligned with XYZ\n",
    "\n",
    "2. when $w$ is on the local meridian (`hour_angle=0`), $u$ points East\n",
    "\n",
    "4. when the direction of observation is at `declination=0`, `hour_angle=-90` makes $w$ point East.\n",
    "\n",
    "(adapted from http://casa.nrao.edu/Memos/CoordConvention.pdf)\n",
    "\n",
    "Here is an example of how we would translate the station coordinates of the VLA (http://www.vla.nrao.edu/) into the $(u,v,w)$ coordinate system appropriate for an observation:"
   ]
  },
  {
   "cell_type": "code",
   "execution_count": null,
   "metadata": {
    "collapsed": false
   },
   "outputs": [],
   "source": [
    "vlas = numpy.genfromtxt(\"../../data/configurations/VLA_A_hor_xyz.csv\", delimiter=\",\")\n",
    "size = np.amax(np.abs(np.ravel(vlas)))\n",
    "\n",
    "def draw_transformed(latitude, hour_angle, declination):\n",
    "    xyz = xyz_at_latitude(vlas, np.radians(latitude))\n",
    "    uvws = xyz_to_uvw(xyz, np.radians(hour_angle), np.radians(declination))\n",
    "    ncp = xyz_to_uvw(np.array([[0,0,10000]]), np.radians(hour_angle), np.radians(declination))\n",
    "    \n",
    "    fig = plt.figure()\n",
    "    ax = fig.add_subplot(121, projection='3d')\n",
    "    ax.scatter(*np.transpose(xyz))\n",
    "    ax.set_xlabel('X [$m$]'); ax.set_ylabel('Y [$m$]'); ax.set_zlabel('Z [$m$]')\n",
    "    make_arrow(ax, [0,0,0], [10000,0,0], \"black\", \"geographic east\")\n",
    "    make_arrow(ax, [0,0,0], [0,0,10000], \"black\", \"celestial north\")\n",
    "    ax.set_xlim(-size,size); ax.set_ylim(-size,size); ax.set_zlim(-size,size)\n",
    "    ax = fig.add_subplot(122, projection='3d')\n",
    "    ax.scatter(*np.transpose(uvws))\n",
    "    make_arrow(ax, [0,0,0], [0,0,10000], \"black\", \"phase centre\")\n",
    "    make_arrow(ax, [0,0,0], ncp[0], \"gray\", \"celestial north\")\n",
    "    ax.set_xlabel('u [$m$]'); ax.set_ylabel('v [$m$]'); ax.set_zlabel('w [$m$]')\n",
    "    ax.set_xlim(-size,size); ax.set_ylim(-size,size); ax.set_zlim(-size,size)\n",
    "    plt.show()\n",
    "interact(draw_transformed, latitude=(-90,90,10), hour_angle=(-90,90,10), declination=(-90,90,10));"
   ]
  },
  {
   "cell_type": "markdown",
   "metadata": {},
   "source": [
    "Note how the only observation where the target does not move with the hour angle is `latitude = +-90` and `declination = +-90`. This means we are observing from the earth's north/south pole straight up/down, which makes stations rotate around us in a common plane.\n",
    "\n",
    "Of course, the hour angle is not constant along an observation due to the earth's rotation. For example, let us assume a 6 hour observation in which the hour angle of the phase centre goes from $-45°$ to $45°$. Then we get a distribution of station $(u,v,w)$ coordinates, depending on telescope latitude and phase centre declination:"
   ]
  },
  {
   "cell_type": "code",
   "execution_count": null,
   "metadata": {
    "collapsed": false
   },
   "outputs": [],
   "source": [
    "cmap = cm.ScalarMappable(norm=colors.Normalize(vmin=-45,vmax=45), cmap=cm.ocean)\n",
    "def draw_range(latitude, declination):\n",
    "    xyz = xyz_at_latitude(vlas, np.radians(latitude))\n",
    "    ax = plt.figure().add_subplot(121, projection='3d')\n",
    "    for hour_angle in numpy.linspace(-45, 45, 10):\n",
    "        \n",
    "        # Determine rotated station UVWs\n",
    "        uvws = xyz_to_uvw(xyz, np.radians(hour_angle), np.radians(declination))\n",
    "\n",
    "        ax.scatter(*np.transpose(uvws), c=[cmap.to_rgba(hour_angle)]*len(uvws), edgecolor=cmap.to_rgba(hour_angle))\n",
    "    make_arrow(ax, [0,0,0], [0,0,10000], \"black\", \"phase centre\")\n",
    "    ax.set_xlabel('u [$m$]'); ax.set_ylabel('v [$m$]'); ax.set_zlabel('w [$m$]')\n",
    "    ax.set_xlim(-size,size); ax.set_ylim(-size,size); ax.set_zlim(-size,size)\n",
    "    plt.show()\n",
    "interact(draw_range, latitude=(-90,90,10), hour_angle=(-90,90,10), declination=(-90,90,10));"
   ]
  },
  {
   "cell_type": "markdown",
   "metadata": {},
   "source": [
    "Observe that with `latitude = 0` multiple stations do not move at all. This is because the VLA layout would have a line of stations going in a straight south-north line if placed on the equator. Fortunately, that is not where it is actually located."
   ]
  },
  {
   "cell_type": "markdown",
   "metadata": {},
   "source": [
    "## 3. Baselines\n",
    "\n",
    "For interferometry we derive data about the sky from the interference between station/antenna signals. Every such pair forms a _baseline_. The interference pattern measured for it largely depends on its length and orientation. The number of possible station combinations grows quadratically with the number stations, which means that even for relatively few stations we get very many baselines:"
   ]
  },
  {
   "cell_type": "code",
   "execution_count": null,
   "metadata": {
    "collapsed": false
   },
   "outputs": [],
   "source": [
    "def draw_baselines(latitude, declination):\n",
    "    xyz = xyz_at_latitude(vlas, np.radians(latitude))\n",
    "    ax = plt.figure().add_subplot(111, projection='3d')\n",
    "    ax.set_xlabel('u [$m$]'); ax.set_ylabel('v [$m$]'); ax.set_zlabel('w [$m$]')\n",
    "    ax.set_xlim(-size,size); ax.set_ylim(-size,size); ax.set_zlim(-size,size)\n",
    "    uvws = xyz_to_uvw(xyz, np.radians(0), np.radians(declination))\n",
    "    # Draw an arrow for every combination of station coordinates\n",
    "    import itertools\n",
    "    for source, target in itertools.combinations(uvws, 2):\n",
    "        make_arrow(ax, source, target, 'b', None, scale=10, lw=1)\n",
    "    ax.view_init(elev=80., azim=-45.)\n",
    "    plt.show()\n",
    "interact(draw_baselines, latitude=(-90,90,10), hour_angle=(-90,90,10), declination=(-90,90,10));"
   ]
  },
  {
   "cell_type": "markdown",
   "metadata": {},
   "source": [
    "In practice, we do not care about the baselines' spatial location, but just their direction and length. The difference between the station's $(u,v,w)$ coordinates yields the $(u,v,w)$ coordinates of the _baseline_."
   ]
  },
  {
   "cell_type": "code",
   "execution_count": null,
   "metadata": {
    "collapsed": false
   },
   "outputs": [],
   "source": [
    "def draw_baseline_orientations(latitude, declination):\n",
    "    xyz = xyz_at_latitude(vlas, np.radians(latitude))\n",
    "    def draw_orientations(ax, xyz):\n",
    "        ax.set_xlabel('u [$m$]'); ax.set_ylabel('v [$m$]'); ax.set_zlabel('w [$m$]')\n",
    "        ax.set_xlim(-2*size,2*size); ax.set_ylim(-2*size,2*size); ax.set_zlim(-2*size,2*size)\n",
    "        for hour_angle in numpy.linspace(-45, 45, 10):\n",
    "            # Determine rotated station UVWs, generate baselines from pairs\n",
    "            uvws = xyz_to_uvw(xyz, np.radians(hour_angle), np.radians(declination))\n",
    "            bls = baselines(uvws)\n",
    "            # Draw baseline orientation, both directions\n",
    "            color = len(bls)*[cmap.to_rgba(hour_angle)]\n",
    "            ax.scatter(*np.transpose(bls), c=color, edgecolor=cmap.to_rgba(hour_angle))\n",
    "            ax.scatter(*np.transpose(-bls), c=color, edgecolor=cmap.to_rgba(hour_angle))\n",
    "    fig = plt.figure()\n",
    "    ax = fig.add_subplot(121, projection='3d')\n",
    "    draw_orientations(ax, xyz)\n",
    "    ax = fig.add_subplot(122, projection='3d')\n",
    "    draw_orientations(ax, xyz)\n",
    "    ax.view_init(elev=10., azim=-10.)\n",
    "    plt.show()\n",
    "interact(draw_baseline_orientations, latitude=(-90,90,10), hour_angle=(-90,90,10), declination=(-90,90,10));"
   ]
  },
  {
   "cell_type": "markdown",
   "metadata": {},
   "source": [
    "Important things to note here:\n",
    "\n",
    "- Strictly speaking every baseline has two coordinates $(u,v,w)$ and $(-u,-v,-w)$ depending on the order of the subtraction. We typically (arbitrarily) select only one direction to consider for every baseline. In the code above we draw all data twice for that reason.\n",
    "- In imaging, baseline $(u,v,w)$ coordinates are often measured in wavelenghts, as that makes it easier to reason about interference patterns. For the moment, we are still sticking with simple meter units."
   ]
  },
  {
   "cell_type": "markdown",
   "metadata": {},
   "source": [
    "## 4. Image/sky coordinates\n",
    "\n",
    "To complete our handling of coordinates, we need to revisit sky coordinates. While we can identify sky positions using the hour angle/declination system, it is not suitable for imaging. Just consider what would happen if we tried to image close to the celestial north pole. Instead, we will be using _directional cosines_, which are unit vectors pointing into the direction in question:\n",
    "\n",
    "$$\\begin{pmatrix}x\\\\y\\\\z\\end{pmatrix} = \\begin{pmatrix}\n",
    "    \\text{sin}(ha) * \\text{cos}(dec) \\\\\n",
    "    \\text{cos}(ha) * \\text{cos}(dec) \\\\\n",
    "    \\text{sin}(dec)\n",
    "\\end{pmatrix}$$\n",
    "\n",
    "For example, we can calculate the directional cosines of the phase centre in the $(x,y,z)$ coordinate system:"
   ]
  },
  {
   "cell_type": "code",
   "execution_count": null,
   "metadata": {
    "collapsed": false
   },
   "outputs": [],
   "source": [
    "interact(visualise_lmn, hour_angle=(-90,0,10), declination=(0,90,10));"
   ]
  },
  {
   "cell_type": "markdown",
   "metadata": {},
   "source": [
    "Note that in contrast to before, the sphere here stands for the sky instead of the earth. The sky is assumed to be very far away (\"far field\") to the point where we only care about directions, not distance. This means that we only have two degrees of freedom despite the fact that we are using three components.\n",
    "\n",
    "However, the local $(x,y,z)$ coordinate system is not particularly useful for imaging either. Just as with $(u,v,w)$ coordinates, we want to eliminate the influence of the observation direction. Therefore we define the $(l,m,n)$ coordinate system as parallel to the $(u,v,w)$ coordinate system, but with its origin at the phase tracking centre on the sky sphere:"
   ]
  },
  {
   "cell_type": "code",
   "execution_count": null,
   "metadata": {
    "collapsed": false
   },
   "outputs": [],
   "source": [
    "ax = pl.figure().add_subplot(111, projection='3d')\n",
    "ax.set_xlabel('m [$1$]'); ax.set_ylabel('l [$1$]'); ax.set_zlabel('n [$1$]')\n",
    "make_arrow(ax, (0,0,-1),(0,0,0), \"black\", \"phase centre\")\n",
    "lons = numpy.linspace(-numpy.pi, numpy.pi, 80)\n",
    "lats = numpy.linspace(numpy.pi/2, 0, 20)\n",
    "l, m, n = circular_to_xyz(numpy.outer(lons, numpy.ones(len(lats))),\n",
    "                          numpy.outer(numpy.ones(len(lons)), lats))\n",
    "ax.plot_surface(l, m, n-1, rstride=1, cstride=1, linewidth=0, alpha=0.4, color='white')\n",
    "ax.plot_surface(l, m, numpy.array([[0]]), rstride=1, cstride=1, linewidth=0, alpha=0.4, color='white')\n",
    "ax.view_init(elev=-35, azim=25)\n",
    "pl.show()"
   ]
  },
  {
   "cell_type": "markdown",
   "metadata": {},
   "source": [
    "Note that $n$ is now negative throughout, as the origin of the $(l,m,n)$ coordinate system lies at the tangent point of the sky sphere. As for imaging we can generally ignore the half of the sky facing away from the phase centre, we can especially calculate $n$ from $l$ and $m$:\n",
    "\n",
    "$$\\begin{pmatrix}l\\\\m\\\\n\\end{pmatrix} = \\begin{pmatrix}\n",
    "  l \\\\ n \\\\ \\sqrt{1-l^2-n^2}-1\n",
    "\\end{pmatrix}$$\n",
    "\n",
    "Which means that the projection of the sky half-sphere on the $(l,m)$ plane as illustrated above retains all relevant sky information. As we will see, it is beneficial to consider the imaging problem for the $(l,m)$ plane and \"correct\" for the $n$ term."
   ]
  },
  {
   "cell_type": "code",
   "execution_count": null,
   "metadata": {
    "collapsed": true
   },
   "outputs": [],
   "source": [
    ""
   ]
  }
 ],
 "metadata": {
  "kernelspec": {
   "display_name": "Python 3",
   "language": "python",
   "name": "python3"
  },
  "language_info": {
   "codemirror_mode": {
    "name": "ipython",
    "version": 3.0
   },
   "file_extension": ".py",
   "mimetype": "text/x-python",
   "name": "python",
   "nbconvert_exporter": "python",
   "pygments_lexer": "ipython3",
   "version": "3.5.1"
  },
  "widgets": {
   "state": {
    "034eefe4eb5b44d3abbf6d2b794d6032": {
     "views": []
    },
    "12a80cfbfe3a4dc398f6625c5331c4bb": {
     "views": []
    },
    "15104e92aa224c34b224ed15eca11873": {
     "views": []
    },
    "159dc67c4ca348d5a259157bfc795e81": {
     "views": []
    },
    "1888a607972e4f578c0bd9e86ae045b2": {
     "views": []
    },
    "1a8c34b4bb774ffcac85f6b601b50344": {
     "views": []
    },
    "2094be45a2844c74bc8d68308c16558b": {
     "views": []
    },
    "22af4481d76946c0b96bb634cd95aab6": {
     "views": []
    },
    "28d0a3367ee246a0b497e325a9fd1ae3": {
     "views": []
    },
    "2b6d8461d0614b46b6f9e748ed0699c6": {
     "views": []
    },
    "3145ace178734ac58ecf46e8bf9e5fbe": {
     "views": []
    },
    "32f11ab0f0874c4da12e7d48c669bdf2": {
     "views": []
    },
    "5032fc8166194e119720a6beb7748580": {
     "views": []
    },
    "53987c8f30a647ad8425da3c33ed4bde": {
     "views": []
    },
    "5a78ac3728374a39b60b8a4eb11ee268": {
     "views": []
    },
    "5efd4a4d0c6b4eed8f1470cab14ccd75": {
     "views": []
    },
    "604c06b862d445b48f5415a5b57568da": {
     "views": []
    },
    "64eadbe9ac3e4dfe863b21536132a686": {
     "views": []
    },
    "6e4621a2c76d4052b8ed9de2329fd52e": {
     "views": []
    },
    "7c0e883d5cdd420588aaa37b42f6848c": {
     "views": []
    },
    "80b28907172b46069ad87612ac52c4b0": {
     "views": []
    },
    "834f15424ffb49a79745f5b2d7659aaf": {
     "views": []
    },
    "8521edc4c8fa489ab107811eb12b0a9d": {
     "views": []
    },
    "878aee3ff3e340d687bc719536323663": {
     "views": []
    },
    "9933b0a3ffa449279d99a170bce8c65e": {
     "views": []
    },
    "9a83b5e9328c4413b144e8e3f033e8c6": {
     "views": []
    },
    "bb0572ccbe1444f8bc661b98fd18a899": {
     "views": []
    },
    "c68f5adb64d94351b87a093dd162bbfa": {
     "views": []
    },
    "c8664f55930e4d22bd9c42e26a36c44a": {
     "views": []
    },
    "c9827ed521d349af90c4ebf6e7fe8c03": {
     "views": []
    },
    "cf1b1fe36539446bb6587db5c085d08c": {
     "views": []
    },
    "d921e4fbbf9e4bce971249c545539248": {
     "views": []
    },
    "e80d793f3c434075a8b957e8cdad4c2a": {
     "views": []
    },
    "e8c68dd95f4749349b17c7b54db896b6": {
     "views": []
    },
    "eb1c90e905e54f01916b7da1243e2aa5": {
     "views": []
    },
    "f02c70708ff045f5bbb83ef3bc4894c5": {
     "views": []
    },
    "f19b0a12f002412aa56ad8557fbfd976": {
     "views": []
    },
    "f30901dab01946cd8b6409108c52ebb2": {
     "views": []
    },
    "fdf7c6217ed84bc5a48e194dbe5714af": {
     "views": []
    },
    "ff549ba5ca1d46a1bcfcdd12790cdf3b": {
     "views": []
    }
   },
   "version": "1.1.2"
  }
 },
 "nbformat": 4,
 "nbformat_minor": 0
}