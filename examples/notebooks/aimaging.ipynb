{
 "cells": [
  {
   "cell_type": "markdown",
   "metadata": {
    "collapsed": true
   },
   "source": [
    "# Illustration of A-projection\n",
    "\n",
    "How to deal with direction- and baseline-dependent delays when imaging using $A$-kernels."
   ]
  },
  {
   "cell_type": "code",
   "execution_count": null,
   "metadata": {
    "collapsed": true
   },
   "outputs": [],
   "source": [
    "%matplotlib inline\n",
    "\n",
    "import sys\n",
    "sys.path.append('../..')\n",
    "\n",
    "from matplotlib import pylab\n",
    "\n",
    "pylab.rcParams['figure.figsize'] = 10, 10\n",
    "\n",
    "import functools\n",
    "import numpy\n",
    "import scipy\n",
    "import scipy.special\n",
    "import astropy\n",
    "import astropy.units as u\n",
    "\n",
    "from mpl_toolkits.mplot3d import Axes3D\n",
    "import matplotlib.pyplot as plt\n",
    "from ipywidgets import interact\n",
    "\n",
    "from crocodile.synthesis import *\n",
    "from crocodile.simulate import *\n",
    "from util.visualize import *\n",
    "from arl.test_support import create_named_configuration"
   ]
  },
  {
   "cell_type": "markdown",
   "metadata": {},
   "source": [
    "Generate baseline coordinates for a short observation with the VLA where the target is near the zenith. This means minimal w-values - the easy case."
   ]
  },
  {
   "cell_type": "code",
   "execution_count": null,
   "metadata": {},
   "outputs": [],
   "source": [
    "theta = 0.04\n",
    "lam = 18000\n",
    "grid_size = int(theta * lam)\n",
    "\n",
    "vlas = create_named_configuration('VLAA_north')\n",
    "ha_range = numpy.arange(numpy.radians(-30),\n",
    "                        numpy.radians(30),\n",
    "                        numpy.radians(90 / 360))\n",
    "dec = vlas.location.lat\n",
    "vobs = xyz_to_baselines(vlas.data['xyz'], ha_range, dec)\n",
    "\n",
    "# Create antenna mapping for visibilities\n",
    "antennas = vlas.data['xyz']\n",
    "nant = len(antennas)\n",
    "ant1,ant2 = baseline_ids(nant, len(ha_range))\n",
    "ant1xy = vlas.data['xyz'][ant1,:2]\n",
    "ant2xy = vlas.data['xyz'][ant2,:2]\n",
    "\n",
    "# Wavelength: 5 metres \n",
    "wvl=5\n",
    "uvw = vobs / wvl\n",
    "\n",
    "ax = plt.figure().add_subplot(111, projection='3d')\n",
    "ax.scatter(uvw[:,0], uvw[:,1] , uvw[:,2])\n",
    "max_uvw = numpy.amax(uvw)\n",
    "ax.set_xlabel('U [$\\lambda$]'); ax.set_xlim((-max_uvw, max_uvw))\n",
    "ax.set_ylabel('V [$\\lambda$]'); ax.set_ylim((-max_uvw, max_uvw))\n",
    "ax.set_zlabel('W [$\\lambda$]'); ax.set_zlim((-max_uvw, max_uvw))\n",
    "ax.view_init(20, 20)\n",
    "pylab.show()"
   ]
  },
  {
   "cell_type": "markdown",
   "metadata": {},
   "source": [
    "## Ionosphere\n",
    "\n",
    "However, let us assume that the ionosphere introduces random delays (refraction) into our data based on the location of the antenna and direction. Normally this delay screen would depend on both time and frequency too, but let us ignore that for the moment to keep things simple:"
   ]
  },
  {
   "cell_type": "code",
   "execution_count": null,
   "metadata": {},
   "outputs": [],
   "source": [
    "ion_res = 2000 # m\n",
    "ion_height = 300000 # m\n",
    "ion_fov = int(theta * ion_height)\n",
    "print(\"Ionospheric field of view:\", ion_fov//1000, \"km\")\n",
    "ion_size = 74000 + ion_fov # m\n",
    "print(\"Delay screen size:\", ion_size//1000, \"km\")\n",
    "ion_max_delay = 2e-8 # s\n",
    "numpy.random.seed(0)\n",
    "\n",
    "ion_delay = ion_max_delay * numpy.random.random((ion_size // ion_res, ion_size // ion_res))\n",
    "\n",
    "# Visualise, including antenna (ground) positions (for ha=0) to give a sense of scale\n",
    "ax = plt.subplot()\n",
    "img = ax.imshow(ion_delay,interpolation='bilinear',\n",
    "                extent=(-ion_size/2,ion_size/2,-ion_size/2,ion_size/2));\n",
    "ax.scatter(vlas.data['xyz'][:,0], vlas.data['xyz'][:,1], c='red')\n",
    "ax.set_title(\"Ionospheric delay\"); plt.colorbar(img)\n",
    "ax.set_xlabel('X [m]'); ax.set_ylabel('Y [m]');"
   ]
  },
  {
   "cell_type": "markdown",
   "metadata": {},
   "source": [
    "For example, here is the phase screen applying to our field of view at the centre of the telescope:"
   ]
  },
  {
   "cell_type": "code",
   "execution_count": null,
   "metadata": {},
   "outputs": [],
   "source": [
    "def ion_sample(ant, l, m):\n",
    "    # Sample image at appropriate position over the antenna\n",
    "    d = sample_image(ion_delay, (ant[0] + l * ion_height) / ion_res,\n",
    "                                (ant[1] + m * ion_height) / ion_res)\n",
    "    # Convert to phase difference for our wavelength\n",
    "    return(numpy.exp(2j * numpy.pi * d * astropy.constants.c.value / wvl))\n",
    "ls, ms = theta * coordinates2(5*ion_fov // ion_res)\n",
    "pylab.rcParams['figure.figsize'] = 16, 10\n",
    "show_image(ion_sample((0,0), ls, ms), \"phase screen\", theta);"
   ]
  },
  {
   "cell_type": "markdown",
   "metadata": {},
   "source": [
    "Now let's simulate visibilities. The delay will depend on both antennas involved in the baseline *and* the target position. This introduces some considerable \"noise\" into the phases:"
   ]
  },
  {
   "cell_type": "code",
   "execution_count": null,
   "metadata": {
    "collapsed": true,
    "scrolled": false
   },
   "outputs": [],
   "source": [
    "def add_point(l, m):\n",
    "    phasor = ion_sample(numpy.transpose(antennas[ant1,:2]), l, m) / \\\n",
    "             ion_sample(numpy.transpose(antennas[ant2,:2]), l, m)\n",
    "    return phasor, phasor * simulate_point(uvw, l,m)\n",
    "\n",
    "# Grid of points in the middle\n",
    "vis = numpy.zeros(len(uvw), dtype=complex)\n",
    "import itertools\n",
    "for il, im in itertools.product(range(-3, 4), range(-3, 4)):\n",
    "    vis += add_point(theta/10*il, theta/10*im)[1]\n",
    "# Extra dot to mark upper-right corner\n",
    "vis += add_point(theta*0.28, theta*0.28)[1]\n",
    "# Extra dot to mark upper-left corner\n",
    "vis += add_point(theta*-0.32, theta*0.28)[1]"
   ]
  },
  {
   "cell_type": "markdown",
   "metadata": {},
   "source": [
    "Because we chose low $w$-values, we can use simple imaging here. However, the noise we added to the phases messes quite a bit with our ability to locate sources:"
   ]
  },
  {
   "cell_type": "code",
   "execution_count": null,
   "metadata": {
    "scrolled": false
   },
   "outputs": [],
   "source": [
    "d,p,_=do_imaging(theta, lam, uvw, None, vis, simple_imaging)\n",
    "show_image(d, \"image\", theta)"
   ]
  },
  {
   "cell_type": "code",
   "execution_count": null,
   "metadata": {},
   "outputs": [],
   "source": [
    "def zoom(l=0, m=0): show_image(d, \"image\", theta, xlim=(l-theta/10,l+theta/10), ylim=(m-theta/10,m+theta/10))\n",
    "interact(zoom, l=(-theta/2,theta/2,theta/10), m=(-theta/2,theta/2,theta/10));"
   ]
  },
  {
   "cell_type": "markdown",
   "metadata": {},
   "source": [
    "The tricky aspect of this noise is that it is direction-dependent. This means that they have to be removed within imaging where we introduce direction again. As we will be working in the grid, we therefore make $A$-kernels that compensate for the introduced phase error.\n",
    "\n",
    "Note that normally $A$-kernels are unknowns, so we would at best have approximations of those available:"
   ]
  },
  {
   "cell_type": "code",
   "execution_count": null,
   "metadata": {
    "scrolled": false
   },
   "outputs": [],
   "source": [
    "ion_oversample = 10\n",
    "ls, ms = theta * coordinates2(ion_oversample * ion_fov // ion_res)\n",
    "print(\"A pattern size: %dx%d\" % ls.shape)\n",
    "apattern = []\n",
    "for ant in range(nant):\n",
    "    apattern.append(ion_sample(vlas.data['xyz'][ant], ls, ms))\n",
    "show_image(apattern[0], \"apattern\", theta)\n",
    "show_grid(fft(apattern[0]), \"akern\", theta)"
   ]
  },
  {
   "cell_type": "markdown",
   "metadata": {},
   "source": [
    "Our actual kernels will however we for antenna combinations (baselines). Therefore we make combinations. These are our actual kernels, so now we can do the FFT. We reduce the support a bit as well to make imaging faster."
   ]
  },
  {
   "cell_type": "code",
   "execution_count": null,
   "metadata": {
    "collapsed": true,
    "scrolled": false
   },
   "outputs": [],
   "source": [
    "Nkern = min(25, ls.shape[0])\n",
    "akern_combs = numpy.empty((nant, nant, 1, 1, Nkern, Nkern), dtype=complex)\n",
    "for a1 in range(nant):\n",
    "    for a2 in range(a1+1,nant):\n",
    "        akern_combs[a1, a2, 0, 0] = extract_mid(fft(apattern[a2] / apattern[a1]), Nkern)"
   ]
  },
  {
   "cell_type": "markdown",
   "metadata": {},
   "source": [
    "Some examples for the kernels we just generated. Short baselines will see almost exactly the same ionosphere, so the kernel is going to be relatively trivial - dominated by a single dot at $(0,0)$:"
   ]
  },
  {
   "cell_type": "code",
   "execution_count": null,
   "metadata": {},
   "outputs": [],
   "source": [
    "show_grid(akern_combs[0,1,0,0], \"aakern\", theta)"
   ]
  },
  {
   "cell_type": "markdown",
   "metadata": {},
   "source": [
    "On the other hand, for long baselines there is much more turbulence to compensate for, so the kernels start looking increasingly chaotic:"
   ]
  },
  {
   "cell_type": "code",
   "execution_count": null,
   "metadata": {},
   "outputs": [],
   "source": [
    "longest = numpy.argmax(uvw[:,0]**2+uvw[:,1]**2)\n",
    "show_grid(akern_combs[ant1[longest], ant2[longest],0,0], \"aakern\", theta)"
   ]
  },
  {
   "cell_type": "markdown",
   "metadata": {},
   "source": [
    "As random as these kernels look, they are exactly what we need to restore imaging performance:"
   ]
  },
  {
   "cell_type": "code",
   "execution_count": null,
   "metadata": {
    "scrolled": false
   },
   "outputs": [],
   "source": [
    "d_w,p_w,_=do_imaging(theta, lam, uvw, numpy.transpose([ant1, ant2]), vis, conv_imaging, kv=akern_combs)\n",
    "show_image(d_w, \"image\", theta)"
   ]
  },
  {
   "cell_type": "code",
   "execution_count": null,
   "metadata": {},
   "outputs": [],
   "source": [
    "def zoom(l=0, m=0): show_image(d_w, \"image\", theta, xlim=(l-theta/10,l+theta/10), ylim=(m-theta/10,m+theta/10))\n",
    "interact(zoom, l=(-theta/2,theta/2,theta/10), m=(-theta/2,theta/2,theta/10));"
   ]
  },
  {
   "cell_type": "markdown",
   "metadata": {},
   "source": [
    "Not required, but we can also easily add an anti-aliasing function into the mix and oversample the kernel. Gridding complexity doesn't change, and we get more accuracy:"
   ]
  },
  {
   "cell_type": "code",
   "execution_count": null,
   "metadata": {
    "scrolled": false
   },
   "outputs": [],
   "source": [
    "Qpx = 8; c = 5\n",
    "aa = anti_aliasing_function(ls.shape, 0, c)\n",
    "akern_combs2 = numpy.empty((nant, nant, Qpx, Qpx, Nkern, Nkern), dtype=complex)\n",
    "for a1 in range(nant):\n",
    "    for a2 in range(a1+1,nant):\n",
    "        akern_combs2[a1, a2] = kernel_oversample(aa * apattern[a2] / apattern[a1], Qpx, Nkern)\n",
    "show_grid(akern_combs2[0,1,0,0], \"aakern\", theta)\n",
    "show_grid(akern_combs2[ant1[longest], ant2[longest],0,0], \"aakern\", theta)\n",
    "d_w2,p_w2,_=do_imaging(theta, lam, uvw, numpy.transpose([ant1, ant2]), vis, conv_imaging, kv=akern_combs2)\n",
    "d_w2 /= anti_aliasing_function(d_w2.shape, 0, c)\n",
    "show_image(d_w2, \"image\", theta)"
   ]
  },
  {
   "cell_type": "code",
   "execution_count": null,
   "metadata": {},
   "outputs": [],
   "source": [
    "def zoom(l=0, m=0): show_image(d_w2, \"image\", theta, xlim=(l-theta/10,l+theta/10), ylim=(m-theta/10,m+theta/10))\n",
    "interact(zoom, l=(-theta/2,theta/2,theta/10), m=(-theta/2,theta/2,theta/10));"
   ]
  }
 ],
 "metadata": {
  "kernelspec": {
   "display_name": "Python 3",
   "language": "python",
   "name": "python3"
  },
  "language_info": {
   "codemirror_mode": {
    "name": "ipython",
    "version": 3
   },
   "file_extension": ".py",
   "mimetype": "text/x-python",
   "name": "python",
   "nbconvert_exporter": "python",
   "pygments_lexer": "ipython3",
   "version": "3.5.1"
  },
  "widgets": {
   "state": {
    "0813694c90594e5abd8289e866eb8202": {
     "views": [
      {
       "cell_index": 9
      }
     ]
    },
    "a37fc7a335bd48708b8cdf1053a542cf": {
     "views": [
      {
       "cell_index": 13
      }
     ]
    }
   },
   "version": "1.2.0"
  }
 },
 "nbformat": 4,
 "nbformat_minor": 1
}
