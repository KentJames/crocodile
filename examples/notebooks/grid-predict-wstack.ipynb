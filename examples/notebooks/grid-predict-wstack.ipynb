{
 "cells": [
  {
   "cell_type": "markdown",
   "metadata": {
    "ein.tags": "worksheet-0",
    "slideshow": {
     "slide_type": "-"
    }
   },
   "source": [
    "As Peter does in his Grid-predict notebook, specify initial parameters from which to work."
   ]
  },
  {
   "cell_type": "code",
   "execution_count": null,
   "metadata": {
    "autoscroll": false,
    "ein.hycell": false,
    "ein.tags": "worksheet-0",
    "slideshow": {
     "slide_type": "-"
    }
   },
   "outputs": [],
   "source": [
    "%matplotlib inline\n",
    "\n",
    "import sys\n",
    "sys.path.append('../..')\n",
    "\n",
    "from matplotlib import pylab as plt\n",
    "\n",
    "import itertools\n",
    "import numpy\n",
    "import scipy\n",
    "import scipy.special\n",
    "import time\n",
    "import random\n",
    "\n",
    "from ipywidgets import interact\n",
    "from IPython.display import display, Markdown, clear_output\n",
    "\n",
    "from crocodile.synthesis import *\n",
    "from crocodile.simulate import *\n",
    "from crocodile.antialias import *\n",
    "from util.visualize import *\n",
    "from arl.test_support import create_named_configuration, export_visibility_to_hdf5\n",
    "from arl.data_models import *"
   ]
  },
  {
   "cell_type": "code",
   "execution_count": null,
   "metadata": {
    "autoscroll": false,
    "ein.hycell": false,
    "ein.tags": "worksheet-0",
    "slideshow": {
     "slide_type": "-"
    }
   },
   "outputs": [],
   "source": [
    "theta = 0.1\n",
    "lam = 20480\n",
    "grid_size = int(theta*lam)"
   ]
  },
  {
   "cell_type": "markdown",
   "metadata": {
    "ein.tags": "worksheet-0",
    "slideshow": {
     "slide_type": "-"
    }
   },
   "source": []
  },
  {
   "cell_type": "code",
   "execution_count": null,
   "metadata": {
    "autoscroll": false,
    "ein.hycell": false,
    "ein.tags": "worksheet-0",
    "slideshow": {
     "slide_type": "-"
    }
   },
   "outputs": [],
   "source": [
    "aa_over = 4096\n",
    "aa_support = 6\n",
    "aa_x0 = 0.25\n",
    "aa_mode = 0\n",
    "aa_szetan = True\n",
    "if aa_support == 1:\n",
    "    print(\"Using trivial gridder\")\n",
    "    aa_gcf = numpy.ones((aa_over, aa_support))\n",
    "    def aa(x): return numpy.ones_like(x)\n",
    "elif aa_szetan:\n",
    "    print(\"Using Sze-Tan's gridder with R=%d, x_0=%g\" % (aa_support//2, aa_x0))\n",
    "    aa_gcf = sze_tan_gridder(aa_support//2, aa_x0, aa_over)\n",
    "    def aa(x):\n",
    "        return sze_tan_grid_correction_gen(aa_support//2, aa_x0, x)\n",
    "    print(\"Mean error:\", sze_tan_mean_error(aa_support//2, aa_x0))\n",
    "else:\n",
    "    aa_parameter = aa_support\n",
    "    print(\"Using PSWF with mode %d and parameter %g\" % (aa_mode, aa_parameter))\n",
    "    aa_gcf = kernel_oversample(anti_aliasing_function(grid_size, aa_mode, aa_parameter), aa_over, aa_support)\n",
    "    aa_gcf /= numpy.sum(aa_gcf[0])\n",
    "    def aa(x):\n",
    "        return scipy.special.pro_ang1(aa_mode, aa_mode, aa_parameter, 2*x)[0]\n",
    "    \n",
    "# Calculate appropriate step length to give us full accuracy for a field of view of size theta\n",
    "du = du_opt = aa_x0/(theta/2)\n",
    "print(\"Optimal du =\", du)\n",
    "\n",
    "# Plot gridding function\n",
    "plt.rcParams['figure.figsize'] = 10, 5\n",
    "r = numpy.arange(-aa_over*(aa_support//2), aa_over*((aa_support+1)//2)) / aa_over\n",
    "plt.plot(du_opt*r, numpy.transpose(aa_gcf).flatten().real);\n",
    "plt.xticks(du_opt*numpy.arange(-(aa_support//2), ((aa_support+1)//2)+1))\n",
    "plt.grid(True);plt.xlabel('u/v [$\\lambda$]');plt.title('$u/v$ Gridder');plt.show()\n",
    "\n",
    "# Plot grid correction function\n",
    "theta_x0 = theta/aa_x0/2\n",
    "x = coordinates(10001)\n",
    "#print(x)\n",
    "sze_aa_im = aa(x)\n",
    "print(sze_aa_im.shape)\n",
    "plt.plot(theta*x/aa_x0/2, aa(x));\n",
    "plt.title('$u/v$ Grid correction');plt.grid(True);plt.xlabel('l [1]')\n",
    "plt.axvspan(theta/2, theta_x0/2, color='lightgray', hatch='x', alpha=0.5)\n",
    "plt.axvspan(-theta/2, -theta_x0/2, color='lightgray', hatch='x', alpha=0.5)\n",
    "plt.annotate('(unused)', xy=((theta+theta_x0)/4,0.9), ha='center', color='gray')\n",
    "plt.annotate('(unused)', xy=(-(theta+theta_x0)/4,0.9), ha='center', color='gray');"
   ]
  },
  {
   "cell_type": "code",
   "execution_count": null,
   "metadata": {
    "autoscroll": false,
    "ein.hycell": false,
    "ein.tags": "worksheet-0",
    "slideshow": {
     "slide_type": "-"
    }
   },
   "outputs": [],
   "source": [
    "aa_support_w = 4\n",
    "aa_x0_w = 0.125\n",
    "aa_parameter_w = aa_support_w\n",
    "aa_szetan_w = True\n",
    "if aa_support_w == 1:\n",
    "    print(\"Using trivial gridder\")\n",
    "    aa_gcf_w = numpy.ones((aa_over, aa_support_w))\n",
    "    def aa_w(x): return numpy.ones_like(x)\n",
    "elif aa_szetan_w:\n",
    "    print(\"Using Sze-Tan's gridder with R=%d, x_0=%g\" % (aa_support_w//2, aa_x0_w))\n",
    "    aa_gcf_w = sze_tan_gridder(aa_support_w//2, aa_x0_w, aa_over)\n",
    "    def aa_w(x):\n",
    "        return sze_tan_grid_correction_gen(aa_support_w//2, aa_x0_w, x)\n",
    "    print(\"Mean error:\", sze_tan_mean_error(aa_support_w//2, aa_x0_w))\n",
    "else:\n",
    "    aa_gcf_w = kernel_oversample(anti_aliasing_function(grid_size, 0, aa_parameter_w), aa_over, aa_support_w)\n",
    "    aa_gcf_w /= numpy.sum(aa_gcf_w[0])\n",
    "    def aa_w(x):\n",
    "        return scipy.special.pro_ang1(aa_mode, aa_mode, aa_parameter_w, 2*x)[0]\n",
    "\n",
    "# Calculate appropriate step length to give us full accuracy for a field of view of size theta\n",
    "max_n = 1.0 - numpy.sqrt(1.0 - 2*(theta/2)**2)\n",
    "print(\"max_n =\", max_n)\n",
    "dw = dw_opt = aa_x0_w / max_n\n",
    "print(\"Optimal dw =\", dw)\n",
    "\n",
    "# Plot gridding function\n",
    "plt.rcParams['figure.figsize'] = 10, 5\n",
    "r = numpy.arange(-aa_over*(aa_support_w//2), aa_over*((aa_support_w+1)//2)) / aa_over\n",
    "plt.plot(dw_opt*r, numpy.transpose(aa_gcf_w).flatten().real);\n",
    "plt.xticks(dw_opt*numpy.arange(-(aa_support_w//2), ((aa_support_w+1)//2)+1))\n",
    "plt.grid(True); plt.xlabel('w [$\\lambda$]'); plt.title('$w$ Gridder'); plt.show()\n",
    "\n",
    "x = coordinates(10001)\n",
    "print(x)\n",
    "sze_w_im = aa_w(x)\n",
    "print(sze_w_im)\n",
    "plt.plot(max_n*x/aa_x0_w, aa_w(x));\n",
    "plt.title('$w$ Grid correction'); plt.grid(True); plt.xlabel('$n$ [1]');\n",
    "max_n_x0 = max_n/aa_x0_w/2\n",
    "plt.axvspan(max_n, max_n_x0, color='lightgray', hatch='x', alpha=0.5)\n",
    "plt.axvspan(-max_n, -max_n_x0, color='lightgray', hatch='x', alpha=0.5)\n",
    "plt.annotate('(unused)', xy=((max_n+max_n_x0)/2,0.9), ha='center', color='gray')\n",
    "plt.annotate('(unused)', xy=(-(max_n+max_n_x0)/2,0.9), ha='center', color='gray');"
   ]
  },
  {
   "cell_type": "code",
   "execution_count": null,
   "metadata": {
    "autoscroll": false,
    "ein.hycell": false,
    "ein.tags": "worksheet-0",
    "slideshow": {
     "slide_type": "-"
    }
   },
   "outputs": [],
   "source": [
    "Npt = 1000\n",
    "points = theta * (numpy.random.rand(Npt,2)-0.5)\n",
    "#points = numpy.array([[0,0]])\n",
    "plt.rcParams['figure.figsize'] = 8, 8\n",
    "plt.scatter(points[:,0], points[:,1]);"
   ]
  },
  {
   "cell_type": "markdown",
   "metadata": {
    "ein.tags": "worksheet-0",
    "slideshow": {
     "slide_type": "-"
    }
   },
   "source": [
    "These are exact copies of peters functions in grid-predict. Used to compare with sze-tan w-stacking."
   ]
  },
  {
   "cell_type": "code",
   "execution_count": null,
   "metadata": {
    "autoscroll": false,
    "ein.hycell": false,
    "ein.tags": "worksheet-0",
    "slideshow": {
     "slide_type": "-"
    }
   },
   "outputs": [],
   "source": [
    "def predict(dist_uvw, du=du_opt, dw=dw_opt, apply_aa = False, apply_aa_w = False):\n",
    "    # Get image coordinates\n",
    "    ls, ms = numpy.transpose(points)\n",
    "    ns = numpy.sqrt(1.0 - ls**2 - ms**2) - 1\n",
    "    # Evaluate grid correction functions in uv & w\n",
    "    aas = numpy.ones(len(ls))\n",
    "    if apply_aa:\n",
    "         aas *= aa(du*ls) * aa(du*ms)\n",
    "    if apply_aa_w:\n",
    "        aas *= aa_w(dw*ns)\n",
    "        # Now simulate points, dividing out grid correction\n",
    "    vis = 0\n",
    "    for l,m, a in zip(ls, ms, aas):\n",
    "        vis += simulate_point(dist_uvw, l, m) / a\n",
    "    return vis\n",
    "\n",
    "def predict_grid(u,v,w,ov_u,ov_v,ov_w,du=du_opt, dw=dw_opt, visualise=False):\n",
    "    \n",
    "    # Generate offsets that we are going to sample at\n",
    "    ius, ivs, iws = numpy.meshgrid(numpy.arange(aa_support), numpy.arange(aa_support), numpy.arange(aa_support_w))\n",
    "    dus = du*(ius.flatten()-(aa_support//2)+ov_u/aa_over)\n",
    "    dvs = du*(ivs.flatten()-(aa_support//2)+ov_v/aa_over)\n",
    "    dws = dw*(iws.flatten()-(aa_support_w//2)+ov_w/aa_over)\n",
    "    \n",
    "    # Get grid convolution function for offsets\n",
    "    aas = aa_gcf[ov_u,ius.flatten()] * aa_gcf[ov_v,ivs.flatten()] * aa_gcf_w[ov_w,iws.flatten()]\n",
    "\n",
    "    # Add offsets to all uvw coordinates\n",
    "    us = numpy.array(u)[:,numpy.newaxis] + dus[numpy.newaxis,:]\n",
    "    vs = numpy.array(v)[:,numpy.newaxis] + dvs[numpy.newaxis,:]\n",
    "    ws = numpy.array(w)[:,numpy.newaxis] + dws[numpy.newaxis,:]\n",
    "    # Visualise sampling pattern?\n",
    "    if visualise:\n",
    "        ax = plt.subplot(111, projection='3d')\n",
    "        ax.scatter(us,vs,ws, color='red');\n",
    "        \n",
    "        ax.set_xlabel('u'); ax.set_ylabel('v'); ax.set_zlabel('w')\n",
    "\n",
    "    # Predict visibilities\n",
    "    vis = predict(numpy.transpose([us.flatten(),vs.flatten(),ws.flatten()]),\n",
    "                  du=du, dw=dw, apply_aa=True, apply_aa_w=True).reshape(us.shape)\n",
    "    \n",
    "    # Convolve with gridder, sum up\n",
    "    #print(vis * aas[numpy.newaxis,:])\n",
    "    #print(aas)\n",
    "    return numpy.sum(vis * aas[numpy.newaxis,:], axis=1)"
   ]
  },
  {
   "cell_type": "code",
   "execution_count": null,
   "metadata": {
    "autoscroll": false,
    "ein.hycell": false,
    "ein.tags": "worksheet-0",
    "slideshow": {
     "slide_type": "-"
    }
   },
   "outputs": [],
   "source": [
    "def test(u=0,v=0,w=0, ov_u=0,ov_v=0,ov_w=0, du=du_opt, dw=dw_opt,visualise=True):\n",
    "    print()\n",
    "    vis = predict(numpy.transpose([[u],[v],[w]]))\n",
    "    print(\"Direct: \", vis[0])\n",
    "    vis_sum = predict_grid([u],[v],[w],ov_u,ov_v,ov_w,du,dw,visualise=visualise)\n",
    "    print(\"Grid:   \", vis_sum[0])\n",
    "    print(\"Error:  \", numpy.abs(vis[0]-vis_sum[0]) / numpy.sqrt(Npt))\n",
    "print(du_opt)\n",
    "print(dw_opt)    \n",
    "test(u=-15.0,v=-15.0,w=0.0, ov_u=0,ov_v=0,ov_w=0, du=du_opt, dw=dw_opt,visualise=True)"
   ]
  },
  {
   "cell_type": "code",
   "execution_count": null,
   "metadata": {
    "autoscroll": false,
    "ein.hycell": false,
    "ein.tags": "worksheet-0",
    "slideshow": {
     "slide_type": "-"
    }
   },
   "outputs": [],
   "source": []
  },
  {
   "cell_type": "code",
   "execution_count": null,
   "metadata": {
    "autoscroll": false,
    "ein.hycell": false,
    "ein.tags": "worksheet-0",
    "slideshow": {
     "slide_type": "-"
    }
   },
   "outputs": [],
   "source": [
    "def generate_sky(theta, lam, points,aa=aa,aa_w=aa_w):\n",
    "    grid_size = int(theta*lam)\n",
    "    sky = numpy.zeros((grid_size,grid_size),dtype = numpy.complex64)\n",
    "    \n",
    "    l = points[0]\n",
    "    m = points[1]\n",
    "    n = numpy.sqrt(1 - l**2 - m**2) - 1.0\n",
    "    \n",
    "    gridcor = 1.0 * aa(du*numpy.array(l)) * aa(du*numpy.array(m)) * aa_w(dw*numpy.array(n))\n",
    "    \n",
    "    lc = ((points[0] / theta + 0.5) * grid_size)\n",
    "    mc = ((points[1] / theta + 0.5) * grid_size)\n",
    "    \n",
    "    lc = numpy.rint(lc).astype(int)\n",
    "    mc = numpy.rint(mc).astype(int)\n",
    "    \n",
    "    for i in numpy.arange(lc.shape[0]):\n",
    "        sky[lc[i],mc[i]] += (1.0 + 1j*0.0) / gridcor[i] \n",
    "        \n",
    "    plt.scatter(l,m)\n",
    "    plt.title(\"Sky Brightness Distribution\")\n",
    "    plt.ylim((-theta/2,theta/2))\n",
    "    plt.xlim((-theta/2,theta/2))\n",
    "    plt.show()\n",
    "        \n",
    "        \n",
    "    return(sky)\n",
    "\n",
    "def generate_sky_manual(points,theta,lam,aa=aa,aa_w=aa_w):\n",
    "    grid_size = int(theta*lam)\n",
    "    sky = numpy.zeros((grid_size,grid_size),dtype=numpy.complex64)\n",
    "\n",
    "    l = points[0]\n",
    "    m = points[1]\n",
    "    \n",
    "    lc = ((points[0] / theta + 0.5) * grid_size)\n",
    "    mc = ((points[1] / theta + 0.5) * grid_size)\n",
    "    \n",
    "    lc = numpy.rint(lc).astype(int)\n",
    "    mc = numpy.rint(mc).astype(int)\n",
    "   \n",
    "    \n",
    "    \n",
    "    n = numpy.sqrt(1 - l**2 - m**2) - 1.0\n",
    "    gridcor = 1.0 * aa(du*numpy.array(l)) * aa(du*numpy.array(m)) * aa_w(dw*numpy.array(n))   \n",
    "    \n",
    "    for i in numpy.arange(lc.shape[0]):\n",
    "        sky[lc[i],mc[i]] += (1.0 + 1j*0.0) / gridcor[i]\n",
    "    plt.scatter(l,m)\n",
    "    plt.title(\"Sky Brightness Distribution\")\n",
    "    plt.ylim((-theta/2,theta/2))\n",
    "    plt.xlim((-theta/2,theta/2))\n",
    "    plt.show()\n",
    "    return(sky)\n",
    "\n",
    "def predict_dft(coords,theta,lam,u=0.0,v=0.0,w=0.0):\n",
    "    grid_size = int(theta*lam)\n",
    "    vis = 0.0 + 1j*0.0\n",
    "    \n",
    "        \n",
    "    l = coords.T[0]      \n",
    "    m = coords.T[1]        \n",
    "    # Because of the quantization of the source onto the sky grid,\n",
    "    # need to work out its effective sky co-ordinate\n",
    "    lc = numpy.rint((l/theta + 0.5) * grid_size).astype(int)\n",
    "    mc = numpy.rint((m/theta + 0.5) * grid_size).astype(int)\n",
    "    lq = ((lc - grid_size/2)/grid_size) * theta\n",
    "    mq = ((mc - grid_size/2)/grid_size) * theta    \n",
    "    n = numpy.sqrt(1 - lq**2 - mq**2) - 1.0\n",
    "    vis = numpy.sum((1.0 + 1j*0.0) * numpy.exp (-2j*numpy.pi*(u*lq + v*mq + w*n)))\n",
    "            \n",
    "\n",
    "    return(vis)\n",
    "\n",
    "\n",
    "#@interact(theta=theta,lam=lam,points=points,x0=aa_x0,u=(-lam/2,lam/2,du),v=(-lam/2,lam/2,du),w=(-lam/2,lam/2,dw),\n",
    "#          ov_u=(0,aa_over-1), ov_v=(0,aa_over-1), ov_w=(0,aa_over-1))\n",
    "def predict_wstack(theta,lam,points,x0,du=du_opt, dw=dw_opt,\n",
    "                   gcf_support=aa_gcf, gcf_support_w=aa_gcf_w, aa=aa, aa_w=aa_w,\n",
    "                   u=0.0, v=0.0, w=0.0, ov_u=0, ov_v=0, ov_w=0):\n",
    "    grid_size = int(theta * lam)\n",
    "    ls,ms = theta*coordinates2(grid_size)\n",
    "    ns = numpy.sqrt(1 - ls**2 - ms**2) - 1.0\n",
    "    \n",
    "    #Fresnel Pattern\n",
    "    fresnel_pattern = w_kernel_function(ls, ms, dw)\n",
    "    max_w = numpy.sin(theta/2) * numpy.sqrt(grid_size**2 + grid_size**2)\n",
    "    print(\"Max W: \")\n",
    "    print(max_w)\n",
    "    w_planes = 2*numpy.ceil(max_w/(2*dw)) + aa_support_w + 1\n",
    "    print(\"W-Planes: \")\n",
    "    print(w_planes)\n",
    "    \n",
    "    # Define some point sources on the sky\n",
    "    \n",
    "    coords = numpy.array([[0.01,0.01,0.02,-0.015],[-0.01,0.01,0.02,-0.015]])   \n",
    "    sky = generate_sky(theta,lam,points.T)\n",
    "    \n",
    "    #skyg_ref = numpy.fft.fftshift(numpy.fft.fft2(numpy.fft.fftshift(skyg),(2*grid_size, 2*grid_size)))\n",
    "    \n",
    "    stacks = numpy.zeros(shape=(int(w_planes),2*grid_size,2*grid_size),dtype=numpy.complex64)  \n",
    "    \n",
    "    print(-w_planes//2)\n",
    "    sky = sky * (fresnel_pattern ** (-w_planes//2-1))\n",
    "    for i in numpy.arange(int(w_planes)):\n",
    "        \n",
    "        skyg = numpy.zeros(shape=(2*grid_size,2*grid_size),dtype=numpy.complex64)\n",
    "        skyg[sky.shape[0]//2:sky.shape[0]//2+sky.shape[0],sky.shape[1]//2:sky.shape[1]//2+sky.shape[1]] = sky\n",
    "        skyg = numpy.fft.fftshift(skyg)\n",
    "        stacks[i,:,:] = numpy.fft.fftshift(numpy.fft.fft2(skyg))\n",
    "        skyg = numpy.fft.fftshift(skyg)\n",
    "        sky = sky * fresnel_pattern\n",
    "        \n",
    "    # Now do reverse convolution using Sze Tan Kernels\n",
    "    ius, ivs, iws = numpy.meshgrid(numpy.arange(aa_support), numpy.arange(aa_support),numpy.arange(aa_support_w))\n",
    "    dus = du*(ius.flatten()-(aa_support//2)+ov_u/aa_over)\n",
    "    dvs = du*(ivs.flatten()-(aa_support//2)+ov_v/aa_over)\n",
    "    dws = dw*(iws.flatten()-(aa_support_w//2)+ov_w/aa_over)\n",
    "    \n",
    "    # Get grid convolution function for offsets\n",
    "    aas = aa_gcf[ov_u,ius.flatten()] * aa_gcf[ov_v,ivs.flatten()] * aa_gcf_w[ov_w,iws.flatten()]\n",
    "\n",
    "    # Add offsets to all uvw coordinates\n",
    "    us = numpy.array([u])[:,numpy.newaxis] + dus[numpy.newaxis,:]\n",
    "    vs = numpy.array([v])[:,numpy.newaxis] + dvs[numpy.newaxis,:]\n",
    "    ws = numpy.array([w])[:,numpy.newaxis] + dws[numpy.newaxis,:] \n",
    "    \n",
    "    # Work out Planes\n",
    "    wsp = (ws//dw + aa_support_w//2 + w_planes//2).astype(int)\n",
    "    usp = (us//du + (2*grid_size)//2).astype(int)\n",
    "    vsp = (vs//du + (2*grid_size)//2).astype(int)\n",
    "    \n",
    "    print(wsp)\n",
    "    print(usp)\n",
    "    print(vsp)\n",
    "    \n",
    "    print(\"##### W-Stacking ######\")\n",
    "    vis_wstack = numpy.sum(stacks[wsp[0],usp[0],vsp[0]]*aas)\n",
    "    print(vis_wstack)\n",
    "    vis=predict_dft(points,theta,lam,u=u,v=v,w=w)\n",
    "    print(\"DFT at u:%f,v:%f,w:%f\"%(u,v,w))\n",
    "    print(vis)\n",
    "\n",
    "    print(\"Error between the two: \",abs(abs(vis_wstack)-abs(vis))/numpy.sqrt(Npt))\n",
    "\n",
    "\n",
    "    \n",
    "predict_wstack(theta,lam,points,aa_x0,u=25.0,v=-5.0,w=0,ov_u=0,ov_v=0,ov_w=0)"
   ]
  },
  {
   "cell_type": "code",
   "execution_count": null,
   "metadata": {
    "autoscroll": false,
    "ein.hycell": false,
    "ein.tags": "worksheet-0",
    "slideshow": {
     "slide_type": "-"
    }
   },
   "outputs": [],
   "source": []
  },
  {
   "cell_type": "code",
   "execution_count": null,
   "metadata": {},
   "outputs": [],
   "source": []
  }
 ],
 "metadata": {
  "kernelspec": {
   "display_name": "Python 3",
   "language": "python",
   "name": "python3"
  },
  "language_info": {
   "codemirror_mode": {
    "name": "ipython",
    "version": 3
   },
   "file_extension": ".py",
   "mimetype": "text/x-python",
   "name": "python",
   "nbconvert_exporter": "python",
   "pygments_lexer": "ipython3",
   "version": "3.6.1"
  },
  "name": "grid-predict-wstack.ipynb"
 },
 "nbformat": 4,
 "nbformat_minor": 2
}
