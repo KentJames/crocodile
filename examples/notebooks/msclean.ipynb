{
 "cells": [
  {
   "cell_type": "code",
   "execution_count": null,
   "metadata": {
    "collapsed": false
   },
   "outputs": [],
   "source": [
    "%matplotlib notebook\n",
    "\n",
    "import pylab\n",
    "pylab.rcParams['figure.figsize'] = (8.0, 8.0)\n",
    "pylab.rcParams['image.cmap'] = 'rainbow'\n",
    "\n",
    "import numpy\n",
    "import scipy\n",
    "import scipy.special\n",
    "\n",
    "from msclean import *\n",
    "from synthesis import *\n",
    "from simulate import *\n",
    "\n",
    "from matplotlib import pylab\n",
    "from matplotlib import pyplot as plt\n",
    "\n",
    "def aaf_ns(a, m, c):\n",
    "    \"\"\"\n",
    "\n",
    "    \"\"\"\n",
    "    r=numpy.hypot(*ucs(a))\n",
    "    return scipy.special.pro_ang1(m,m,c,r)\n",
    "\n",
    "def stackshow(stack):\n",
    "    plt.clf()\n",
    "    nscales=stack.shape[2]\n",
    "    for iscale in range(nscales):\n",
    "        ny=int(numpy.sqrt(nscales))\n",
    "        nx=ny\n",
    "        plt.subplot(nx,ny,iscale+1)\n",
    "        plt.imshow(stack[:,:,iscale],origin='lower',cmap='Greys')"
   ]
  },
  {
   "cell_type": "code",
   "execution_count": null,
   "metadata": {
    "collapsed": false
   },
   "outputs": [],
   "source": [
    "vlas=numpy.genfromtxt(\"test/VLA_A_hor_xyz.txt\", delimiter=\",\")\n",
    "vobs=genuv(vlas, numpy.arange(0,numpy.pi,0.1) ,  numpy.pi/4)\n",
    "yy=genvis(vobs/5, 0.01, 0.01)"
   ]
  },
  {
   "cell_type": "code",
   "execution_count": null,
   "metadata": {
    "collapsed": false
   },
   "outputs": [],
   "source": [
    "ps, vs = sortw(vobs/5, yy)\n",
    "wstep=250000\n",
    "dirty,psf=doimg(2*0.025, 2*15000, ps, vs, lambda *x: wslicimg(*x, wstep=wstep, Qpx=1))"
   ]
  },
  {
   "cell_type": "code",
   "execution_count": null,
   "metadata": {
    "collapsed": false
   },
   "outputs": [],
   "source": [
    "scales = [1]\n",
    "scaleshape=[dirty.shape[0], dirty.shape[1], len(scales)]\n",
    "scalescaleshape=[dirty.shape[0], dirty.shape[1], len(scales), len(scales)]\n",
    "scalestack=createscalestack(scaleshape,scales)\n",
    "psfscalestack=convolvescalestack(scalestack, psf)\n",
    "resscalestack=convolvescalestack(scalestack, dirty)"
   ]
  },
  {
   "cell_type": "code",
   "execution_count": null,
   "metadata": {
    "collapsed": false
   },
   "outputs": [],
   "source": [
    "psfscalescalestack=numpy.zeros(scalescaleshape)\n",
    "for iscale in numpy.arange(len(scales)):\n",
    "    psfscalescalestack[:,:,:,iscale]=convolvescalestack(scalestack,psfscalestack[:,:,iscale])\n",
    "    psfscalescalestack[:,:,iscale,:]=psfscalescalestack[:,:,:,iscale]"
   ]
  },
  {
   "cell_type": "code",
   "execution_count": null,
   "metadata": {
    "collapsed": false
   },
   "outputs": [],
   "source": [
    "couplingMatrix=numpy.zeros([len(scales),len(scales)])\n",
    "for iscale in numpy.arange(len(scales)):\n",
    "    for iscale1 in numpy.arange(len(scales)):\n",
    "        couplingMatrix[iscale,iscale1]=numpy.max(psfscalescalestack[:,:,iscale,iscale1])\n",
    "\n",
    "print couplingMatrix"
   ]
  },
  {
   "cell_type": "code",
   "execution_count": null,
   "metadata": {
    "collapsed": false,
    "scrolled": false
   },
   "outputs": [],
   "source": [
    "ps, vs, cc, rres=majorcycle(2*0.025, 2*15000, vobs/5, yy, 0.1, 5, 100, 250000, scales)\n",
    "    "
   ]
  },
  {
   "cell_type": "code",
   "execution_count": null,
   "metadata": {
    "collapsed": false
   },
   "outputs": [],
   "source": [
    "plt.clf()\n",
    "plt.subplot(1, 2, 1)\n",
    "plt.imshow(numpy.sqrt(numpy.fabs(cc)), cmap='Greys', origin='lower')\n",
    "plt.colorbar()\n",
    "\n",
    "plt.subplot(1, 2, 2)\n",
    "plt.imshow(rres, cmap='Greys', origin='lower')\n",
    "plt.colorbar()\n",
    "\n",
    "plt.show()"
   ]
  },
  {
   "cell_type": "code",
   "execution_count": null,
   "metadata": {
    "collapsed": false
   },
   "outputs": [],
   "source": []
  },
  {
   "cell_type": "code",
   "execution_count": null,
   "metadata": {
    "collapsed": false
   },
   "outputs": [],
   "source": [
    "vs.shape"
   ]
  },
  {
   "cell_type": "code",
   "execution_count": null,
   "metadata": {
    "collapsed": true
   },
   "outputs": [],
   "source": []
  }
 ],
 "metadata": {
  "kernelspec": {
   "display_name": "Python 2",
   "language": "python",
   "name": "python2"
  },
  "language_info": {
   "codemirror_mode": {
    "name": "ipython",
    "version": 2
   },
   "file_extension": ".py",
   "mimetype": "text/x-python",
   "name": "python",
   "nbconvert_exporter": "python",
   "pygments_lexer": "ipython2",
   "version": "2.7.11"
  }
 },
 "nbformat": 4,
 "nbformat_minor": 0
}
