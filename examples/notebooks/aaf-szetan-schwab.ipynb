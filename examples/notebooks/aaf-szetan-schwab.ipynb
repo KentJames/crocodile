{
 "cells": [
  {
   "cell_type": "markdown",
   "metadata": {
    "deletable": true,
    "editable": true
   },
   "source": [
    "\n",
    "Anti-Aliasing Functions in Interferometry\n",
    "=========================================\n",
    "\n",
    "Setup the data problem. Will use field of view of 0.002 radian. One\n",
    "source withing the field of view and a 5 times stronger just outside."
   ]
  },
  {
   "cell_type": "code",
   "execution_count": null,
   "metadata": {
    "collapsed": true,
    "deletable": true,
    "editable": true
   },
   "outputs": [],
   "source": [
    "%matplotlib inline\n",
    "\n",
    "import sys\n",
    "sys.path.append('../..')\n",
    "\n",
    "from matplotlib import pylab\n",
    "\n",
    "pylab.rcParams['figure.figsize'] = 12, 10\n",
    "\n",
    "import numpy\n",
    "import scipy\n",
    "import scipy.special\n",
    "\n",
    "from crocodile.clean import *\n",
    "from crocodile.synthesis import *\n",
    "from crocodile.simulate import *\n",
    "from crocodile.antialias import *\n",
    "\n",
    "vlas=numpy.genfromtxt(\"../../data/configurations/VLA_A_hor_xyz.csv\", delimiter=\",\")\n",
    "vobs=xyz_to_baselines(vlas, numpy.arange(0,numpy.pi,0.04) ,  numpy.pi/4)\n",
    "yyone=simulate_point(vobs/5, 0.001, 0.001)\n",
    "yytwo=yyone+ simulate_point(vobs/5, 0.0025, 0.0025)*5"
   ]
  },
  {
   "cell_type": "markdown",
   "metadata": {
    "deletable": true,
    "editable": true
   },
   "source": [
    "Simple imaging (no convolution) with single source within field of view:"
   ]
  },
  {
   "cell_type": "code",
   "execution_count": null,
   "metadata": {
    "collapsed": false,
    "deletable": true,
    "editable": true
   },
   "outputs": [],
   "source": [
    "d,p,_=do_imaging(2*0.002, 2*15000, vobs/5, None, yyone, simple_imaging)\n",
    "pylab.matshow(d)  ; pylab.colorbar();  pylab.show()"
   ]
  },
  {
   "cell_type": "markdown",
   "metadata": {
    "deletable": true,
    "editable": true
   },
   "source": [
    "Simple imaging (no convolution) with both sources, shows the strong\n",
    "source being \"aliased\" back into the field of view:\n",
    "    "
   ]
  },
  {
   "cell_type": "code",
   "execution_count": null,
   "metadata": {
    "collapsed": false,
    "deletable": true,
    "editable": true
   },
   "outputs": [],
   "source": [
    "d,p,_=do_imaging(2*0.002, 2*15000, vobs/5, None, yytwo, simple_imaging)\n",
    "pylab.matshow(d)  ; pylab.colorbar();  pylab.show()\n",
    "print(d[40:60,40:60].std())"
   ]
  },
  {
   "cell_type": "markdown",
   "metadata": {
    "deletable": true,
    "editable": true
   },
   "source": [
    "Anti-aliasing function\n",
    "======================\n",
    "\n",
    "This is an example anti-aliasing function to use:"
   ]
  },
  {
   "cell_type": "code",
   "execution_count": null,
   "metadata": {
    "collapsed": false,
    "deletable": true,
    "editable": true
   },
   "outputs": [],
   "source": [
    "over = 64\n",
    "support = 10\n",
    "x0 = 0.27\n",
    "aa=anti_aliasing_function(120, 0, 4)\n",
    "pylab.plot(coordinates(120), aa);\n",
    "aa2 = sze_tan_grid_correction(support//2, x0, 120)\n",
    "pylab.plot(coordinates(120), aa2);\n",
    "aa3, kv3o = anti_aliasing_calculate(120, over, support); aa3 /= aa3[60]\n",
    "pylab.plot(coordinates(120), aa3);\n",
    "legend = [\"PSWF\", \"Sze Tan\", \"PSWF 'Schwab?'\"]\n",
    "pylab.legend(legend)"
   ]
  },
  {
   "cell_type": "markdown",
   "metadata": {
    "deletable": true,
    "editable": true
   },
   "source": [
    "After FFT-ing and extracting the middle this is what the anti-aliasing\n",
    "function looks like:"
   ]
  },
  {
   "cell_type": "code",
   "execution_count": null,
   "metadata": {
    "collapsed": false,
    "deletable": true,
    "editable": true,
    "scrolled": false
   },
   "outputs": [],
   "source": [
    "r = numpy.arange(-over*(support//2), over*((support+1)//2)) / over\n",
    "print(over * support, r.shape)\n",
    "#slc = slice(over * support // 2 - 10, over * support // 2 + 10) # 120,136)\n",
    "slc = slice(0, over * support)\n",
    "kv=kernel_oversample(aa, over, support)\n",
    "kv/=numpy.sum(kv[0])\n",
    "pylab.plot(r, numpy.transpose(kv).flatten().real)\n",
    "kv2=kernel_oversample(aa2, over, support)\n",
    "kv2/=numpy.sum(kv2)/over\n",
    "pylab.plot(r[slc], numpy.transpose(kv2).flatten().real[slc])\n",
    "kv3=kernel_oversample(aa3, over, support)\n",
    "kv3/=numpy.sum(kv3)/over\n",
    "pylab.plot(r[slc], numpy.transpose(kv3).flatten().real[slc])\n",
    "\n",
    "kv4 = sze_tan_gridder(support//2, x0, over)\n",
    "pylab.plot(r[slc], numpy.transpose(kv4).flatten().real[slc])\n",
    "kv2=kv4\n",
    "\n",
    "pylab.legend(legend + ['Sze Tan Direct']);"
   ]
  },
  {
   "cell_type": "markdown",
   "metadata": {
    "deletable": true,
    "editable": true
   },
   "source": [
    "Imaginary part is close to nil:"
   ]
  },
  {
   "cell_type": "code",
   "execution_count": null,
   "metadata": {
    "collapsed": false,
    "deletable": true,
    "editable": true,
    "scrolled": false
   },
   "outputs": [],
   "source": [
    "pylab.plot(r, numpy.transpose(kv)[::-1].flatten().imag)\n",
    "pylab.plot(r, numpy.transpose(kv2)[::-1].flatten().imag)\n",
    "pylab.plot(r, numpy.transpose(kv3)[::-1].flatten().imag)\n",
    "pylab.legend(legend);"
   ]
  },
  {
   "cell_type": "markdown",
   "metadata": {
    "deletable": true,
    "editable": true
   },
   "source": [
    "Gridding with the anti-aliasing function:\n",
    "=========================================\n",
    "\n",
    "This is the image of single source within field of view *without correcting the taper* . Note that the strength of the source is\n",
    "surpressed."
   ]
  },
  {
   "cell_type": "code",
   "execution_count": null,
   "metadata": {
    "collapsed": false,
    "deletable": true,
    "editable": true
   },
   "outputs": [],
   "source": [
    "d,p,_=do_imaging(2*0.002, 2*15000, vobs/5, None, yyone, conv_imaging, kv=kv)\n",
    "pylab.matshow(-d); pylab.colorbar();  pylab.show()"
   ]
  },
  {
   "cell_type": "markdown",
   "metadata": {
    "deletable": true,
    "editable": true
   },
   "source": [
    "This is the image of single source within field of view. Note that the\n",
    "image is divided by the anti-aliasing funciton to correct for the\n",
    "taper introduced by it:"
   ]
  },
  {
   "cell_type": "code",
   "execution_count": null,
   "metadata": {
    "collapsed": false,
    "deletable": true,
    "editable": true
   },
   "outputs": [],
   "source": [
    "d,p,_=do_imaging(2*0.002, 2*15000, vobs/5, None, yyone, conv_imaging, kv=kv)\n",
    "pylab.matshow(-d/numpy.outer(aa, aa))  ; pylab.colorbar();  pylab.show()"
   ]
  },
  {
   "cell_type": "markdown",
   "metadata": {
    "deletable": true,
    "editable": true
   },
   "source": [
    "This is the image with source outside of field of view also: note that\n",
    "is entirely surpressed. All that's left is the fringes around the\n",
    "source's off-screen position."
   ]
  },
  {
   "cell_type": "code",
   "execution_count": null,
   "metadata": {
    "collapsed": false,
    "deletable": true,
    "editable": true,
    "scrolled": false
   },
   "outputs": [],
   "source": [
    "d,_,_=do_imaging(2*0.002, 2*15000, vobs/5, None, yytwo, conv_imaging, kv=kv)\n",
    "pylab.matshow(d/numpy.outer(aa, aa)); pylab.colorbar(); pylab.title(legend[0]); pylab.show()\n",
    "print((d/aa)[40:60,40:60].std())\n",
    "d,_,_=do_imaging(2*0.002, 2*15000, vobs/5, None, yytwo, conv_imaging, kv=kv2)\n",
    "pylab.matshow(d/numpy.outer(aa2, aa2)); pylab.colorbar(); pylab.title(legend[1]); pylab.show()\n",
    "print((d/aa2)[40:60,40:60].std())\n",
    "d,_,_=do_imaging(2*0.002, 2*15000, vobs/5, None, yytwo, conv_imaging, kv=kv3)\n",
    "pylab.matshow(d/numpy.outer(aa3, aa3))  ; pylab.colorbar(); pylab.title(legend[2]); pylab.show()\n",
    "print((d/aa3)[40:60,40:60].std())"
   ]
  },
  {
   "cell_type": "markdown",
   "metadata": {
    "deletable": true,
    "editable": true
   },
   "source": [
    "As above but without correcting the taper."
   ]
  },
  {
   "cell_type": "code",
   "execution_count": null,
   "metadata": {
    "collapsed": false,
    "deletable": true,
    "editable": true,
    "scrolled": false
   },
   "outputs": [],
   "source": [
    "d,p,_=do_imaging(2*0.002, 2*15000, vobs/5, None, yytwo, conv_imaging, kv=kv)\n",
    "pylab.matshow(d)  ; pylab.colorbar();  pylab.show()\n",
    "print((d)[40:60,40:60].std())\n",
    "d,p,_=do_imaging(2*0.002, 2*15000, vobs/5, None, yytwo, conv_imaging, kv=kv2)\n",
    "pylab.matshow(d)  ; pylab.colorbar();  pylab.show()\n",
    "print((d)[40:60,40:60].std())\n",
    "d,p,_=do_imaging(2*0.002, 2*15000, vobs/5, None, yytwo, conv_imaging, kv=kv3)\n",
    "pylab.matshow(d)  ; pylab.colorbar();  pylab.show()\n",
    "print((d)[40:60,40:60].std())"
   ]
  },
  {
   "cell_type": "code",
   "execution_count": null,
   "metadata": {
    "collapsed": true,
    "deletable": true,
    "editable": true
   },
   "outputs": [],
   "source": []
  },
  {
   "cell_type": "code",
   "execution_count": null,
   "metadata": {
    "collapsed": true,
    "deletable": true,
    "editable": true
   },
   "outputs": [],
   "source": []
  }
 ],
 "metadata": {
  "kernelspec": {
   "display_name": "Python 3",
   "language": "python",
   "name": "python3"
  },
  "language_info": {
   "codemirror_mode": {
    "name": "ipython",
    "version": 3
   },
   "file_extension": ".py",
   "mimetype": "text/x-python",
   "name": "python",
   "nbconvert_exporter": "python",
   "pygments_lexer": "ipython3",
   "version": "3.5.2"
  },
  "widgets": {
   "state": {},
   "version": "1.1.2"
  }
 },
 "nbformat": 4,
 "nbformat_minor": 1
}
