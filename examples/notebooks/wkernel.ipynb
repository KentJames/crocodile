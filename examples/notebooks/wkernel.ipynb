{
 "cells": [
  {
   "cell_type": "markdown",
   "metadata": {},
   "source": [
    "# W kernels"
   ]
  },
  {
   "cell_type": "code",
   "execution_count": null,
   "metadata": {
    "collapsed": false
   },
   "outputs": [],
   "source": [
    "from __future__ import print_function\n",
    "import sys\n",
    "import os\n",
    "\n",
    "import numpy\n",
    "import scipy\n",
    "\n",
    "sys.path.append(os.path.join('..','..'))\n",
    "from crocodile.clean import *\n",
    "from crocodile.synthesis import *\n",
    "from crocodile.simulate import *\n",
    "from util.visualize import *\n",
    "\n",
    "from ipywidgets import interact, interact_manual, fixed, ToggleButtons, Select, SelectMultiple\n",
    "from matplotlib import pylab\n",
    "%matplotlib inline\n",
    "pylab.rcParams['figure.figsize'] = 16, 12"
   ]
  },
  {
   "cell_type": "markdown",
   "metadata": {},
   "source": [
    "Parameters, with reasonable choice of `ff_size`, which is `NpixFF` in `wslicimg`:"
   ]
  },
  {
   "cell_type": "code",
   "execution_count": null,
   "metadata": {
    "collapsed": false
   },
   "outputs": [],
   "source": [
    "theta_fov    = 0.02  # Size of the field of view in radians\n",
    "w            = 1000   # w-value to generate the GCF for\n",
    "oversampling = 8"
   ]
  },
  {
   "cell_type": "markdown",
   "metadata": {},
   "source": [
    "Determine required dimensions. As explained in [SKA-TEL-SDP-IMG-Wkernels], we can calculate the appropriate $w$-kernel support using the formula:\n",
    "\n",
    "$$\\left|u\\right| < \\sqrt{ \\left( \\frac{w \\Theta}2\\right)^2 + \\frac{\\left(\\sqrt{w}\\right)^3 \\Theta}{2 \\pi \\eta}}$$"
   ]
  },
  {
   "cell_type": "code",
   "execution_count": null,
   "metadata": {
    "collapsed": false
   },
   "outputs": [],
   "source": [
    "eta = 0.001\n",
    "gcf_supp = theta_fov * numpy.sqrt((w * theta_fov / 2.) ** 2 + (w**1.5 * theta_fov / 2 / numpy.pi / eta))\n",
    "gcf_supp = int(numpy.ceil(gcf_supp))//2*2+1\n",
    "print(\"convolution function support: %d\" % gcf_supp)"
   ]
  },
  {
   "cell_type": "markdown",
   "metadata": {},
   "source": [
    "As we now know the convolution function's radius, we can proceed to calculating the size we need to generate the far-field pattern for: Larger than twice the support.\n",
    "\n",
    "Additionally, the field pixel size must be odd exactly if the oversampling rate is odd. This is more of a technical restriction - FFT forces the zero frequency to lie on a pixel, which might cause padding to move the image centre by half a pixel."
   ]
  },
  {
   "cell_type": "code",
   "execution_count": null,
   "metadata": {
    "collapsed": false
   },
   "outputs": [],
   "source": [
    "ff_size = gcf_supp*2+1\n",
    "if oversampling % 2 != ff_size % 2:\n",
    "    ff_size += 1\n",
    "theta = theta_fov\n",
    "print(\"far field size: %d, far field theta: %g\" % (ff_size, theta))"
   ]
  },
  {
   "cell_type": "markdown",
   "metadata": {},
   "source": [
    "Now we can proceed to calculating the actual $w$-kernel. We start in the image plane, where the $w$-effect in the far field is given by:\n",
    "\n",
    "$$G(l,m,w) = {\\rm e}^{-2\\pi i  \\left[w( \\sqrt{1-l^2-m^2} - 1 )\\right] } $$\n",
    "\n",
    "(Eq. 11; Cornwell+ 2008 http://arxiv.org/pdf/0807.4161v1.pdf )"
   ]
  },
  {
   "cell_type": "code",
   "execution_count": null,
   "metadata": {
    "collapsed": false
   },
   "outputs": [],
   "source": [
    "l,m = kernel_coordinates(ff_size, theta)\n",
    "ff = w_kernel_function(l, m, w)\n",
    "if ff_size % 2 == 0 and False:\n",
    "    ff[0,:] = numpy.zeros(ff_size)\n",
    "    ff[:,0] = numpy.zeros(ff_size)\n",
    "show_image(ff, \"G\", theta)"
   ]
  },
  {
   "cell_type": "markdown",
   "metadata": {},
   "source": [
    "To oversample, we want to increase the (pixel) size of the far-field by the oversampling factor. This corresponds to increasing the resolution after FFT. However, we do not actually want to increase the size of the pattern, so we simply pad the pattern. This means we actually calculate $G$ multiplied by the box function:\n",
    "\n",
    "$$G^{pad}(l,m,w) = G(l,m,w)\\ \\Pi\\left(\\frac {2l}{l_{size}}\\right) \\Pi\\left(\\frac {2m}{m_{size}}\\right) $$\n",
    "\n",
    "This is the same thing as convolving the fourier transform with a $\\text{sinc}$ function pattern:\n",
    "\n",
    "$$\\tilde G^{pad}(u,v,w) = \\tilde G(u,v,w) * \\frac{l_{size}m_{size}}{8\\pi^2}\n",
    "  \\text{sinc}\\left(\\frac{l_{size}u}{4}\\right)\n",
    "  \\text{sinc}\\left(\\frac{m_{size}v}{4}\\right)$$"
   ]
  },
  {
   "cell_type": "code",
   "execution_count": null,
   "metadata": {
    "collapsed": false
   },
   "outputs": [],
   "source": [
    "padff = pad_mid(ff, ff_size * oversampling)\n",
    "show_image(padff, \"G^{pad}\", theta * oversampling)\n",
    "af0 = numpy.fft.fftshift(numpy.fft.ifft2(numpy.fft.ifftshift(padff)))\n",
    "show_grid(af0, r\"\\tilde G^{pad}\", ff_size / theta)"
   ]
  },
  {
   "cell_type": "markdown",
   "metadata": {},
   "source": [
    "Now we can finally extract the $w$-kernel in the aperture field, i.e., the convolution kernel. This kernel is expected to fulfill some basic consistency conditions - it should have a sum of around 1 and closely reproduce the original image if we re-add it into the original grid at an offset."
   ]
  },
  {
   "cell_type": "code",
   "execution_count": null,
   "metadata": {
    "collapsed": false
   },
   "outputs": [],
   "source": [
    "af=kernel_oversample(padff, ff_size, oversampling, gcf_supp)\n",
    "def show_kernel(uo,vo):\n",
    "    show_grid(af[vo,uo], \"af\", af[uo,vo].shape[0]/theta);\n",
    "    # Check normalisation - the image sum should be almost exactly 1.\n",
    "    s = numpy.sum(af[vo,uo])\n",
    "    print(\"Sum: %s, normalisation %g%% off\" % (str(s), 100*abs(s-1)))\n",
    "interact(show_kernel, uo=(0,oversampling-1,1), vo=(0,oversampling-1,1));"
   ]
  }
 ],
 "metadata": {
  "kernelspec": {
   "display_name": "Python 3",
   "language": "python",
   "name": "python3"
  },
  "language_info": {
   "codemirror_mode": {
    "name": "ipython",
    "version": 3
   },
   "file_extension": ".py",
   "mimetype": "text/x-python",
   "name": "python",
   "nbconvert_exporter": "python",
   "pygments_lexer": "ipython3",
   "version": "3.5.1"
  },
  "widgets": {
   "state": {
    "02fb682cfaa141a08eeaf9555a26a5d8": {
     "views": [
      {
       "cell_index": 13
      }
     ]
    },
    "1eb93b5ece90495faf0032d9d74bdd06": {
     "views": []
    },
    "2219e769d21b449da0603600a208d1c9": {
     "views": []
    },
    "3f6d1342bff14719bce3e5aff5011ae9": {
     "views": []
    },
    "43ccb464491946dbb68616fe3a3eaa60": {
     "views": []
    },
    "445313c326374914a9cac88a992c0f0a": {
     "views": []
    },
    "49d698281cb144ffa4903075a09e1ec6": {
     "views": []
    },
    "4e6df99913b242ad968ba5462f298cb8": {
     "views": []
    },
    "4ff79d398f22417fa33bf4a90b1c8e92": {
     "views": []
    },
    "52e77326174c48f49b90292c1d022c77": {
     "views": []
    },
    "62db7a5861704e3eb19ae5f5a69b1095": {
     "views": []
    },
    "66ab8b0c00b540c6a6a86df18b10b370": {
     "views": []
    },
    "6d37c2556f3449e8af9b8cecbe1be1b5": {
     "views": []
    },
    "9554bd58a77141b7a3b6ad2981733c72": {
     "views": []
    },
    "97090419d7124d6ab317add3145ef9b6": {
     "views": []
    },
    "a9b853d0765d416793e001b68afedabf": {
     "views": []
    },
    "c65fd557252f46278731e29fcbab2422": {
     "views": []
    },
    "c82aea971ab049a185fa7260d5d7ed35": {
     "views": []
    },
    "c8a8dd91fecf45bdbe1a94ce5ef83c9a": {
     "views": []
    },
    "ccfb5fd0b8874652a93491eb406b6b81": {
     "views": []
    },
    "dbad365a08d44642a13df8374ad74fb7": {
     "views": []
    },
    "dc5583e5e6554c68bff3ad82d71586d0": {
     "views": []
    },
    "ef63f45373de4d3b867e02f037260790": {
     "views": []
    },
    "fbd69f4d3af04a40bc0e970356755c93": {
     "views": []
    }
   },
   "version": "1.1.2"
  }
 },
 "nbformat": 4,
 "nbformat_minor": 0
}
