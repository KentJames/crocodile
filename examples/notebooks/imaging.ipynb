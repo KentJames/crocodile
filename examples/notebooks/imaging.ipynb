{
 "cells": [
  {
   "cell_type": "markdown",
   "metadata": {},
   "source": [
    "# Imaging notebook\n",
    "\n",
    "This notebook works through the high level functions interface to crocodile, making a fake data set and then\n",
    "deconvolving it. Finally the full and residual visibility are plotted."
   ]
  },
  {
   "cell_type": "code",
   "execution_count": null,
   "metadata": {
    "collapsed": false
   },
   "outputs": [],
   "source": [
    "%matplotlib inline\n",
    "\n",
    "import sys, os \n",
    "sys.path.append('../..') \n",
    "print(os.getcwd())\n",
    "\n",
    "import pylab\n",
    "pylab.rcParams['figure.figsize'] = (12.0, 12.0)\n",
    "pylab.rcParams['image.cmap'] = 'rainbow'\n",
    "\n",
    "from astropy import constants as const\n",
    "from astropy import units as u\n",
    "from astropy.coordinates import SkyCoord, CartesianRepresentation, SkyOffsetFrame\n",
    "import scipy.special\n",
    "\n",
    "from matplotlib import pylab\n",
    "from matplotlib import pyplot as plt\n",
    "\n",
    "from functions.clean import clean\n",
    "from functions.visibility import create_visibility\n",
    "from functions.imaging import *\n",
    "from functions.skymodel import SkyModel, skymodel_from_image, skymodel_add_image, skymodel_add_component\n",
    "from functions.skycomponent import *\n",
    "from functions.image import image_show, image_from_fits, image_to_fits, image_replicate, fitcomponent\n",
    "from functions.configuration import configuration_filter, named_configuration"
   ]
  },
  {
   "cell_type": "markdown",
   "metadata": {},
   "source": [
    "We construct a VLA configuration and then shrink it to match our test image."
   ]
  },
  {
   "cell_type": "code",
   "execution_count": null,
   "metadata": {
    "collapsed": false
   },
   "outputs": [],
   "source": [
    "kwargs = {}\n",
    "\n",
    "vlaa = configuration_filter(named_configuration('VLAA'), **kwargs)\n",
    "vlaa.data['xyz']=vlaa.data['xyz']/10.0"
   ]
  },
  {
   "cell_type": "markdown",
   "metadata": {},
   "source": [
    "We create the visibility. This just makes the uvw, time, antenna1, antenna2, weight columns in a table"
   ]
  },
  {
   "cell_type": "code",
   "execution_count": null,
   "metadata": {
    "collapsed": false
   },
   "outputs": [],
   "source": [
    "times = numpy.arange(-numpy.pi/2.0, +numpy.pi/2.0,0.05)\n",
    "frequency = numpy.array([1e8])\n",
    "\n",
    "reffrequency = numpy.max(frequency)\n",
    "phasecentre = SkyCoord(0.0*u.rad, u.rad*numpy.pi/4, frame='icrs', equinox=2000.0)\n",
    "vt = create_visibility(vlaa, times, frequency, weight=1.0, phasecentre=phasecentre)"
   ]
  },
  {
   "cell_type": "markdown",
   "metadata": {},
   "source": [
    "Plot the synthesized uv coverage, including for MFS"
   ]
  },
  {
   "cell_type": "code",
   "execution_count": null,
   "metadata": {
    "collapsed": false
   },
   "outputs": [],
   "source": [
    "plt.clf()\n",
    "for f in frequency:\n",
    "    x=f/const.c\n",
    "    plt.plot(x*vt.data['uvw'][:,0], x*vt.data['uvw'][:,1], '.', color='b')\n",
    "    plt.plot(-x*vt.data['uvw'][:,0], -x*vt.data['uvw'][:,1], '.', color='r')"
   ]
  },
  {
   "cell_type": "markdown",
   "metadata": {},
   "source": [
    "Read the venerable test image, constructing an image"
   ]
  },
  {
   "cell_type": "code",
   "execution_count": null,
   "metadata": {
    "collapsed": false,
    "scrolled": false
   },
   "outputs": [],
   "source": [
    "m31image = image_from_fits(\"./data/models/M31.MOD\")\n",
    "fig = plt.figure()\n",
    "cellsize=180.0*0.0001/numpy.pi\n",
    "m31image.wcs.wcs.cdelt[0]=-cellsize\n",
    "m31image.wcs.wcs.cdelt[1]=+cellsize\n",
    "m31image.wcs.wcs.radesys='ICRS'\n",
    "m31image.wcs.wcs.equinox=2000.00\n",
    "\n",
    "\n",
    "fig.add_subplot(111, projection=m31image.wcs)\n",
    "plt.imshow(m31image.data, origin='lower', cmap='rainbow')\n",
    "plt.xlabel('RA---SIN')\n",
    "plt.ylabel('DEC--SIN')\n",
    "plt.show()"
   ]
  },
  {
   "cell_type": "code",
   "execution_count": null,
   "metadata": {
    "collapsed": false,
    "scrolled": false
   },
   "outputs": [],
   "source": [
    "from astropy.wcs.utils import skycoord_to_pixel, pixel_to_skycoord\n",
    "wall = m31image.wcs\n",
    "wall.wcs.radesys='ICRS'\n",
    "wall.wcs.equinox=2000.00\n",
    "print(wall.wcs.radesys)\n",
    "print(wall.wcs.equinox)\n",
    "sc=pixel_to_skycoord(128, 128, wall, 1, 'wcs')\n",
    "print(sc)\n",
    "pixloc = skycoord_to_pixel(SkyCoord(\"-1.0d\", \"37.0d\", frame='icrs', equinox=2000.0), wall, 1)\n",
    "print(pixloc)\n",
    "scrt = pixel_to_skycoord(pixloc[0], pixloc[1], wall, 1, 'wcs')\n",
    "print(scrt)"
   ]
  },
  {
   "cell_type": "code",
   "execution_count": null,
   "metadata": {
    "collapsed": false
   },
   "outputs": [],
   "source": [
    "sof=sc.skyoffset_frame()"
   ]
  },
  {
   "cell_type": "markdown",
   "metadata": {},
   "source": [
    "This image is only 2 dimensional. We need extra axes frequency and stokes. "
   ]
  },
  {
   "cell_type": "code",
   "execution_count": null,
   "metadata": {
    "collapsed": false,
    "scrolled": true
   },
   "outputs": [],
   "source": [
    "m31image4D=image_replicate(m31image, shape=[1, 1, 4, len(frequency)])\n",
    "m31sm = skymodel_from_image(m31image4D)"
   ]
  },
  {
   "cell_type": "markdown",
   "metadata": {},
   "source": [
    "Add some SkyComponents"
   ]
  },
  {
   "cell_type": "code",
   "execution_count": null,
   "metadata": {
    "collapsed": false
   },
   "outputs": [],
   "source": [
    "comp1=SkyComponent(SkyCoord(\"05d00m00.0s\", \"02d00m0.0s\"), numpy.array([[1.0,0.0,0.0,0.0]]), frequency)\n",
    "m31sm=skymodel_add_component(m31sm, comp1)"
   ]
  },
  {
   "cell_type": "markdown",
   "metadata": {},
   "source": [
    "Now we can predict the visibility from this model"
   ]
  },
  {
   "cell_type": "code",
   "execution_count": null,
   "metadata": {
    "collapsed": false
   },
   "outputs": [],
   "source": [
    "kwargs={'wstep':100.0, 'npixel':256, 'cellsize':0.0001}\n",
    "vt = predict(vt, m31sm, **kwargs)"
   ]
  },
  {
   "cell_type": "markdown",
   "metadata": {},
   "source": [
    "To check that we got it right, plot the amplitude of the visibility."
   ]
  },
  {
   "cell_type": "code",
   "execution_count": null,
   "metadata": {
    "collapsed": false
   },
   "outputs": [],
   "source": [
    "uvdist=numpy.sqrt(vt.data['uvw'][:,0]**2+vt.data['uvw'][:,1]**2)\n",
    "plt.clf()\n",
    "plt.plot(uvdist, numpy.abs(vt.data['vis'][:,0,0]), '.')\n",
    "plt.xlabel('uvdist')\n",
    "plt.ylabel('Amp Visibility')\n",
    "plt.show()"
   ]
  },
  {
   "cell_type": "markdown",
   "metadata": {},
   "source": [
    "Make the dirty image and point spread function"
   ]
  },
  {
   "cell_type": "code",
   "execution_count": null,
   "metadata": {
    "collapsed": false
   },
   "outputs": [],
   "source": [
    "kwargs={}\n",
    "kwargs['npixel']=512\n",
    "kwargs['cellsize']=0.0001\n",
    "kwargs['wstep']=30.0\n",
    "dirty, psf, sumwt = invert(vt, **kwargs)\n",
    "image_show(dirty)\n",
    "print(\"Max, min in dirty image = %.6f, %.6f, sum of weights = %f\" % (dirty.data.max(), dirty.data.min(), sumwt))\n",
    "\n",
    "print(\"Max, min in PSF         = %.6f, %.6f, sum of weights = %f\" % (psf.data.max(), psf.data.min(), sumwt))\n",
    "\n",
    "image_to_fits(dirty, 'dirty.fits')\n",
    "image_to_fits(psf, 'psf.fits')\n",
    "m31compnew = fitcomponent(dirty, **kwargs)"
   ]
  },
  {
   "cell_type": "code",
   "execution_count": null,
   "metadata": {
    "collapsed": false,
    "scrolled": false
   },
   "outputs": [],
   "source": [
    "kwargs={'niter':100, 'threshold':0.001, 'fracthresh':0.01}\n",
    "comp, residual = clean(dirty, psf, **kwargs)"
   ]
  },
  {
   "cell_type": "code",
   "execution_count": null,
   "metadata": {
    "collapsed": true
   },
   "outputs": [],
   "source": [
    ""
   ]
  },
  {
   "cell_type": "code",
   "execution_count": null,
   "metadata": {
    "collapsed": false
   },
   "outputs": [],
   "source": [
    "fig=image_show(comp)\n",
    "fig=image_show(residual)"
   ]
  },
  {
   "cell_type": "code",
   "execution_count": null,
   "metadata": {
    "collapsed": false
   },
   "outputs": [],
   "source": [
    "kwargs={'wstep':30.0}\n",
    "vt = predict(vt, m31sm, **kwargs)\n",
    "modelsm=skymodel_from_image(comp)\n",
    "vtmodel = create_visibility(vlaa, times, frequency, weight=1.0, phasecentre=phasecentre)\n",
    "vtmodel.data = vt.data.copy()\n",
    "vtmodel=predict(vtmodel, modelsm,**kwargs)"
   ]
  },
  {
   "cell_type": "markdown",
   "metadata": {},
   "source": [
    "Now we will plot the original visibility and the residual visibility."
   ]
  },
  {
   "cell_type": "code",
   "execution_count": null,
   "metadata": {
    "collapsed": false,
    "scrolled": false
   },
   "outputs": [],
   "source": [
    "uvdist=numpy.sqrt(vt.data['uvw'][:,0]**2+vt.data['uvw'][:,1]**2)\n",
    "plt.clf()\n",
    "plt.plot(uvdist, numpy.abs(vt.data['vis'][:,0,0]), '.', color='b')\n",
    "plt.plot(uvdist, numpy.abs(vt.data['vis'][:,0,0]-vtmodel.data['vis'][:,0,0]), '.', color='r')\n",
    "plt.xlabel('uvdist')\n",
    "plt.ylabel('Amp Visibility')\n",
    "plt.show()"
   ]
  },
  {
   "cell_type": "code",
   "execution_count": null,
   "metadata": {
    "collapsed": true
   },
   "outputs": [],
   "source": [
    ""
   ]
  }
 ],
 "metadata": {
  "kernelspec": {
   "display_name": "Python 3",
   "language": "python",
   "name": "python3"
  },
  "language_info": {
   "codemirror_mode": {
    "name": "ipython",
    "version": 3.0
   },
   "file_extension": ".py",
   "mimetype": "text/x-python",
   "name": "python",
   "nbconvert_exporter": "python",
   "pygments_lexer": "ipython3",
   "version": "3.5.1"
  },
  "widgets": {
   "state": {},
   "version": "1.1.2"
  }
 },
 "nbformat": 4,
 "nbformat_minor": 0
}