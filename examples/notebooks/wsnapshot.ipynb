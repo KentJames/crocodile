{
 "cells": [
  {
   "cell_type": "markdown",
   "metadata": {
    "collapsed": true
   },
   "source": [
    "# Illustration of w-snapshots"
   ]
  },
  {
   "cell_type": "code",
   "execution_count": null,
   "metadata": {
    "collapsed": false
   },
   "outputs": [],
   "source": [
    "%matplotlib inline\n",
    "\n",
    "import sys\n",
    "sys.path.append('../..')\n",
    "\n",
    "from matplotlib import pylab\n",
    "from ipywidgets import interact\n",
    "from mpl_toolkits.mplot3d import Axes3D\n",
    "import matplotlib.pyplot as plt\n",
    "\n",
    "pylab.rcParams['figure.figsize'] = 12, 10\n",
    "\n",
    "import functools\n",
    "import numpy\n",
    "import scipy\n",
    "import scipy.special\n",
    "from astropy.coordinates import SkyCoord\n",
    "from astropy import units\n",
    "\n",
    "from crocodile.clean import *\n",
    "from crocodile.synthesis import *\n",
    "from crocodile.simulate import *\n",
    "from util.visualize import *\n",
    "from arl.test_support import create_named_configuration"
   ]
  },
  {
   "cell_type": "markdown",
   "metadata": {},
   "source": [
    "Generate baseline coordinates for an observation with the VLA over 10 minutes, with a visibility recorded every 10 seconds. The phase center is fixed at a declination of 30 degrees."
   ]
  },
  {
   "cell_type": "code",
   "execution_count": null,
   "metadata": {
    "collapsed": false
   },
   "outputs": [],
   "source": [
    "vlas = create_named_configuration('VLAA')\n",
    "ha0 = 10\n",
    "tsnap = 30*60\n",
    "tdump = 20\n",
    "ha_range = numpy.arange(numpy.radians(ha0),\n",
    "                        numpy.radians(ha0 + 360 * tsnap / 3600 / 24),\n",
    "                        numpy.radians(360 * tdump / 3600 / 24))\n",
    "dec = numpy.radians(30)\n",
    "vobs = xyz_to_baselines(vlas.data['xyz'], ha_range, dec)\n",
    "\n",
    "# Wavelength: 5 metres \n",
    "wvl=5\n",
    "uvw = vobs / wvl\n",
    "\n",
    "ax = plt.figure().add_subplot(121, projection='3d')\n",
    "ax.scatter(uvw[:,0], uvw[:,1] , uvw[:,2])\n",
    "max_uvw = numpy.amax(uvw)\n",
    "ax.set_xlabel('U [$\\lambda$]'); ax.set_xlim((-max_uvw, max_uvw))\n",
    "ax.set_ylabel('V [$\\lambda$]'); ax.set_ylim((-max_uvw, max_uvw))\n",
    "ax.set_zlabel('W [$\\lambda$]'); ax.set_zlim((-max_uvw, max_uvw))\n",
    "ax.view_init(0, 20)\n",
    "pylab.show()"
   ]
  },
  {
   "cell_type": "markdown",
   "metadata": {},
   "source": [
    "## We can now generate visibilities for these baselines by simulation. We place a grid of sources."
   ]
  },
  {
   "cell_type": "code",
   "execution_count": null,
   "metadata": {
    "collapsed": false
   },
   "outputs": [],
   "source": [
    "import itertools\n",
    "vis = numpy.zeros(len(uvw), dtype=complex)\n",
    "for u,v in itertools.product(range(-3, 4), range(-3, 4)):\n",
    "    vis += 1.0*simulate_point(uvw, 0.010*u, 0.010*v)\n",
    "plt.clf()\n",
    "uvdist=numpy.sqrt(uvw[:,0]**2+uvw[:,1]**2)\n",
    "plt.plot(uvdist, numpy.abs(vis), '.', color='r')"
   ]
  },
  {
   "cell_type": "markdown",
   "metadata": {},
   "source": [
    "# Phase rotations\n",
    "\n",
    "Now, do phase rotation such that the zenith is the phase centre at the middle of the snapshot. This significantly reduces the maximum $w$ coordinate we have to deal with."
   ]
  },
  {
   "cell_type": "code",
   "execution_count": null,
   "metadata": {
    "collapsed": false
   },
   "outputs": [],
   "source": [
    "mean_ha = numpy.mean(ha_range)\n",
    "pc = SkyCoord(ra=-mean_ha, dec=dec, unit=units.rad)\n",
    "new_pc = SkyCoord(ra=0, dec=vlas.location.latitude, unit=units.deg)\n",
    "uvw_r, vis_r = visibility_rotate(uvw, vis, pc, new_pc)\n",
    "print(\"Max w before rotation:\", numpy.max(numpy.abs(uvw[:,2])))\n",
    "print(\"Max w after rotation: \", numpy.max(numpy.abs(uvw_r[:,2])))"
   ]
  },
  {
   "cell_type": "markdown",
   "metadata": {},
   "source": [
    "Now we get the old phase centre back into the centre of the picture by doing an FFT shift. We will have to replicate this shift in the kernels laters later on."
   ]
  },
  {
   "cell_type": "code",
   "execution_count": null,
   "metadata": {
    "collapsed": false
   },
   "outputs": [],
   "source": [
    "l,m,n = skycoord_to_lmn(pc, new_pc)\n",
    "print(\"Shifting image by (%f,%f)\" % (-l,-m))\n",
    "vis_s = visibility_shift(uvw_r, vis_r, -l,-m)"
   ]
  },
  {
   "cell_type": "markdown",
   "metadata": {},
   "source": [
    "Even thought the image revolves around the old phase centre, it is still transformed. Reason is that when changing phase centre we change the projection plane. This can both cause skews as well as rotations.\n",
    "\n",
    "We can determine the skew matrix relatively easily: The $(l,m,n)$ and $(u,v,w)$ coordinate system are parallel. This means we can easily learn the inverse transformation matrix by feeding the unit vectors to `visibility_rotate`. The upper 2x2 matrix is the approximate transformation matrix of the old to the new $(l,m)$ coordinate system.\n",
    "\n",
    "Note that this is not perfect, as the new $(l,m)$ also depends a bit on $n$. This cannot be corrected without adjusting $w$, so we will have to deal with it using image reprojection after the fact."
   ]
  },
  {
   "cell_type": "code",
   "execution_count": null,
   "metadata": {
    "collapsed": false
   },
   "outputs": [],
   "source": [
    "T3, _ = visibility_rotate(numpy.eye(3), [0,0,0], new_pc, pc)\n",
    "T = T3[0:2,0:2]\n",
    "Ti = numpy.linalg.inv(T)\n",
    "print(\"Image transformation:\\n%s\\nDropped n transformation:\\n%s\" % (T, T3[0:2,2]))\n",
    "uvw_t = uvw_transform(uvw_r, T)\n",
    "uvw = uvw_t\n",
    "vis = vis_s"
   ]
  },
  {
   "cell_type": "markdown",
   "metadata": {},
   "source": [
    "We can visualise the new $u,v,w$ distribution. Note how every baseline is roughly centered around $w=0$ now."
   ]
  },
  {
   "cell_type": "code",
   "execution_count": null,
   "metadata": {
    "collapsed": false
   },
   "outputs": [],
   "source": [
    "plt.scatter(uvw[:,0], uvw[:,1] , c=uvw[:,2], s=4,lw=0)\n",
    "plt.scatter(-uvw[:,0], -uvw[:,1] , c=-uvw[:,2], s=4,lw=0)\n",
    "max_uvw = numpy.amax(uvw)*1.1\n",
    "plt.xlabel('U [$\\lambda$]'); plt.xlim((-max_uvw, max_uvw))\n",
    "plt.ylabel('V [$\\lambda$]'); plt.ylim((-max_uvw, max_uvw))\n",
    "plt.colorbar(shrink=.92);"
   ]
  },
  {
   "cell_type": "markdown",
   "metadata": {},
   "source": [
    "# Imaging\n",
    "\n",
    "We can now image the visibilities using $w$-reprojection. First determine their required size based on the maximum encountered $w$-value."
   ]
  },
  {
   "cell_type": "code",
   "execution_count": null,
   "metadata": {
    "collapsed": false
   },
   "outputs": [],
   "source": [
    "theta = 2*0.05\n",
    "lam = 19000\n",
    "wmax = numpy.max(numpy.abs(uvw[:,2]))\n",
    "Nccvf = 2*theta*numpy.sqrt((wmax*theta/2)**2 + (wmax**1.5 * theta / 2 / numpy.pi / 0.01))\n",
    "Naa = 30\n",
    "NpixKern = int(numpy.ceil((numpy.sqrt(Naa**2 + Nccvf**2)-1) / 2)) * 2 + 1\n",
    "print(\"Kernel size: %dx%d (%dx%d * %dx%d)\" % (NpixKern, NpixKern, Nccvf,Nccvf, Naa,Naa))"
   ]
  },
  {
   "cell_type": "markdown",
   "metadata": {},
   "source": [
    "Grid resolution in $uv$ is $1/\\theta$, which is then oversampled. We choose the resolution in $w$ accordingly. This tells us how many kernels we need for imaging."
   ]
  },
  {
   "cell_type": "code",
   "execution_count": null,
   "metadata": {
    "collapsed": false
   },
   "outputs": [],
   "source": [
    "Qpx=2\n",
    "wstep=1/theta/Qpx\n",
    "wcachesize=2*int(numpy.ceil(wmax/wstep))\n",
    "print(\"Making w-kernel cache of %d kernels\" % wcachesize)"
   ]
  },
  {
   "cell_type": "markdown",
   "metadata": {},
   "source": [
    "Now we can generate our kernel cache and cosntruct the imaging worker. Note that we need to account for the transformations we did above: The kernel image needs to be shifted by $(l,m)$ and transformed with $T^{-1}$."
   ]
  },
  {
   "cell_type": "code",
   "execution_count": null,
   "metadata": {
    "collapsed": true
   },
   "outputs": [],
   "source": [
    "import functools\n",
    "wcache=pylru.FunctionCacheManager(functools.partial(w_kernel, T=numpy.linalg.inv(T)), wcachesize)\n",
    "imgfn = functools.partial(w_cache_imaging, kernel_cache=wcache,\n",
    "                          wstep=wstep, Qpx=Qpx, NpixFF=256, NpixKern=NpixKern, dl=l, dm=m)"
   ]
  },
  {
   "cell_type": "markdown",
   "metadata": {},
   "source": [
    "After everything is set up, we can start imaging:"
   ]
  },
  {
   "cell_type": "code",
   "execution_count": null,
   "metadata": {
    "collapsed": false,
    "scrolled": false
   },
   "outputs": [],
   "source": [
    "d_w,p_w,_=do_imaging(theta, lam, uvw, vis, imgfn)\n",
    "show_image(d_w, \"image\", theta)"
   ]
  },
  {
   "cell_type": "code",
   "execution_count": null,
   "metadata": {
    "collapsed": false
   },
   "outputs": [],
   "source": [
    "step=theta*lam/10\n",
    "def zoom_w(x=theta*lam/2,y=step): pylab.matshow(d_w[y:y+2*step,x:x+2*step]); pylab.colorbar(shrink=.4,pad=0.025); pylab.show()\n",
    "interact(zoom_w, x=(0,d_w.shape[0]-2*step,step), y=(0,d_w.shape[1]-2*step,step))"
   ]
  },
  {
   "cell_type": "markdown",
   "metadata": {},
   "source": [
    "We can have a look at the generated kernel cache to confirm what kernels were used:"
   ]
  },
  {
   "cell_type": "code",
   "execution_count": null,
   "metadata": {
    "collapsed": false
   },
   "outputs": [],
   "source": [
    "cached_gcfs = list(sorted(wcache.cache.items()))\n",
    "def inspect_cache(i, ox=0,oy=0):\n",
    "    (pars, kwargs), gcf = cached_gcfs[i]\n",
    "    print(\"theta=%f, w=%f, %s\" % (pars[0], pars[1], \", \".join([\"%s=%f\" % kv for kv in kwargs ]) ))\n",
    "    pylab.matshow(gcf[oy,ox].real); pylab.colorbar(shrink=.4,pad=0.025);\n",
    "    pylab.matshow(gcf[oy,ox].imag); pylab.colorbar(shrink=.4,pad=0.025);pylab.show()\n",
    "interact(inspect_cache, i=(0,len(cached_gcfs)-1), ox=(0,Qpx-1), oy=(0,Qpx-1));"
   ]
  },
  {
   "cell_type": "code",
   "execution_count": null,
   "metadata": {
    "collapsed": true
   },
   "outputs": [],
   "source": []
  }
 ],
 "metadata": {
  "kernelspec": {
   "display_name": "Python 3",
   "language": "python",
   "name": "python3"
  },
  "language_info": {
   "codemirror_mode": {
    "name": "ipython",
    "version": 3
   },
   "file_extension": ".py",
   "mimetype": "text/x-python",
   "name": "python",
   "nbconvert_exporter": "python",
   "pygments_lexer": "ipython3",
   "version": "3.5.1"
  },
  "widgets": {
   "state": {
    "00fc8eda90b547bd98a254ed76c27415": {
     "views": []
    },
    "02d8875c0d7d4eb9bc9c8649b2fe0fd3": {
     "views": []
    },
    "05cd709a29d246f28f68f982aba84e5b": {
     "views": []
    },
    "0733082d9b294740a51c40245165b634": {
     "views": []
    },
    "0ec9c67b45b942dfa072fa722e04d169": {
     "views": []
    },
    "12ba30065c264b79afa38f58e78a61b4": {
     "views": []
    },
    "13631ff5df62496390d166d55f52cf61": {
     "views": []
    },
    "18f3c18a800f4c8e998d8286f749fa4b": {
     "views": []
    },
    "1981f58b77184c1f82f38716f710c5a2": {
     "views": []
    },
    "1b40ab12c59246c2adc7cd14ecdfdf89": {
     "views": []
    },
    "1e74bfc8c8dd465e8d8621b6f008895b": {
     "views": []
    },
    "1ebd3a4e17d5404d9dab7e23c4922d81": {
     "views": []
    },
    "2221385053b642af886b3f1302bc4c12": {
     "views": []
    },
    "290c1908354b4413a90ed76a9db0d9e0": {
     "views": []
    },
    "29555d1f41994899855bbb6ab4236fcd": {
     "views": []
    },
    "2b799f38412a4d339c10bfd63cbc5f03": {
     "views": []
    },
    "2c4eb79a19594e6a8e04c2ed90c90b37": {
     "views": []
    },
    "2eb8a81692644b80a9d78793928fa3d1": {
     "views": []
    },
    "30db586fc226432e97b3a07c9995ac6d": {
     "views": []
    },
    "335a2492863d43acbb79be273e819873": {
     "views": []
    },
    "3509c58d9b0a44e4942fb0c04d07d016": {
     "views": []
    },
    "3658fe24f33041298e0876a19b60988d": {
     "views": []
    },
    "3748ceb4e0934c338a9b1b3244175327": {
     "views": []
    },
    "3a1e5f77d15244159acceb7301111549": {
     "views": []
    },
    "3cc7e0a4fb9b4aa7857b7f4f13867649": {
     "views": []
    },
    "3de86129524a484ab6288b3673b2b2ca": {
     "views": []
    },
    "41f4fce50a3e4dd18018920c3c22a12e": {
     "views": []
    },
    "4206e68339644695b6f2878d650606c4": {
     "views": []
    },
    "44741db30f5b4a0891eecafaf6d981c2": {
     "views": []
    },
    "454f92ce1d00415080a5e538f553394b": {
     "views": []
    },
    "4835e8a40a7d44a9bada4b6098888757": {
     "views": []
    },
    "506454ff6c8a4d5b990cc8529247f615": {
     "views": []
    },
    "50e896c7adb346f294d7bbaec1058b5c": {
     "views": []
    },
    "51480929581045e98d8c97207fa778a1": {
     "views": []
    },
    "55f85755f1c148c7b47e6025b435df14": {
     "views": []
    },
    "586df93bf4804649bbd8a1f3c242cdcc": {
     "views": []
    },
    "5ad81f5b578546d883c0d3fb2f24f34a": {
     "views": []
    },
    "5b61b2b18bdc47b0b4350b98fc09369e": {
     "views": []
    },
    "5fcd462e821a47a28b23dce9bf9a914d": {
     "views": []
    },
    "6086f90f88e046b68d8c330d42dbe0b6": {
     "views": []
    },
    "6218ed94f96048dd97616e03e7ee66eb": {
     "views": []
    },
    "627c6832edca4c9888f59a8b20a763bf": {
     "views": []
    },
    "6341b33f112d4ac88c0eecf99358bc6f": {
     "views": []
    },
    "6778b007f23c4201bee531e016a09a2e": {
     "views": []
    },
    "6aa332aff72349c5aa5f4b6418418627": {
     "views": []
    },
    "703f0f25c86a4c70995f63744bf80df4": {
     "views": []
    },
    "708dec80d48f4bf1ba633aaee0f97ad9": {
     "views": []
    },
    "7433bf761dad4b2bb8dc14065441f1ad": {
     "views": []
    },
    "74666612e7e440be9196016498a3bb60": {
     "views": []
    },
    "777b688112f3491fb9ebb9e866d5474c": {
     "views": []
    },
    "777e064ec9484012ad955393ce9a0711": {
     "views": []
    },
    "7812aca447bc47bfbce2824658cbc736": {
     "views": []
    },
    "7bbf0b970e3c456db636257dc75175a0": {
     "views": []
    },
    "7c6c8c286a69441cbc936beda8506e9f": {
     "views": []
    },
    "7d21978f56fd47749e0686bc9489e157": {
     "views": []
    },
    "7d7b14addf09464cb4efd0b0d2d69cc7": {
     "views": []
    },
    "7e79c88a9b7a47f888057dcd28502070": {
     "views": []
    },
    "7e9015d4ee2d45149d22038c0df87b08": {
     "views": [
      {
       "cell_index": 22
      }
     ]
    },
    "7fffe23a61884589957776391195339e": {
     "views": []
    },
    "8190a59a982742569cfc34650af87580": {
     "views": []
    },
    "81fafd1a44734280a672de55a8685545": {
     "views": []
    },
    "85fffbb953d44ccd9302176ec80fff20": {
     "views": []
    },
    "88686132d65f46b6b3b3ee2b7d4d4fe7": {
     "views": []
    },
    "8879069afb0b42cab3928a98d5f1bbd7": {
     "views": []
    },
    "88cae1be3e0d4c6a8556c8e0dbb7671a": {
     "views": []
    },
    "8a53d375c8d146de909d4b520d4f9d6f": {
     "views": []
    },
    "8caa94935a5a48b3acb47115a7b26431": {
     "views": []
    },
    "8cc34f1fb39f40e1a3ddff7696d3e9ee": {
     "views": []
    },
    "8d2f705f6b4e49cab868ed0d27278952": {
     "views": []
    },
    "916ee055771d4e2ea2f454f52aaa5783": {
     "views": []
    },
    "923e8ce3d4a74735afff5abc72a24f8b": {
     "views": []
    },
    "95d714195da1450a8cbf578c8a8301b3": {
     "views": []
    },
    "96c2b15c46aa433cbf6fde088200278a": {
     "views": []
    },
    "9980a08b6a4e4730834d169e9202332b": {
     "views": []
    },
    "99842de6879840228b4babc9e5775b4a": {
     "views": []
    },
    "9ad132b0d91b4372b3de58a16666bd8b": {
     "views": []
    },
    "9e8a79a9b92345e9bd395920a5b029bd": {
     "views": []
    },
    "9fac076b519f4a8598f0ace6a76e8866": {
     "views": []
    },
    "a006166590bc495995d1fde59e801c12": {
     "views": []
    },
    "a072cd3e55044d16a6e18a64817551af": {
     "views": []
    },
    "a34c9e077bbf44089a34151b9e2db16b": {
     "views": []
    },
    "aae0140146064d9582f9471b8190d593": {
     "views": []
    },
    "ac50ddf883f24bc2a33b04a7343ae2d4": {
     "views": []
    },
    "af9ddffff78a435ab0991aeae481a75c": {
     "views": []
    },
    "b0bc2320ebee46458f06247a4e6276f3": {
     "views": []
    },
    "b0d51b433b11465b8c2d94a6202093e8": {
     "views": []
    },
    "b43174ea272d4635850a2e15a0b8f1f4": {
     "views": []
    },
    "b53ab7675ec1459ba218a2e1e781f78e": {
     "views": []
    },
    "b5e7c252a99544c584a4a157da1dc48b": {
     "views": []
    },
    "b7b022a3388943b2b52acf35f0d2b223": {
     "views": []
    },
    "bba3b4fdc98c4b33a26a57b243d83e03": {
     "views": []
    },
    "bc72d3bae3de4547a9be32c2cbc38f38": {
     "views": []
    },
    "bd0c7644b97245f19ca7d41378e138ac": {
     "views": []
    },
    "c20da0dbcb0048e4b921f7dae1610060": {
     "views": []
    },
    "c2edc6ca76b844e182c91e1cbae73e07": {
     "views": []
    },
    "c5d808cb030b49c5b58e001108b13d79": {
     "views": []
    },
    "c5fa5e3c96f34a4b97367822a3593c5f": {
     "views": [
      {
       "cell_index": 24
      }
     ]
    },
    "c9461ae4bf344a14aaef46e46948f8cf": {
     "views": []
    },
    "c99105f9d96441bca934d865912eb312": {
     "views": []
    },
    "cc0aba74164a4d08857e0a1a61d76b7d": {
     "views": []
    },
    "cd156df14d0d4a6a90cd1c7281e68e22": {
     "views": []
    },
    "cede1541fd6f43428d834b5e2b1847e2": {
     "views": []
    },
    "d1380113a8d0425b8d13cb7710ccb8db": {
     "views": []
    },
    "d143278cf7d74ab282f04e8b8756ea53": {
     "views": []
    },
    "d2412a5f29b34b77b8a904802cc96b7a": {
     "views": []
    },
    "d392489f0ac147e1a0b2da0992e77701": {
     "views": []
    },
    "d652aec07e70407fa3c987101e2d585a": {
     "views": []
    },
    "da2a5bdb5d1a477bafd36daffdf81260": {
     "views": []
    },
    "daac9bf7943b4c1c9f51dc49c94c31f1": {
     "views": []
    },
    "db678a2d7da64dfd83eba49bae033ca9": {
     "views": []
    },
    "df2704d6ef294b6f834a9da5d321b0c5": {
     "views": []
    },
    "e0da533916c84878b764f5be59445f38": {
     "views": []
    },
    "e285ae56122e44878810c6e255807043": {
     "views": []
    },
    "e43fac72818c45b686bc9b146b2c1ba6": {
     "views": []
    },
    "e4ea11e267b24f9797fdf0686f83ade4": {
     "views": []
    },
    "e508a1a31a134d78b2ea910d7cd45550": {
     "views": []
    },
    "e9a557d22a7647a8bf01f516ff06e336": {
     "views": []
    },
    "e9ac8cfea37446d490e8f50b12a4089f": {
     "views": []
    },
    "eabef37a2a8749ce9b5ab04cf3ee86b6": {
     "views": []
    },
    "eb2edcb261f44fbb87432f2e95f9c983": {
     "views": []
    },
    "eb3d67c5ac3e40668c928cf69b47fcab": {
     "views": []
    },
    "ebd5c07772fc433daab83c7dc9dd604a": {
     "views": []
    },
    "ee07a042f5574af0b7519145a540f574": {
     "views": []
    },
    "ef9200a6aed34e99a6a1b002eda573c1": {
     "views": []
    },
    "f0aa6516d47d4bc7b8a43628cf0b305e": {
     "views": []
    },
    "f22fe950f9324ecc8a17a4775f5c9426": {
     "views": []
    },
    "f9fc4d44ccfa4dfebde26f9ff1d276c2": {
     "views": []
    },
    "fa8144105e954a27a4ffa874b37df2d5": {
     "views": []
    },
    "fa9c6aae1df9489a83c159101a073617": {
     "views": []
    },
    "fb006b74b9d34ecabc64f2cbf8265c18": {
     "views": []
    },
    "fb187f32a9cc41ff85d0f70ec98cb003": {
     "views": []
    },
    "fdb9465c8f2542cf8adea9cf296740c6": {
     "views": []
    }
   },
   "version": "1.1.2"
  }
 },
 "nbformat": 4,
 "nbformat_minor": 0
}
