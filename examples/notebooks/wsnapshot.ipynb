{
 "cells": [
  {
   "cell_type": "markdown",
   "metadata": {
    "collapsed": true
   },
   "source": [
    "# Illustration of w-snapshots"
   ]
  },
  {
   "cell_type": "code",
   "execution_count": null,
   "metadata": {
    "collapsed": false
   },
   "outputs": [],
   "source": [
    "%matplotlib inline\n",
    "\n",
    "import sys\n",
    "sys.path.append('../..')\n",
    "\n",
    "from matplotlib import pylab\n",
    "from ipywidgets import interact\n",
    "from mpl_toolkits.mplot3d import Axes3D\n",
    "import matplotlib.pyplot as plt\n",
    "\n",
    "pylab.rcParams['figure.figsize'] = 12, 10\n",
    "\n",
    "import functools\n",
    "import numpy\n",
    "import scipy\n",
    "import scipy.special\n",
    "from astropy.coordinates import SkyCoord\n",
    "from astropy import units\n",
    "\n",
    "from crocodile.clean import *\n",
    "from crocodile.synthesis import *\n",
    "from crocodile.simulate import *\n",
    "from util.visualize import *\n",
    "from arl.test_support import create_named_configuration"
   ]
  },
  {
   "cell_type": "markdown",
   "metadata": {},
   "source": [
    "Generate baseline coordinates for an observation with the VLA over 10 minutes, with a visibility recorded every 10 seconds. The phase center is fixed at a declination of 30 degrees."
   ]
  },
  {
   "cell_type": "code",
   "execution_count": null,
   "metadata": {
    "collapsed": false
   },
   "outputs": [],
   "source": [
    "vlas = create_named_configuration('VLAA')\n",
    "ha0 = 10\n",
    "tsnap = 30*60\n",
    "tdump = 20\n",
    "ha_range = numpy.arange(numpy.radians(ha0),\n",
    "                        numpy.radians(ha0 + 360 * tsnap / 3600 / 24),\n",
    "                        numpy.radians(360 * tdump / 3600 / 24))\n",
    "dec = numpy.radians(30)\n",
    "vobs = xyz_to_baselines(vlas.data['xyz'], ha_range, dec)\n",
    "\n",
    "# Wavelength: 5 metres \n",
    "wvl=5\n",
    "uvw = vobs / wvl\n",
    "\n",
    "ax = plt.figure().add_subplot(121, projection='3d')\n",
    "ax.scatter(uvw[:,0], uvw[:,1] , uvw[:,2])\n",
    "max_uvw = numpy.amax(uvw)\n",
    "ax.set_xlabel('U [$\\lambda$]'); ax.set_xlim((-max_uvw, max_uvw))\n",
    "ax.set_ylabel('V [$\\lambda$]'); ax.set_ylim((-max_uvw, max_uvw))\n",
    "ax.set_zlabel('W [$\\lambda$]'); ax.set_zlim((-max_uvw, max_uvw))\n",
    "ax.view_init(0, 20)\n",
    "pylab.show()"
   ]
  },
  {
   "cell_type": "markdown",
   "metadata": {},
   "source": [
    "## We can now generate visibilities for these baselines by simulation. We place a grid of sources."
   ]
  },
  {
   "cell_type": "code",
   "execution_count": null,
   "metadata": {
    "collapsed": false
   },
   "outputs": [],
   "source": [
    "import itertools\n",
    "vis = numpy.zeros(len(uvw), dtype=complex)\n",
    "for u,v in itertools.product(range(-3, 4), range(-3, 4)):\n",
    "    vis += 1.0*simulate_point(uvw, 0.010*u, 0.010*v)\n",
    "plt.clf()\n",
    "uvdist=numpy.sqrt(uvw[:,0]**2+uvw[:,1]**2)\n",
    "plt.plot(uvdist, numpy.abs(vis), '.', color='r')"
   ]
  },
  {
   "cell_type": "markdown",
   "metadata": {},
   "source": [
    "# Phase rotations\n",
    "\n",
    "Now, do phase rotation such that the zenith is the phase centre at the middle of the snapshot. This significantly reduces the maximum $w$ coordinate we have to deal with."
   ]
  },
  {
   "cell_type": "code",
   "execution_count": null,
   "metadata": {
    "collapsed": false
   },
   "outputs": [],
   "source": [
    "mean_ha = numpy.mean(ha_range)\n",
    "pc = SkyCoord(ra=-mean_ha, dec=dec, unit=units.rad)\n",
    "new_pc = SkyCoord(ra=0, dec=vlas.location.latitude, unit=units.deg)\n",
    "uvw_r, vis_r = visibility_rotate(uvw, vis, pc, new_pc)\n",
    "print(\"Max w before rotation:\", numpy.max(numpy.abs(uvw[:,2])))\n",
    "print(\"Max w after rotation: \", numpy.max(numpy.abs(uvw_r[:,2])))"
   ]
  },
  {
   "cell_type": "markdown",
   "metadata": {},
   "source": [
    "Now we get the old phase centre back into the centre of the picture by doing an FFT shift. We will have to replicate this shift in the kernels laters later on."
   ]
  },
  {
   "cell_type": "code",
   "execution_count": null,
   "metadata": {
    "collapsed": false
   },
   "outputs": [],
   "source": [
    "l,m,n = skycoord_to_lmn(pc, new_pc)\n",
    "print(\"Shifting image by (%f,%f)\" % (-l,-m))\n",
    "vis_s = visibility_shift(uvw_r, vis_r, -l,-m)"
   ]
  },
  {
   "cell_type": "markdown",
   "metadata": {},
   "source": [
    "Even thought the image revolves around the old phase centre, it is still transformed. Reason is that when changing phase centre we change the projection plane. This can both cause skews as well as rotations.\n",
    "\n",
    "We can determine the skew matrix relatively easily: The $(l,m,n)$ and $(u,v,w)$ coordinate system are parallel. This means we can easily learn the inverse transformation matrix by feeding the unit vectors to `visibility_rotate`. The upper 2x2 matrix is the approximate transformation matrix of the old to the new $(l,m)$ coordinate system.\n",
    "\n",
    "Note that this is not perfect, as the new $(l,m)$ also depends a bit on $n$. This cannot be corrected without adjusting $w$, so we will have to deal with it using image reprojection after the fact."
   ]
  },
  {
   "cell_type": "code",
   "execution_count": null,
   "metadata": {
    "collapsed": false
   },
   "outputs": [],
   "source": [
    "T3, _ = visibility_rotate(numpy.eye(3), [0,0,0], new_pc, pc)\n",
    "T = T3[0:2,0:2]\n",
    "Ti = numpy.linalg.inv(T)\n",
    "print(\"Image transformation:\\n%s\\nDropped n transformation:\\n%s\" % (T, T3[0:2,2]))\n",
    "uvw_t = uvw_transform(uvw_r, T)\n",
    "uvw = uvw_t\n",
    "vis = vis_s"
   ]
  },
  {
   "cell_type": "markdown",
   "metadata": {},
   "source": [
    "We can visualise the new $u,v,w$ distribution. Note how every baseline is roughly centered around $w=0$ now."
   ]
  },
  {
   "cell_type": "code",
   "execution_count": null,
   "metadata": {
    "collapsed": false
   },
   "outputs": [],
   "source": [
    "plt.scatter(uvw[:,0], uvw[:,1] , c=uvw[:,2], s=4,lw=0)\n",
    "plt.scatter(-uvw[:,0], -uvw[:,1] , c=-uvw[:,2], s=4,lw=0)\n",
    "max_uvw = numpy.amax(uvw)*1.1\n",
    "plt.xlabel('U [$\\lambda$]'); plt.xlim((-max_uvw, max_uvw))\n",
    "plt.ylabel('V [$\\lambda$]'); plt.ylim((-max_uvw, max_uvw))\n",
    "plt.colorbar(shrink=.92);"
   ]
  },
  {
   "cell_type": "markdown",
   "metadata": {},
   "source": [
    "# Imaging\n",
    "\n",
    "We can now image the visibilities using $w$-reprojection. First determine their required size based on the maximum encountered $w$-value."
   ]
  },
  {
   "cell_type": "code",
   "execution_count": null,
   "metadata": {
    "collapsed": false
   },
   "outputs": [],
   "source": [
    "theta = 2*0.05\n",
    "lam = 19000\n",
    "wmax = numpy.max(numpy.abs(uvw[:,2]))\n",
    "Nccvf = 2*theta*numpy.sqrt((wmax*theta/2)**2 + (wmax**1.5 * theta / 2 / numpy.pi / 0.01))\n",
    "Naa = 30\n",
    "NpixKern = int(numpy.ceil((numpy.sqrt(Naa**2 + Nccvf**2)-1) / 2)) * 2 + 1\n",
    "print(\"Kernel size: %dx%d (%dx%d * %dx%d)\" % (NpixKern, NpixKern, Nccvf,Nccvf, Naa,Naa))"
   ]
  },
  {
   "cell_type": "markdown",
   "metadata": {},
   "source": [
    "Grid resolution in $uv$ is $1/\\theta$, which is then oversampled. We choose the resolution in $w$ accordingly. This tells us how many kernels we need for imaging."
   ]
  },
  {
   "cell_type": "code",
   "execution_count": null,
   "metadata": {
    "collapsed": false
   },
   "outputs": [],
   "source": [
    "Qpx=2\n",
    "wstep=1/theta/Qpx\n",
    "wcachesize=2*int(numpy.ceil(wmax/wstep))\n",
    "print(\"Making w-kernel cache of %d kernels\" % wcachesize)"
   ]
  },
  {
   "cell_type": "markdown",
   "metadata": {},
   "source": [
    "Now we can generate our kernel cache and cosntruct the imaging worker. Note that we need to account for the transformations we did above: The kernel image needs to be shifted by $(l,m)$ and transformed with $T^{-1}$."
   ]
  },
  {
   "cell_type": "code",
   "execution_count": null,
   "metadata": {
    "collapsed": true
   },
   "outputs": [],
   "source": [
    "import functools\n",
    "wcache=pylru.FunctionCacheManager(functools.partial(w_kernel, T=numpy.linalg.inv(T)), wcachesize)\n",
    "imgfn = functools.partial(w_cache_imaging, kernel_cache=wcache,\n",
    "                          wstep=wstep, Qpx=Qpx, NpixFF=256, NpixKern=NpixKern, dl=l, dm=m)"
   ]
  },
  {
   "cell_type": "markdown",
   "metadata": {},
   "source": [
    "After everything is set up, we can start imaging:"
   ]
  },
  {
   "cell_type": "code",
   "execution_count": null,
   "metadata": {
    "collapsed": false,
    "scrolled": false
   },
   "outputs": [],
   "source": [
    "d_w,p_w,_=do_imaging(theta, lam, uvw, None, vis, imgfn)\n",
    "show_image(d_w, \"image\", theta)"
   ]
  },
  {
   "cell_type": "code",
   "execution_count": null,
   "metadata": {
    "collapsed": false
   },
   "outputs": [],
   "source": [
    "step=int(theta*lam/10)\n",
    "def zoom_w(x=theta*lam/2,y=step): pylab.matshow(d_w[y:y+2*step,x:x+2*step]); pylab.colorbar(shrink=.4,pad=0.025); pylab.show()\n",
    "interact(zoom_w, x=(0,d_w.shape[0]-2*step,step), y=(0,d_w.shape[1]-2*step,step))"
   ]
  },
  {
   "cell_type": "markdown",
   "metadata": {},
   "source": [
    "We can have a look at the generated kernel cache to confirm what kernels were used:"
   ]
  },
  {
   "cell_type": "code",
   "execution_count": null,
   "metadata": {
    "collapsed": false
   },
   "outputs": [],
   "source": [
    "cached_gcfs = list(sorted(wcache.cache.items()))\n",
    "def inspect_cache(i, ox=0,oy=0):\n",
    "    (pars, kwargs), gcf = cached_gcfs[i]\n",
    "    print(\"theta=%f, w=%f, %s\" % (pars[0], pars[1], \", \".join([\"%s=%f\" % kv for kv in kwargs ]) ))\n",
    "    pylab.matshow(gcf[oy,ox].real); pylab.colorbar(shrink=.4,pad=0.025);\n",
    "    pylab.matshow(gcf[oy,ox].imag); pylab.colorbar(shrink=.4,pad=0.025);pylab.show()\n",
    "interact(inspect_cache, i=(0,len(cached_gcfs)-1), ox=(0,Qpx-1), oy=(0,Qpx-1));"
   ]
  },
  {
   "cell_type": "code",
   "execution_count": null,
   "metadata": {
    "collapsed": true
   },
   "outputs": [],
   "source": []
  }
 ],
 "metadata": {
  "kernelspec": {
   "display_name": "Python 3",
   "language": "python",
   "name": "python3"
  },
  "language_info": {
   "codemirror_mode": {
    "name": "ipython",
    "version": 3
   },
   "file_extension": ".py",
   "mimetype": "text/x-python",
   "name": "python",
   "nbconvert_exporter": "python",
   "pygments_lexer": "ipython3",
   "version": "3.5.1"
  },
  "widgets": {
   "state": {
    "034de273b1c7419b9a80d3e09fb87281": {
     "views": []
    },
    "678bbb29f940457d8024199140f3aa97": {
     "views": []
    },
    "6a19187624cd452ca1d059e260933530": {
     "views": []
    },
    "6ce178076c4047d5af7d6ef8189b0268": {
     "views": [
      {
       "cell_index": 24
      }
     ]
    },
    "6e025e6e8d7946da9d21129a1ea9427c": {
     "views": []
    },
    "714f9a289b8b401b9a0ddb2621ef4adf": {
     "views": []
    },
    "8bb9447cac874aac84dbf626a54bc6e0": {
     "views": []
    },
    "8d6f3d9d30944c1a90823e33edce2c06": {
     "views": []
    },
    "ba40ad5f3b91422185345b1797f019e6": {
     "views": []
    },
    "be7aff889ab2429cbac475ae90ba17eb": {
     "views": []
    },
    "be7c8d36e0224cb99b5bb0942eebb414": {
     "views": [
      {
       "cell_index": 22
      }
     ]
    },
    "c15702b297f449a5a3beae4dbe80f3cc": {
     "views": []
    },
    "da544d484aa34f70b4fcc9516a4b82d1": {
     "views": []
    },
    "da6ec31f8713452a9a3d6d13a2ae3604": {
     "views": []
    }
   },
   "version": "1.1.2"
  }
 },
 "nbformat": 4,
 "nbformat_minor": 0
}
