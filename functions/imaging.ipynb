{
 "cells": [
  {
   "cell_type": "code",
   "execution_count": null,
   "metadata": {
    "collapsed": false
   },
   "outputs": [],
   "source": [
    "%matplotlib inline\n",
    "\n",
    "import sys, os \n",
    "sys.path.append(os.path.join('..','..')) \n",
    "os.chdir('/Users/timcornwell/Code/crocodile/')\n",
    "print(os.getcwd())\n",
    "\n",
    "import pylab\n",
    "pylab.rcParams['figure.figsize'] = (12.0, 12.0)\n",
    "pylab.rcParams['image.cmap'] = 'rainbow'\n",
    "\n",
    "from astropy import constants as const\n",
    "import scipy.special\n",
    "\n",
    "from matplotlib import pylab\n",
    "from matplotlib import pyplot as plt\n",
    "\n",
    "from crocodile.synthesis import *\n",
    "from crocodile.simulate import *\n",
    "from util.visualize import *\n",
    "from crocodile.msclean import *\n",
    "\n",
    "from functions.imaging import *\n",
    "from functions.image import image_show"
   ]
  },
  {
   "cell_type": "code",
   "execution_count": null,
   "metadata": {
    "collapsed": false
   },
   "outputs": [],
   "source": [
    "kwargs = {}\n",
    "\n",
    "vlaa = configuration_filter(named_configuration('VLAA'), **kwargs)\n",
    "vlaa.data['xyz']=vlaa.data['xyz']/30.0"
   ]
  },
  {
   "cell_type": "code",
   "execution_count": null,
   "metadata": {
    "collapsed": false
   },
   "outputs": [],
   "source": [
    "times = numpy.arange(-numpy.pi/2.0, +numpy.pi/2.0,0.05)\n",
    "frequency = numpy.arange(1.0e8, 1.50e8, 1e6)\n",
    "frequency = 1.0e8*numpy.ones([1])\n",
    "reffrequency = numpy.average(frequency)\n",
    "direction = SkyCoord(0.0*u.rad, u.rad*numpy.pi/4, frame='icrs')\n",
    "vt = simulate(vlaa, times, frequency, weight=1.0, direction=direction)"
   ]
  },
  {
   "cell_type": "code",
   "execution_count": null,
   "metadata": {
    "collapsed": false
   },
   "outputs": [],
   "source": [
    "plt.clf()\n",
    "for f in frequency:\n",
    "    x=f/const.c\n",
    "    plt.plot(x*vt.data['uvw'][:,0], x*vt.data['uvw'][:,1], '.', color='b')\n",
    "    plt.plot(-x*vt.data['uvw'][:,0], -x*vt.data['uvw'][:,1], '.', color='r')"
   ]
  },
  {
   "cell_type": "code",
   "execution_count": null,
   "metadata": {
    "collapsed": false
   },
   "outputs": [],
   "source": [
    "m31image = image_from_fits(\"./data/models/m31.MOD\")\n",
    "fig = plt.figure()\n",
    "fig.add_subplot(111, projection=m31image.wcs)\n",
    "plt.imshow(m31image.data, origin='lower', cmap='rainbow')\n",
    "plt.xlabel('RA---SIN')\n",
    "plt.ylabel('DEC--SIN')\n",
    "plt.show()"
   ]
  },
  {
   "cell_type": "code",
   "execution_count": null,
   "metadata": {
    "collapsed": false
   },
   "outputs": [],
   "source": [
    "m31image4D=image_replicate(m31image, shape=[1, 1, 1, len(frequency)])\n",
    "m31sm = skymodel_from_image(m31image4D)"
   ]
  },
  {
   "cell_type": "code",
   "execution_count": null,
   "metadata": {
    "collapsed": false
   },
   "outputs": [],
   "source": [
    "vtpred = simulate(vlaa, times, frequency, weight=1.0, direction=direction)"
   ]
  },
  {
   "cell_type": "code",
   "execution_count": null,
   "metadata": {
    "collapsed": false
   },
   "outputs": [],
   "source": [
    "kwargs={'wstep':30.0}\n",
    "vtpred = predict(vtpred, m31sm, **kwargs)"
   ]
  },
  {
   "cell_type": "code",
   "execution_count": null,
   "metadata": {
    "collapsed": false
   },
   "outputs": [],
   "source": [
    "uvdist=numpy.sqrt(vtpred.data['uvw'][:,0]**2+vtpred.data['uvw'][:,1]**2)\n",
    "plt.clf()\n",
    "plt.plot(uvdist, numpy.abs(vtpred.data['vis'][:,0,0]), '.')\n",
    "plt.xlabel('uvdist')\n",
    "plt.ylabel('Amp Visibility')\n",
    "plt.show()"
   ]
  },
  {
   "cell_type": "code",
   "execution_count": null,
   "metadata": {
    "collapsed": false
   },
   "outputs": [],
   "source": [
    "kwargs={}\n",
    "kwargs['npixel']=512\n",
    "kwargs['cellsize']=0.0004\n",
    "kwargs['wstep']=30.0\n",
    "dirty, psf, sumwt = invert(vtpred, **kwargs)"
   ]
  },
  {
   "cell_type": "code",
   "execution_count": null,
   "metadata": {
    "collapsed": false
   },
   "outputs": [],
   "source": [
    "image_show(dirty)"
   ]
  },
  {
   "cell_type": "code",
   "execution_count": null,
   "metadata": {
    "collapsed": false
   },
   "outputs": [],
   "source": [
    "print(\"Max, min in dirty image = %.6f, %.6f, sum of weights = %f\" % (dirty.data.max(), dirty.data.min(), sumwt))\n",
    "image_to_fits(dirty, 'dirty.fits')\n",
    "image_to_fits(psf, 'psf.fits')\n",
    "m31smnew, res = fitcomponent(dirty, m31sm, **kwargs)"
   ]
  },
  {
   "cell_type": "code",
   "execution_count": null,
   "metadata": {
    "collapsed": true
   },
   "outputs": [],
   "source": []
  }
 ],
 "metadata": {
  "kernelspec": {
   "display_name": "Python 3",
   "language": "python",
   "name": "python3"
  },
  "language_info": {
   "codemirror_mode": {
    "name": "ipython",
    "version": 3
   },
   "file_extension": ".py",
   "mimetype": "text/x-python",
   "name": "python",
   "nbconvert_exporter": "python",
   "pygments_lexer": "ipython3",
   "version": "3.5.1"
  },
  "widgets": {
   "state": {},
   "version": "1.1.2"
  }
 },
 "nbformat": 4,
 "nbformat_minor": 0
}
