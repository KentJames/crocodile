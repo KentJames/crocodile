{
 "cells": [
  {
   "cell_type": "code",
   "execution_count": null,
   "metadata": {
    "collapsed": false
   },
   "outputs": [],
   "source": [
    "import numpy\n",
    "import scipy\n",
    "import scipy.special\n",
    "\n",
    "from clean import *\n",
    "from synthesis import *\n",
    "from simulate import *\n",
    "from visualize import *\n",
    "\n",
    "from matplotlib import pylab\n",
    "%matplotlib inline\n",
    "pylab.rcParams['figure.figsize'] = 16, 12"
   ]
  },
  {
   "cell_type": "code",
   "execution_count": null,
   "metadata": {
    "collapsed": false
   },
   "outputs": [],
   "source": [
    "vlas=numpy.genfromtxt(\"test/VLA_A_hor_xyz.txt\", delimiter=\",\")\n",
    "vobs=genuv(vlas, numpy.arange(0,numpy.pi,0.04) ,  numpy.pi/4)\n",
    "\n",
    "# Wavelength: 5 metres \n",
    "wvl=5\n",
    "uvw = vobs / wvl\n",
    "\n",
    "vis = genvis(uvw, 0.000, 0.000)\n",
    "vis += genvis(uvw, 0.05, 0.05)\n",
    "\n",
    "theta = 2*0.06\n",
    "lam = 2*15000"
   ]
  },
  {
   "cell_type": "code",
   "execution_count": null,
   "metadata": {
    "collapsed": false,
    "scrolled": true
   },
   "outputs": [],
   "source": [
    "d,p=doimg(theta, lam, uvw, vis, simpleimg)\n",
    "show_image(d, \"image\", theta)\n",
    "pylab.matshow(d[3200:3400,3200:3400]) ; pylab.colorbar();  pylab.show()"
   ]
  },
  {
   "cell_type": "code",
   "execution_count": null,
   "metadata": {
    "collapsed": false,
    "scrolled": false
   },
   "outputs": [],
   "source": [
    "d,p=doimg(theta, lam, uvw, vis, lambda *x: wslicimg(*x, wstep=100, Qpx=4))\n",
    "pylab.matshow(d[3200:3400,3200:3400]) ; pylab.colorbar();  pylab.show()"
   ]
  }
 ],
 "metadata": {
  "kernelspec": {
   "display_name": "Python 2",
   "language": "python",
   "name": "python2"
  },
  "language_info": {
   "codemirror_mode": {
    "name": "ipython",
    "version": 2
   },
   "file_extension": ".py",
   "mimetype": "text/x-python",
   "name": "python",
   "nbconvert_exporter": "python",
   "pygments_lexer": "ipython2",
   "version": "2.7.6"
  }
 },
 "nbformat": 4,
 "nbformat_minor": 0
}
